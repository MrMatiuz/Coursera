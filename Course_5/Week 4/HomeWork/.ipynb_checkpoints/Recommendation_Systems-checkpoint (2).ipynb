{
 "cells": [
  {
   "cell_type": "code",
   "execution_count": 1,
   "metadata": {},
   "outputs": [],
   "source": [
    "import pandas as pd\n",
    "import numpy as np\n",
    "import collections"
   ]
  },
  {
   "cell_type": "code",
   "execution_count": 2,
   "metadata": {},
   "outputs": [],
   "source": [
    "def read_line_to_dict(line):\n",
    "    line = line[:-1]\n",
    "    sep_line = [l.split(',') for l in line.split(';')]\n",
    "#     sep_line = [list(map(int, l.split(','))) for l in line.split(';')]\n",
    "    \n",
    "    sep_line[0] = list(map(int, sep_line[0]))\n",
    "    if sep_line[1] == ['']:\n",
    "        sep_line[1] = [np.nan]\n",
    "    else:\n",
    "        sep_line[1] = list(map(int, sep_line[1]))\n",
    "        \n",
    "    dict_of_lines = {'viewed': sep_line[0], 'purchased': sep_line[1]}\n",
    "    return dict_of_lines\n"
   ]
  },
  {
   "cell_type": "code",
   "execution_count": 3,
   "metadata": {},
   "outputs": [],
   "source": [
    "def read_file_to_dict(name):\n",
    "    file = open(name)\n",
    "    list_of_dict =[]\n",
    "    for line in file:\n",
    "        list_of_dict.append(read_line_to_dict(line))\n",
    "    return list_of_dict"
   ]
  },
  {
   "cell_type": "code",
   "execution_count": 107,
   "metadata": {},
   "outputs": [],
   "source": [
    "def delete_duplicates(seq):\n",
    "    seen = set()\n",
    "    seen_add = seen.add\n",
    "    return [x for x in seq if not (x in seen or seen_add(x))]"
   ]
  },
  {
   "cell_type": "code",
   "execution_count": 140,
   "metadata": {
    "scrolled": true
   },
   "outputs": [],
   "source": [
    "def sort_sessions(arr):\n",
    "    freq = collections.Counter()\n",
    "    for i in range(0, len(arr)):\n",
    "        freq.update(arr[i]['viewed'])\n",
    "    \n",
    "    sorted_arr = arr\n",
    "    for num, session in enumerate(arr):\n",
    "        sorted_arr[num]['viewed'] = sorted(delete_duplicates(session['viewed']),\n",
    "                                        key=lambda x: freq[x],reverse=True)\n",
    "    return sorted_arr"
   ]
  },
  {
   "cell_type": "code",
   "execution_count": 145,
   "metadata": {},
   "outputs": [],
   "source": [
    "train = read_file_to_dict('coursera_sessions_train.txt')\n",
    "test = read_file_to_dict('coursera_sessions_test.txt')\n",
    "# train_ = read_file_to_dict('coursera.txt')\n",
    "\n",
    "train_cleaned = [session for session in train if session['purchased'] != [np.nan]]\n"
   ]
  },
  {
   "cell_type": "code",
   "execution_count": 127,
   "metadata": {},
   "outputs": [],
   "source": []
  },
  {
   "cell_type": "code",
   "execution_count": 144,
   "metadata": {},
   "outputs": [],
   "source": [
    "# freq = collections.Counter()\n",
    "# counter_p = collections.Counter()\n",
    "# for i in range(0, len(train)):\n",
    "#     freq.update(train[i]['viewed'])\n",
    "#     counter_p.update(train[i]['purchased'])\n",
    "\n",
    "\n",
    "# list_of_top = []\n",
    "# for pair in freq.most_common():\n",
    "#     list_of_top.append(pair[0])\n",
    "# list_of_top[:6]\n",
    "\n",
    "\n",
    "# d_v = dict(counter_v)\n",
    "# list_keys = list(d_v.keys())\n",
    "# list_keys.sort()\n",
    "# for i in list_keys:\n",
    "#     print(i, ':', d_v[i])\n",
    "\n",
    "# a = train[7]['viewed']\n",
    "# print(a)\n",
    "# a = delete_duplicates(a)\n",
    "# print(a)\n",
    "# a = sorted(a, key=lambda x: freq[x], reverse=True)\n",
    "# print(a)"
   ]
  }
 ],
 "metadata": {
  "kernelspec": {
   "display_name": "Python 3",
   "language": "python",
   "name": "python3"
  },
  "language_info": {
   "codemirror_mode": {
    "name": "ipython",
    "version": 3
   },
   "file_extension": ".py",
   "mimetype": "text/x-python",
   "name": "python",
   "nbconvert_exporter": "python",
   "pygments_lexer": "ipython3",
   "version": "3.7.6"
  }
 },
 "nbformat": 4,
 "nbformat_minor": 4
}
