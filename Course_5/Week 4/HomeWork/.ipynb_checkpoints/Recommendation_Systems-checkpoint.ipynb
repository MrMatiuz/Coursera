{
 "cells": [
  {
   "cell_type": "code",
   "execution_count": 45,
   "metadata": {},
   "outputs": [],
   "source": [
    "import pandas as pd\n",
    "import numpy as np\n",
    "import collections\n",
    "import copy"
   ]
  },
  {
   "cell_type": "code",
   "execution_count": 2,
   "metadata": {},
   "outputs": [],
   "source": [
    "def read_line_to_dict(line):\n",
    "    line = line[:-1]\n",
    "    sep_line = [l.split(',') for l in line.split(';')]\n",
    "#     sep_line = [list(map(int, l.split(','))) for l in line.split(';')]\n",
    "    \n",
    "    sep_line[0] = list(map(int, sep_line[0]))\n",
    "    if sep_line[1] == ['']:\n",
    "        sep_line[1] = [np.nan]\n",
    "    else:\n",
    "        sep_line[1] = list(map(int, sep_line[1]))\n",
    "        \n",
    "    dict_of_lines = {'viewed': sep_line[0], 'purchased': sep_line[1]}\n",
    "    return dict_of_lines\n"
   ]
  },
  {
   "cell_type": "code",
   "execution_count": 3,
   "metadata": {},
   "outputs": [],
   "source": [
    "def read_file_to_dict(name):\n",
    "    file = open(name)\n",
    "    list_of_dict =[]\n",
    "    for line in file:\n",
    "        list_of_dict.append(read_line_to_dict(line))\n",
    "    return list_of_dict"
   ]
  },
  {
   "cell_type": "code",
   "execution_count": 4,
   "metadata": {},
   "outputs": [],
   "source": [
    "def delete_duplicates(seq):\n",
    "    seen = set()\n",
    "    seen_add = seen.add\n",
    "    return [x for x in seq if not (x in seen or seen_add(x))]"
   ]
  },
  {
   "cell_type": "code",
   "execution_count": 219,
   "metadata": {
    "scrolled": true
   },
   "outputs": [],
   "source": [
    "def sort_sessions(arr, type_of_sort, mode, freq=None):\n",
    "    '''\n",
    "    type_of_sort = ['viewed', 'purchased']\n",
    "    mode = ['train','test']\n",
    "    \n",
    "    '''\n",
    "    if(mode == 'train'):\n",
    "        freq = collections.Counter()\n",
    "        for i in range(0, len(arr)):\n",
    "            freq.update(arr[i][type_of_sort])\n",
    "    \n",
    "    arr_cleaned = [session for session in arr if session['purchased'] != [np.nan]]\n",
    "    \n",
    "    sorted_arr = copy.deepcopy(arr_cleaned)\n",
    "    for num, session in enumerate(sorted_arr):\n",
    "        sorted_arr[num]['viewed'] = sorted(delete_duplicates(session['viewed']),\n",
    "                                               key=lambda x: freq[x],\n",
    "                                               reverse=True)\n",
    "    if(mode == 'train'):\n",
    "        return sorted_arr, freq\n",
    "    elif(mode == 'test'):\n",
    "        return sorted_arr"
   ]
  },
  {
   "cell_type": "code",
   "execution_count": 196,
   "metadata": {},
   "outputs": [],
   "source": [
    "def count_metric(session, power, metric):\n",
    "    viewed_power_items = copy.deepcopy(session['viewed'][:power])\n",
    "    len_of_viewed_power_items = len(viewed_power_items)\n",
    "    purchased_items = copy.deepcopy(session['purchased'])\n",
    "#     print(viewed_power_items) \n",
    "    for item in purchased_items:\n",
    "        viewed_power_items = [x for x in viewed_power_items if x != item]\n",
    "#     print(purchased_items)\n",
    "#     print((len_of_viewed_power_items - len(viewed_power_items)) / power)\n",
    "    if metric == 'precision':\n",
    "        return (len_of_viewed_power_items - len(viewed_power_items)) / power\n",
    "    elif metric == 'recall':\n",
    "        return (len_of_viewed_power_items - len(viewed_power_items)) / len(purchased_items)\n",
    "    else:\n",
    "        print(\"ERROR: Invalid matric!!!\")\n",
    "    \n",
    "def average_metric(data, power, metric):\n",
    "    sum_of_metric = 0\n",
    "    for session in data:\n",
    "        sum_of_metric += count_metric(session, power, metric)\n",
    "    return sum_of_metric / len(data)"
   ]
  },
  {
   "cell_type": "code",
   "execution_count": 213,
   "metadata": {},
   "outputs": [],
   "source": [
    "train = read_file_to_dict('coursera_sessions_train.txt')\n",
    "test = read_file_to_dict('coursera_sessions_test.txt')"
   ]
  },
  {
   "cell_type": "code",
   "execution_count": 224,
   "metadata": {
    "scrolled": true
   },
   "outputs": [
    {
     "name": "stdout",
     "output_type": "stream",
     "text": [
      "0.44\n",
      "0.51\n",
      "0.82\n",
      "0.21\n"
     ]
    }
   ],
   "source": [
    "#ANSWER 1\n",
    "sorted_data, freq_1 = sort_sessions(train, type_of_sort='viewed', mode='train')\n",
    "\n",
    "print(round(average_metric(sorted_data, 1, metric='recall'), 2))\n",
    "print(round(average_metric(sorted_data, 1, metric='precision'), 2))\n",
    "print(round(average_metric(sorted_data, 5, metric='recall'), 2))\n",
    "print(round(average_metric(sorted_data, 5, metric='precision'), 2))"
   ]
  },
  {
   "cell_type": "code",
   "execution_count": 225,
   "metadata": {},
   "outputs": [
    {
     "name": "stdout",
     "output_type": "stream",
     "text": [
      "0.42\n",
      "0.48\n",
      "0.8\n",
      "0.2\n"
     ]
    }
   ],
   "source": [
    "#ANSWER 2\n",
    "sorted_data = sort_sessions(test, type_of_sort='viewed', mode='test', freq=freq_1)\n",
    "\n",
    "print(round(average_metric(sorted_data, 1, metric='recall'), 2))\n",
    "print(round(average_metric(sorted_data, 1, metric='precision'), 2))\n",
    "print(round(average_metric(sorted_data, 5, metric='recall'), 2))\n",
    "print(round(average_metric(sorted_data, 5, metric='precision'), 2))"
   ]
  },
  {
   "cell_type": "code",
   "execution_count": 228,
   "metadata": {},
   "outputs": [
    {
     "name": "stdout",
     "output_type": "stream",
     "text": [
      "0.69\n",
      "0.8\n",
      "0.93\n",
      "0.25\n"
     ]
    }
   ],
   "source": [
    "#ANSWER 3\n",
    "sorted_data, freq_2 = sort_sessions(train, type_of_sort='purchased', mode='train')\n",
    "\n",
    "print(round(average_metric(sorted_data, 1, metric='recall'), 2))\n",
    "print(round(average_metric(sorted_data, 1, metric='precision'), 2))\n",
    "print(round(average_metric(sorted_data, 5, metric='recall'), 2))\n",
    "print(round(average_metric(sorted_data, 5, metric='precision'), 2))"
   ]
  },
  {
   "cell_type": "code",
   "execution_count": 229,
   "metadata": {},
   "outputs": [
    {
     "name": "stdout",
     "output_type": "stream",
     "text": [
      "0.46\n",
      "0.53\n",
      "0.82\n",
      "0.21\n"
     ]
    }
   ],
   "source": [
    "#ANSWER 4\n",
    "sorted_data = sort_sessions(test, type_of_sort='viewed', mode='test', freq=freq_2)\n",
    "\n",
    "print(round(average_metric(sorted_data, 1, metric='recall'), 2))\n",
    "print(round(average_metric(sorted_data, 1, metric='precision'), 2))\n",
    "print(round(average_metric(sorted_data, 5, metric='recall'), 2))\n",
    "print(round(average_metric(sorted_data, 5, metric='precision'), 2))"
   ]
  }
 ],
 "metadata": {
  "kernelspec": {
   "display_name": "Python 3",
   "language": "python",
   "name": "python3"
  },
  "language_info": {
   "codemirror_mode": {
    "name": "ipython",
    "version": 3
   },
   "file_extension": ".py",
   "mimetype": "text/x-python",
   "name": "python",
   "nbconvert_exporter": "python",
   "pygments_lexer": "ipython3",
   "version": "3.7.6"
  }
 },
 "nbformat": 4,
 "nbformat_minor": 4
}
