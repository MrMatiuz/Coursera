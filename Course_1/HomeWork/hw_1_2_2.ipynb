{
 "cells": [
  {
   "cell_type": "markdown",
   "metadata": {},
   "source": [
    "f(x) = sin(x / 5) * exp(x / 10) + 5 * exp(-x / 2)"
   ]
  },
  {
   "cell_type": "code",
   "execution_count": 207,
   "metadata": {},
   "outputs": [],
   "source": [
    "import matplotlib.pyplot as plt\n",
    "import numpy as np\n",
    "import scipy as sp"
   ]
  },
  {
   "cell_type": "code",
   "execution_count": 208,
   "metadata": {},
   "outputs": [],
   "source": [
    "def f(x):\n",
    "    return np.sin(x / 5) * np.exp(x / 10) + 5 * np.exp(-x / 2)"
   ]
  },
  {
   "cell_type": "code",
   "execution_count": 225,
   "metadata": {},
   "outputs": [
    {
     "data": {
      "text/plain": [
       "array([[False],\n",
       "       [ True]])"
      ]
     },
     "execution_count": 225,
     "metadata": {},
     "output_type": "execute_result"
    }
   ],
   "source": [
    "#Первая степень\n",
    "a = np.array([[1,1],\n",
    "              [1,15]])\n",
    "b = np.array([[f(1)],\n",
    "              [f(15)]])\n",
    "x_1 = sp.linalg.solve(a,b)\n",
    "a.dot(x_1) == b"
   ]
  },
  {
   "cell_type": "code",
   "execution_count": 227,
   "metadata": {},
   "outputs": [
    {
     "data": {
      "text/plain": [
       "array([[ True],\n",
       "       [ True],\n",
       "       [False]])"
      ]
     },
     "execution_count": 227,
     "metadata": {},
     "output_type": "execute_result"
    }
   ],
   "source": [
    "#Вторая степень\n",
    "a = np.array([[1,1,1],\n",
    "              [1,8,8**2],\n",
    "              [1,15,15**2]])\n",
    "b = np.array([[f(1)],\n",
    "              [f(8)],\n",
    "              [f(15)]])\n",
    "x_2 = sp.linalg.solve(a,b)\n",
    "a.dot(x_2) == b"
   ]
  },
  {
   "cell_type": "code",
   "execution_count": 231,
   "metadata": {},
   "outputs": [
    {
     "data": {
      "text/plain": [
       "array([[False],\n",
       "       [False],\n",
       "       [False],\n",
       "       [False]])"
      ]
     },
     "execution_count": 231,
     "metadata": {},
     "output_type": "execute_result"
    }
   ],
   "source": [
    "#Третья степень\n",
    "a = np.array([[1,1,1, 1],\n",
    "              [1,4,4**2,4**3],\n",
    "              [1,10,10**2,10**3],\n",
    "              [1,15,15**2,15**3]])\n",
    "b = np.array([[f(1)],\n",
    "              [f(4)],\n",
    "              [f(10)],\n",
    "              [f(15)]])\n",
    "x_3 = sp.linalg.solve(a,b)\n",
    "a.dot(x_3) == b"
   ]
  },
  {
   "cell_type": "code",
   "execution_count": 236,
   "metadata": {},
   "outputs": [
    {
     "name": "stdout",
     "output_type": "stream",
     "text": [
      "[[ 4.36264154]\n",
      " [-1.29552587]\n",
      " [ 0.19333685]\n",
      " [-0.00823565]]\n"
     ]
    },
    {
     "data": {
      "image/png": "[encoded data removed]",
      "text/plain": [
       "<Figure size 432x288 with 1 Axes>"
      ]
     },
     "metadata": {
      "needs_background": "light"
     },
     "output_type": "display_data"
    }
   ],
   "source": [
    "x = np.arange(0, 16, 0.1)\n",
    "y = np.sin(x / 5) * np.exp(x / 10) + 5 * np.exp(-x / 2)\n",
    "y1= x_1[0] + x_1[1] * x\n",
    "y2= x_2[0] + x_2[1] * x + x_2[2] * x**2\n",
    "y3= x_3[0] + x_3[1] * x + x_3[2] * x**2 + x_3[3] * x**3\n",
    "plt.plot(x, y1, color='green')\n",
    "plt.plot(x, y2, color='red')\n",
    "plt.plot(x, y3, color='black')\n",
    "plt.plot(x, y, color='blue')\n",
    "print(x_3)"
   ]
  },
  {
   "cell_type": "code",
   "execution_count": 229,
   "metadata": {},
   "outputs": [
    {
     "data": {
      "text/plain": [
       "(160,)"
      ]
     },
     "execution_count": 229,
     "metadata": {},
     "output_type": "execute_result"
    }
   ],
   "source": [
    "x.shape"
   ]
  },
  {
   "cell_type": "code",
   "execution_count": 255,
   "metadata": {},
   "outputs": [
    {
     "data": {
      "text/plain": [
       "13"
      ]
     },
     "execution_count": 255,
     "metadata": {},
     "output_type": "execute_result"
    }
   ],
   "source": [
    "f = open('submission-2', 'tw')\n",
    "for i in range(3):\n",
    "    f.write(str(x_3[i]))\n",
    "    f.write(' ')\n",
    "f.write(str(x_3[3]))\n"
   ]
  },
  {
   "cell_type": "code",
   "execution_count": null,
   "metadata": {},
   "outputs": [],
   "source": []
  }
 ],
 "metadata": {
  "kernelspec": {
   "display_name": "Python 3",
   "language": "python",
   "name": "python3"
  },
  "language_info": {
   "codemirror_mode": {
    "name": "ipython",
    "version": 3
   },
   "file_extension": ".py",
   "mimetype": "text/x-python",
   "name": "python",
   "nbconvert_exporter": "python",
   "pygments_lexer": "ipython3",
   "version": "3.7.4"
  }
 },
 "nbformat": 4,
 "nbformat_minor": 2
}
