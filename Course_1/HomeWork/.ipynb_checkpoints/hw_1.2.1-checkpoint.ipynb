{
 "cells": [
  {
   "cell_type": "code",
   "execution_count": 125,
   "metadata": {},
   "outputs": [],
   "source": [
    "import re\n",
    "f = open('sentences.txt')\n",
    "a = re.split('[^a-z]', f.read().lower())\n",
    "f.close()\n",
    "\n"
   ]
  },
  {
   "cell_type": "code",
   "execution_count": 127,
   "metadata": {},
   "outputs": [
    {
     "name": "stdout",
     "output_type": "stream",
     "text": [
      "['standard', 'default', 'purchase', 'between', 'left', 'moved', 'from', 'symbols', 'factory', 'now', 'named', 'predecessor', 'undergone', 'hear', 'artificial', 'redirected', 'are', 'leopard', 'learned', 'later', 'terms', 'recent', 'october', 'received', 'installs', 'its', 'yosemite', 'incremental', 'count', 'part', 'cats', 'disk', 'right', 'other', 'they', 'kg', 'developed', 'need', 'during', 'domestic', 'connected', 'os', 'safari', 'contains', 'where', 'have', 'keyboards', 'bytes', 'tamed', 'type', 'update', 'ancestor', 'also', 'mac', 'for', 'interactive', 'predators', 'unnecessary', 'useful', 'vermin', 'patch', 'so', 'stdout', 'separate', 'won', 'information', 'released', 'human', 'genes', 'create', 'needing', 'started', 'unix', 'felis', 'those', 'basic', 'was', 'download', 'available', 'receives', 'based', 'off', 'starting', 'mountain', 'faint', 'common', 'high', 'deliberately', 'which', 'however', 'not', 'mice', 'over', 'typically', 'sounds', 'two', 'instead', 'lb', 'can', 'read', 'members', 'installation', 'simply', 'use', 'app', 'chromosomes', 'displays', 'rather', 'sequence', 'content', 'binary', 'people', 'comparison', 'releasing', 'offered', 'upgrade', 'major', 'mavericks', 'flow', 'a', 'domestication', 'if', 'non', 'linux', 'features', 'will', 'one', 'genus', 'process', 'arguments', 'size', 'drive', 'intel', 'firmware', 'installed', 'just', 'computers', 'an', 'delete', 'is', 'fifth', 'world', 'tiger', 'than', 'closest', 'successor', 'wrong', 'any', 'commands', 'lion', 'domesticated', 'error', 'concern', 'dogs', 'online', 'more', 'file', 'cat', 'in', 'apple', 'too', 'switch', 'diploid', 'concatenate', 'may', 'july', 'run', 'redirection', 'on', 'streams', 'allows', 'as', 'most', 'lines', 'catenates', 'used', 'ears', 'organisms', 'using', 'releases', 'made', 'entirely', 'release', 'since', 'adjacent', 'and', 'the', 'version', 'changes', 'community', 'or', 'safer', 'you', 'pipes', 'by', 'without', 'often', 'weighing', 'to', 'that', 'similar', 'files', 'legibility', 'selection', 'according', 'roughly', 'of', 'place', 'stdin', 'marks', 'permanently', 'clear', 'external', 'such', 'has', 'new', 'piped', 'wild', 's', 'three', 'processors', 'second', 'symbol', 'output', 'when', 'x', 'with', 'longer', 'their', 'through', 'store', 'versions', 'running', 't', 'be', 'allow', 'small', 'animals', 'possess', 'no', 'year', 'mid', 'frequency', 'single', 'command', 'it', 'enhancements', 'some', 'time', 'editions', 'both', 'every', 'were', 'osx']\n"
     ]
    }
   ],
   "source": [
    "\n",
    "a = list(set(a))\n",
    "a.remove('')\n",
    "print(a)"
   ]
  },
  {
   "cell_type": "code",
   "execution_count": null,
   "metadata": {},
   "outputs": [],
   "source": []
  },
  {
   "cell_type": "code",
   "execution_count": null,
   "metadata": {},
   "outputs": [],
   "source": []
  }
 ],
 "metadata": {
  "kernelspec": {
   "display_name": "Python 3",
   "language": "python",
   "name": "python3"
  },
  "language_info": {
   "codemirror_mode": {
    "name": "ipython",
    "version": 3
   },
   "file_extension": ".py",
   "mimetype": "text/x-python",
   "name": "python",
   "nbconvert_exporter": "python",
   "pygments_lexer": "ipython3",
   "version": "3.7.4"
  }
 },
 "nbformat": 4,
 "nbformat_minor": 2
}
