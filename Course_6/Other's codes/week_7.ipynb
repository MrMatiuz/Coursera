{
 "cells": [
  {
   "cell_type": "markdown",
   "metadata": {},
   "source": [
    "<center>\n",
    "<img src=\"https://habrastorage.org/web/677/8e1/337/6778e1337c3d4b159d7e99df94227cb2.jpg\"/>\n",
    "<center>\n",
    "\n",
    "## Специализация \"Машинное обучение и анализ данных\""
   ]
  },
  {
   "cell_type": "markdown",
   "metadata": {},
   "source": [
    "## Идентификация интернет-пользователей"
   ]
  },
  {
   "cell_type": "markdown",
   "metadata": {},
   "source": [
    "### Цели и задачи проекта, описание исходных и обработанных данных и признаков"
   ]
  },
  {
   "cell_type": "markdown",
   "metadata": {},
   "source": [
    "В этом проекте рассматривается **задача идентификации пользователя** по его поведению в сети Интернет, а именно - по последовательности из нескольких веб-сайтов, посещенных подряд одним и тем же человеком. Идея такая: пользователи Интернета по-разному переходят по ссылкам, и это может помогать их идентифицировать.\n",
    "\n",
    "Таким образом, решается задача множественной классификации.\n",
    "\n",
    "**Исходные данные** состоят из перечня сайтов и времени посещения этих сайтов каждым пользователем. На соревновании в [kaggle](https://www.kaggle.com/c/catch-me-if-you-can-intruder-detection-through-webpage-session-tracking2/leaderboard\n",
    ") данные уже разделены по сессиям, которые не могут быть длинее получаса или 10 сайтов.\n",
    "\n",
    "Для сайтов, имеющихся в исходных данных, составили частотный словарь сайтов вида {'site_string': [site_id, site_freq]}.  \n",
    "\n",
    "Исходные данные разделили на сессии для обучения классификатора выборках с различными значениями параментрами длины сессии и длины скользящего окна. Значениям параметра длины сессии могут принимать - 15, 10, 7 или 5,  и значениям параметра длины скользящего окна -  10, 7 или 5. Получили 9 различных вариантов выборки. \n",
    "\n",
    "Для каждой выборки воспользовались идеей мешка слов. Создали новые матрицы, в которых строкам будут соответствовать сессии, а столбцам – индексы сайтов. На пересечении строки  𝑖  и столбца  𝑗  стоит число  𝑛𝑖𝑗  – cколько раз сайт  𝑗  встретился в сессии номер  𝑖 . Реализовали это с помощью разреженных матриц Scipy – csr_matrix. \n",
    "\n"
   ]
  },
  {
   "cell_type": "markdown",
   "metadata": {},
   "source": [
    "###  Первичный анализ признаков и первичный визуальный анализ признаков"
   ]
  },
  {
   "cell_type": "markdown",
   "metadata": {},
   "source": [
    "В задании было предложено создать следующе признаки:\n",
    "\n",
    "- `time_diff1` – время, проведённое на первом сайте\n",
    "- `time_diff2` – время, проведённое на втором сайте\n",
    "- `time_diff3` – время, проведённое на третьем сайте\n",
    "- `time_diff4` – время, проведённое на четвёртом сайте\n",
    "- `time_diff5` – время, проведённое на пятом сайте\n",
    "- `time_diff6` – время, проведённое на шестом сайте\n",
    "- `time_diff7` – время, проведённое на седьмом сайте\n",
    "- `time_diff8` – время, проведённое на восьмом сайте\n",
    "- `time_diff9` – время, проведённое на девятом сайте\n",
    "- `session_timespan` – продолжительность сессии (разница между максимальным и минимальным временем посещения сайтов в сессии, в секундах)\n",
    "- `#unique_sites` – число уникальных сайтов в сессии \n",
    "- `start_hour` – час начала сессии (то есть час в записи минимального timestamp среди десяти)\n",
    "- `start_day_of_week` – день недели (то есть день недели в записи минимального timestamp среди десяти)\n",
    "\n",
    "Дополнительно добавили следующие признаки:\n",
    "- `start_day` – день начала сессии (то есть час в записи минимального timestamp среди десяти)\n",
    "- `start_month` – месяц начала сессии (то есть час в записи минимального timestamp среди десяти)\n",
    "- `start_year` – год начала сессии (то есть час в записи минимального timestamp среди десяти)\n",
    "- `time_of_day'` – время суток начала сессии\n",
    "    * 00:00 - 06:00: ночь\n",
    "    * 06:00 - 12:00: утро\n",
    "    * 12:00 - 18:00: день\n",
    "    * 18:00 - 0:00: вечер\n",
    "        \n",
    "- `visit_10_top` – индикатор посещения хотя бы 1 из 10 популярных сайтов\n",
    "    * 1 - посетили хотя бы 1 из 10 популярных сайтов\n",
    "    * 0 - иначе\n",
    "- `mean_time` – среднее время, проведённое на каждом сайте в сессии\n",
    "\n"
   ]
  },
  {
   "cell_type": "markdown",
   "metadata": {},
   "source": [
    "Для примера визуализации загрузим DataFrame с вышеперечисленными признаками и частотный словарь для 10 пользователей."
   ]
  },
  {
   "cell_type": "code",
   "execution_count": 2,
   "metadata": {},
   "outputs": [],
   "source": [
    "from __future__ import division, print_function\n",
    "# отключим всякие предупреждения Anaconda\n",
    "import warnings\n",
    "warnings.filterwarnings('ignore')\n",
    "from glob import glob\n",
    "import os\n",
    "from tqdm import tqdm_notebook\n",
    "import numpy as np\n",
    "import pandas as pd\n",
    "pd.set_option('display.max.columns', 25)\n",
    "import pickle\n",
    "#pip install seaborn\n",
    "import seaborn as sns\n",
    "%matplotlib inline\n",
    "from matplotlib import pyplot as plt\n",
    "\n",
    "from scipy.sparse import csr_matrix\n",
    "from sklearn.model_selection import train_test_split, cross_val_score, StratifiedKFold, GridSearchCV\n",
    "from sklearn.metrics import accuracy_score, f1_score"
   ]
  },
  {
   "cell_type": "code",
   "execution_count": 3,
   "metadata": {},
   "outputs": [],
   "source": [
    "PATH_TO_DATA = \"C:/Users/Admin/Course/6\""
   ]
  },
  {
   "cell_type": "code",
   "execution_count": 4,
   "metadata": {},
   "outputs": [],
   "source": [
    "with open(os.path.join(PATH_TO_DATA, 'site_freq_10users.pkl'), 'rb') as site_freq_10users_pkl:\n",
    "        dict_site_10 = pickle.load(site_freq_10users_pkl)"
   ]
  },
  {
   "cell_type": "code",
   "execution_count": 5,
   "metadata": {},
   "outputs": [],
   "source": [
    "with open(os.path.join(PATH_TO_DATA, 'new_features_10users_1.pkl'), 'rb') as new_features_10users_pkl:\n",
    "        new_features_10users = pickle.load(new_features_10users_pkl)"
   ]
  },
  {
   "cell_type": "code",
   "execution_count": 6,
   "metadata": {},
   "outputs": [
    {
     "data": {
      "text/html": [
       "<div>\n",
       "<style scoped>\n",
       "    .dataframe tbody tr th:only-of-type {\n",
       "        vertical-align: middle;\n",
       "    }\n",
       "\n",
       "    .dataframe tbody tr th {\n",
       "        vertical-align: top;\n",
       "    }\n",
       "\n",
       "    .dataframe thead th {\n",
       "        text-align: right;\n",
       "    }\n",
       "</style>\n",
       "<table border=\"1\" class=\"dataframe\">\n",
       "  <thead>\n",
       "    <tr style=\"text-align: right;\">\n",
       "      <th></th>\n",
       "      <th>site1</th>\n",
       "      <th>site2</th>\n",
       "      <th>site3</th>\n",
       "      <th>site4</th>\n",
       "      <th>site5</th>\n",
       "      <th>site6</th>\n",
       "      <th>site7</th>\n",
       "      <th>site8</th>\n",
       "      <th>site9</th>\n",
       "      <th>site10</th>\n",
       "      <th>time_diff1</th>\n",
       "      <th>time_diff2</th>\n",
       "      <th>...</th>\n",
       "      <th>time_diff9</th>\n",
       "      <th>session_timespan</th>\n",
       "      <th>#unique_sites</th>\n",
       "      <th>start_hour</th>\n",
       "      <th>start_day</th>\n",
       "      <th>start_month</th>\n",
       "      <th>start_year</th>\n",
       "      <th>start_day_of_week</th>\n",
       "      <th>time_of_day</th>\n",
       "      <th>visit_10_top</th>\n",
       "      <th>mean_time</th>\n",
       "      <th>target</th>\n",
       "    </tr>\n",
       "  </thead>\n",
       "  <tbody>\n",
       "    <tr>\n",
       "      <td>0</td>\n",
       "      <td>1.0</td>\n",
       "      <td>2.0</td>\n",
       "      <td>3.0</td>\n",
       "      <td>4.0</td>\n",
       "      <td>3.0</td>\n",
       "      <td>3.0</td>\n",
       "      <td>4.0</td>\n",
       "      <td>3.0</td>\n",
       "      <td>5.0</td>\n",
       "      <td>3.0</td>\n",
       "      <td>10.0</td>\n",
       "      <td>0.0</td>\n",
       "      <td>...</td>\n",
       "      <td>0.0</td>\n",
       "      <td>33.0</td>\n",
       "      <td>5.0</td>\n",
       "      <td>8.0</td>\n",
       "      <td>15.0</td>\n",
       "      <td>11.0</td>\n",
       "      <td>2013.0</td>\n",
       "      <td>5.0</td>\n",
       "      <td>1.0</td>\n",
       "      <td>1.0</td>\n",
       "      <td>3.666667</td>\n",
       "      <td>31.0</td>\n",
       "    </tr>\n",
       "    <tr>\n",
       "      <td>1</td>\n",
       "      <td>6.0</td>\n",
       "      <td>7.0</td>\n",
       "      <td>8.0</td>\n",
       "      <td>9.0</td>\n",
       "      <td>3.0</td>\n",
       "      <td>10.0</td>\n",
       "      <td>11.0</td>\n",
       "      <td>12.0</td>\n",
       "      <td>13.0</td>\n",
       "      <td>14.0</td>\n",
       "      <td>1.0</td>\n",
       "      <td>0.0</td>\n",
       "      <td>...</td>\n",
       "      <td>8.0</td>\n",
       "      <td>284.0</td>\n",
       "      <td>10.0</td>\n",
       "      <td>8.0</td>\n",
       "      <td>15.0</td>\n",
       "      <td>11.0</td>\n",
       "      <td>2013.0</td>\n",
       "      <td>5.0</td>\n",
       "      <td>1.0</td>\n",
       "      <td>0.0</td>\n",
       "      <td>31.555556</td>\n",
       "      <td>31.0</td>\n",
       "    </tr>\n",
       "    <tr>\n",
       "      <td>2</td>\n",
       "      <td>14.0</td>\n",
       "      <td>4.0</td>\n",
       "      <td>14.0</td>\n",
       "      <td>14.0</td>\n",
       "      <td>15.0</td>\n",
       "      <td>16.0</td>\n",
       "      <td>6.0</td>\n",
       "      <td>17.0</td>\n",
       "      <td>18.0</td>\n",
       "      <td>14.0</td>\n",
       "      <td>0.0</td>\n",
       "      <td>14.0</td>\n",
       "      <td>...</td>\n",
       "      <td>0.0</td>\n",
       "      <td>258.0</td>\n",
       "      <td>7.0</td>\n",
       "      <td>8.0</td>\n",
       "      <td>15.0</td>\n",
       "      <td>11.0</td>\n",
       "      <td>2013.0</td>\n",
       "      <td>5.0</td>\n",
       "      <td>1.0</td>\n",
       "      <td>1.0</td>\n",
       "      <td>28.666667</td>\n",
       "      <td>31.0</td>\n",
       "    </tr>\n",
       "    <tr>\n",
       "      <td>3</td>\n",
       "      <td>19.0</td>\n",
       "      <td>20.0</td>\n",
       "      <td>19.0</td>\n",
       "      <td>14.0</td>\n",
       "      <td>14.0</td>\n",
       "      <td>14.0</td>\n",
       "      <td>14.0</td>\n",
       "      <td>21.0</td>\n",
       "      <td>22.0</td>\n",
       "      <td>23.0</td>\n",
       "      <td>2.0</td>\n",
       "      <td>1.0</td>\n",
       "      <td>...</td>\n",
       "      <td>0.0</td>\n",
       "      <td>30.0</td>\n",
       "      <td>6.0</td>\n",
       "      <td>8.0</td>\n",
       "      <td>15.0</td>\n",
       "      <td>11.0</td>\n",
       "      <td>2013.0</td>\n",
       "      <td>5.0</td>\n",
       "      <td>1.0</td>\n",
       "      <td>0.0</td>\n",
       "      <td>3.333333</td>\n",
       "      <td>31.0</td>\n",
       "    </tr>\n",
       "    <tr>\n",
       "      <td>4</td>\n",
       "      <td>24.0</td>\n",
       "      <td>14.0</td>\n",
       "      <td>15.0</td>\n",
       "      <td>25.0</td>\n",
       "      <td>26.0</td>\n",
       "      <td>27.0</td>\n",
       "      <td>28.0</td>\n",
       "      <td>29.0</td>\n",
       "      <td>30.0</td>\n",
       "      <td>29.0</td>\n",
       "      <td>1.0</td>\n",
       "      <td>0.0</td>\n",
       "      <td>...</td>\n",
       "      <td>0.0</td>\n",
       "      <td>6.0</td>\n",
       "      <td>9.0</td>\n",
       "      <td>8.0</td>\n",
       "      <td>15.0</td>\n",
       "      <td>11.0</td>\n",
       "      <td>2013.0</td>\n",
       "      <td>5.0</td>\n",
       "      <td>1.0</td>\n",
       "      <td>1.0</td>\n",
       "      <td>0.666667</td>\n",
       "      <td>31.0</td>\n",
       "    </tr>\n",
       "  </tbody>\n",
       "</table>\n",
       "<p>5 rows × 30 columns</p>\n",
       "</div>"
      ],
      "text/plain": [
       "   site1  site2  site3  site4  site5  site6  site7  site8  site9  site10  \\\n",
       "0    1.0    2.0    3.0    4.0    3.0    3.0    4.0    3.0    5.0     3.0   \n",
       "1    6.0    7.0    8.0    9.0    3.0   10.0   11.0   12.0   13.0    14.0   \n",
       "2   14.0    4.0   14.0   14.0   15.0   16.0    6.0   17.0   18.0    14.0   \n",
       "3   19.0   20.0   19.0   14.0   14.0   14.0   14.0   21.0   22.0    23.0   \n",
       "4   24.0   14.0   15.0   25.0   26.0   27.0   28.0   29.0   30.0    29.0   \n",
       "\n",
       "   time_diff1  time_diff2  ...  time_diff9  session_timespan  #unique_sites  \\\n",
       "0        10.0         0.0  ...         0.0              33.0            5.0   \n",
       "1         1.0         0.0  ...         8.0             284.0           10.0   \n",
       "2         0.0        14.0  ...         0.0             258.0            7.0   \n",
       "3         2.0         1.0  ...         0.0              30.0            6.0   \n",
       "4         1.0         0.0  ...         0.0               6.0            9.0   \n",
       "\n",
       "   start_hour  start_day  start_month  start_year  start_day_of_week  \\\n",
       "0         8.0       15.0         11.0      2013.0                5.0   \n",
       "1         8.0       15.0         11.0      2013.0                5.0   \n",
       "2         8.0       15.0         11.0      2013.0                5.0   \n",
       "3         8.0       15.0         11.0      2013.0                5.0   \n",
       "4         8.0       15.0         11.0      2013.0                5.0   \n",
       "\n",
       "   time_of_day  visit_10_top  mean_time  target  \n",
       "0          1.0           1.0   3.666667    31.0  \n",
       "1          1.0           0.0  31.555556    31.0  \n",
       "2          1.0           1.0  28.666667    31.0  \n",
       "3          1.0           0.0   3.333333    31.0  \n",
       "4          1.0           1.0   0.666667    31.0  \n",
       "\n",
       "[5 rows x 30 columns]"
      ]
     },
     "execution_count": 6,
     "metadata": {},
     "output_type": "execute_result"
    }
   ],
   "source": [
    "new_features_10users.head()"
   ]
  },
  {
   "cell_type": "code",
   "execution_count": null,
   "metadata": {},
   "outputs": [],
   "source": []
  },
  {
   "cell_type": "markdown",
   "metadata": {},
   "source": [
    "**Распределение целевого класса:**"
   ]
  },
  {
   "cell_type": "code",
   "execution_count": 7,
   "metadata": {},
   "outputs": [
    {
     "data": {
      "text/plain": [
       "128.0    2796\n",
       "39.0     2204\n",
       "207.0    1868\n",
       "127.0    1712\n",
       "237.0    1643\n",
       "33.0     1022\n",
       "50.0      802\n",
       "31.0      760\n",
       "100.0     720\n",
       "241.0     534\n",
       "Name: target, dtype: int64"
      ]
     },
     "execution_count": 7,
     "metadata": {},
     "output_type": "execute_result"
    }
   ],
   "source": [
    "new_features_10users['target'].value_counts()"
   ]
  },
  {
   "cell_type": "markdown",
   "metadata": {},
   "source": [
    "***Выборка - не сбалансирована.***"
   ]
  },
  {
   "cell_type": "markdown",
   "metadata": {},
   "source": [
    "Построим гистограммы распределения для всех признаков."
   ]
  },
  {
   "cell_type": "code",
   "execution_count": 8,
   "metadata": {},
   "outputs": [
    {
     "data": {
      "image/png": "[encoded data removed]",
      "text/plain": [
       "<Figure size 1152x720 with 20 Axes>"
      ]
     },
     "metadata": {
      "needs_background": "light"
     },
     "output_type": "display_data"
    }
   ],
   "source": [
    "fig, axes = plt.subplots(nrows=5, ncols=4, figsize=(16, 10))\n",
    "colors = ['pink',  'darkviolet', 'blueviolet','hotpink', 'orchid', 'firebrick', 'gold',  'forestgreen', \n",
    "        'slategrey', 'brown', 'coral', 'mediumblue', 'olive', 'darkblue', 'lightblue', \n",
    "         'bisque', 'royalblue', 'moccasin', 'yellow', 'blue']\n",
    "# как вариант, можно и по-другому\n",
    "for i in range(len(new_features_10users.columns)-11):\n",
    "    ind = i+10\n",
    "    if new_features_10users.columns[ind] !='start_year':\n",
    "        axes[i//4, i%4].hist(new_features_10users[new_features_10users[new_features_10users.columns[ind]]<200][new_features_10users.columns[ind]].values,color = colors[i], label = new_features_10users.columns[ind])\n",
    "    #axes[i//4, i%4].set(xlabel=new_features_10users.columns[ind], ylabel = 'количество повторов' )\n",
    "    else:\n",
    "        axes[i//4, i%4].hist(new_features_10users[new_features_10users.columns[ind]].values,color = colors[i], label = new_features_10users.columns[ind])\n",
    "    axes[i//4, i%4].grid()\n",
    "    axes[i//4, i%4].legend()\n"
   ]
  },
  {
   "cell_type": "markdown",
   "metadata": {},
   "source": [
    "Самыми инетерсными признаками оказались - '#unique_sites', 'start_hour', 'start_day', 'start_day_of_week' и 'time_of_day'.\n",
    "\n",
    "Построим гистограммы распределения для каждого из 10 пользователей по отдельности для этих признаков."
   ]
  },
  {
   "cell_type": "code",
   "execution_count": 9,
   "metadata": {},
   "outputs": [],
   "source": [
    "id_name_dict = {128: 'Mary-Kate', 39: 'Ashley', 207: 'Lindsey', 127: 'Naomi', 237: 'Avril',\n",
    "               33: 'Bob', 50: 'Bill', 31: 'John', 100: 'Dick', 241: 'Ed'}\n",
    "\n",
    "new_features_10users['target'] = new_features_10users['target'].map(id_name_dict)\n",
    "\n",
    "color_dic = {'Mary-Kate': 'pink', 'Ashley': 'darkviolet', 'Lindsey':'blueviolet', \n",
    "             'Naomi': 'hotpink', 'Avril': 'orchid', \n",
    "             'Bob': 'firebrick', 'Bill': 'gold', 'John': 'forestgreen', \n",
    "             'Dick': 'slategrey', 'Ed':'brown'}"
   ]
  },
  {
   "cell_type": "code",
   "execution_count": 10,
   "metadata": {},
   "outputs": [
    {
     "data": {
      "image/png": "[encoded data removed]",
      "text/plain": [
       "<Figure size 1152x720 with 12 Axes>"
      ]
     },
     "metadata": {
      "needs_background": "light"
     },
     "output_type": "display_data"
    }
   ],
   "source": [
    "fig, axes = plt.subplots(nrows=3, ncols=4, figsize=(16, 10))\n",
    "\n",
    "# как вариант, можно и по-другому\n",
    "for idx, (user, sub_df) in  enumerate(new_features_10users.groupby(['target'])): \n",
    "    axes[idx//4, idx%4].hist(sub_df['#unique_sites'].values, color = color_dic[user], label = user)\n",
    "    axes[idx//4, idx%4].set(xlabel='Число уникальных сайтов в сессии', ylabel = 'количество повторов' )\n",
    "    axes[idx//4, idx%4].grid()\n",
    "    axes[idx//4, idx%4].legend()"
   ]
  },
  {
   "cell_type": "code",
   "execution_count": 11,
   "metadata": {},
   "outputs": [
    {
     "data": {
      "image/png": "[encoded data removed]",
      "text/plain": [
       "<Figure size 1152x720 with 12 Axes>"
      ]
     },
     "metadata": {
      "needs_background": "light"
     },
     "output_type": "display_data"
    }
   ],
   "source": [
    "fig, axes = plt.subplots(nrows=3, ncols=4, figsize=(16, 10))\n",
    "\n",
    "# как вариант, можно и по-другому\n",
    "for idx, (user, sub_df) in  enumerate(new_features_10users.groupby(['target'])): \n",
    "    axes[idx//4, idx%4].hist(sub_df['start_hour'].values, color = color_dic[user], label = user)\n",
    "    axes[idx//4, idx%4].set(xlabel='Час начала сессии', ylabel = 'количество повторов' )\n",
    "    axes[idx//4, idx%4].grid()\n",
    "    axes[idx//4, idx%4].legend()"
   ]
  },
  {
   "cell_type": "code",
   "execution_count": 12,
   "metadata": {},
   "outputs": [
    {
     "data": {
      "image/png": "[encoded data removed]",
      "text/plain": [
       "<Figure size 1152x720 with 12 Axes>"
      ]
     },
     "metadata": {
      "needs_background": "light"
     },
     "output_type": "display_data"
    }
   ],
   "source": [
    "fig, axes = plt.subplots(nrows=3, ncols=4, figsize=(16, 10))\n",
    "\n",
    "# как вариант, можно и по-другому\n",
    "for idx, (user, sub_df) in  enumerate(new_features_10users.groupby(['target'])): \n",
    "    axes[idx//4, idx%4].hist(sub_df['start_day'].values, color = color_dic[user], label = user)\n",
    "    axes[idx//4, idx%4].set(xlabel='День начала сессии', ylabel = 'количество повторов' )\n",
    "    axes[idx//4, idx%4].grid()\n",
    "    axes[idx//4, idx%4].legend()"
   ]
  },
  {
   "cell_type": "code",
   "execution_count": 13,
   "metadata": {},
   "outputs": [
    {
     "data": {
      "image/png": "[encoded data removed]",
      "text/plain": [
       "<Figure size 1152x720 with 12 Axes>"
      ]
     },
     "metadata": {
      "needs_background": "light"
     },
     "output_type": "display_data"
    }
   ],
   "source": [
    "fig, axes = plt.subplots(nrows=3, ncols=4, figsize=(16, 10))\n",
    "\n",
    "# как вариант, можно и по-другому\n",
    "for idx, (user, sub_df) in  enumerate(new_features_10users.groupby(['target'])): \n",
    "    axes[idx//4, idx%4].hist(sub_df['start_day_of_week'].values, color = color_dic[user], label = user)\n",
    "    axes[idx//4, idx%4].set(xlabel='День недели', ylabel = 'количество повторов' )\n",
    "    axes[idx//4, idx%4].grid()\n",
    "    axes[idx//4, idx%4].legend()"
   ]
  },
  {
   "cell_type": "code",
   "execution_count": 14,
   "metadata": {},
   "outputs": [
    {
     "data": {
      "image/png": "[encoded data removed]",
      "text/plain": [
       "<Figure size 1152x720 with 12 Axes>"
      ]
     },
     "metadata": {
      "needs_background": "light"
     },
     "output_type": "display_data"
    }
   ],
   "source": [
    "fig, axes = plt.subplots(nrows=3, ncols=4, figsize=(16, 10))\n",
    "\n",
    "# как вариант, можно и по-другому\n",
    "for idx, (user, sub_df) in  enumerate(new_features_10users.groupby(['target'])): \n",
    "    axes[idx//4, idx%4].hist(sub_df['time_of_day'].values, color = color_dic[user], label = user)\n",
    "    axes[idx//4, idx%4].set(xlabel='Время суток', ylabel = 'количество повторов' )\n",
    "    axes[idx//4, idx%4].grid()\n",
    "    axes[idx//4, idx%4].legend()"
   ]
  },
  {
   "cell_type": "code",
   "execution_count": null,
   "metadata": {},
   "outputs": [],
   "source": []
  },
  {
   "cell_type": "code",
   "execution_count": 15,
   "metadata": {},
   "outputs": [],
   "source": [
    "def mechok(docs):\n",
    "    indptr = [0]\n",
    "    indices = []\n",
    "    data = []\n",
    "    vocabulary = {}\n",
    "    for d in docs:\n",
    "        for term in d:\n",
    "            if float(term)==0:\n",
    "                continue\n",
    "            index = vocabulary.setdefault(term, len(vocabulary))\n",
    "            indices.append(index)\n",
    "            data.append(1)     \n",
    "        indptr.append(len(indices))\n",
    "    return (csr_matrix((data, indices, indptr), dtype=int))"
   ]
  },
  {
   "cell_type": "code",
   "execution_count": 16,
   "metadata": {},
   "outputs": [],
   "source": [
    "new_features_10users_sparse = mechok(new_features_10users.iloc[:,:-1].values) "
   ]
  },
  {
   "cell_type": "markdown",
   "metadata": {},
   "source": [
    "###  Оценка модели с описанием выбранной метрики. Кросс-валидация, построение кривых валидации и обучения"
   ]
  },
  {
   "cell_type": "markdown",
   "metadata": {},
   "source": [
    "Разделили выборку на обучающую и валидационную."
   ]
  },
  {
   "cell_type": "code",
   "execution_count": 17,
   "metadata": {},
   "outputs": [],
   "source": [
    "X = new_features_10users_sparse\n",
    "y = new_features_10users.iloc[:,-1]"
   ]
  },
  {
   "cell_type": "code",
   "execution_count": 18,
   "metadata": {},
   "outputs": [],
   "source": [
    "X_train, X_valid, y_train, y_valid = train_test_split(X, y, test_size=0.3, random_state=17, stratify=y)"
   ]
  },
  {
   "cell_type": "markdown",
   "metadata": {},
   "source": [
    "Задали 3-кратную кросс-валидацию"
   ]
  },
  {
   "cell_type": "code",
   "execution_count": 19,
   "metadata": {},
   "outputs": [],
   "source": [
    "skf = StratifiedKFold(n_splits=3, shuffle=True, random_state=17)"
   ]
  },
  {
   "cell_type": "markdown",
   "metadata": {},
   "source": [
    "С помощью LogisticRegressionCV подобрали параметр C для LogisticRegression."
   ]
  },
  {
   "cell_type": "code",
   "execution_count": 20,
   "metadata": {},
   "outputs": [],
   "source": [
    "from sklearn.linear_model import LogisticRegression, LogisticRegressionCV"
   ]
  },
  {
   "cell_type": "code",
   "execution_count": 21,
   "metadata": {},
   "outputs": [
    {
     "name": "stdout",
     "output_type": "stream",
     "text": [
      "Wall time: 5min 45s\n"
     ]
    },
    {
     "data": {
      "text/plain": [
       "LogisticRegressionCV(Cs=array([0.1       , 0.14736842, 0.19473684, 0.24210526, 0.28947368,\n",
       "       0.33684211, 0.38421053, 0.43157895, 0.47894737, 0.52631579,\n",
       "       0.57368421, 0.62105263, 0.66842105, 0.71578947, 0.76315789,\n",
       "       0.81052632, 0.85789474, 0.90526316, 0.95263158, 1.        ]),\n",
       "                     class_weight=None, cv='warn', dual=False,\n",
       "                     fit_intercept=True, intercept_scaling=1.0, l1_ratios=None,\n",
       "                     max_iter=100, multi_class='multinomial', n_jobs=None,\n",
       "                     penalty='l2', random_state=17, refit=True, scoring=None,\n",
       "                     solver='lbfgs', tol=0.0001, verbose=0)"
      ]
     },
     "execution_count": 21,
     "metadata": {},
     "output_type": "execute_result"
    }
   ],
   "source": [
    "%%time\n",
    "logit_c_values2 = np.linspace(0.1, 1, 20)\n",
    "\n",
    "logit_grid_searcher2 = LogisticRegressionCV(logit_c_values2, multi_class='multinomial', random_state=17)#### ''' ВАШ КОД ЗДЕСЬ ''' \n",
    "logit_grid_searcher2.fit(X_train, y_train)"
   ]
  },
  {
   "cell_type": "code",
   "execution_count": 22,
   "metadata": {},
   "outputs": [],
   "source": [
    "logit_scores_2 = logit_grid_searcher2.scores_.items()\n",
    "logit_scores_2 = list(logit_scores_2)\n",
    "X_logit_scores_2 = []\n",
    "\n",
    "for i in range(len(logit_scores_2)):\n",
    "    for k in range(3):\n",
    "        X_logit_scores_2.append(list(logit_scores_2[i][1][k]))\n",
    "X_logit_scores_2 = np.array(X_logit_scores_2)"
   ]
  },
  {
   "cell_type": "code",
   "execution_count": 23,
   "metadata": {},
   "outputs": [],
   "source": [
    "logit_mean_cv_scores2 = np.mean( X_logit_scores_2, axis = 0)"
   ]
  },
  {
   "cell_type": "code",
   "execution_count": 24,
   "metadata": {},
   "outputs": [
    {
     "data": {
      "text/plain": [
       "array([0.78348132, 0.79039007, 0.79323455, 0.79496006, 0.79638298,\n",
       "       0.79607733, 0.79648352, 0.79668742, 0.79678892, 0.79628123,\n",
       "       0.79658765, 0.79689256, 0.79668906, 0.79689207, 0.79648528,\n",
       "       0.79648488, 0.79617991, 0.79628135, 0.79648436, 0.79628163])"
      ]
     },
     "execution_count": 24,
     "metadata": {},
     "output_type": "execute_result"
    }
   ],
   "source": [
    "logit_mean_cv_scores2"
   ]
  },
  {
   "cell_type": "code",
   "execution_count": 25,
   "metadata": {},
   "outputs": [
    {
     "name": "stdout",
     "output_type": "stream",
     "text": [
      "The best С = 0.6210526315789474\n"
     ]
    }
   ],
   "source": [
    "print('The best С =', logit_c_values2[np.argmax(logit_mean_cv_scores2)])"
   ]
  },
  {
   "cell_type": "markdown",
   "metadata": {},
   "source": [
    "Кривая валидации по параметру С"
   ]
  },
  {
   "cell_type": "code",
   "execution_count": 26,
   "metadata": {},
   "outputs": [
    {
     "data": {
      "image/png": "[encoded data removed]",
      "text/plain": [
       "<Figure size 432x288 with 1 Axes>"
      ]
     },
     "metadata": {
      "needs_background": "light"
     },
     "output_type": "display_data"
    }
   ],
   "source": [
    "plt.plot(logit_c_values2, logit_mean_cv_scores2);"
   ]
  },
  {
   "cell_type": "markdown",
   "metadata": {},
   "source": [
    "Доля правильных ответов на кросс-валидации для логистической регрессии (LogisticRegression) с лучшим параметром C"
   ]
  },
  {
   "cell_type": "code",
   "execution_count": 27,
   "metadata": {},
   "outputs": [],
   "source": [
    "logit_c = LogisticRegression(random_state=17, C= logit_c_values2[np.argmax(logit_mean_cv_scores2)])"
   ]
  },
  {
   "cell_type": "code",
   "execution_count": 28,
   "metadata": {},
   "outputs": [],
   "source": [
    "results_logit = cross_val_score(logit_c, X_train, y_train, cv=skf) "
   ]
  },
  {
   "cell_type": "code",
   "execution_count": 29,
   "metadata": {},
   "outputs": [
    {
     "name": "stdout",
     "output_type": "stream",
     "text": [
      "cross_val_score =  [0.80913242 0.80878317 0.79987797]\n",
      "mean of cross_val_score =  0.8059311866884037\n"
     ]
    }
   ],
   "source": [
    "print(\"cross_val_score = \", results_logit)\n",
    "print('mean of cross_val_score = ', results_logit.mean())"
   ]
  },
  {
   "cell_type": "markdown",
   "metadata": {},
   "source": [
    "Обучили логистическую регрессию (LogisticRegression) с лучшим параметром C и нашли её точность."
   ]
  },
  {
   "cell_type": "code",
   "execution_count": 30,
   "metadata": {},
   "outputs": [
    {
     "data": {
      "text/plain": [
       "LogisticRegression(C=0.6210526315789474, class_weight=None, dual=False,\n",
       "                   fit_intercept=True, intercept_scaling=1, l1_ratio=None,\n",
       "                   max_iter=100, multi_class='warn', n_jobs=None, penalty='l2',\n",
       "                   random_state=17, solver='warn', tol=0.0001, verbose=0,\n",
       "                   warm_start=False)"
      ]
     },
     "execution_count": 30,
     "metadata": {},
     "output_type": "execute_result"
    }
   ],
   "source": [
    "logit_c.fit(X_train, y_train)"
   ]
  },
  {
   "cell_type": "code",
   "execution_count": 31,
   "metadata": {},
   "outputs": [],
   "source": [
    "logit_c_cv_acc = accuracy_score(y_valid, logit_c.predict(X_valid))"
   ]
  },
  {
   "cell_type": "code",
   "execution_count": 32,
   "metadata": {},
   "outputs": [
    {
     "name": "stdout",
     "output_type": "stream",
     "text": [
      "точность равна  0.8170182507703247\n"
     ]
    }
   ],
   "source": [
    "print(\"точность равна \", logit_c_cv_acc )"
   ]
  },
  {
   "cell_type": "code",
   "execution_count": null,
   "metadata": {},
   "outputs": [],
   "source": []
  },
  {
   "cell_type": "markdown",
   "metadata": {},
   "source": [
    "С помощью GridSearchCV подобрали параметр C для SVM"
   ]
  },
  {
   "cell_type": "code",
   "execution_count": 33,
   "metadata": {},
   "outputs": [],
   "source": [
    "from sklearn.svm import LinearSVC"
   ]
  },
  {
   "cell_type": "code",
   "execution_count": 34,
   "metadata": {},
   "outputs": [],
   "source": [
    "svm = LinearSVC(random_state=17, C= 1)"
   ]
  },
  {
   "cell_type": "code",
   "execution_count": 35,
   "metadata": {},
   "outputs": [
    {
     "name": "stdout",
     "output_type": "stream",
     "text": [
      "Wall time: 7min 55s\n"
     ]
    },
    {
     "data": {
      "text/plain": [
       "GridSearchCV(cv='warn', error_score='raise-deprecating',\n",
       "             estimator=LinearSVC(C=1, class_weight=None, dual=True,\n",
       "                                 fit_intercept=True, intercept_scaling=1,\n",
       "                                 loss='squared_hinge', max_iter=1000,\n",
       "                                 multi_class='ovr', penalty='l2',\n",
       "                                 random_state=17, tol=0.0001, verbose=0),\n",
       "             iid='warn', n_jobs=None,\n",
       "             param_grid={'C': array([0.001     , 0.00613793, 0.01127586, 0.01641379, 0.02155172,\n",
       "       0.02668966, 0.03182759, 0.03696552, 0.04210345, 0.04724138,\n",
       "       0.05237931, 0.05751724, 0.06265517, 0.0677931 , 0.07293103,\n",
       "       0.07806897, 0.0832069 , 0.08834483, 0.09348276, 0.09862069,\n",
       "       0.10375862, 0.10889655, 0.11403448, 0.11917241, 0.12431034,\n",
       "       0.12944828, 0.13458621, 0.13972414, 0.14486207, 0.15      ])},\n",
       "             pre_dispatch='2*n_jobs', refit=True, return_train_score=False,\n",
       "             scoring=None, verbose=0)"
      ]
     },
     "execution_count": 35,
     "metadata": {},
     "output_type": "execute_result"
    }
   ],
   "source": [
    "%%time\n",
    "svm_params2 = {'C': np.linspace(1e-3, 0.15, 30)}\n",
    "\n",
    "svm_grid_searcher2 = GridSearchCV(svm, svm_params2)  ####''' ВАШ КОД ЗДЕСЬ '''\n",
    "svm_grid_searcher2.fit(X_train, y_train)"
   ]
  },
  {
   "cell_type": "code",
   "execution_count": 36,
   "metadata": {},
   "outputs": [
    {
     "data": {
      "text/plain": [
       "LinearSVC(C=0.0626551724137931, class_weight=None, dual=True,\n",
       "          fit_intercept=True, intercept_scaling=1, loss='squared_hinge',\n",
       "          max_iter=1000, multi_class='ovr', penalty='l2', random_state=17,\n",
       "          tol=0.0001, verbose=0)"
      ]
     },
     "execution_count": 36,
     "metadata": {},
     "output_type": "execute_result"
    }
   ],
   "source": [
    "svm_grid_searcher2.best_estimator_"
   ]
  },
  {
   "cell_type": "code",
   "execution_count": 37,
   "metadata": {},
   "outputs": [
    {
     "name": "stdout",
     "output_type": "stream",
     "text": [
      "The best C = 0.0626551724137931\n"
     ]
    }
   ],
   "source": [
    "print(\"The best C =\", svm_grid_searcher2.best_params_['C'] )"
   ]
  },
  {
   "cell_type": "markdown",
   "metadata": {},
   "source": [
    "Кривая валидации по параметру С"
   ]
  },
  {
   "cell_type": "code",
   "execution_count": 38,
   "metadata": {},
   "outputs": [
    {
     "data": {
      "text/plain": [
       "[<matplotlib.lines.Line2D at 0x26bfa4a5948>]"
      ]
     },
     "execution_count": 38,
     "metadata": {},
     "output_type": "execute_result"
    },
    {
     "data": {
      "image/png": "[encoded data removed]",
      "text/plain": [
       "<Figure size 432x288 with 1 Axes>"
      ]
     },
     "metadata": {
      "needs_background": "light"
     },
     "output_type": "display_data"
    }
   ],
   "source": [
    "plt.plot(svm_params2['C'],svm_grid_searcher2.cv_results_['mean_test_score'])"
   ]
  },
  {
   "cell_type": "markdown",
   "metadata": {},
   "source": [
    "Доля правильных ответов на кросс-валидации для логистической регрессии (LogisticRegression) с лучшим параметром C"
   ]
  },
  {
   "cell_type": "code",
   "execution_count": 40,
   "metadata": {},
   "outputs": [],
   "source": [
    "svm_2 = LinearSVC(random_state=17, C= svm_grid_searcher2.best_params_['C'])"
   ]
  },
  {
   "cell_type": "code",
   "execution_count": 41,
   "metadata": {},
   "outputs": [],
   "source": [
    "results_svm = cross_val_score(svm_2, X_train, y_train, cv=skf) "
   ]
  },
  {
   "cell_type": "code",
   "execution_count": 42,
   "metadata": {},
   "outputs": [
    {
     "name": "stdout",
     "output_type": "stream",
     "text": [
      "cross_val_score =  [0.81339422 0.81183288 0.80506406]\n",
      "mean of cross_val_score =  0.8100970518213529\n"
     ]
    }
   ],
   "source": [
    "print(\"cross_val_score = \", results_svm)\n",
    "print('mean of cross_val_score = ', results_svm.mean())"
   ]
  },
  {
   "cell_type": "markdown",
   "metadata": {},
   "source": [
    "Обучили LinearSVC с лучшим параметром C и нашли её точность."
   ]
  },
  {
   "cell_type": "code",
   "execution_count": 43,
   "metadata": {},
   "outputs": [],
   "source": [
    "svm_2.fit(X_train, y_train)\n",
    "pred_svm_2 = svm_2.predict(X_valid)"
   ]
  },
  {
   "cell_type": "code",
   "execution_count": 44,
   "metadata": {},
   "outputs": [],
   "source": [
    "svm_cv_acc =  accuracy_score(y_valid, pred_svm_2 ) "
   ]
  },
  {
   "cell_type": "code",
   "execution_count": 45,
   "metadata": {},
   "outputs": [
    {
     "data": {
      "text/plain": [
       "0.8219957335861579"
      ]
     },
     "execution_count": 45,
     "metadata": {},
     "output_type": "execute_result"
    }
   ],
   "source": [
    "svm_cv_acc"
   ]
  },
  {
   "cell_type": "code",
   "execution_count": null,
   "metadata": {},
   "outputs": [],
   "source": []
  },
  {
   "cell_type": "markdown",
   "metadata": {},
   "source": [
    "Создали объект sklearn.linear_model.SGDClassifier с логистической функцией потерь и обучили модель."
   ]
  },
  {
   "cell_type": "code",
   "execution_count": 46,
   "metadata": {},
   "outputs": [],
   "source": [
    "from sklearn.linear_model import SGDClassifier"
   ]
  },
  {
   "cell_type": "code",
   "execution_count": 47,
   "metadata": {},
   "outputs": [
    {
     "data": {
      "text/plain": [
       "SGDClassifier(alpha=0.0001, average=False, class_weight=None,\n",
       "              early_stopping=False, epsilon=0.1, eta0=0.0, fit_intercept=True,\n",
       "              l1_ratio=0.15, learning_rate='optimal', loss='log', max_iter=1000,\n",
       "              n_iter_no_change=5, n_jobs=-1, penalty='l2', power_t=0.5,\n",
       "              random_state=17, shuffle=True, tol=0.001, validation_fraction=0.1,\n",
       "              verbose=0, warm_start=False)"
      ]
     },
     "execution_count": 47,
     "metadata": {},
     "output_type": "execute_result"
    }
   ],
   "source": [
    "sgd_logit = SGDClassifier(loss='log', n_jobs=-1, random_state=17)       \n",
    "sgd_logit.fit(X_train, y_train) "
   ]
  },
  {
   "cell_type": "code",
   "execution_count": 48,
   "metadata": {},
   "outputs": [],
   "source": [
    "sgd_logit_valid_pred = sgd_logit.predict(X_valid)"
   ]
  },
  {
   "cell_type": "code",
   "execution_count": 49,
   "metadata": {},
   "outputs": [],
   "source": [
    "sgd_logit_acc =  accuracy_score(y_valid, sgd_logit_valid_pred ) "
   ]
  },
  {
   "cell_type": "code",
   "execution_count": 50,
   "metadata": {},
   "outputs": [
    {
     "data": {
      "text/plain": [
       "0.8061151931737378"
      ]
     },
     "execution_count": 50,
     "metadata": {},
     "output_type": "execute_result"
    }
   ],
   "source": [
    "sgd_logit_acc"
   ]
  },
  {
   "cell_type": "code",
   "execution_count": null,
   "metadata": {},
   "outputs": [],
   "source": []
  },
  {
   "cell_type": "code",
   "execution_count": null,
   "metadata": {},
   "outputs": [],
   "source": []
  },
  {
   "cell_type": "code",
   "execution_count": 51,
   "metadata": {},
   "outputs": [],
   "source": [
    "train_df = pd.read_csv(os.path.join(PATH_TO_DATA, 'train_sessions.csv'),\n",
    "                       index_col='session_id')\n",
    "test_df = pd.read_csv(os.path.join(PATH_TO_DATA, 'test_sessions.csv'),\n",
    "                      index_col='session_id')"
   ]
  },
  {
   "cell_type": "code",
   "execution_count": 52,
   "metadata": {},
   "outputs": [
    {
     "data": {
      "text/html": [
       "<div>\n",
       "<style scoped>\n",
       "    .dataframe tbody tr th:only-of-type {\n",
       "        vertical-align: middle;\n",
       "    }\n",
       "\n",
       "    .dataframe tbody tr th {\n",
       "        vertical-align: top;\n",
       "    }\n",
       "\n",
       "    .dataframe thead th {\n",
       "        text-align: right;\n",
       "    }\n",
       "</style>\n",
       "<table border=\"1\" class=\"dataframe\">\n",
       "  <thead>\n",
       "    <tr style=\"text-align: right;\">\n",
       "      <th></th>\n",
       "      <th>site1</th>\n",
       "      <th>time1</th>\n",
       "      <th>site2</th>\n",
       "      <th>time2</th>\n",
       "      <th>site3</th>\n",
       "      <th>time3</th>\n",
       "      <th>site4</th>\n",
       "      <th>time4</th>\n",
       "      <th>site5</th>\n",
       "      <th>time5</th>\n",
       "      <th>site6</th>\n",
       "      <th>time6</th>\n",
       "      <th>site7</th>\n",
       "      <th>time7</th>\n",
       "      <th>site8</th>\n",
       "      <th>time8</th>\n",
       "      <th>site9</th>\n",
       "      <th>time9</th>\n",
       "      <th>site10</th>\n",
       "      <th>time10</th>\n",
       "      <th>target</th>\n",
       "    </tr>\n",
       "    <tr>\n",
       "      <th>session_id</th>\n",
       "      <th></th>\n",
       "      <th></th>\n",
       "      <th></th>\n",
       "      <th></th>\n",
       "      <th></th>\n",
       "      <th></th>\n",
       "      <th></th>\n",
       "      <th></th>\n",
       "      <th></th>\n",
       "      <th></th>\n",
       "      <th></th>\n",
       "      <th></th>\n",
       "      <th></th>\n",
       "      <th></th>\n",
       "      <th></th>\n",
       "      <th></th>\n",
       "      <th></th>\n",
       "      <th></th>\n",
       "      <th></th>\n",
       "      <th></th>\n",
       "      <th></th>\n",
       "    </tr>\n",
       "  </thead>\n",
       "  <tbody>\n",
       "    <tr>\n",
       "      <td>1</td>\n",
       "      <td>718</td>\n",
       "      <td>2014-02-20 10:02:45</td>\n",
       "      <td>NaN</td>\n",
       "      <td>NaN</td>\n",
       "      <td>NaN</td>\n",
       "      <td>NaN</td>\n",
       "      <td>NaN</td>\n",
       "      <td>NaN</td>\n",
       "      <td>NaN</td>\n",
       "      <td>NaN</td>\n",
       "      <td>NaN</td>\n",
       "      <td>NaN</td>\n",
       "      <td>NaN</td>\n",
       "      <td>NaN</td>\n",
       "      <td>NaN</td>\n",
       "      <td>NaN</td>\n",
       "      <td>NaN</td>\n",
       "      <td>NaN</td>\n",
       "      <td>NaN</td>\n",
       "      <td>NaN</td>\n",
       "      <td>0</td>\n",
       "    </tr>\n",
       "    <tr>\n",
       "      <td>2</td>\n",
       "      <td>890</td>\n",
       "      <td>2014-02-22 11:19:50</td>\n",
       "      <td>941.0</td>\n",
       "      <td>2014-02-22 11:19:50</td>\n",
       "      <td>3847.0</td>\n",
       "      <td>2014-02-22 11:19:51</td>\n",
       "      <td>941.0</td>\n",
       "      <td>2014-02-22 11:19:51</td>\n",
       "      <td>942.0</td>\n",
       "      <td>2014-02-22 11:19:51</td>\n",
       "      <td>3846.0</td>\n",
       "      <td>2014-02-22 11:19:51</td>\n",
       "      <td>3847.0</td>\n",
       "      <td>2014-02-22 11:19:52</td>\n",
       "      <td>3846.0</td>\n",
       "      <td>2014-02-22 11:19:52</td>\n",
       "      <td>1516.0</td>\n",
       "      <td>2014-02-22 11:20:15</td>\n",
       "      <td>1518.0</td>\n",
       "      <td>2014-02-22 11:20:16</td>\n",
       "      <td>0</td>\n",
       "    </tr>\n",
       "    <tr>\n",
       "      <td>3</td>\n",
       "      <td>14769</td>\n",
       "      <td>2013-12-16 16:40:17</td>\n",
       "      <td>39.0</td>\n",
       "      <td>2013-12-16 16:40:18</td>\n",
       "      <td>14768.0</td>\n",
       "      <td>2013-12-16 16:40:19</td>\n",
       "      <td>14769.0</td>\n",
       "      <td>2013-12-16 16:40:19</td>\n",
       "      <td>37.0</td>\n",
       "      <td>2013-12-16 16:40:19</td>\n",
       "      <td>39.0</td>\n",
       "      <td>2013-12-16 16:40:19</td>\n",
       "      <td>14768.0</td>\n",
       "      <td>2013-12-16 16:40:20</td>\n",
       "      <td>14768.0</td>\n",
       "      <td>2013-12-16 16:40:21</td>\n",
       "      <td>14768.0</td>\n",
       "      <td>2013-12-16 16:40:22</td>\n",
       "      <td>14768.0</td>\n",
       "      <td>2013-12-16 16:40:24</td>\n",
       "      <td>0</td>\n",
       "    </tr>\n",
       "    <tr>\n",
       "      <td>4</td>\n",
       "      <td>782</td>\n",
       "      <td>2014-03-28 10:52:12</td>\n",
       "      <td>782.0</td>\n",
       "      <td>2014-03-28 10:52:42</td>\n",
       "      <td>782.0</td>\n",
       "      <td>2014-03-28 10:53:12</td>\n",
       "      <td>782.0</td>\n",
       "      <td>2014-03-28 10:53:42</td>\n",
       "      <td>782.0</td>\n",
       "      <td>2014-03-28 10:54:12</td>\n",
       "      <td>782.0</td>\n",
       "      <td>2014-03-28 10:54:42</td>\n",
       "      <td>782.0</td>\n",
       "      <td>2014-03-28 10:55:12</td>\n",
       "      <td>782.0</td>\n",
       "      <td>2014-03-28 10:55:42</td>\n",
       "      <td>782.0</td>\n",
       "      <td>2014-03-28 10:56:12</td>\n",
       "      <td>782.0</td>\n",
       "      <td>2014-03-28 10:56:42</td>\n",
       "      <td>0</td>\n",
       "    </tr>\n",
       "    <tr>\n",
       "      <td>5</td>\n",
       "      <td>22</td>\n",
       "      <td>2014-02-28 10:53:05</td>\n",
       "      <td>177.0</td>\n",
       "      <td>2014-02-28 10:55:22</td>\n",
       "      <td>175.0</td>\n",
       "      <td>2014-02-28 10:55:22</td>\n",
       "      <td>178.0</td>\n",
       "      <td>2014-02-28 10:55:23</td>\n",
       "      <td>177.0</td>\n",
       "      <td>2014-02-28 10:55:23</td>\n",
       "      <td>178.0</td>\n",
       "      <td>2014-02-28 10:55:59</td>\n",
       "      <td>175.0</td>\n",
       "      <td>2014-02-28 10:55:59</td>\n",
       "      <td>177.0</td>\n",
       "      <td>2014-02-28 10:55:59</td>\n",
       "      <td>177.0</td>\n",
       "      <td>2014-02-28 10:57:06</td>\n",
       "      <td>178.0</td>\n",
       "      <td>2014-02-28 10:57:11</td>\n",
       "      <td>0</td>\n",
       "    </tr>\n",
       "    <tr>\n",
       "      <td>...</td>\n",
       "      <td>...</td>\n",
       "      <td>...</td>\n",
       "      <td>...</td>\n",
       "      <td>...</td>\n",
       "      <td>...</td>\n",
       "      <td>...</td>\n",
       "      <td>...</td>\n",
       "      <td>...</td>\n",
       "      <td>...</td>\n",
       "      <td>...</td>\n",
       "      <td>...</td>\n",
       "      <td>...</td>\n",
       "      <td>...</td>\n",
       "      <td>...</td>\n",
       "      <td>...</td>\n",
       "      <td>...</td>\n",
       "      <td>...</td>\n",
       "      <td>...</td>\n",
       "      <td>...</td>\n",
       "      <td>...</td>\n",
       "      <td>...</td>\n",
       "    </tr>\n",
       "    <tr>\n",
       "      <td>253557</td>\n",
       "      <td>3474</td>\n",
       "      <td>2013-11-25 10:26:54</td>\n",
       "      <td>3474.0</td>\n",
       "      <td>2013-11-25 10:26:58</td>\n",
       "      <td>141.0</td>\n",
       "      <td>2013-11-25 10:27:03</td>\n",
       "      <td>2428.0</td>\n",
       "      <td>2013-11-25 10:27:04</td>\n",
       "      <td>106.0</td>\n",
       "      <td>2013-11-25 10:27:13</td>\n",
       "      <td>2428.0</td>\n",
       "      <td>2013-11-25 10:27:16</td>\n",
       "      <td>2428.0</td>\n",
       "      <td>2013-11-25 10:27:28</td>\n",
       "      <td>2428.0</td>\n",
       "      <td>2013-11-25 10:27:40</td>\n",
       "      <td>2428.0</td>\n",
       "      <td>2013-11-25 10:27:52</td>\n",
       "      <td>148.0</td>\n",
       "      <td>2013-11-25 10:27:53</td>\n",
       "      <td>0</td>\n",
       "    </tr>\n",
       "    <tr>\n",
       "      <td>253558</td>\n",
       "      <td>12727</td>\n",
       "      <td>2013-03-12 16:01:15</td>\n",
       "      <td>12727.0</td>\n",
       "      <td>2013-03-12 16:01:16</td>\n",
       "      <td>2215.0</td>\n",
       "      <td>2013-03-12 16:01:16</td>\n",
       "      <td>38.0</td>\n",
       "      <td>2013-03-12 16:01:17</td>\n",
       "      <td>2215.0</td>\n",
       "      <td>2013-03-12 16:01:17</td>\n",
       "      <td>23.0</td>\n",
       "      <td>2013-03-12 16:01:17</td>\n",
       "      <td>25444.0</td>\n",
       "      <td>2013-03-12 16:01:18</td>\n",
       "      <td>2215.0</td>\n",
       "      <td>2013-03-12 16:01:18</td>\n",
       "      <td>23.0</td>\n",
       "      <td>2013-03-12 16:01:18</td>\n",
       "      <td>21.0</td>\n",
       "      <td>2013-03-12 16:01:18</td>\n",
       "      <td>0</td>\n",
       "    </tr>\n",
       "    <tr>\n",
       "      <td>253559</td>\n",
       "      <td>2661</td>\n",
       "      <td>2013-09-12 14:05:03</td>\n",
       "      <td>15004.0</td>\n",
       "      <td>2013-09-12 14:05:10</td>\n",
       "      <td>5562.0</td>\n",
       "      <td>2013-09-12 14:05:10</td>\n",
       "      <td>5562.0</td>\n",
       "      <td>2013-09-12 14:06:29</td>\n",
       "      <td>5562.0</td>\n",
       "      <td>2013-09-12 14:06:30</td>\n",
       "      <td>NaN</td>\n",
       "      <td>NaN</td>\n",
       "      <td>NaN</td>\n",
       "      <td>NaN</td>\n",
       "      <td>NaN</td>\n",
       "      <td>NaN</td>\n",
       "      <td>NaN</td>\n",
       "      <td>NaN</td>\n",
       "      <td>NaN</td>\n",
       "      <td>NaN</td>\n",
       "      <td>0</td>\n",
       "    </tr>\n",
       "    <tr>\n",
       "      <td>253560</td>\n",
       "      <td>812</td>\n",
       "      <td>2013-12-19 15:20:22</td>\n",
       "      <td>676.0</td>\n",
       "      <td>2013-12-19 15:20:22</td>\n",
       "      <td>814.0</td>\n",
       "      <td>2013-12-19 15:20:22</td>\n",
       "      <td>22.0</td>\n",
       "      <td>2013-12-19 15:20:22</td>\n",
       "      <td>39.0</td>\n",
       "      <td>2013-12-19 15:20:22</td>\n",
       "      <td>812.0</td>\n",
       "      <td>2013-12-19 15:20:23</td>\n",
       "      <td>814.0</td>\n",
       "      <td>2013-12-19 15:20:23</td>\n",
       "      <td>570.0</td>\n",
       "      <td>2013-12-19 15:20:23</td>\n",
       "      <td>22.0</td>\n",
       "      <td>2013-12-19 15:20:24</td>\n",
       "      <td>570.0</td>\n",
       "      <td>2013-12-19 15:20:24</td>\n",
       "      <td>0</td>\n",
       "    </tr>\n",
       "    <tr>\n",
       "      <td>253561</td>\n",
       "      <td>34942</td>\n",
       "      <td>2014-04-25 09:56:52</td>\n",
       "      <td>1429.0</td>\n",
       "      <td>2014-04-25 09:56:53</td>\n",
       "      <td>34942.0</td>\n",
       "      <td>2014-04-25 09:56:53</td>\n",
       "      <td>29.0</td>\n",
       "      <td>2014-04-25 09:56:54</td>\n",
       "      <td>30.0</td>\n",
       "      <td>2014-04-25 09:56:54</td>\n",
       "      <td>34942.0</td>\n",
       "      <td>2014-04-25 09:56:54</td>\n",
       "      <td>5779.0</td>\n",
       "      <td>2014-04-25 09:56:54</td>\n",
       "      <td>30.0</td>\n",
       "      <td>2014-04-25 09:56:55</td>\n",
       "      <td>35.0</td>\n",
       "      <td>2014-04-25 09:56:55</td>\n",
       "      <td>33.0</td>\n",
       "      <td>2014-04-25 09:56:55</td>\n",
       "      <td>0</td>\n",
       "    </tr>\n",
       "  </tbody>\n",
       "</table>\n",
       "<p>253561 rows × 21 columns</p>\n",
       "</div>"
      ],
      "text/plain": [
       "            site1                time1    site2                time2    site3  \\\n",
       "session_id                                                                      \n",
       "1             718  2014-02-20 10:02:45      NaN                  NaN      NaN   \n",
       "2             890  2014-02-22 11:19:50    941.0  2014-02-22 11:19:50   3847.0   \n",
       "3           14769  2013-12-16 16:40:17     39.0  2013-12-16 16:40:18  14768.0   \n",
       "4             782  2014-03-28 10:52:12    782.0  2014-03-28 10:52:42    782.0   \n",
       "5              22  2014-02-28 10:53:05    177.0  2014-02-28 10:55:22    175.0   \n",
       "...           ...                  ...      ...                  ...      ...   \n",
       "253557       3474  2013-11-25 10:26:54   3474.0  2013-11-25 10:26:58    141.0   \n",
       "253558      12727  2013-03-12 16:01:15  12727.0  2013-03-12 16:01:16   2215.0   \n",
       "253559       2661  2013-09-12 14:05:03  15004.0  2013-09-12 14:05:10   5562.0   \n",
       "253560        812  2013-12-19 15:20:22    676.0  2013-12-19 15:20:22    814.0   \n",
       "253561      34942  2014-04-25 09:56:52   1429.0  2014-04-25 09:56:53  34942.0   \n",
       "\n",
       "                          time3    site4                time4   site5  \\\n",
       "session_id                                                              \n",
       "1                           NaN      NaN                  NaN     NaN   \n",
       "2           2014-02-22 11:19:51    941.0  2014-02-22 11:19:51   942.0   \n",
       "3           2013-12-16 16:40:19  14769.0  2013-12-16 16:40:19    37.0   \n",
       "4           2014-03-28 10:53:12    782.0  2014-03-28 10:53:42   782.0   \n",
       "5           2014-02-28 10:55:22    178.0  2014-02-28 10:55:23   177.0   \n",
       "...                         ...      ...                  ...     ...   \n",
       "253557      2013-11-25 10:27:03   2428.0  2013-11-25 10:27:04   106.0   \n",
       "253558      2013-03-12 16:01:16     38.0  2013-03-12 16:01:17  2215.0   \n",
       "253559      2013-09-12 14:05:10   5562.0  2013-09-12 14:06:29  5562.0   \n",
       "253560      2013-12-19 15:20:22     22.0  2013-12-19 15:20:22    39.0   \n",
       "253561      2014-04-25 09:56:53     29.0  2014-04-25 09:56:54    30.0   \n",
       "\n",
       "                          time5    site6                time6    site7  \\\n",
       "session_id                                                               \n",
       "1                           NaN      NaN                  NaN      NaN   \n",
       "2           2014-02-22 11:19:51   3846.0  2014-02-22 11:19:51   3847.0   \n",
       "3           2013-12-16 16:40:19     39.0  2013-12-16 16:40:19  14768.0   \n",
       "4           2014-03-28 10:54:12    782.0  2014-03-28 10:54:42    782.0   \n",
       "5           2014-02-28 10:55:23    178.0  2014-02-28 10:55:59    175.0   \n",
       "...                         ...      ...                  ...      ...   \n",
       "253557      2013-11-25 10:27:13   2428.0  2013-11-25 10:27:16   2428.0   \n",
       "253558      2013-03-12 16:01:17     23.0  2013-03-12 16:01:17  25444.0   \n",
       "253559      2013-09-12 14:06:30      NaN                  NaN      NaN   \n",
       "253560      2013-12-19 15:20:22    812.0  2013-12-19 15:20:23    814.0   \n",
       "253561      2014-04-25 09:56:54  34942.0  2014-04-25 09:56:54   5779.0   \n",
       "\n",
       "                          time7    site8                time8    site9  \\\n",
       "session_id                                                               \n",
       "1                           NaN      NaN                  NaN      NaN   \n",
       "2           2014-02-22 11:19:52   3846.0  2014-02-22 11:19:52   1516.0   \n",
       "3           2013-12-16 16:40:20  14768.0  2013-12-16 16:40:21  14768.0   \n",
       "4           2014-03-28 10:55:12    782.0  2014-03-28 10:55:42    782.0   \n",
       "5           2014-02-28 10:55:59    177.0  2014-02-28 10:55:59    177.0   \n",
       "...                         ...      ...                  ...      ...   \n",
       "253557      2013-11-25 10:27:28   2428.0  2013-11-25 10:27:40   2428.0   \n",
       "253558      2013-03-12 16:01:18   2215.0  2013-03-12 16:01:18     23.0   \n",
       "253559                      NaN      NaN                  NaN      NaN   \n",
       "253560      2013-12-19 15:20:23    570.0  2013-12-19 15:20:23     22.0   \n",
       "253561      2014-04-25 09:56:54     30.0  2014-04-25 09:56:55     35.0   \n",
       "\n",
       "                          time9   site10               time10  target  \n",
       "session_id                                                             \n",
       "1                           NaN      NaN                  NaN       0  \n",
       "2           2014-02-22 11:20:15   1518.0  2014-02-22 11:20:16       0  \n",
       "3           2013-12-16 16:40:22  14768.0  2013-12-16 16:40:24       0  \n",
       "4           2014-03-28 10:56:12    782.0  2014-03-28 10:56:42       0  \n",
       "5           2014-02-28 10:57:06    178.0  2014-02-28 10:57:11       0  \n",
       "...                         ...      ...                  ...     ...  \n",
       "253557      2013-11-25 10:27:52    148.0  2013-11-25 10:27:53       0  \n",
       "253558      2013-03-12 16:01:18     21.0  2013-03-12 16:01:18       0  \n",
       "253559                      NaN      NaN                  NaN       0  \n",
       "253560      2013-12-19 15:20:24    570.0  2013-12-19 15:20:24       0  \n",
       "253561      2014-04-25 09:56:55     33.0  2014-04-25 09:56:55       0  \n",
       "\n",
       "[253561 rows x 21 columns]"
      ]
     },
     "execution_count": 52,
     "metadata": {},
     "output_type": "execute_result"
    }
   ],
   "source": [
    "train_df"
   ]
  },
  {
   "cell_type": "code",
   "execution_count": 53,
   "metadata": {},
   "outputs": [
    {
     "data": {
      "text/plain": [
       "3"
      ]
     },
     "execution_count": 53,
     "metadata": {},
     "output_type": "execute_result"
    }
   ],
   "source": [
    "train_df.fillna(0).iloc[0,:].nunique()"
   ]
  },
  {
   "cell_type": "code",
   "execution_count": 54,
   "metadata": {},
   "outputs": [],
   "source": [
    "train_test_df = pd.concat([train_df, test_df])"
   ]
  },
  {
   "cell_type": "code",
   "execution_count": 55,
   "metadata": {},
   "outputs": [],
   "source": [
    "train_test_df_sites = train_test_df[['site%d' % i for i in range(1, 11)]].fillna(0).astype('int')"
   ]
  },
  {
   "cell_type": "code",
   "execution_count": 56,
   "metadata": {},
   "outputs": [
    {
     "data": {
      "text/html": [
       "<div>\n",
       "<style scoped>\n",
       "    .dataframe tbody tr th:only-of-type {\n",
       "        vertical-align: middle;\n",
       "    }\n",
       "\n",
       "    .dataframe tbody tr th {\n",
       "        vertical-align: top;\n",
       "    }\n",
       "\n",
       "    .dataframe thead th {\n",
       "        text-align: right;\n",
       "    }\n",
       "</style>\n",
       "<table border=\"1\" class=\"dataframe\">\n",
       "  <thead>\n",
       "    <tr style=\"text-align: right;\">\n",
       "      <th></th>\n",
       "      <th>site1</th>\n",
       "      <th>site2</th>\n",
       "      <th>site3</th>\n",
       "      <th>site4</th>\n",
       "      <th>site5</th>\n",
       "      <th>site6</th>\n",
       "      <th>site7</th>\n",
       "      <th>site8</th>\n",
       "      <th>site9</th>\n",
       "      <th>site10</th>\n",
       "    </tr>\n",
       "    <tr>\n",
       "      <th>session_id</th>\n",
       "      <th></th>\n",
       "      <th></th>\n",
       "      <th></th>\n",
       "      <th></th>\n",
       "      <th></th>\n",
       "      <th></th>\n",
       "      <th></th>\n",
       "      <th></th>\n",
       "      <th></th>\n",
       "      <th></th>\n",
       "    </tr>\n",
       "  </thead>\n",
       "  <tbody>\n",
       "    <tr>\n",
       "      <td>1</td>\n",
       "      <td>718</td>\n",
       "      <td>0</td>\n",
       "      <td>0</td>\n",
       "      <td>0</td>\n",
       "      <td>0</td>\n",
       "      <td>0</td>\n",
       "      <td>0</td>\n",
       "      <td>0</td>\n",
       "      <td>0</td>\n",
       "      <td>0</td>\n",
       "    </tr>\n",
       "    <tr>\n",
       "      <td>2</td>\n",
       "      <td>890</td>\n",
       "      <td>941</td>\n",
       "      <td>3847</td>\n",
       "      <td>941</td>\n",
       "      <td>942</td>\n",
       "      <td>3846</td>\n",
       "      <td>3847</td>\n",
       "      <td>3846</td>\n",
       "      <td>1516</td>\n",
       "      <td>1518</td>\n",
       "    </tr>\n",
       "    <tr>\n",
       "      <td>3</td>\n",
       "      <td>14769</td>\n",
       "      <td>39</td>\n",
       "      <td>14768</td>\n",
       "      <td>14769</td>\n",
       "      <td>37</td>\n",
       "      <td>39</td>\n",
       "      <td>14768</td>\n",
       "      <td>14768</td>\n",
       "      <td>14768</td>\n",
       "      <td>14768</td>\n",
       "    </tr>\n",
       "    <tr>\n",
       "      <td>4</td>\n",
       "      <td>782</td>\n",
       "      <td>782</td>\n",
       "      <td>782</td>\n",
       "      <td>782</td>\n",
       "      <td>782</td>\n",
       "      <td>782</td>\n",
       "      <td>782</td>\n",
       "      <td>782</td>\n",
       "      <td>782</td>\n",
       "      <td>782</td>\n",
       "    </tr>\n",
       "    <tr>\n",
       "      <td>5</td>\n",
       "      <td>22</td>\n",
       "      <td>177</td>\n",
       "      <td>175</td>\n",
       "      <td>178</td>\n",
       "      <td>177</td>\n",
       "      <td>178</td>\n",
       "      <td>175</td>\n",
       "      <td>177</td>\n",
       "      <td>177</td>\n",
       "      <td>178</td>\n",
       "    </tr>\n",
       "    <tr>\n",
       "      <td>...</td>\n",
       "      <td>...</td>\n",
       "      <td>...</td>\n",
       "      <td>...</td>\n",
       "      <td>...</td>\n",
       "      <td>...</td>\n",
       "      <td>...</td>\n",
       "      <td>...</td>\n",
       "      <td>...</td>\n",
       "      <td>...</td>\n",
       "      <td>...</td>\n",
       "    </tr>\n",
       "    <tr>\n",
       "      <td>82793</td>\n",
       "      <td>812</td>\n",
       "      <td>1039</td>\n",
       "      <td>676</td>\n",
       "      <td>0</td>\n",
       "      <td>0</td>\n",
       "      <td>0</td>\n",
       "      <td>0</td>\n",
       "      <td>0</td>\n",
       "      <td>0</td>\n",
       "      <td>0</td>\n",
       "    </tr>\n",
       "    <tr>\n",
       "      <td>82794</td>\n",
       "      <td>300</td>\n",
       "      <td>302</td>\n",
       "      <td>302</td>\n",
       "      <td>300</td>\n",
       "      <td>300</td>\n",
       "      <td>1222</td>\n",
       "      <td>302</td>\n",
       "      <td>1218</td>\n",
       "      <td>1221</td>\n",
       "      <td>1216</td>\n",
       "    </tr>\n",
       "    <tr>\n",
       "      <td>82795</td>\n",
       "      <td>29</td>\n",
       "      <td>33</td>\n",
       "      <td>35</td>\n",
       "      <td>22</td>\n",
       "      <td>37</td>\n",
       "      <td>6779</td>\n",
       "      <td>30</td>\n",
       "      <td>21</td>\n",
       "      <td>23</td>\n",
       "      <td>6780</td>\n",
       "    </tr>\n",
       "    <tr>\n",
       "      <td>82796</td>\n",
       "      <td>5828</td>\n",
       "      <td>23</td>\n",
       "      <td>21</td>\n",
       "      <td>804</td>\n",
       "      <td>21</td>\n",
       "      <td>3350</td>\n",
       "      <td>23</td>\n",
       "      <td>894</td>\n",
       "      <td>21</td>\n",
       "      <td>961</td>\n",
       "    </tr>\n",
       "    <tr>\n",
       "      <td>82797</td>\n",
       "      <td>21</td>\n",
       "      <td>1098</td>\n",
       "      <td>1098</td>\n",
       "      <td>1098</td>\n",
       "      <td>1098</td>\n",
       "      <td>1098</td>\n",
       "      <td>1098</td>\n",
       "      <td>1098</td>\n",
       "      <td>1098</td>\n",
       "      <td>1098</td>\n",
       "    </tr>\n",
       "  </tbody>\n",
       "</table>\n",
       "<p>336358 rows × 10 columns</p>\n",
       "</div>"
      ],
      "text/plain": [
       "            site1  site2  site3  site4  site5  site6  site7  site8  site9  \\\n",
       "session_id                                                                  \n",
       "1             718      0      0      0      0      0      0      0      0   \n",
       "2             890    941   3847    941    942   3846   3847   3846   1516   \n",
       "3           14769     39  14768  14769     37     39  14768  14768  14768   \n",
       "4             782    782    782    782    782    782    782    782    782   \n",
       "5              22    177    175    178    177    178    175    177    177   \n",
       "...           ...    ...    ...    ...    ...    ...    ...    ...    ...   \n",
       "82793         812   1039    676      0      0      0      0      0      0   \n",
       "82794         300    302    302    300    300   1222    302   1218   1221   \n",
       "82795          29     33     35     22     37   6779     30     21     23   \n",
       "82796        5828     23     21    804     21   3350     23    894     21   \n",
       "82797          21   1098   1098   1098   1098   1098   1098   1098   1098   \n",
       "\n",
       "            site10  \n",
       "session_id          \n",
       "1                0  \n",
       "2             1518  \n",
       "3            14768  \n",
       "4              782  \n",
       "5              178  \n",
       "...            ...  \n",
       "82793            0  \n",
       "82794         1216  \n",
       "82795         6780  \n",
       "82796          961  \n",
       "82797         1098  \n",
       "\n",
       "[336358 rows x 10 columns]"
      ]
     },
     "execution_count": 56,
     "metadata": {},
     "output_type": "execute_result"
    }
   ],
   "source": [
    "train_test_df_sites"
   ]
  },
  {
   "cell_type": "code",
   "execution_count": 57,
   "metadata": {},
   "outputs": [],
   "source": [
    "def time_day(x):\n",
    "    if (x>=0 and x<6):\n",
    "        return 0\n",
    "    elif (6>=0 and x<12):\n",
    "        return 1\n",
    "    elif (12>=0 and x<18):\n",
    "        return 2\n",
    "    else:\n",
    "        return 3"
   ]
  },
  {
   "cell_type": "code",
   "execution_count": 58,
   "metadata": {},
   "outputs": [],
   "source": [
    "def maxi(a):\n",
    "    if len(a)==0:\n",
    "        return 0\n",
    "    else:\n",
    "        return(np.mean(a))"
   ]
  },
  {
   "cell_type": "code",
   "execution_count": 59,
   "metadata": {},
   "outputs": [],
   "source": [
    "def weekend(a):\n",
    "\n",
    "    if (a==6 or a==7):\n",
    "        b=1\n",
    "    else:\n",
    "            b=0\n",
    "    return(b)"
   ]
  },
  {
   "cell_type": "code",
   "execution_count": 156,
   "metadata": {},
   "outputs": [],
   "source": [
    "def feature_engineering(data, features):\n",
    "    \n",
    "    X=np.zeros((data.shape[0], len(features)))\n",
    "    unique_sites = np.zeros(data.shape[0])\n",
    "    data = data.fillna(0)\n",
    "    uni_site= list(map(lambda x: np.unique(x),(data[['site%d' % i for i in range(1, 11)]].values) ))\n",
    "    b = list(map(lambda x: 0 in x,uni_site ))\n",
    "    count_uni_site=list(map(lambda x,y: len(x) - y,uni_site,b))\n",
    "    \n",
    "    dateFormatter = \"%Y-%m-%d  %H:%M:%S\"\n",
    "\n",
    "    X[:,:10] = data[['site%d' % i for i in range(1, 11)]].values\n",
    "    \n",
    "    Y=np.zeros((train_test_df.shape[0],9))\n",
    "    time= train_test_df[['time%d' % i for i in range(1, 11)]].values\n",
    "    c = list(map(lambda x: 10 - list(x).count(0),(train_test_df[['time%d' % i for i in range(1, 11)]].fillna(0).values) ))\n",
    "    time_1 = []\n",
    "    for i in range(train_test_df.shape[0]):\n",
    "        a = list(map(lambda x: datetime.strptime(x, dateFormatter), list(time[i,:c[i]])))\n",
    "        time_1.append(a[0])\n",
    "        q=(list(map(lambda x,y: (y-x).seconds, a[:-1],a[1:])))\n",
    "        Y[i,:len(q)] = q \n",
    "\n",
    "    \n",
    "    X[:,10:19] = Y\n",
    "        \n",
    "    X[:, len(features)-10] = np.sum(X[:,10:19], axis = 1)\n",
    "\n",
    "    X[:, len(features)-9] = count_uni_site\n",
    "\n",
    "    X[:, len(features)-8] =  list(map(lambda x: x.hour, time_1))\n",
    "\n",
    "    X[:, len(features)-7] =  list(map(lambda x: x.day, time_1))\n",
    "\n",
    "    X[:, len(features)-6] =  list(map(lambda x: x.month, time_1))\n",
    "\n",
    "    X[:, len(features)-5] =  list(map(lambda x: x.year, time_1))\n",
    "\n",
    "\n",
    "    X[:, len(features)-4] = list(map(lambda x: x.isoweekday() , time_1))\n",
    "    ## от 1 до 7\n",
    "    \n",
    "    X[:, len(features)-2] = np.mean(X[:,10:19], axis=1)\n",
    "\n",
    "    X[:, len(features)-3] = list(map(lambda x: time_day(x), X[:, len(features)-8]))\n",
    "    \n",
    "    X[:, len(features)-1] =  list(map(lambda x: weekend(x), X[:, len(features)-4]))\n",
    "\n",
    "\n",
    "\n",
    "    data=pd.DataFrame(X,columns=features)\n",
    "    return(data)"
   ]
  },
  {
   "cell_type": "code",
   "execution_count": 157,
   "metadata": {},
   "outputs": [],
   "source": [
    "from datetime import datetime\n",
    "from tqdm import tqdm"
   ]
  },
  {
   "cell_type": "code",
   "execution_count": 158,
   "metadata": {},
   "outputs": [],
   "source": [
    "feature_names = ['site' + str(i) for i in range(1,11)] + \\\n",
    "                ['time_diff' + str(j) for j in range(1,10)] + \\\n",
    "                ['session_timespan', '#unique_sites', 'start_hour', 'start_day', 'start_month', 'start_year',\n",
    "                 'start_day_of_week', \"time_of_day\",'mean_time','weekends']"
   ]
  },
  {
   "cell_type": "code",
   "execution_count": 159,
   "metadata": {},
   "outputs": [],
   "source": [
    "train_test_df_new = feature_engineering(train_test_df,feature_names)"
   ]
  },
  {
   "cell_type": "code",
   "execution_count": 160,
   "metadata": {},
   "outputs": [
    {
     "data": {
      "text/html": [
       "<div>\n",
       "<style scoped>\n",
       "    .dataframe tbody tr th:only-of-type {\n",
       "        vertical-align: middle;\n",
       "    }\n",
       "\n",
       "    .dataframe tbody tr th {\n",
       "        vertical-align: top;\n",
       "    }\n",
       "\n",
       "    .dataframe thead th {\n",
       "        text-align: right;\n",
       "    }\n",
       "</style>\n",
       "<table border=\"1\" class=\"dataframe\">\n",
       "  <thead>\n",
       "    <tr style=\"text-align: right;\">\n",
       "      <th></th>\n",
       "      <th>site1</th>\n",
       "      <th>site2</th>\n",
       "      <th>site3</th>\n",
       "      <th>site4</th>\n",
       "      <th>site5</th>\n",
       "      <th>site6</th>\n",
       "      <th>site7</th>\n",
       "      <th>site8</th>\n",
       "      <th>site9</th>\n",
       "      <th>site10</th>\n",
       "      <th>time_diff1</th>\n",
       "      <th>time_diff2</th>\n",
       "      <th>...</th>\n",
       "      <th>time_diff8</th>\n",
       "      <th>time_diff9</th>\n",
       "      <th>session_timespan</th>\n",
       "      <th>#unique_sites</th>\n",
       "      <th>start_hour</th>\n",
       "      <th>start_day</th>\n",
       "      <th>start_month</th>\n",
       "      <th>start_year</th>\n",
       "      <th>start_day_of_week</th>\n",
       "      <th>time_of_day</th>\n",
       "      <th>mean_time</th>\n",
       "      <th>weekends</th>\n",
       "    </tr>\n",
       "  </thead>\n",
       "  <tbody>\n",
       "    <tr>\n",
       "      <td>0</td>\n",
       "      <td>718.0</td>\n",
       "      <td>0.0</td>\n",
       "      <td>0.0</td>\n",
       "      <td>0.0</td>\n",
       "      <td>0.0</td>\n",
       "      <td>0.0</td>\n",
       "      <td>0.0</td>\n",
       "      <td>0.0</td>\n",
       "      <td>0.0</td>\n",
       "      <td>0.0</td>\n",
       "      <td>0.0</td>\n",
       "      <td>0.0</td>\n",
       "      <td>...</td>\n",
       "      <td>0.0</td>\n",
       "      <td>0.0</td>\n",
       "      <td>0.0</td>\n",
       "      <td>1.0</td>\n",
       "      <td>10.0</td>\n",
       "      <td>20.0</td>\n",
       "      <td>2.0</td>\n",
       "      <td>2014.0</td>\n",
       "      <td>4.0</td>\n",
       "      <td>1.0</td>\n",
       "      <td>0.000000</td>\n",
       "      <td>0.0</td>\n",
       "    </tr>\n",
       "    <tr>\n",
       "      <td>1</td>\n",
       "      <td>890.0</td>\n",
       "      <td>941.0</td>\n",
       "      <td>3847.0</td>\n",
       "      <td>941.0</td>\n",
       "      <td>942.0</td>\n",
       "      <td>3846.0</td>\n",
       "      <td>3847.0</td>\n",
       "      <td>3846.0</td>\n",
       "      <td>1516.0</td>\n",
       "      <td>1518.0</td>\n",
       "      <td>0.0</td>\n",
       "      <td>1.0</td>\n",
       "      <td>...</td>\n",
       "      <td>23.0</td>\n",
       "      <td>1.0</td>\n",
       "      <td>26.0</td>\n",
       "      <td>7.0</td>\n",
       "      <td>11.0</td>\n",
       "      <td>22.0</td>\n",
       "      <td>2.0</td>\n",
       "      <td>2014.0</td>\n",
       "      <td>6.0</td>\n",
       "      <td>1.0</td>\n",
       "      <td>2.888889</td>\n",
       "      <td>1.0</td>\n",
       "    </tr>\n",
       "    <tr>\n",
       "      <td>2</td>\n",
       "      <td>14769.0</td>\n",
       "      <td>39.0</td>\n",
       "      <td>14768.0</td>\n",
       "      <td>14769.0</td>\n",
       "      <td>37.0</td>\n",
       "      <td>39.0</td>\n",
       "      <td>14768.0</td>\n",
       "      <td>14768.0</td>\n",
       "      <td>14768.0</td>\n",
       "      <td>14768.0</td>\n",
       "      <td>1.0</td>\n",
       "      <td>1.0</td>\n",
       "      <td>...</td>\n",
       "      <td>1.0</td>\n",
       "      <td>2.0</td>\n",
       "      <td>7.0</td>\n",
       "      <td>4.0</td>\n",
       "      <td>16.0</td>\n",
       "      <td>16.0</td>\n",
       "      <td>12.0</td>\n",
       "      <td>2013.0</td>\n",
       "      <td>1.0</td>\n",
       "      <td>2.0</td>\n",
       "      <td>0.777778</td>\n",
       "      <td>0.0</td>\n",
       "    </tr>\n",
       "    <tr>\n",
       "      <td>3</td>\n",
       "      <td>782.0</td>\n",
       "      <td>782.0</td>\n",
       "      <td>782.0</td>\n",
       "      <td>782.0</td>\n",
       "      <td>782.0</td>\n",
       "      <td>782.0</td>\n",
       "      <td>782.0</td>\n",
       "      <td>782.0</td>\n",
       "      <td>782.0</td>\n",
       "      <td>782.0</td>\n",
       "      <td>30.0</td>\n",
       "      <td>30.0</td>\n",
       "      <td>...</td>\n",
       "      <td>30.0</td>\n",
       "      <td>30.0</td>\n",
       "      <td>270.0</td>\n",
       "      <td>1.0</td>\n",
       "      <td>10.0</td>\n",
       "      <td>28.0</td>\n",
       "      <td>3.0</td>\n",
       "      <td>2014.0</td>\n",
       "      <td>5.0</td>\n",
       "      <td>1.0</td>\n",
       "      <td>30.000000</td>\n",
       "      <td>0.0</td>\n",
       "    </tr>\n",
       "    <tr>\n",
       "      <td>4</td>\n",
       "      <td>22.0</td>\n",
       "      <td>177.0</td>\n",
       "      <td>175.0</td>\n",
       "      <td>178.0</td>\n",
       "      <td>177.0</td>\n",
       "      <td>178.0</td>\n",
       "      <td>175.0</td>\n",
       "      <td>177.0</td>\n",
       "      <td>177.0</td>\n",
       "      <td>178.0</td>\n",
       "      <td>137.0</td>\n",
       "      <td>0.0</td>\n",
       "      <td>...</td>\n",
       "      <td>67.0</td>\n",
       "      <td>5.0</td>\n",
       "      <td>246.0</td>\n",
       "      <td>4.0</td>\n",
       "      <td>10.0</td>\n",
       "      <td>28.0</td>\n",
       "      <td>2.0</td>\n",
       "      <td>2014.0</td>\n",
       "      <td>5.0</td>\n",
       "      <td>1.0</td>\n",
       "      <td>27.333333</td>\n",
       "      <td>0.0</td>\n",
       "    </tr>\n",
       "    <tr>\n",
       "      <td>...</td>\n",
       "      <td>...</td>\n",
       "      <td>...</td>\n",
       "      <td>...</td>\n",
       "      <td>...</td>\n",
       "      <td>...</td>\n",
       "      <td>...</td>\n",
       "      <td>...</td>\n",
       "      <td>...</td>\n",
       "      <td>...</td>\n",
       "      <td>...</td>\n",
       "      <td>...</td>\n",
       "      <td>...</td>\n",
       "      <td>...</td>\n",
       "      <td>...</td>\n",
       "      <td>...</td>\n",
       "      <td>...</td>\n",
       "      <td>...</td>\n",
       "      <td>...</td>\n",
       "      <td>...</td>\n",
       "      <td>...</td>\n",
       "      <td>...</td>\n",
       "      <td>...</td>\n",
       "      <td>...</td>\n",
       "      <td>...</td>\n",
       "      <td>...</td>\n",
       "    </tr>\n",
       "    <tr>\n",
       "      <td>336353</td>\n",
       "      <td>812.0</td>\n",
       "      <td>1039.0</td>\n",
       "      <td>676.0</td>\n",
       "      <td>0.0</td>\n",
       "      <td>0.0</td>\n",
       "      <td>0.0</td>\n",
       "      <td>0.0</td>\n",
       "      <td>0.0</td>\n",
       "      <td>0.0</td>\n",
       "      <td>0.0</td>\n",
       "      <td>0.0</td>\n",
       "      <td>0.0</td>\n",
       "      <td>...</td>\n",
       "      <td>0.0</td>\n",
       "      <td>0.0</td>\n",
       "      <td>0.0</td>\n",
       "      <td>3.0</td>\n",
       "      <td>18.0</td>\n",
       "      <td>2.0</td>\n",
       "      <td>10.0</td>\n",
       "      <td>2014.0</td>\n",
       "      <td>4.0</td>\n",
       "      <td>3.0</td>\n",
       "      <td>0.000000</td>\n",
       "      <td>0.0</td>\n",
       "    </tr>\n",
       "    <tr>\n",
       "      <td>336354</td>\n",
       "      <td>300.0</td>\n",
       "      <td>302.0</td>\n",
       "      <td>302.0</td>\n",
       "      <td>300.0</td>\n",
       "      <td>300.0</td>\n",
       "      <td>1222.0</td>\n",
       "      <td>302.0</td>\n",
       "      <td>1218.0</td>\n",
       "      <td>1221.0</td>\n",
       "      <td>1216.0</td>\n",
       "      <td>1.0</td>\n",
       "      <td>3.0</td>\n",
       "      <td>...</td>\n",
       "      <td>0.0</td>\n",
       "      <td>0.0</td>\n",
       "      <td>39.0</td>\n",
       "      <td>6.0</td>\n",
       "      <td>14.0</td>\n",
       "      <td>26.0</td>\n",
       "      <td>5.0</td>\n",
       "      <td>2014.0</td>\n",
       "      <td>1.0</td>\n",
       "      <td>2.0</td>\n",
       "      <td>4.333333</td>\n",
       "      <td>0.0</td>\n",
       "    </tr>\n",
       "    <tr>\n",
       "      <td>336355</td>\n",
       "      <td>29.0</td>\n",
       "      <td>33.0</td>\n",
       "      <td>35.0</td>\n",
       "      <td>22.0</td>\n",
       "      <td>37.0</td>\n",
       "      <td>6779.0</td>\n",
       "      <td>30.0</td>\n",
       "      <td>21.0</td>\n",
       "      <td>23.0</td>\n",
       "      <td>6780.0</td>\n",
       "      <td>0.0</td>\n",
       "      <td>0.0</td>\n",
       "      <td>...</td>\n",
       "      <td>0.0</td>\n",
       "      <td>0.0</td>\n",
       "      <td>8.0</td>\n",
       "      <td>10.0</td>\n",
       "      <td>11.0</td>\n",
       "      <td>2.0</td>\n",
       "      <td>5.0</td>\n",
       "      <td>2014.0</td>\n",
       "      <td>5.0</td>\n",
       "      <td>1.0</td>\n",
       "      <td>0.888889</td>\n",
       "      <td>0.0</td>\n",
       "    </tr>\n",
       "    <tr>\n",
       "      <td>336356</td>\n",
       "      <td>5828.0</td>\n",
       "      <td>23.0</td>\n",
       "      <td>21.0</td>\n",
       "      <td>804.0</td>\n",
       "      <td>21.0</td>\n",
       "      <td>3350.0</td>\n",
       "      <td>23.0</td>\n",
       "      <td>894.0</td>\n",
       "      <td>21.0</td>\n",
       "      <td>961.0</td>\n",
       "      <td>2.0</td>\n",
       "      <td>0.0</td>\n",
       "      <td>...</td>\n",
       "      <td>0.0</td>\n",
       "      <td>0.0</td>\n",
       "      <td>13.0</td>\n",
       "      <td>7.0</td>\n",
       "      <td>10.0</td>\n",
       "      <td>3.0</td>\n",
       "      <td>5.0</td>\n",
       "      <td>2014.0</td>\n",
       "      <td>6.0</td>\n",
       "      <td>1.0</td>\n",
       "      <td>1.444444</td>\n",
       "      <td>1.0</td>\n",
       "    </tr>\n",
       "    <tr>\n",
       "      <td>336357</td>\n",
       "      <td>21.0</td>\n",
       "      <td>1098.0</td>\n",
       "      <td>1098.0</td>\n",
       "      <td>1098.0</td>\n",
       "      <td>1098.0</td>\n",
       "      <td>1098.0</td>\n",
       "      <td>1098.0</td>\n",
       "      <td>1098.0</td>\n",
       "      <td>1098.0</td>\n",
       "      <td>1098.0</td>\n",
       "      <td>0.0</td>\n",
       "      <td>1.0</td>\n",
       "      <td>...</td>\n",
       "      <td>24.0</td>\n",
       "      <td>5.0</td>\n",
       "      <td>50.0</td>\n",
       "      <td>2.0</td>\n",
       "      <td>10.0</td>\n",
       "      <td>2.0</td>\n",
       "      <td>11.0</td>\n",
       "      <td>2014.0</td>\n",
       "      <td>7.0</td>\n",
       "      <td>1.0</td>\n",
       "      <td>5.555556</td>\n",
       "      <td>1.0</td>\n",
       "    </tr>\n",
       "  </tbody>\n",
       "</table>\n",
       "<p>336358 rows × 29 columns</p>\n",
       "</div>"
      ],
      "text/plain": [
       "          site1   site2    site3    site4   site5   site6    site7    site8  \\\n",
       "0         718.0     0.0      0.0      0.0     0.0     0.0      0.0      0.0   \n",
       "1         890.0   941.0   3847.0    941.0   942.0  3846.0   3847.0   3846.0   \n",
       "2       14769.0    39.0  14768.0  14769.0    37.0    39.0  14768.0  14768.0   \n",
       "3         782.0   782.0    782.0    782.0   782.0   782.0    782.0    782.0   \n",
       "4          22.0   177.0    175.0    178.0   177.0   178.0    175.0    177.0   \n",
       "...         ...     ...      ...      ...     ...     ...      ...      ...   \n",
       "336353    812.0  1039.0    676.0      0.0     0.0     0.0      0.0      0.0   \n",
       "336354    300.0   302.0    302.0    300.0   300.0  1222.0    302.0   1218.0   \n",
       "336355     29.0    33.0     35.0     22.0    37.0  6779.0     30.0     21.0   \n",
       "336356   5828.0    23.0     21.0    804.0    21.0  3350.0     23.0    894.0   \n",
       "336357     21.0  1098.0   1098.0   1098.0  1098.0  1098.0   1098.0   1098.0   \n",
       "\n",
       "          site9   site10  time_diff1  time_diff2  ...  time_diff8  time_diff9  \\\n",
       "0           0.0      0.0         0.0         0.0  ...         0.0         0.0   \n",
       "1        1516.0   1518.0         0.0         1.0  ...        23.0         1.0   \n",
       "2       14768.0  14768.0         1.0         1.0  ...         1.0         2.0   \n",
       "3         782.0    782.0        30.0        30.0  ...        30.0        30.0   \n",
       "4         177.0    178.0       137.0         0.0  ...        67.0         5.0   \n",
       "...         ...      ...         ...         ...  ...         ...         ...   \n",
       "336353      0.0      0.0         0.0         0.0  ...         0.0         0.0   \n",
       "336354   1221.0   1216.0         1.0         3.0  ...         0.0         0.0   \n",
       "336355     23.0   6780.0         0.0         0.0  ...         0.0         0.0   \n",
       "336356     21.0    961.0         2.0         0.0  ...         0.0         0.0   \n",
       "336357   1098.0   1098.0         0.0         1.0  ...        24.0         5.0   \n",
       "\n",
       "        session_timespan  #unique_sites  start_hour  start_day  start_month  \\\n",
       "0                    0.0            1.0        10.0       20.0          2.0   \n",
       "1                   26.0            7.0        11.0       22.0          2.0   \n",
       "2                    7.0            4.0        16.0       16.0         12.0   \n",
       "3                  270.0            1.0        10.0       28.0          3.0   \n",
       "4                  246.0            4.0        10.0       28.0          2.0   \n",
       "...                  ...            ...         ...        ...          ...   \n",
       "336353               0.0            3.0        18.0        2.0         10.0   \n",
       "336354              39.0            6.0        14.0       26.0          5.0   \n",
       "336355               8.0           10.0        11.0        2.0          5.0   \n",
       "336356              13.0            7.0        10.0        3.0          5.0   \n",
       "336357              50.0            2.0        10.0        2.0         11.0   \n",
       "\n",
       "        start_year  start_day_of_week  time_of_day  mean_time  weekends  \n",
       "0           2014.0                4.0          1.0   0.000000       0.0  \n",
       "1           2014.0                6.0          1.0   2.888889       1.0  \n",
       "2           2013.0                1.0          2.0   0.777778       0.0  \n",
       "3           2014.0                5.0          1.0  30.000000       0.0  \n",
       "4           2014.0                5.0          1.0  27.333333       0.0  \n",
       "...            ...                ...          ...        ...       ...  \n",
       "336353      2014.0                4.0          3.0   0.000000       0.0  \n",
       "336354      2014.0                1.0          2.0   4.333333       0.0  \n",
       "336355      2014.0                5.0          1.0   0.888889       0.0  \n",
       "336356      2014.0                6.0          1.0   1.444444       1.0  \n",
       "336357      2014.0                7.0          1.0   5.555556       1.0  \n",
       "\n",
       "[336358 rows x 29 columns]"
      ]
     },
     "execution_count": 160,
     "metadata": {},
     "output_type": "execute_result"
    }
   ],
   "source": [
    "train_test_df_new"
   ]
  },
  {
   "cell_type": "code",
   "execution_count": 161,
   "metadata": {},
   "outputs": [],
   "source": [
    "train_test_data = pd.get_dummies(train_test_df_new, columns=['start_day_of_week', \"time_of_day\"])"
   ]
  },
  {
   "cell_type": "code",
   "execution_count": 269,
   "metadata": {},
   "outputs": [],
   "source": [
    "train_test_sparse = mechok(train_test_data_1.values)   ####''' ВАШ КОД ЗДЕСЬ '''\n",
    "X_train_sparse = train_test_sparse[:train_df.shape[0],:]      ####''' ВАШ КОД ЗДЕСЬ '''\n",
    "X_test_sparse =  train_test_sparse[train_df.shape[0]: ,:]      ####''' ВАШ КОД ЗДЕСЬ '''\n",
    "y = train_df.target.values      "
   ]
  },
  {
   "cell_type": "code",
   "execution_count": 270,
   "metadata": {},
   "outputs": [],
   "source": [
    "train_share = int(.7 * X_train_sparse.shape[0])\n",
    "X_train, y_train = X_train_sparse[:train_share, :], y[:train_share]\n",
    "X_valid, y_valid  = X_train_sparse[train_share:, :], y[train_share:]"
   ]
  },
  {
   "cell_type": "code",
   "execution_count": null,
   "metadata": {},
   "outputs": [],
   "source": []
  },
  {
   "cell_type": "code",
   "execution_count": 271,
   "metadata": {},
   "outputs": [
    {
     "data": {
      "text/plain": [
       "LogisticRegression(C=0.6210526315789474, class_weight=None, dual=False,\n",
       "                   fit_intercept=True, intercept_scaling=1, l1_ratio=None,\n",
       "                   max_iter=100, multi_class='warn', n_jobs=None, penalty='l2',\n",
       "                   random_state=17, solver='warn', tol=0.0001, verbose=0,\n",
       "                   warm_start=False)"
      ]
     },
     "execution_count": 271,
     "metadata": {},
     "output_type": "execute_result"
    }
   ],
   "source": [
    "logit_c.fit(X_train, y_train)"
   ]
  },
  {
   "cell_type": "code",
   "execution_count": 272,
   "metadata": {},
   "outputs": [],
   "source": [
    "logit_c_cv_acc = accuracy_score(y_valid, logit_c.predict(X_valid))"
   ]
  },
  {
   "cell_type": "code",
   "execution_count": 273,
   "metadata": {},
   "outputs": [
    {
     "data": {
      "text/plain": [
       "0.9931378090943749"
      ]
     },
     "execution_count": 273,
     "metadata": {},
     "output_type": "execute_result"
    }
   ],
   "source": [
    "logit_c_cv_acc"
   ]
  },
  {
   "cell_type": "code",
   "execution_count": 274,
   "metadata": {},
   "outputs": [],
   "source": [
    "from sklearn.metrics import roc_auc_score"
   ]
  },
  {
   "cell_type": "code",
   "execution_count": 275,
   "metadata": {},
   "outputs": [
    {
     "data": {
      "text/plain": [
       "0.975"
      ]
     },
     "execution_count": 275,
     "metadata": {},
     "output_type": "execute_result"
    }
   ],
   "source": [
    "round(roc_auc_score(y_valid, logit_c.predict_proba(X_valid)[:, 1]), 3)"
   ]
  },
  {
   "cell_type": "code",
   "execution_count": 276,
   "metadata": {},
   "outputs": [],
   "source": [
    "svm_2.fit(X_train, y_train)\n",
    "pred_svm_2 = svm_2.predict(X_valid)"
   ]
  },
  {
   "cell_type": "code",
   "execution_count": 277,
   "metadata": {},
   "outputs": [],
   "source": [
    "svm_cv_acc =  accuracy_score(y_valid, pred_svm_2 ) "
   ]
  },
  {
   "cell_type": "code",
   "execution_count": 278,
   "metadata": {},
   "outputs": [
    {
     "data": {
      "text/plain": [
       "0.9928485979834099"
      ]
     },
     "execution_count": 278,
     "metadata": {},
     "output_type": "execute_result"
    }
   ],
   "source": [
    "svm_cv_acc"
   ]
  },
  {
   "cell_type": "code",
   "execution_count": null,
   "metadata": {},
   "outputs": [],
   "source": []
  },
  {
   "cell_type": "code",
   "execution_count": 279,
   "metadata": {},
   "outputs": [
    {
     "data": {
      "text/plain": [
       "SGDClassifier(alpha=0.0001, average=False, class_weight=None,\n",
       "              early_stopping=False, epsilon=0.1, eta0=0.0, fit_intercept=True,\n",
       "              l1_ratio=0.15, learning_rate='optimal', loss='log', max_iter=1000,\n",
       "              n_iter_no_change=5, n_jobs=-1, penalty='l2', power_t=0.5,\n",
       "              random_state=17, shuffle=True, tol=0.001, validation_fraction=0.1,\n",
       "              verbose=0, warm_start=False)"
      ]
     },
     "execution_count": 279,
     "metadata": {},
     "output_type": "execute_result"
    }
   ],
   "source": [
    "sgd_logit.fit(X_train, y_train) "
   ]
  },
  {
   "cell_type": "code",
   "execution_count": 280,
   "metadata": {},
   "outputs": [],
   "source": [
    "sgd_logit_acc =  accuracy_score(y_valid, sgd_logit.predict(X_valid) ) "
   ]
  },
  {
   "cell_type": "code",
   "execution_count": 281,
   "metadata": {},
   "outputs": [
    {
     "data": {
      "text/plain": [
       "0.9919678186909253"
      ]
     },
     "execution_count": 281,
     "metadata": {},
     "output_type": "execute_result"
    }
   ],
   "source": [
    "sgd_logit_acc"
   ]
  },
  {
   "cell_type": "code",
   "execution_count": 282,
   "metadata": {},
   "outputs": [
    {
     "data": {
      "text/plain": [
       "0.955"
      ]
     },
     "execution_count": 282,
     "metadata": {},
     "output_type": "execute_result"
    }
   ],
   "source": [
    "round(roc_auc_score(y_valid, sgd_logit.predict_proba(X_valid)[:, 1]), 3)"
   ]
  },
  {
   "cell_type": "code",
   "execution_count": null,
   "metadata": {},
   "outputs": [],
   "source": []
  },
  {
   "cell_type": "code",
   "execution_count": 283,
   "metadata": {},
   "outputs": [
    {
     "data": {
      "text/plain": [
       "LogisticRegression(C=0.6210526315789474, class_weight=None, dual=False,\n",
       "                   fit_intercept=True, intercept_scaling=1, l1_ratio=None,\n",
       "                   max_iter=100, multi_class='warn', n_jobs=None, penalty='l2',\n",
       "                   random_state=17, solver='warn', tol=0.0001, verbose=0,\n",
       "                   warm_start=False)"
      ]
     },
     "execution_count": 283,
     "metadata": {},
     "output_type": "execute_result"
    }
   ],
   "source": [
    "logit_c.fit(X_train_sparse, y)"
   ]
  },
  {
   "cell_type": "code",
   "execution_count": 284,
   "metadata": {},
   "outputs": [],
   "source": [
    "logit_c_pred_proba = logit_c.predict_proba(X_test_sparse)"
   ]
  },
  {
   "cell_type": "code",
   "execution_count": 285,
   "metadata": {},
   "outputs": [],
   "source": [
    "def write_to_submission_file(predicted_labels, out_file,\n",
    "                             target='target', index_label=\"session_id\"):\n",
    "    # turn predictions into data frame and save as csv file\n",
    "    predicted_df = pd.DataFrame(predicted_labels,\n",
    "                                index = np.arange(1, predicted_labels.shape[0] + 1),\n",
    "                                columns=[target])\n",
    "    predicted_df.to_csv(out_file, index_label=index_label)"
   ]
  },
  {
   "cell_type": "code",
   "execution_count": 286,
   "metadata": {},
   "outputs": [],
   "source": [
    "write_to_submission_file(logit_c_pred_proba[:, 1], \"[YDF & MIPT] Coursera_A CHA_CHA_CHA_13.csv\" )"
   ]
  },
  {
   "cell_type": "code",
   "execution_count": null,
   "metadata": {},
   "outputs": [],
   "source": []
  },
  {
   "cell_type": "code",
   "execution_count": 287,
   "metadata": {},
   "outputs": [
    {
     "data": {
      "text/plain": [
       "LinearSVC(C=0.0626551724137931, class_weight=None, dual=True,\n",
       "          fit_intercept=True, intercept_scaling=1, loss='squared_hinge',\n",
       "          max_iter=1000, multi_class='ovr', penalty='l2', random_state=17,\n",
       "          tol=0.0001, verbose=0)"
      ]
     },
     "execution_count": 287,
     "metadata": {},
     "output_type": "execute_result"
    }
   ],
   "source": [
    "svm_2.fit(X_train_sparse, y)"
   ]
  },
  {
   "cell_type": "code",
   "execution_count": 288,
   "metadata": {},
   "outputs": [
    {
     "ename": "AttributeError",
     "evalue": "'LinearSVC' object has no attribute 'predict_proba'",
     "output_type": "error",
     "traceback": [
      "\u001b[1;31m---------------------------------------------------------------------------\u001b[0m",
      "\u001b[1;31mAttributeError\u001b[0m                            Traceback (most recent call last)",
      "\u001b[1;32m<ipython-input-288-5b0862bc2083>\u001b[0m in \u001b[0;36m<module>\u001b[1;34m\u001b[0m\n\u001b[1;32m----> 1\u001b[1;33m \u001b[0msvm_2_pred_proba\u001b[0m \u001b[1;33m=\u001b[0m \u001b[0msvm_2\u001b[0m\u001b[1;33m.\u001b[0m\u001b[0mpredict_proba\u001b[0m\u001b[1;33m(\u001b[0m\u001b[0mX_test_sparse\u001b[0m\u001b[1;33m)\u001b[0m\u001b[1;33m\u001b[0m\u001b[1;33m\u001b[0m\u001b[0m\n\u001b[0m",
      "\u001b[1;31mAttributeError\u001b[0m: 'LinearSVC' object has no attribute 'predict_proba'"
     ]
    }
   ],
   "source": [
    "svm_2_pred_proba = svm_2.predict_proba(X_test_sparse)"
   ]
  },
  {
   "cell_type": "code",
   "execution_count": null,
   "metadata": {},
   "outputs": [],
   "source": [
    "write_to_submission_file(svm_2_pred_proba[:, 1], \"[YDF & MIPT] Coursera_A CHA_CHA_CHA_11.csv\" )"
   ]
  },
  {
   "cell_type": "code",
   "execution_count": null,
   "metadata": {},
   "outputs": [],
   "source": []
  },
  {
   "cell_type": "code",
   "execution_count": 289,
   "metadata": {},
   "outputs": [
    {
     "data": {
      "text/plain": [
       "SGDClassifier(alpha=0.0001, average=False, class_weight=None,\n",
       "              early_stopping=False, epsilon=0.1, eta0=0.0, fit_intercept=True,\n",
       "              l1_ratio=0.15, learning_rate='optimal', loss='log', max_iter=1000,\n",
       "              n_iter_no_change=5, n_jobs=-1, penalty='l2', power_t=0.5,\n",
       "              random_state=17, shuffle=True, tol=0.001, validation_fraction=0.1,\n",
       "              verbose=0, warm_start=False)"
      ]
     },
     "execution_count": 289,
     "metadata": {},
     "output_type": "execute_result"
    }
   ],
   "source": [
    "sgd_logit.fit(X_train_sparse, y)"
   ]
  },
  {
   "cell_type": "code",
   "execution_count": 290,
   "metadata": {},
   "outputs": [],
   "source": [
    "sgd_logit_c_pred_proba = sgd_logit.predict_proba(X_test_sparse)"
   ]
  },
  {
   "cell_type": "code",
   "execution_count": 291,
   "metadata": {},
   "outputs": [],
   "source": [
    "write_to_submission_file(sgd_logit_c_pred_proba[:, 1], \"[YDF & MIPT] Coursera_A CHA_CHA_CHA_14.csv\" )"
   ]
  },
  {
   "cell_type": "code",
   "execution_count": null,
   "metadata": {},
   "outputs": [],
   "source": []
  },
  {
   "cell_type": "code",
   "execution_count": 221,
   "metadata": {},
   "outputs": [
    {
     "data": {
      "text/html": [
       "<div>\n",
       "<style scoped>\n",
       "    .dataframe tbody tr th:only-of-type {\n",
       "        vertical-align: middle;\n",
       "    }\n",
       "\n",
       "    .dataframe tbody tr th {\n",
       "        vertical-align: top;\n",
       "    }\n",
       "\n",
       "    .dataframe thead th {\n",
       "        text-align: right;\n",
       "    }\n",
       "</style>\n",
       "<table border=\"1\" class=\"dataframe\">\n",
       "  <thead>\n",
       "    <tr style=\"text-align: right;\">\n",
       "      <th></th>\n",
       "      <th>site1</th>\n",
       "      <th>site2</th>\n",
       "      <th>site3</th>\n",
       "      <th>site4</th>\n",
       "      <th>site5</th>\n",
       "      <th>site6</th>\n",
       "      <th>site7</th>\n",
       "      <th>site8</th>\n",
       "      <th>site9</th>\n",
       "      <th>site10</th>\n",
       "      <th>time_diff1</th>\n",
       "      <th>time_diff2</th>\n",
       "      <th>...</th>\n",
       "      <th>time_diff8</th>\n",
       "      <th>time_diff9</th>\n",
       "      <th>session_timespan</th>\n",
       "      <th>#unique_sites</th>\n",
       "      <th>start_hour</th>\n",
       "      <th>start_day</th>\n",
       "      <th>start_month</th>\n",
       "      <th>start_year</th>\n",
       "      <th>start_day_of_week</th>\n",
       "      <th>time_of_day</th>\n",
       "      <th>mean_time</th>\n",
       "      <th>weekends</th>\n",
       "    </tr>\n",
       "  </thead>\n",
       "  <tbody>\n",
       "    <tr>\n",
       "      <td>0</td>\n",
       "      <td>718.0</td>\n",
       "      <td>0.0</td>\n",
       "      <td>0.0</td>\n",
       "      <td>0.0</td>\n",
       "      <td>0.0</td>\n",
       "      <td>0.0</td>\n",
       "      <td>0.0</td>\n",
       "      <td>0.0</td>\n",
       "      <td>0.0</td>\n",
       "      <td>0.0</td>\n",
       "      <td>0.0</td>\n",
       "      <td>0.0</td>\n",
       "      <td>...</td>\n",
       "      <td>0.0</td>\n",
       "      <td>0.0</td>\n",
       "      <td>0.0</td>\n",
       "      <td>1.0</td>\n",
       "      <td>10.0</td>\n",
       "      <td>20.0</td>\n",
       "      <td>2.0</td>\n",
       "      <td>2014.0</td>\n",
       "      <td>4.0</td>\n",
       "      <td>1.0</td>\n",
       "      <td>0.000000</td>\n",
       "      <td>0.0</td>\n",
       "    </tr>\n",
       "    <tr>\n",
       "      <td>1</td>\n",
       "      <td>890.0</td>\n",
       "      <td>941.0</td>\n",
       "      <td>3847.0</td>\n",
       "      <td>941.0</td>\n",
       "      <td>942.0</td>\n",
       "      <td>3846.0</td>\n",
       "      <td>3847.0</td>\n",
       "      <td>3846.0</td>\n",
       "      <td>1516.0</td>\n",
       "      <td>1518.0</td>\n",
       "      <td>0.0</td>\n",
       "      <td>1.0</td>\n",
       "      <td>...</td>\n",
       "      <td>23.0</td>\n",
       "      <td>1.0</td>\n",
       "      <td>26.0</td>\n",
       "      <td>7.0</td>\n",
       "      <td>11.0</td>\n",
       "      <td>22.0</td>\n",
       "      <td>2.0</td>\n",
       "      <td>2014.0</td>\n",
       "      <td>6.0</td>\n",
       "      <td>1.0</td>\n",
       "      <td>2.888889</td>\n",
       "      <td>1.0</td>\n",
       "    </tr>\n",
       "    <tr>\n",
       "      <td>2</td>\n",
       "      <td>14769.0</td>\n",
       "      <td>39.0</td>\n",
       "      <td>14768.0</td>\n",
       "      <td>14769.0</td>\n",
       "      <td>37.0</td>\n",
       "      <td>39.0</td>\n",
       "      <td>14768.0</td>\n",
       "      <td>14768.0</td>\n",
       "      <td>14768.0</td>\n",
       "      <td>14768.0</td>\n",
       "      <td>1.0</td>\n",
       "      <td>1.0</td>\n",
       "      <td>...</td>\n",
       "      <td>1.0</td>\n",
       "      <td>2.0</td>\n",
       "      <td>7.0</td>\n",
       "      <td>4.0</td>\n",
       "      <td>16.0</td>\n",
       "      <td>16.0</td>\n",
       "      <td>12.0</td>\n",
       "      <td>2013.0</td>\n",
       "      <td>1.0</td>\n",
       "      <td>2.0</td>\n",
       "      <td>0.777778</td>\n",
       "      <td>0.0</td>\n",
       "    </tr>\n",
       "    <tr>\n",
       "      <td>3</td>\n",
       "      <td>782.0</td>\n",
       "      <td>782.0</td>\n",
       "      <td>782.0</td>\n",
       "      <td>782.0</td>\n",
       "      <td>782.0</td>\n",
       "      <td>782.0</td>\n",
       "      <td>782.0</td>\n",
       "      <td>782.0</td>\n",
       "      <td>782.0</td>\n",
       "      <td>782.0</td>\n",
       "      <td>30.0</td>\n",
       "      <td>30.0</td>\n",
       "      <td>...</td>\n",
       "      <td>30.0</td>\n",
       "      <td>30.0</td>\n",
       "      <td>270.0</td>\n",
       "      <td>1.0</td>\n",
       "      <td>10.0</td>\n",
       "      <td>28.0</td>\n",
       "      <td>3.0</td>\n",
       "      <td>2014.0</td>\n",
       "      <td>5.0</td>\n",
       "      <td>1.0</td>\n",
       "      <td>30.000000</td>\n",
       "      <td>0.0</td>\n",
       "    </tr>\n",
       "    <tr>\n",
       "      <td>4</td>\n",
       "      <td>22.0</td>\n",
       "      <td>177.0</td>\n",
       "      <td>175.0</td>\n",
       "      <td>178.0</td>\n",
       "      <td>177.0</td>\n",
       "      <td>178.0</td>\n",
       "      <td>175.0</td>\n",
       "      <td>177.0</td>\n",
       "      <td>177.0</td>\n",
       "      <td>178.0</td>\n",
       "      <td>137.0</td>\n",
       "      <td>0.0</td>\n",
       "      <td>...</td>\n",
       "      <td>67.0</td>\n",
       "      <td>5.0</td>\n",
       "      <td>246.0</td>\n",
       "      <td>4.0</td>\n",
       "      <td>10.0</td>\n",
       "      <td>28.0</td>\n",
       "      <td>2.0</td>\n",
       "      <td>2014.0</td>\n",
       "      <td>5.0</td>\n",
       "      <td>1.0</td>\n",
       "      <td>27.333333</td>\n",
       "      <td>0.0</td>\n",
       "    </tr>\n",
       "    <tr>\n",
       "      <td>...</td>\n",
       "      <td>...</td>\n",
       "      <td>...</td>\n",
       "      <td>...</td>\n",
       "      <td>...</td>\n",
       "      <td>...</td>\n",
       "      <td>...</td>\n",
       "      <td>...</td>\n",
       "      <td>...</td>\n",
       "      <td>...</td>\n",
       "      <td>...</td>\n",
       "      <td>...</td>\n",
       "      <td>...</td>\n",
       "      <td>...</td>\n",
       "      <td>...</td>\n",
       "      <td>...</td>\n",
       "      <td>...</td>\n",
       "      <td>...</td>\n",
       "      <td>...</td>\n",
       "      <td>...</td>\n",
       "      <td>...</td>\n",
       "      <td>...</td>\n",
       "      <td>...</td>\n",
       "      <td>...</td>\n",
       "      <td>...</td>\n",
       "      <td>...</td>\n",
       "    </tr>\n",
       "    <tr>\n",
       "      <td>336353</td>\n",
       "      <td>812.0</td>\n",
       "      <td>1039.0</td>\n",
       "      <td>676.0</td>\n",
       "      <td>0.0</td>\n",
       "      <td>0.0</td>\n",
       "      <td>0.0</td>\n",
       "      <td>0.0</td>\n",
       "      <td>0.0</td>\n",
       "      <td>0.0</td>\n",
       "      <td>0.0</td>\n",
       "      <td>0.0</td>\n",
       "      <td>0.0</td>\n",
       "      <td>...</td>\n",
       "      <td>0.0</td>\n",
       "      <td>0.0</td>\n",
       "      <td>0.0</td>\n",
       "      <td>3.0</td>\n",
       "      <td>18.0</td>\n",
       "      <td>2.0</td>\n",
       "      <td>10.0</td>\n",
       "      <td>2014.0</td>\n",
       "      <td>4.0</td>\n",
       "      <td>3.0</td>\n",
       "      <td>0.000000</td>\n",
       "      <td>0.0</td>\n",
       "    </tr>\n",
       "    <tr>\n",
       "      <td>336354</td>\n",
       "      <td>300.0</td>\n",
       "      <td>302.0</td>\n",
       "      <td>302.0</td>\n",
       "      <td>300.0</td>\n",
       "      <td>300.0</td>\n",
       "      <td>1222.0</td>\n",
       "      <td>302.0</td>\n",
       "      <td>1218.0</td>\n",
       "      <td>1221.0</td>\n",
       "      <td>1216.0</td>\n",
       "      <td>1.0</td>\n",
       "      <td>3.0</td>\n",
       "      <td>...</td>\n",
       "      <td>0.0</td>\n",
       "      <td>0.0</td>\n",
       "      <td>39.0</td>\n",
       "      <td>6.0</td>\n",
       "      <td>14.0</td>\n",
       "      <td>26.0</td>\n",
       "      <td>5.0</td>\n",
       "      <td>2014.0</td>\n",
       "      <td>1.0</td>\n",
       "      <td>2.0</td>\n",
       "      <td>4.333333</td>\n",
       "      <td>0.0</td>\n",
       "    </tr>\n",
       "    <tr>\n",
       "      <td>336355</td>\n",
       "      <td>29.0</td>\n",
       "      <td>33.0</td>\n",
       "      <td>35.0</td>\n",
       "      <td>22.0</td>\n",
       "      <td>37.0</td>\n",
       "      <td>6779.0</td>\n",
       "      <td>30.0</td>\n",
       "      <td>21.0</td>\n",
       "      <td>23.0</td>\n",
       "      <td>6780.0</td>\n",
       "      <td>0.0</td>\n",
       "      <td>0.0</td>\n",
       "      <td>...</td>\n",
       "      <td>0.0</td>\n",
       "      <td>0.0</td>\n",
       "      <td>8.0</td>\n",
       "      <td>10.0</td>\n",
       "      <td>11.0</td>\n",
       "      <td>2.0</td>\n",
       "      <td>5.0</td>\n",
       "      <td>2014.0</td>\n",
       "      <td>5.0</td>\n",
       "      <td>1.0</td>\n",
       "      <td>0.888889</td>\n",
       "      <td>0.0</td>\n",
       "    </tr>\n",
       "    <tr>\n",
       "      <td>336356</td>\n",
       "      <td>5828.0</td>\n",
       "      <td>23.0</td>\n",
       "      <td>21.0</td>\n",
       "      <td>804.0</td>\n",
       "      <td>21.0</td>\n",
       "      <td>3350.0</td>\n",
       "      <td>23.0</td>\n",
       "      <td>894.0</td>\n",
       "      <td>21.0</td>\n",
       "      <td>961.0</td>\n",
       "      <td>2.0</td>\n",
       "      <td>0.0</td>\n",
       "      <td>...</td>\n",
       "      <td>0.0</td>\n",
       "      <td>0.0</td>\n",
       "      <td>13.0</td>\n",
       "      <td>7.0</td>\n",
       "      <td>10.0</td>\n",
       "      <td>3.0</td>\n",
       "      <td>5.0</td>\n",
       "      <td>2014.0</td>\n",
       "      <td>6.0</td>\n",
       "      <td>1.0</td>\n",
       "      <td>1.444444</td>\n",
       "      <td>1.0</td>\n",
       "    </tr>\n",
       "    <tr>\n",
       "      <td>336357</td>\n",
       "      <td>21.0</td>\n",
       "      <td>1098.0</td>\n",
       "      <td>1098.0</td>\n",
       "      <td>1098.0</td>\n",
       "      <td>1098.0</td>\n",
       "      <td>1098.0</td>\n",
       "      <td>1098.0</td>\n",
       "      <td>1098.0</td>\n",
       "      <td>1098.0</td>\n",
       "      <td>1098.0</td>\n",
       "      <td>0.0</td>\n",
       "      <td>1.0</td>\n",
       "      <td>...</td>\n",
       "      <td>24.0</td>\n",
       "      <td>5.0</td>\n",
       "      <td>50.0</td>\n",
       "      <td>2.0</td>\n",
       "      <td>10.0</td>\n",
       "      <td>2.0</td>\n",
       "      <td>11.0</td>\n",
       "      <td>2014.0</td>\n",
       "      <td>7.0</td>\n",
       "      <td>1.0</td>\n",
       "      <td>5.555556</td>\n",
       "      <td>1.0</td>\n",
       "    </tr>\n",
       "  </tbody>\n",
       "</table>\n",
       "<p>336358 rows × 29 columns</p>\n",
       "</div>"
      ],
      "text/plain": [
       "          site1   site2    site3    site4   site5   site6    site7    site8  \\\n",
       "0         718.0     0.0      0.0      0.0     0.0     0.0      0.0      0.0   \n",
       "1         890.0   941.0   3847.0    941.0   942.0  3846.0   3847.0   3846.0   \n",
       "2       14769.0    39.0  14768.0  14769.0    37.0    39.0  14768.0  14768.0   \n",
       "3         782.0   782.0    782.0    782.0   782.0   782.0    782.0    782.0   \n",
       "4          22.0   177.0    175.0    178.0   177.0   178.0    175.0    177.0   \n",
       "...         ...     ...      ...      ...     ...     ...      ...      ...   \n",
       "336353    812.0  1039.0    676.0      0.0     0.0     0.0      0.0      0.0   \n",
       "336354    300.0   302.0    302.0    300.0   300.0  1222.0    302.0   1218.0   \n",
       "336355     29.0    33.0     35.0     22.0    37.0  6779.0     30.0     21.0   \n",
       "336356   5828.0    23.0     21.0    804.0    21.0  3350.0     23.0    894.0   \n",
       "336357     21.0  1098.0   1098.0   1098.0  1098.0  1098.0   1098.0   1098.0   \n",
       "\n",
       "          site9   site10  time_diff1  time_diff2  ...  time_diff8  time_diff9  \\\n",
       "0           0.0      0.0         0.0         0.0  ...         0.0         0.0   \n",
       "1        1516.0   1518.0         0.0         1.0  ...        23.0         1.0   \n",
       "2       14768.0  14768.0         1.0         1.0  ...         1.0         2.0   \n",
       "3         782.0    782.0        30.0        30.0  ...        30.0        30.0   \n",
       "4         177.0    178.0       137.0         0.0  ...        67.0         5.0   \n",
       "...         ...      ...         ...         ...  ...         ...         ...   \n",
       "336353      0.0      0.0         0.0         0.0  ...         0.0         0.0   \n",
       "336354   1221.0   1216.0         1.0         3.0  ...         0.0         0.0   \n",
       "336355     23.0   6780.0         0.0         0.0  ...         0.0         0.0   \n",
       "336356     21.0    961.0         2.0         0.0  ...         0.0         0.0   \n",
       "336357   1098.0   1098.0         0.0         1.0  ...        24.0         5.0   \n",
       "\n",
       "        session_timespan  #unique_sites  start_hour  start_day  start_month  \\\n",
       "0                    0.0            1.0        10.0       20.0          2.0   \n",
       "1                   26.0            7.0        11.0       22.0          2.0   \n",
       "2                    7.0            4.0        16.0       16.0         12.0   \n",
       "3                  270.0            1.0        10.0       28.0          3.0   \n",
       "4                  246.0            4.0        10.0       28.0          2.0   \n",
       "...                  ...            ...         ...        ...          ...   \n",
       "336353               0.0            3.0        18.0        2.0         10.0   \n",
       "336354              39.0            6.0        14.0       26.0          5.0   \n",
       "336355               8.0           10.0        11.0        2.0          5.0   \n",
       "336356              13.0            7.0        10.0        3.0          5.0   \n",
       "336357              50.0            2.0        10.0        2.0         11.0   \n",
       "\n",
       "        start_year  start_day_of_week  time_of_day  mean_time  weekends  \n",
       "0           2014.0                4.0          1.0   0.000000       0.0  \n",
       "1           2014.0                6.0          1.0   2.888889       1.0  \n",
       "2           2013.0                1.0          2.0   0.777778       0.0  \n",
       "3           2014.0                5.0          1.0  30.000000       0.0  \n",
       "4           2014.0                5.0          1.0  27.333333       0.0  \n",
       "...            ...                ...          ...        ...       ...  \n",
       "336353      2014.0                4.0          3.0   0.000000       0.0  \n",
       "336354      2014.0                1.0          2.0   4.333333       0.0  \n",
       "336355      2014.0                5.0          1.0   0.888889       0.0  \n",
       "336356      2014.0                6.0          1.0   1.444444       1.0  \n",
       "336357      2014.0                7.0          1.0   5.555556       1.0  \n",
       "\n",
       "[336358 rows x 29 columns]"
      ]
     },
     "execution_count": 221,
     "metadata": {},
     "output_type": "execute_result"
    }
   ],
   "source": [
    "train_test_df_new"
   ]
  },
  {
   "cell_type": "code",
   "execution_count": 266,
   "metadata": {},
   "outputs": [],
   "source": [
    "train_test_df_new_1 = train_test_df_new.drop(columns=['time_diff' + str(j) for j in range(1,10)] + ['session_timespan', 'start_year', 'mean_time'])"
   ]
  },
  {
   "cell_type": "code",
   "execution_count": 267,
   "metadata": {},
   "outputs": [],
   "source": [
    "train_test_data_1 = pd.get_dummies(train_test_df_new_1, columns=['start_day_of_week'])"
   ]
  },
  {
   "cell_type": "code",
   "execution_count": 268,
   "metadata": {},
   "outputs": [
    {
     "data": {
      "text/html": [
       "<div>\n",
       "<style scoped>\n",
       "    .dataframe tbody tr th:only-of-type {\n",
       "        vertical-align: middle;\n",
       "    }\n",
       "\n",
       "    .dataframe tbody tr th {\n",
       "        vertical-align: top;\n",
       "    }\n",
       "\n",
       "    .dataframe thead th {\n",
       "        text-align: right;\n",
       "    }\n",
       "</style>\n",
       "<table border=\"1\" class=\"dataframe\">\n",
       "  <thead>\n",
       "    <tr style=\"text-align: right;\">\n",
       "      <th></th>\n",
       "      <th>site1</th>\n",
       "      <th>site2</th>\n",
       "      <th>site3</th>\n",
       "      <th>site4</th>\n",
       "      <th>site5</th>\n",
       "      <th>site6</th>\n",
       "      <th>site7</th>\n",
       "      <th>site8</th>\n",
       "      <th>site9</th>\n",
       "      <th>site10</th>\n",
       "      <th>#unique_sites</th>\n",
       "      <th>start_hour</th>\n",
       "      <th>start_day</th>\n",
       "      <th>start_month</th>\n",
       "      <th>time_of_day</th>\n",
       "      <th>weekends</th>\n",
       "      <th>start_day_of_week_1.0</th>\n",
       "      <th>start_day_of_week_2.0</th>\n",
       "      <th>start_day_of_week_3.0</th>\n",
       "      <th>start_day_of_week_4.0</th>\n",
       "      <th>start_day_of_week_5.0</th>\n",
       "      <th>start_day_of_week_6.0</th>\n",
       "      <th>start_day_of_week_7.0</th>\n",
       "    </tr>\n",
       "  </thead>\n",
       "  <tbody>\n",
       "    <tr>\n",
       "      <td>0</td>\n",
       "      <td>718.0</td>\n",
       "      <td>0.0</td>\n",
       "      <td>0.0</td>\n",
       "      <td>0.0</td>\n",
       "      <td>0.0</td>\n",
       "      <td>0.0</td>\n",
       "      <td>0.0</td>\n",
       "      <td>0.0</td>\n",
       "      <td>0.0</td>\n",
       "      <td>0.0</td>\n",
       "      <td>1.0</td>\n",
       "      <td>10.0</td>\n",
       "      <td>20.0</td>\n",
       "      <td>2.0</td>\n",
       "      <td>1.0</td>\n",
       "      <td>0.0</td>\n",
       "      <td>0</td>\n",
       "      <td>0</td>\n",
       "      <td>0</td>\n",
       "      <td>1</td>\n",
       "      <td>0</td>\n",
       "      <td>0</td>\n",
       "      <td>0</td>\n",
       "    </tr>\n",
       "    <tr>\n",
       "      <td>1</td>\n",
       "      <td>890.0</td>\n",
       "      <td>941.0</td>\n",
       "      <td>3847.0</td>\n",
       "      <td>941.0</td>\n",
       "      <td>942.0</td>\n",
       "      <td>3846.0</td>\n",
       "      <td>3847.0</td>\n",
       "      <td>3846.0</td>\n",
       "      <td>1516.0</td>\n",
       "      <td>1518.0</td>\n",
       "      <td>7.0</td>\n",
       "      <td>11.0</td>\n",
       "      <td>22.0</td>\n",
       "      <td>2.0</td>\n",
       "      <td>1.0</td>\n",
       "      <td>1.0</td>\n",
       "      <td>0</td>\n",
       "      <td>0</td>\n",
       "      <td>0</td>\n",
       "      <td>0</td>\n",
       "      <td>0</td>\n",
       "      <td>1</td>\n",
       "      <td>0</td>\n",
       "    </tr>\n",
       "    <tr>\n",
       "      <td>2</td>\n",
       "      <td>14769.0</td>\n",
       "      <td>39.0</td>\n",
       "      <td>14768.0</td>\n",
       "      <td>14769.0</td>\n",
       "      <td>37.0</td>\n",
       "      <td>39.0</td>\n",
       "      <td>14768.0</td>\n",
       "      <td>14768.0</td>\n",
       "      <td>14768.0</td>\n",
       "      <td>14768.0</td>\n",
       "      <td>4.0</td>\n",
       "      <td>16.0</td>\n",
       "      <td>16.0</td>\n",
       "      <td>12.0</td>\n",
       "      <td>2.0</td>\n",
       "      <td>0.0</td>\n",
       "      <td>1</td>\n",
       "      <td>0</td>\n",
       "      <td>0</td>\n",
       "      <td>0</td>\n",
       "      <td>0</td>\n",
       "      <td>0</td>\n",
       "      <td>0</td>\n",
       "    </tr>\n",
       "    <tr>\n",
       "      <td>3</td>\n",
       "      <td>782.0</td>\n",
       "      <td>782.0</td>\n",
       "      <td>782.0</td>\n",
       "      <td>782.0</td>\n",
       "      <td>782.0</td>\n",
       "      <td>782.0</td>\n",
       "      <td>782.0</td>\n",
       "      <td>782.0</td>\n",
       "      <td>782.0</td>\n",
       "      <td>782.0</td>\n",
       "      <td>1.0</td>\n",
       "      <td>10.0</td>\n",
       "      <td>28.0</td>\n",
       "      <td>3.0</td>\n",
       "      <td>1.0</td>\n",
       "      <td>0.0</td>\n",
       "      <td>0</td>\n",
       "      <td>0</td>\n",
       "      <td>0</td>\n",
       "      <td>0</td>\n",
       "      <td>1</td>\n",
       "      <td>0</td>\n",
       "      <td>0</td>\n",
       "    </tr>\n",
       "    <tr>\n",
       "      <td>4</td>\n",
       "      <td>22.0</td>\n",
       "      <td>177.0</td>\n",
       "      <td>175.0</td>\n",
       "      <td>178.0</td>\n",
       "      <td>177.0</td>\n",
       "      <td>178.0</td>\n",
       "      <td>175.0</td>\n",
       "      <td>177.0</td>\n",
       "      <td>177.0</td>\n",
       "      <td>178.0</td>\n",
       "      <td>4.0</td>\n",
       "      <td>10.0</td>\n",
       "      <td>28.0</td>\n",
       "      <td>2.0</td>\n",
       "      <td>1.0</td>\n",
       "      <td>0.0</td>\n",
       "      <td>0</td>\n",
       "      <td>0</td>\n",
       "      <td>0</td>\n",
       "      <td>0</td>\n",
       "      <td>1</td>\n",
       "      <td>0</td>\n",
       "      <td>0</td>\n",
       "    </tr>\n",
       "    <tr>\n",
       "      <td>...</td>\n",
       "      <td>...</td>\n",
       "      <td>...</td>\n",
       "      <td>...</td>\n",
       "      <td>...</td>\n",
       "      <td>...</td>\n",
       "      <td>...</td>\n",
       "      <td>...</td>\n",
       "      <td>...</td>\n",
       "      <td>...</td>\n",
       "      <td>...</td>\n",
       "      <td>...</td>\n",
       "      <td>...</td>\n",
       "      <td>...</td>\n",
       "      <td>...</td>\n",
       "      <td>...</td>\n",
       "      <td>...</td>\n",
       "      <td>...</td>\n",
       "      <td>...</td>\n",
       "      <td>...</td>\n",
       "      <td>...</td>\n",
       "      <td>...</td>\n",
       "      <td>...</td>\n",
       "      <td>...</td>\n",
       "    </tr>\n",
       "    <tr>\n",
       "      <td>336353</td>\n",
       "      <td>812.0</td>\n",
       "      <td>1039.0</td>\n",
       "      <td>676.0</td>\n",
       "      <td>0.0</td>\n",
       "      <td>0.0</td>\n",
       "      <td>0.0</td>\n",
       "      <td>0.0</td>\n",
       "      <td>0.0</td>\n",
       "      <td>0.0</td>\n",
       "      <td>0.0</td>\n",
       "      <td>3.0</td>\n",
       "      <td>18.0</td>\n",
       "      <td>2.0</td>\n",
       "      <td>10.0</td>\n",
       "      <td>3.0</td>\n",
       "      <td>0.0</td>\n",
       "      <td>0</td>\n",
       "      <td>0</td>\n",
       "      <td>0</td>\n",
       "      <td>1</td>\n",
       "      <td>0</td>\n",
       "      <td>0</td>\n",
       "      <td>0</td>\n",
       "    </tr>\n",
       "    <tr>\n",
       "      <td>336354</td>\n",
       "      <td>300.0</td>\n",
       "      <td>302.0</td>\n",
       "      <td>302.0</td>\n",
       "      <td>300.0</td>\n",
       "      <td>300.0</td>\n",
       "      <td>1222.0</td>\n",
       "      <td>302.0</td>\n",
       "      <td>1218.0</td>\n",
       "      <td>1221.0</td>\n",
       "      <td>1216.0</td>\n",
       "      <td>6.0</td>\n",
       "      <td>14.0</td>\n",
       "      <td>26.0</td>\n",
       "      <td>5.0</td>\n",
       "      <td>2.0</td>\n",
       "      <td>0.0</td>\n",
       "      <td>1</td>\n",
       "      <td>0</td>\n",
       "      <td>0</td>\n",
       "      <td>0</td>\n",
       "      <td>0</td>\n",
       "      <td>0</td>\n",
       "      <td>0</td>\n",
       "    </tr>\n",
       "    <tr>\n",
       "      <td>336355</td>\n",
       "      <td>29.0</td>\n",
       "      <td>33.0</td>\n",
       "      <td>35.0</td>\n",
       "      <td>22.0</td>\n",
       "      <td>37.0</td>\n",
       "      <td>6779.0</td>\n",
       "      <td>30.0</td>\n",
       "      <td>21.0</td>\n",
       "      <td>23.0</td>\n",
       "      <td>6780.0</td>\n",
       "      <td>10.0</td>\n",
       "      <td>11.0</td>\n",
       "      <td>2.0</td>\n",
       "      <td>5.0</td>\n",
       "      <td>1.0</td>\n",
       "      <td>0.0</td>\n",
       "      <td>0</td>\n",
       "      <td>0</td>\n",
       "      <td>0</td>\n",
       "      <td>0</td>\n",
       "      <td>1</td>\n",
       "      <td>0</td>\n",
       "      <td>0</td>\n",
       "    </tr>\n",
       "    <tr>\n",
       "      <td>336356</td>\n",
       "      <td>5828.0</td>\n",
       "      <td>23.0</td>\n",
       "      <td>21.0</td>\n",
       "      <td>804.0</td>\n",
       "      <td>21.0</td>\n",
       "      <td>3350.0</td>\n",
       "      <td>23.0</td>\n",
       "      <td>894.0</td>\n",
       "      <td>21.0</td>\n",
       "      <td>961.0</td>\n",
       "      <td>7.0</td>\n",
       "      <td>10.0</td>\n",
       "      <td>3.0</td>\n",
       "      <td>5.0</td>\n",
       "      <td>1.0</td>\n",
       "      <td>1.0</td>\n",
       "      <td>0</td>\n",
       "      <td>0</td>\n",
       "      <td>0</td>\n",
       "      <td>0</td>\n",
       "      <td>0</td>\n",
       "      <td>1</td>\n",
       "      <td>0</td>\n",
       "    </tr>\n",
       "    <tr>\n",
       "      <td>336357</td>\n",
       "      <td>21.0</td>\n",
       "      <td>1098.0</td>\n",
       "      <td>1098.0</td>\n",
       "      <td>1098.0</td>\n",
       "      <td>1098.0</td>\n",
       "      <td>1098.0</td>\n",
       "      <td>1098.0</td>\n",
       "      <td>1098.0</td>\n",
       "      <td>1098.0</td>\n",
       "      <td>1098.0</td>\n",
       "      <td>2.0</td>\n",
       "      <td>10.0</td>\n",
       "      <td>2.0</td>\n",
       "      <td>11.0</td>\n",
       "      <td>1.0</td>\n",
       "      <td>1.0</td>\n",
       "      <td>0</td>\n",
       "      <td>0</td>\n",
       "      <td>0</td>\n",
       "      <td>0</td>\n",
       "      <td>0</td>\n",
       "      <td>0</td>\n",
       "      <td>1</td>\n",
       "    </tr>\n",
       "  </tbody>\n",
       "</table>\n",
       "<p>336358 rows × 23 columns</p>\n",
       "</div>"
      ],
      "text/plain": [
       "          site1   site2    site3    site4   site5   site6    site7    site8  \\\n",
       "0         718.0     0.0      0.0      0.0     0.0     0.0      0.0      0.0   \n",
       "1         890.0   941.0   3847.0    941.0   942.0  3846.0   3847.0   3846.0   \n",
       "2       14769.0    39.0  14768.0  14769.0    37.0    39.0  14768.0  14768.0   \n",
       "3         782.0   782.0    782.0    782.0   782.0   782.0    782.0    782.0   \n",
       "4          22.0   177.0    175.0    178.0   177.0   178.0    175.0    177.0   \n",
       "...         ...     ...      ...      ...     ...     ...      ...      ...   \n",
       "336353    812.0  1039.0    676.0      0.0     0.0     0.0      0.0      0.0   \n",
       "336354    300.0   302.0    302.0    300.0   300.0  1222.0    302.0   1218.0   \n",
       "336355     29.0    33.0     35.0     22.0    37.0  6779.0     30.0     21.0   \n",
       "336356   5828.0    23.0     21.0    804.0    21.0  3350.0     23.0    894.0   \n",
       "336357     21.0  1098.0   1098.0   1098.0  1098.0  1098.0   1098.0   1098.0   \n",
       "\n",
       "          site9   site10  #unique_sites  start_hour  start_day  start_month  \\\n",
       "0           0.0      0.0            1.0        10.0       20.0          2.0   \n",
       "1        1516.0   1518.0            7.0        11.0       22.0          2.0   \n",
       "2       14768.0  14768.0            4.0        16.0       16.0         12.0   \n",
       "3         782.0    782.0            1.0        10.0       28.0          3.0   \n",
       "4         177.0    178.0            4.0        10.0       28.0          2.0   \n",
       "...         ...      ...            ...         ...        ...          ...   \n",
       "336353      0.0      0.0            3.0        18.0        2.0         10.0   \n",
       "336354   1221.0   1216.0            6.0        14.0       26.0          5.0   \n",
       "336355     23.0   6780.0           10.0        11.0        2.0          5.0   \n",
       "336356     21.0    961.0            7.0        10.0        3.0          5.0   \n",
       "336357   1098.0   1098.0            2.0        10.0        2.0         11.0   \n",
       "\n",
       "        time_of_day  weekends  start_day_of_week_1.0  start_day_of_week_2.0  \\\n",
       "0               1.0       0.0                      0                      0   \n",
       "1               1.0       1.0                      0                      0   \n",
       "2               2.0       0.0                      1                      0   \n",
       "3               1.0       0.0                      0                      0   \n",
       "4               1.0       0.0                      0                      0   \n",
       "...             ...       ...                    ...                    ...   \n",
       "336353          3.0       0.0                      0                      0   \n",
       "336354          2.0       0.0                      1                      0   \n",
       "336355          1.0       0.0                      0                      0   \n",
       "336356          1.0       1.0                      0                      0   \n",
       "336357          1.0       1.0                      0                      0   \n",
       "\n",
       "        start_day_of_week_3.0  start_day_of_week_4.0  start_day_of_week_5.0  \\\n",
       "0                           0                      1                      0   \n",
       "1                           0                      0                      0   \n",
       "2                           0                      0                      0   \n",
       "3                           0                      0                      1   \n",
       "4                           0                      0                      1   \n",
       "...                       ...                    ...                    ...   \n",
       "336353                      0                      1                      0   \n",
       "336354                      0                      0                      0   \n",
       "336355                      0                      0                      1   \n",
       "336356                      0                      0                      0   \n",
       "336357                      0                      0                      0   \n",
       "\n",
       "        start_day_of_week_6.0  start_day_of_week_7.0  \n",
       "0                           0                      0  \n",
       "1                           1                      0  \n",
       "2                           0                      0  \n",
       "3                           0                      0  \n",
       "4                           0                      0  \n",
       "...                       ...                    ...  \n",
       "336353                      0                      0  \n",
       "336354                      0                      0  \n",
       "336355                      0                      0  \n",
       "336356                      1                      0  \n",
       "336357                      0                      1  \n",
       "\n",
       "[336358 rows x 23 columns]"
      ]
     },
     "execution_count": 268,
     "metadata": {},
     "output_type": "execute_result"
    }
   ],
   "source": [
    "train_test_data_1"
   ]
  },
  {
   "cell_type": "code",
   "execution_count": null,
   "metadata": {},
   "outputs": [],
   "source": []
  },
  {
   "cell_type": "code",
   "execution_count": null,
   "metadata": {},
   "outputs": [],
   "source": []
  },
  {
   "cell_type": "code",
   "execution_count": null,
   "metadata": {},
   "outputs": [],
   "source": [
    "feature_names = ['site' + str(i) for i in range(1,11)] + \\\n",
    "                ['time_diff' + str(j) for j in range(1,10)] + \\\n",
    "                ['session_timespan', '#unique_sites', 'start_hour', 'start_day', 'start_month', 'start_year',\n",
    "                 'start_day_of_week', \"time_of_day\",'mean_time','weekends']"
   ]
  },
  {
   "cell_type": "code",
   "execution_count": null,
   "metadata": {},
   "outputs": [],
   "source": [
    "#unique_sites', 'start_hour', 'start_day', 'start_day_of_week' и 'time_of_day'."
   ]
  },
  {
   "cell_type": "code",
   "execution_count": null,
   "metadata": {},
   "outputs": [],
   "source": [
    "['session_timespan',  'start_hour', 'start_day', 'start_month', 'start_year','mean_time']"
   ]
  }
 ],
 "metadata": {
  "kernelspec": {
   "display_name": "Python 3",
   "language": "python",
   "name": "python3"
  },
  "language_info": {
   "codemirror_mode": {
    "name": "ipython",
    "version": 3
   },
   "file_extension": ".py",
   "mimetype": "text/x-python",
   "name": "python",
   "nbconvert_exporter": "python",
   "pygments_lexer": "ipython3",
   "version": "3.7.6"
  }
 },
 "nbformat": 4,
 "nbformat_minor": 2
}
