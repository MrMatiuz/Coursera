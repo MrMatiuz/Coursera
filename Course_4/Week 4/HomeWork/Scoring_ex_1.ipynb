{
 "cells": [
  {
   "cell_type": "markdown",
   "metadata": {},
   "source": [
    "### Анализ данных в задаче кредитного скоринга"
   ]
  },
  {
   "cell_type": "code",
   "execution_count": null,
   "metadata": {},
   "outputs": [],
   "source": [
    "import numpy as np\n",
    "import pandas as pd\n",
    "import scipy as sc\n",
    "from scipy import stats\n",
    "import matplotlib.pyplot as plt\n",
    "%matplotlib inline"
   ]
  },
  {
   "cell_type": "code",
   "execution_count": null,
   "metadata": {},
   "outputs": [],
   "source": [
    "data = pd.read_csv(\"credit_card_default_analysis.csv\")\n",
    "print(\"Всего в выборке: \", data.shape[0])\n",
    "data.head()"
   ]
  },
  {
   "cell_type": "code",
   "execution_count": null,
   "metadata": {},
   "outputs": [],
   "source": [
    "print(data.default.value_counts())\n",
    "data.describe()"
   ]
  },
  {
   "cell_type": "markdown",
   "metadata": {},
   "source": [
    "#### 1.a) Проверка гипотезы о равенстве медианных значений кредитного лимита с помощью интервальной оценки и бутстрепа"
   ]
  },
  {
   "cell_type": "code",
   "execution_count": null,
   "metadata": {},
   "outputs": [],
   "source": [
    "default = data[data.default==1].LIMIT_BAL.values\n",
    "med1 = np.median(default)\n",
    "\n",
    "nodefault = data[data.default==0].LIMIT_BAL.values\n",
    "med2 = np.median(nodefault)\n",
    "\n",
    "plt.figure(figsize=(15,5))\n",
    "plt.subplot(1,2,1)\n",
    "plt.hist(default, bins=30)\n",
    "plt.axvline(med1, color='r', linestyle='dashed', linewidth=2)\n",
    "plt.xlabel(\"медиана=%d\" % med1)\n",
    "plt.ylabel(\"count\")\n",
    "plt.title(\"Сумма кредита для DEFAULT==1\")\n",
    "\n",
    "plt.subplot(1,2,2)\n",
    "plt.hist(nodefault, bins=30)\n",
    "plt.xlabel(\"медиана=%d\" % med2)\n",
    "plt.ylabel(\"Кол-во\")\n",
    "plt.title(\"Сумма кредита для DEFAULT==0\")\n",
    "plt.axvline(med2, color='r', linestyle='dashed', linewidth=2)\n",
    "\n",
    "plt.show()\n",
    "\n",
    "print(\"Медиана для невернувших кредит: %.2f\" % med1)\n",
    "print(\"Медиана для вернувших кредит: %.2f\" % med2)"
   ]
  },
  {
   "cell_type": "markdown",
   "metadata": {},
   "source": [
    "Распределения отличны от нормальных, медианы не равны."
   ]
  },
  {
   "cell_type": "code",
   "execution_count": null,
   "metadata": {},
   "outputs": [],
   "source": [
    "def get_bootstrap_samples(data, n_samples):\n",
    "    indices = np.random.randint(0, len(data), (n_samples, len(data)))\n",
    "    samples = data[indices]\n",
    "    return samples"
   ]
  },
  {
   "cell_type": "code",
   "execution_count": null,
   "metadata": {},
   "outputs": [],
   "source": [
    "def stat_intervals(stat, alpha=0.05):\n",
    "    boundaries = np.percentile(stat, [100 * alpha / 2., 100 * (1 - alpha / 2.)])\n",
    "    return boundaries"
   ]
  },
  {
   "cell_type": "code",
   "execution_count": null,
   "metadata": {},
   "outputs": [],
   "source": [
    "np.random.seed(123)\n",
    "\n",
    "def_median_scores = np.median(get_bootstrap_samples(default, 1000), axis=1)\n",
    "nodef_median_scores = np.median(get_bootstrap_samples(nodefault, 1000), axis=1)\n",
    "\n",
    "print(\"95% доверительный интервал для неплательщиков:\",  stat_intervals(def_median_scores))\n",
    "print(\"95% доверительный интервал для тех, кто возвращает:\",  stat_intervals(nodef_median_scores))\n",
    "\n",
    "print(\"Дельта медиан\", np.median(nodefault) - np.median(default))"
   ]
  },
  {
   "cell_type": "code",
   "execution_count": null,
   "metadata": {},
   "outputs": [],
   "source": [
    "median_scores = map(lambda x: x[0] - x[1], zip(def_median_scores, nodef_median_scores))\n",
    "print(\"Оценка разности медиан:\",  stat_intervals(list(median_scores)))"
   ]
  },
  {
   "cell_type": "markdown",
   "metadata": {},
   "source": [
    "Полученный интервал не содержит 0, гипотезу о равенстве медианных значений можно отвергнуть."
   ]
  },
  {
   "cell_type": "markdown",
   "metadata": {},
   "source": [
    "#### 1.б) Проверка гипотезы о равенстве распределений с помощью перестановочного критерия"
   ]
  },
  {
   "cell_type": "markdown",
   "metadata": {},
   "source": [
    "Перестановчный критерий для независимых выборок:\n",
    "\n",
    "$H_0\\colon F_{X_1}(x) = F_{X_2}(x)$\n",
    "\n",
    "$H_1\\colon F_{X_1}(x) = F_{X_2}(x + \\Delta), \\Delta <\\neq> 0$\n",
    "\n",
    "Оцениваем гипотезы<br /> $H_0$: среднее значение суммы кредита одинаково для возвращающих и невозвращающих <br />\n",
    "$H_1$: среднее значение суммы отличается в этих группах."
   ]
  },
  {
   "cell_type": "code",
   "execution_count": 9,
   "metadata": {},
   "outputs": [],
   "source": [
    "def permutation_test_ind(sample1, sample2, max_permutations=None):\n",
    "    #sample1 и sample2 - выборки данных\n",
    "    #max_permutations - максимальное количество перестановок, none без ограничений\n",
    "    #return - достигаемый уровень значимости (p-value)\n",
    "\n",
    "    t_stat = permutation_t_stat_ind(sample1, sample2)\n",
    "    zero_distr = permutation_zero_dist_ind(sample1, sample2, max_permutations)    \n",
    "    return sum([1. if abs(x) >= abs(t_stat) else 0. for x in zero_distr]) / len(zero_distr)\n",
    "\n",
    "    \n",
    "def permutation_t_stat_ind(sample1, sample2):\n",
    "    return np.mean(sample1) - np.mean(sample2)\n",
    "\n",
    "\n",
    "def get_random_combinations(n1, n2, max_combinations):\n",
    "    index = list(range(n1 + n2))\n",
    "    indices = set([tuple(index)])\n",
    "    for i in range(max_combinations - 1):\n",
    "        np.random.shuffle(index)\n",
    "        indices.add(tuple(index))\n",
    "    return [(index[:n1], index[n1:]) for index in indices]\n",
    "\n",
    "\n",
    "def permutation_zero_dist_ind(sample1, sample2, max_combinations=None):\n",
    "    joined_sample = np.hstack((sample1, sample2))\n",
    "    n1 = len(sample1)\n",
    "    n = len(joined_sample)\n",
    "\n",
    "    if max_combinations:\n",
    "        indices = get_random_combinations(n1, len(sample2), max_combinations)\n",
    "    else:\n",
    "        indices = [(list(index), filter(lambda i: i not in index, range(n))) \\\n",
    "                   for index in itertools.combinations(range(n), n1)]\n",
    "\n",
    "    distr = [joined_sample[list(i[0])].mean() - joined_sample[list(i[1])].mean() \\\n",
    "             for i in indices]\n",
    "    return distr"
   ]
  },
  {
   "cell_type": "code",
   "execution_count": null,
   "metadata": {},
   "outputs": [],
   "source": [
    "%%time\n",
    "pval = permutation_test_ind(nodefault, default, max_permutations=10000)\n",
    "print(\"Достигаемый уровень значимости: %.5f\" % pval)"
   ]
  },
  {
   "cell_type": "markdown",
   "metadata": {},
   "source": [
    "Полученный уровень значимости очень мал, поэтому на уровне 0.05 можно отвергать нулевую гипотезу, распределения не равны.\n",
    "Заявки на выдачу кредитов в размере около 80 000 - 90 000 есть смысл рассматривать более предвзято и внимательно, повышается риск невозврата."
   ]
  },
  {
   "cell_type": "markdown",
   "metadata": {},
   "source": [
    "#### 2. Проверка гипотезы о том, что гендерный состав группы людей вернувших и не вернувших кредит отличается"
   ]
  },
  {
   "cell_type": "code",
   "execution_count": 10,
   "metadata": {},
   "outputs": [
    {
     "data": {
      "text/plain": [
       "2    18112\n",
       "1    11888\n",
       "Name: SEX, dtype: int64"
      ]
     },
     "execution_count": 10,
     "metadata": {},
     "output_type": "execute_result"
    }
   ],
   "source": [
    "data.SEX.value_counts()"
   ]
  },
  {
   "cell_type": "code",
   "execution_count": 11,
   "metadata": {},
   "outputs": [
    {
     "name": "stdout",
     "output_type": "stream",
     "text": [
      "Таблица сопряженности:\n"
     ]
    },
    {
     "data": {
      "text/html": [
       "<div>\n",
       "<style scoped>\n",
       "    .dataframe tbody tr th:only-of-type {\n",
       "        vertical-align: middle;\n",
       "    }\n",
       "\n",
       "    .dataframe tbody tr th {\n",
       "        vertical-align: top;\n",
       "    }\n",
       "\n",
       "    .dataframe thead th {\n",
       "        text-align: right;\n",
       "    }\n",
       "</style>\n",
       "<table border=\"1\" class=\"dataframe\">\n",
       "  <thead>\n",
       "    <tr style=\"text-align: right;\">\n",
       "      <th>SEX</th>\n",
       "      <th>1</th>\n",
       "      <th>2</th>\n",
       "    </tr>\n",
       "    <tr>\n",
       "      <th>default</th>\n",
       "      <th></th>\n",
       "      <th></th>\n",
       "    </tr>\n",
       "  </thead>\n",
       "  <tbody>\n",
       "    <tr>\n",
       "      <th>0</th>\n",
       "      <td>9015</td>\n",
       "      <td>14349</td>\n",
       "    </tr>\n",
       "    <tr>\n",
       "      <th>1</th>\n",
       "      <td>2873</td>\n",
       "      <td>3763</td>\n",
       "    </tr>\n",
       "  </tbody>\n",
       "</table>\n",
       "</div>"
      ],
      "text/plain": [
       "SEX         1      2\n",
       "default             \n",
       "0        9015  14349\n",
       "1        2873   3763"
      ]
     },
     "execution_count": 11,
     "metadata": {},
     "output_type": "execute_result"
    }
   ],
   "source": [
    "print(\"Таблица сопряженности:\")\n",
    "table_sex = data.pivot_table(index='default', values=\"LIMIT_BAL\", columns='SEX', aggfunc = len, fill_value=0)\n",
    "table_sex.head()"
   ]
  },
  {
   "cell_type": "code",
   "execution_count": 12,
   "metadata": {},
   "outputs": [
    {
     "data": {
      "image/png": "[encoded data removed]",
      "text/plain": [
       "<Figure size 432x288 with 1 Axes>"
      ]
     },
     "metadata": {
      "needs_background": "light"
     },
     "output_type": "display_data"
    }
   ],
   "source": [
    "table_sex.plot.bar(color='bg', rot=0)\n",
    "plt.xlabel(\"возврат/невозврат\")\n",
    "plt.ylabel(\"Количество кредитов\")\n",
    "plt.title(\"Зависимость возврата кредита от пола заёмщика\")\n",
    "plt.legend([\"мужчины\", \"женщины\"])\n",
    "plt.grid()\n",
    "\n",
    "plt.show()"
   ]
  },
  {
   "cell_type": "markdown",
   "metadata": {},
   "source": [
    "Оценим гипотезу о совпадении состава групп по половому признаку.<br />\n",
    "$H_{0} \\colon p_{1} = p_{2}$\n",
    "\n",
    "$H_{1} \\colon p_{1} < \\neq > p_{2}$\n",
    "\n",
    "В данном случае <br />\n",
    "$H_0$: гендерный состав групп совпадает <br />\n",
    "$H_1$: гендерный состав групп различается <br />\n",
    "\n",
    "Предположим, что выборки имеют распределения Бернулли с распределениями $Ber(p_{1})$ и $Ber(p_{2})$."
   ]
  },
  {
   "cell_type": "code",
   "execution_count": 13,
   "metadata": {},
   "outputs": [],
   "source": [
    "nodef_sex = data[data['default'] == 0]['SEX']\n",
    "def_sex = data[data['default'] == 1]['SEX']"
   ]
  },
  {
   "cell_type": "markdown",
   "metadata": {},
   "source": [
    "Проверка с помощью доверительного интервала:"
   ]
  },
  {
   "cell_type": "code",
   "execution_count": 14,
   "metadata": {},
   "outputs": [],
   "source": [
    "def proportions_diff_confint_ind(sample1, sample2, alpha=0.05):\n",
    "    z = stats.norm.ppf(1 - alpha / 2.)\n",
    "\n",
    "    p1 = float(sum(sample1)) / len(sample1)\n",
    "    p2 = float(sum(sample2)) / len(sample2)\n",
    "\n",
    "    left_boundary = (p1 - p2) - z * np.sqrt(\n",
    "        p1 * (1 - p1) / len(sample1) + p2 * (1 - p2) / len(sample2))\n",
    "    right_boundary = (p1 - p2) + z * np.sqrt(\n",
    "        p1 * (1 - p1) / len(sample1) + p2 * (1 - p2) / len(sample2))\n",
    "\n",
    "    return (left_boundary, right_boundary)"
   ]
  },
  {
   "cell_type": "code",
   "execution_count": 15,
   "metadata": {},
   "outputs": [
    {
     "name": "stdout",
     "output_type": "stream",
     "text": [
      "95 доверительный интервал для разности соотношений: [-0.0605], [-0.0336]\n"
     ]
    }
   ],
   "source": [
    "alpha = 0.05\n",
    "interval = proportions_diff_confint_ind(list(map(lambda x: 0 if x == 2 else x, nodef_sex)),\n",
    "                                        list(map(lambda x: 0 if x == 2 else x, def_sex)), alpha)\n",
    "print(\"%d доверительный интервал для разности соотношений: [%.4f], [%.4f]\" % ((1 - alpha) * 100, interval[0], interval[1]))"
   ]
  },
  {
   "cell_type": "markdown",
   "metadata": {},
   "source": [
    "Полученный интервал не содержит нуля, значит гендерный состав групп возвращающих и невозвращающих кредиты разный."
   ]
  },
  {
   "cell_type": "markdown",
   "metadata": {},
   "source": [
    "Проверка гипотезы тестом Фишера:"
   ]
  },
  {
   "cell_type": "code",
   "execution_count": 16,
   "metadata": {},
   "outputs": [
    {
     "name": "stdout",
     "output_type": "stream",
     "text": [
      "Отношение шансов: 0.82\n",
      "P-value: 5.2528380520530976e-12\n"
     ]
    }
   ],
   "source": [
    "oddsratio, pval = stats.fisher_exact(table_sex.values, alternative='two-sided')\n",
    "print(\"Отношение шансов: %.2f\" % oddsratio)\n",
    "print(\"P-value: %s\" % pval)"
   ]
  },
  {
   "cell_type": "markdown",
   "metadata": {},
   "source": [
    "При таком малом уровне значимости нулевая гипотеза отвергается. Половая принадлежность оказывает влияние на вероятность возврата кредита. Женщины возвращают заёмные средства чаще."
   ]
  },
  {
   "cell_type": "markdown",
   "metadata": {},
   "source": [
    "#### 3. Проверка гипотезы о том, что образование не влияет на вероятность возврата кредита"
   ]
  },
  {
   "cell_type": "code",
   "execution_count": 17,
   "metadata": {},
   "outputs": [
    {
     "data": {
      "text/plain": [
       "2    14030\n",
       "1    10585\n",
       "3     4917\n",
       "5      280\n",
       "4      123\n",
       "6       51\n",
       "0       14\n",
       "Name: EDUCATION, dtype: int64"
      ]
     },
     "execution_count": 17,
     "metadata": {},
     "output_type": "execute_result"
    }
   ],
   "source": [
    "edu_names = [\"Ph.D.\", \"Master\", \"Bachelor\", \"Graduate school\", \"Elementary education\", \"N/A\"]\n",
    "data.EDUCATION.value_counts()"
   ]
  },
  {
   "cell_type": "code",
   "execution_count": 18,
   "metadata": {},
   "outputs": [
    {
     "data": {
      "text/html": [
       "<div>\n",
       "<style scoped>\n",
       "    .dataframe tbody tr th:only-of-type {\n",
       "        vertical-align: middle;\n",
       "    }\n",
       "\n",
       "    .dataframe tbody tr th {\n",
       "        vertical-align: top;\n",
       "    }\n",
       "\n",
       "    .dataframe thead th {\n",
       "        text-align: right;\n",
       "    }\n",
       "</style>\n",
       "<table border=\"1\" class=\"dataframe\">\n",
       "  <thead>\n",
       "    <tr style=\"text-align: right;\">\n",
       "      <th>EDUCATION</th>\n",
       "      <th>0</th>\n",
       "      <th>1</th>\n",
       "      <th>2</th>\n",
       "      <th>3</th>\n",
       "      <th>4</th>\n",
       "      <th>5</th>\n",
       "      <th>6</th>\n",
       "    </tr>\n",
       "    <tr>\n",
       "      <th>default</th>\n",
       "      <th></th>\n",
       "      <th></th>\n",
       "      <th></th>\n",
       "      <th></th>\n",
       "      <th></th>\n",
       "      <th></th>\n",
       "      <th></th>\n",
       "    </tr>\n",
       "  </thead>\n",
       "  <tbody>\n",
       "    <tr>\n",
       "      <th>0</th>\n",
       "      <td>14</td>\n",
       "      <td>8549</td>\n",
       "      <td>10700</td>\n",
       "      <td>3680</td>\n",
       "      <td>116</td>\n",
       "      <td>262</td>\n",
       "      <td>43</td>\n",
       "    </tr>\n",
       "    <tr>\n",
       "      <th>1</th>\n",
       "      <td>0</td>\n",
       "      <td>2036</td>\n",
       "      <td>3330</td>\n",
       "      <td>1237</td>\n",
       "      <td>7</td>\n",
       "      <td>18</td>\n",
       "      <td>8</td>\n",
       "    </tr>\n",
       "  </tbody>\n",
       "</table>\n",
       "</div>"
      ],
      "text/plain": [
       "EDUCATION   0     1      2     3    4    5   6\n",
       "default                                       \n",
       "0          14  8549  10700  3680  116  262  43\n",
       "1           0  2036   3330  1237    7   18   8"
      ]
     },
     "execution_count": 18,
     "metadata": {},
     "output_type": "execute_result"
    }
   ],
   "source": [
    "def_edu = data[data.default==1].EDUCATION.values\n",
    "nodef_edu = data[data.default==0].EDUCATION.values\n",
    "\n",
    "table_edu = data.pivot_table(index='default', values=\"LIMIT_BAL\", columns='EDUCATION', aggfunc = len, fill_value=0)\n",
    "table_edu.head()"
   ]
  },
  {
   "cell_type": "code",
   "execution_count": 19,
   "metadata": {},
   "outputs": [
    {
     "data": {
      "image/png": "[encoded data removed]",
      "text/plain": [
       "<Figure size 720x504 with 1 Axes>"
      ]
     },
     "metadata": {
      "needs_background": "light"
     },
     "output_type": "display_data"
    }
   ],
   "source": [
    "table_edu.plot.bar(rot=0, figsize=(10, 7))\n",
    "plt.xlabel(\"возврат/невозврат\")\n",
    "plt.ylabel(\"Количество кредитов\")\n",
    "plt.title(\"Влияние уровня образования на возврат кредитов\")\n",
    "plt.legend(edu_names)\n",
    "plt.grid()\n",
    "plt.show()"
   ]
  },
  {
   "cell_type": "markdown",
   "metadata": {},
   "source": [
    "Проверим гипотезу с помощью критерия хи-квадрат.<br />\n",
    "$H_0$: уровень образования не влияет на возврат кредита <br />\n",
    "$H_1$: влияет <br />\n",
    "\n",
    "Правила для статистики хи-квадрат:\n",
    "* количество объектов в таблице сопряжённости $$n \\geq 40$$\n",
    "* ожидаемое количество элементов в таблице $${n_{i+} n_{+j} \\over n} < 5 \\text{ не более, чем в 20% случаев}$$"
   ]
  },
  {
   "cell_type": "code",
   "execution_count": 20,
   "metadata": {},
   "outputs": [
    {
     "name": "stdout",
     "output_type": "stream",
     "text": [
      "Кол-во объектов в таблице: 30000\n",
      "Доля элементов меньше 5: 0.07142857142857142\n"
     ]
    }
   ],
   "source": [
    "print('Кол-во объектов в таблице:', np.sum(np.array(table_edu)))\n",
    "print('Доля элементов меньше 5:', 1.*np.sum(np.array(table_edu) < 5) / (table_edu.shape[0] * table_edu.shape[1]))"
   ]
  },
  {
   "cell_type": "code",
   "execution_count": 21,
   "metadata": {},
   "outputs": [
    {
     "name": "stdout",
     "output_type": "stream",
     "text": [
      "p-value:  1.2332626245415605e-32\n"
     ]
    }
   ],
   "source": [
    "chi2, pval, dof, ex = stats.chi2_contingency(table_edu.values)\n",
    "print(\"p-value: \", pval)"
   ]
  },
  {
   "cell_type": "markdown",
   "metadata": {},
   "source": [
    "Нулевая гипотеза отвергается.\n",
    "Построим гистограмму соотношения наблюдаемого и ожидаемого количества человек, возвращающих кредиты."
   ]
  },
  {
   "cell_type": "code",
   "execution_count": 22,
   "metadata": {},
   "outputs": [
    {
     "data": {
      "image/png": "[encoded data removed]",
      "text/plain": [
       "<Figure size 1080x504 with 1 Axes>"
      ]
     },
     "metadata": {
      "needs_background": "light"
     },
     "output_type": "display_data"
    }
   ],
   "source": [
    "table_diff_edu1 = pd.DataFrame(data=ex-table_edu.values, columns=table_edu.columns)\n",
    "table_diff_edu1.rename(index={0: \"default=0\", 1: \"default=1\"}, inplace=True)\n",
    "\n",
    "table_diff_edu1.plot.bar(rot=0, figsize=(15, 7))\n",
    "plt.ylabel(\"Количество кредитов\")\n",
    "plt.title(\"Разница между наблюдаемым и ожидаемым количеством кредитов\")\n",
    "plt.legend(edu_names)\n",
    "plt.grid()\n",
    "plt.show()"
   ]
  },
  {
   "cell_type": "markdown",
   "metadata": {},
   "source": [
    "Построим гистограмму разности между возвращающими и невозвращающими по каждому из уровней образования."
   ]
  },
  {
   "cell_type": "code",
   "execution_count": 23,
   "metadata": {},
   "outputs": [
    {
     "data": {
      "image/png": "[encoded data removed]",
      "text/plain": [
       "<Figure size 720x504 with 1 Axes>"
      ]
     },
     "metadata": {
      "needs_background": "light"
     },
     "output_type": "display_data"
    }
   ],
   "source": [
    "table_diff_edu2 = pd.DataFrame(data=(table_edu.loc[0] - table_edu.loc[1]).values.reshape(1,7),\n",
    "                               columns=table_edu.columns, index = [\"difference\"])\n",
    "\n",
    "table_diff_edu2.plot.bar(rot=0, figsize=(10, 7))\n",
    "plt.ylabel(\"Количество кредитов\")\n",
    "plt.title(\"Разница между вернувшими и невернувшими\")\n",
    "plt.legend(edu_names)\n",
    "plt.grid()\n",
    "plt.show()"
   ]
  },
  {
   "cell_type": "markdown",
   "metadata": {},
   "source": [
    "Отнормируем значения, для этого разделим каждое значение разности на количество людей в этой подгруппе. Чем больше полученное значение, тем больше доля людей с этим уровнем образования вернули кредит."
   ]
  },
  {
   "cell_type": "code",
   "execution_count": 24,
   "metadata": {},
   "outputs": [
    {
     "data": {
      "image/png": "[encoded data removed]",
      "text/plain": [
       "<Figure size 1080x504 with 1 Axes>"
      ]
     },
     "metadata": {
      "needs_background": "light"
     },
     "output_type": "display_data"
    }
   ],
   "source": [
    "diff_edu2_scaled = (table_edu.loc[0] - table_edu.loc[1]) / ((table_edu.loc[0] + table_edu.loc[1]))\n",
    "table_diff_edu2_scaled = pd.DataFrame(data=diff_edu2_scaled.values.reshape(1,7),\n",
    "                                      columns=table_edu.columns, index = [\"scaled_difference\"])\n",
    "\n",
    "table_diff_edu2_scaled.plot.bar(rot=0, figsize=(15, 7))\n",
    "plt.ylabel(\"Отношение честных граждан к неплательщикам\")\n",
    "plt.title(\"Нормированная разница между платящими и неплательщиками\")\n",
    "plt.legend(edu_names)\n",
    "plt.grid()\n",
    "plt.show()"
   ]
  },
  {
   "cell_type": "markdown",
   "metadata": {},
   "source": [
    "Вывод: доктора и магистры чаще возвращают кредиты, люди со средним образованием и бакалавры  - не самые надёжные заёмщики."
   ]
  },
  {
   "cell_type": "markdown",
   "metadata": {},
   "source": [
    "#### 4. Проверка связи семейного положения с индикатором дефолта"
   ]
  },
  {
   "cell_type": "code",
   "execution_count": null,
   "metadata": {},
   "outputs": [],
   "source": [
    "mar_names = [\"refused\", \"married\", \"single\", \"N/A\"]\n",
    "data.MARRIAGE.value_counts()"
   ]
  },
  {
   "cell_type": "code",
   "execution_count": null,
   "metadata": {},
   "outputs": [],
   "source": [
    "table_mar = data.pivot_table(index='default', \n",
    "     values=\"LIMIT_BAL\", columns='MARRIAGE', aggfunc = len, fill_value=0)\n",
    "table_mar.head()"
   ]
  },
  {
   "cell_type": "code",
   "execution_count": null,
   "metadata": {},
   "outputs": [],
   "source": [
    "table_mar.plot.bar(rot=0, figsize=(10, 7))\n",
    "plt.xlabel(\"возврат/невозврат\")\n",
    "plt.ylabel(\"Количество кредитов\")\n",
    "plt.title(\"Влияние семейного положения на возврат кредитов\")\n",
    "plt.legend(mar_names)\n",
    "plt.grid()\n",
    "plt.show()"
   ]
  },
  {
   "cell_type": "markdown",
   "metadata": {},
   "source": [
    "Применимость критерия хи-квадрат:"
   ]
  },
  {
   "cell_type": "code",
   "execution_count": null,
   "metadata": {},
   "outputs": [],
   "source": [
    "print('Кол-во измерений в совокупной выборке:', np.sum(np.array(table_mar)))\n",
    "print('Доля элементов меньше 5:', np.sum(np.array(table_mar) < 5) / (table_mar.values.shape[0] * table_mar.values.shape[1])) "
   ]
  },
  {
   "cell_type": "code",
   "execution_count": null,
   "metadata": {},
   "outputs": [],
   "source": [
    "chi2, p, dof, exp = stats.chi2_contingency(table_mar)\n",
    "\n",
    "n = table_mar.sum(axis = 0).sum()\n",
    "cr_v = (chi2 / n) ** 0.5\n",
    "\n",
    "print('Коэффициент Крамера V = %.4f' % cr_v)\n",
    "print('p-value = ', p)"
   ]
  },
  {
   "cell_type": "markdown",
   "metadata": {},
   "source": [
    "Вывод: корреляция слабая, на уровне значимости 0.05 можно утверждать, что семейное положение заёмщика не влияет на вероятность возврата кредита."
   ]
  },
  {
   "cell_type": "markdown",
   "metadata": {},
   "source": [
    "#### 5.а) Проверка гипотезы о равенстве медианных значений возрастов людей"
   ]
  },
  {
   "cell_type": "code",
   "execution_count": null,
   "metadata": {},
   "outputs": [],
   "source": [
    "nodef_age = data[data['default'] == 0].AGE.values\n",
    "def_age = data[data['default'] == 1].AGE.values\n",
    "\n",
    "nodef_age_median = np.median(nodef_age)\n",
    "def_age_median = np.median(def_age)"
   ]
  },
  {
   "cell_type": "code",
   "execution_count": null,
   "metadata": {},
   "outputs": [],
   "source": [
    "plt.figure(figsize=(15,5))\n",
    "plt.subplot(1,2,1)\n",
    "plt.hist(def_age, bins=30)\n",
    "plt.axvline(def_age_median, color='r', linestyle='dashed', linewidth=2)\n",
    "plt.xlabel(\"возраст (медиана=%d)\" % def_age_median)\n",
    "plt.ylabel(\"Количество кредитов\")\n",
    "plt.title(\"Возраст невозвращающих\")\n",
    "\n",
    "plt.subplot(1,2,2)\n",
    "plt.hist(nodef_age, bins=30)\n",
    "plt.xlabel(\"возраст (медиана=%d)\" % nodef_age_median)\n",
    "plt.ylabel(\"Количество кредитов\")\n",
    "plt.title(\"Возраст возвращающих\")\n",
    "plt.axvline(nodef_age_median, color='r', linestyle='dashed', linewidth=2)\n",
    "\n",
    "plt.show()\n",
    "\n",
    "print(\"Медиана для DEF=1: %.2f\" % def_age_median)\n",
    "print(\"Медиана для DEF=0: %.2f\" % nodef_age_median)"
   ]
  },
  {
   "cell_type": "markdown",
   "metadata": {},
   "source": [
    "Распределения не являются нормальными."
   ]
  },
  {
   "cell_type": "code",
   "execution_count": null,
   "metadata": {},
   "outputs": [],
   "source": [
    "np.random.seed(123)\n",
    "\n",
    "def_median_scores = np.median(get_bootstrap_samples(def_age, 1000), axis=1)\n",
    "nodef_median_scores = np.median(get_bootstrap_samples(nodef_age, 1000), axis=1)\n",
    "\n",
    "print(\"95% доверительный интервал для невозвращающих кредиты:\",  stat_intervals(def_median_scores))\n",
    "print(\"95% доверительный интервал для возвращающих кредиты:\",  stat_intervals(nodef_median_scores))"
   ]
  },
  {
   "cell_type": "code",
   "execution_count": null,
   "metadata": {},
   "outputs": [],
   "source": [
    "Интервалы пересекаются, а значит нужен интервал для разности."
   ]
  },
  {
   "cell_type": "code",
   "execution_count": null,
   "metadata": {},
   "outputs": [],
   "source": [
    "age_median_delta = np.array(nodef_median_scores) - np.array(def_median_scores)\n",
    "stat_intervals(age_median_delta, 0.05)"
   ]
  },
  {
   "cell_type": "markdown",
   "metadata": {},
   "source": [
    "Полученный интервал содержит нуль. Видимо, медианы не сильно отличаются."
   ]
  },
  {
   "cell_type": "markdown",
   "metadata": {},
   "source": [
    "#### 5.б) Проверка гипотезы о равенстве распределений с помощью одного из подходящих непараметрических критериев проверки равенства средних"
   ]
  },
  {
   "cell_type": "markdown",
   "metadata": {},
   "source": [
    "Применим Критерий Манна-Уитни для проверки равенства средних: <br />\n",
    "$H_0$: средние равны <br />\n",
    "$H_1$: средние не равны <br />"
   ]
  },
  {
   "cell_type": "code",
   "execution_count": null,
   "metadata": {},
   "outputs": [],
   "source": [
    "stats.mannwhitneyu(def_age, nodef_age)"
   ]
  },
  {
   "cell_type": "markdown",
   "metadata": {},
   "source": [
    "Уровень значимости выше 0.05, то есть нулевую гипотезу отвергать нельзя.\n",
    "Вывод: возраст заёмщика не имеет сильного влияния на вероятность возврата кредита."
   ]
  }
 ],
 "metadata": {
  "kernelspec": {
   "display_name": "Python 3",
   "language": "python",
   "name": "python3"
  },
  "language_info": {
   "codemirror_mode": {
    "name": "ipython",
    "version": 3
   },
   "file_extension": ".py",
   "mimetype": "text/x-python",
   "name": "python",
   "nbconvert_exporter": "python",
   "pygments_lexer": "ipython3",
   "version": "3.7.6"
  }
 },
 "nbformat": 4,
 "nbformat_minor": 2
}
