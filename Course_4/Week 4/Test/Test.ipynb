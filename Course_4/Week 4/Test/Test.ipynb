{
 "cells": [
  {
   "cell_type": "code",
   "execution_count": 1,
   "metadata": {},
   "outputs": [
    {
     "name": "stdout",
     "output_type": "stream",
     "text": [
      "Populating the interactive namespace from numpy and matplotlib\n"
     ]
    }
   ],
   "source": [
    "import pandas as pd\n",
    "import numpy as np\n",
    "from scipy import stats\n",
    "from statsmodels.sandbox.stats.multicomp import multipletests \n",
    "%pylab inline"
   ]
  },
  {
   "cell_type": "markdown",
   "metadata": {},
   "source": [
    "# Test №1"
   ]
  },
  {
   "cell_type": "markdown",
   "metadata": {},
   "source": [
    "Описание данных:\n",
    "\n",
    "* userID: уникальный идентификатор пользователя\n",
    "\n",
    "* browser: браузер, который использовал userID\n",
    "\n",
    "* slot: в каком статусе пользователь участвовал в исследовании (exp = видел измененную страницу, control = видел неизменную страницу)\n",
    "\n",
    "* n_clicks: количество кликов, которые пользоваль совершил за n_queries\n",
    "\n",
    "* n_queries: количество запросов, который совершил userID, пользуясь браузером browser\n",
    "\n",
    "* n_nonclk_queries: количество запросов пользователя, в которых им не было совершено ни одного клика\n",
    "\n",
    "Обращаем ваше внимание, что не все люди используют только один браузер, поэтому в столбце userID есть повторяющиеся идентификаторы. В предлагаемых данных уникальным является сочетание userID и browser."
   ]
  },
  {
   "cell_type": "code",
   "execution_count": 2,
   "metadata": {},
   "outputs": [],
   "source": [
    "data = pd.read_csv('ab_browser_test.csv')"
   ]
  },
  {
   "cell_type": "code",
   "execution_count": 3,
   "metadata": {},
   "outputs": [
    {
     "data": {
      "text/html": [
       "<div>\n",
       "<style scoped>\n",
       "    .dataframe tbody tr th:only-of-type {\n",
       "        vertical-align: middle;\n",
       "    }\n",
       "\n",
       "    .dataframe tbody tr th {\n",
       "        vertical-align: top;\n",
       "    }\n",
       "\n",
       "    .dataframe thead th {\n",
       "        text-align: right;\n",
       "    }\n",
       "</style>\n",
       "<table border=\"1\" class=\"dataframe\">\n",
       "  <thead>\n",
       "    <tr style=\"text-align: right;\">\n",
       "      <th></th>\n",
       "      <th>userID</th>\n",
       "      <th>browser</th>\n",
       "      <th>slot</th>\n",
       "      <th>n_clicks</th>\n",
       "      <th>n_queries</th>\n",
       "      <th>n_nonclk_queries</th>\n",
       "    </tr>\n",
       "  </thead>\n",
       "  <tbody>\n",
       "    <tr>\n",
       "      <th>0</th>\n",
       "      <td>1</td>\n",
       "      <td>Browser #2</td>\n",
       "      <td>exp</td>\n",
       "      <td>23</td>\n",
       "      <td>32</td>\n",
       "      <td>19</td>\n",
       "    </tr>\n",
       "    <tr>\n",
       "      <th>1</th>\n",
       "      <td>3</td>\n",
       "      <td>Browser #4</td>\n",
       "      <td>exp</td>\n",
       "      <td>3</td>\n",
       "      <td>4</td>\n",
       "      <td>2</td>\n",
       "    </tr>\n",
       "    <tr>\n",
       "      <th>2</th>\n",
       "      <td>5</td>\n",
       "      <td>Browser #4</td>\n",
       "      <td>exp</td>\n",
       "      <td>29</td>\n",
       "      <td>35</td>\n",
       "      <td>16</td>\n",
       "    </tr>\n",
       "    <tr>\n",
       "      <th>3</th>\n",
       "      <td>6</td>\n",
       "      <td>Browser #4</td>\n",
       "      <td>control</td>\n",
       "      <td>12</td>\n",
       "      <td>6</td>\n",
       "      <td>0</td>\n",
       "    </tr>\n",
       "    <tr>\n",
       "      <th>4</th>\n",
       "      <td>7</td>\n",
       "      <td>Browser #4</td>\n",
       "      <td>exp</td>\n",
       "      <td>54</td>\n",
       "      <td>68</td>\n",
       "      <td>30</td>\n",
       "    </tr>\n",
       "    <tr>\n",
       "      <th>...</th>\n",
       "      <td>...</td>\n",
       "      <td>...</td>\n",
       "      <td>...</td>\n",
       "      <td>...</td>\n",
       "      <td>...</td>\n",
       "      <td>...</td>\n",
       "    </tr>\n",
       "    <tr>\n",
       "      <th>566129</th>\n",
       "      <td>603133</td>\n",
       "      <td>Browser #14</td>\n",
       "      <td>control</td>\n",
       "      <td>1</td>\n",
       "      <td>2</td>\n",
       "      <td>1</td>\n",
       "    </tr>\n",
       "    <tr>\n",
       "      <th>566130</th>\n",
       "      <td>603134</td>\n",
       "      <td>Browser #2</td>\n",
       "      <td>exp</td>\n",
       "      <td>4</td>\n",
       "      <td>2</td>\n",
       "      <td>0</td>\n",
       "    </tr>\n",
       "    <tr>\n",
       "      <th>566131</th>\n",
       "      <td>603135</td>\n",
       "      <td>Browser #4</td>\n",
       "      <td>control</td>\n",
       "      <td>0</td>\n",
       "      <td>1</td>\n",
       "      <td>1</td>\n",
       "    </tr>\n",
       "    <tr>\n",
       "      <th>566132</th>\n",
       "      <td>603136</td>\n",
       "      <td>Browser #4</td>\n",
       "      <td>control</td>\n",
       "      <td>2</td>\n",
       "      <td>3</td>\n",
       "      <td>1</td>\n",
       "    </tr>\n",
       "    <tr>\n",
       "      <th>566133</th>\n",
       "      <td>603137</td>\n",
       "      <td>Browser #2</td>\n",
       "      <td>exp</td>\n",
       "      <td>3</td>\n",
       "      <td>1</td>\n",
       "      <td>0</td>\n",
       "    </tr>\n",
       "  </tbody>\n",
       "</table>\n",
       "<p>566134 rows × 6 columns</p>\n",
       "</div>"
      ],
      "text/plain": [
       "        userID      browser     slot  n_clicks  n_queries  n_nonclk_queries\n",
       "0            1   Browser #2      exp        23         32                19\n",
       "1            3   Browser #4      exp         3          4                 2\n",
       "2            5   Browser #4      exp        29         35                16\n",
       "3            6   Browser #4  control        12          6                 0\n",
       "4            7   Browser #4      exp        54         68                30\n",
       "...        ...          ...      ...       ...        ...               ...\n",
       "566129  603133  Browser #14  control         1          2                 1\n",
       "566130  603134   Browser #2      exp         4          2                 0\n",
       "566131  603135   Browser #4  control         0          1                 1\n",
       "566132  603136   Browser #4  control         2          3                 1\n",
       "566133  603137   Browser #2      exp         3          1                 0\n",
       "\n",
       "[566134 rows x 6 columns]"
      ]
     },
     "execution_count": 3,
     "metadata": {},
     "output_type": "execute_result"
    }
   ],
   "source": [
    "data"
   ]
  },
  {
   "cell_type": "code",
   "execution_count": 4,
   "metadata": {},
   "outputs": [],
   "source": [
    "exp_data = data[data['slot'] == 'exp']\n",
    "control_data = data[data['slot'] == 'control']"
   ]
  },
  {
   "cell_type": "code",
   "execution_count": 5,
   "metadata": {},
   "outputs": [
    {
     "data": {
      "text/plain": [
       "1.614"
      ]
     },
     "execution_count": 5,
     "metadata": {},
     "output_type": "execute_result"
    }
   ],
   "source": [
    "round((exp_data.n_clicks.sum() - control_data.n_clicks.sum()) / control_data.n_clicks.sum() * 100, 3)"
   ]
  },
  {
   "cell_type": "markdown",
   "metadata": {},
   "source": [
    " "
   ]
  },
  {
   "cell_type": "code",
   "execution_count": 6,
   "metadata": {},
   "outputs": [],
   "source": [
    "def get_bootstrap_samples(data, n_samples):\n",
    "    indices = np.random.randint(0, len(data), (n_samples, len(data)))\n",
    "    samples = data[indices]\n",
    "    return samples\n",
    "def stat_intervals(stat, alpha):\n",
    "    boundaries = np.percentile(stat, [100 * alpha / 2., 100 * (1 - alpha / 2.)])\n",
    "    return boundaries"
   ]
  },
  {
   "cell_type": "code",
   "execution_count": 7,
   "metadata": {},
   "outputs": [
    {
     "name": "stdout",
     "output_type": "stream",
     "text": [
      "95% confidence interval for exp median: [5. 5.]\n",
      "95% confidence interval for control median: [4. 4.]\n",
      "95% confidence interval for the difference between medians [-1. -1.]\n"
     ]
    }
   ],
   "source": [
    "np.random.seed(0)\n",
    "n_boot_samples = 500\n",
    "\n",
    "exp_median_scores = list(map(np.median, get_bootstrap_samples(exp_data.n_clicks.values, n_boot_samples)))\n",
    "control_median_scores = list(map(np.median, get_bootstrap_samples(control_data.n_clicks.values, n_boot_samples)))\n",
    "\n",
    "print(\"95% confidence interval for exp median:\",  stat_intervals(exp_median_scores, 0.05))\n",
    "print(\"95% confidence interval for control median:\",  stat_intervals(control_median_scores, 0.05))\n",
    "\n",
    "delta_median_scores = list(map(lambda x: x[1] - x[0], zip(exp_median_scores, control_median_scores)))\n",
    "print(\"95% confidence interval for the difference between medians\",  stat_intervals(delta_median_scores, 0.05))"
   ]
  },
  {
   "cell_type": "code",
   "execution_count": 8,
   "metadata": {},
   "outputs": [
    {
     "name": "stdout",
     "output_type": "stream",
     "text": [
      "95% confidence interval for exp mean: [11.50789349 11.6588664 ]\n",
      "95% confidence interval for control mean: [11.20668696 11.35347509]\n",
      "95% confidence interval for the difference between means [-0.40496719 -0.19960335]\n"
     ]
    }
   ],
   "source": [
    "np.random.seed(0)\n",
    "\n",
    "exp_mean_scores = list(map(np.mean, get_bootstrap_samples(exp_data.n_clicks.values, n_boot_samples)))\n",
    "control_mean_scores = list(map(np.mean, get_bootstrap_samples(control_data.n_clicks.values, n_boot_samples)))\n",
    "\n",
    "print(\"95% confidence interval for exp mean:\",  stat_intervals(exp_mean_scores, 0.05))\n",
    "print(\"95% confidence interval for control mean:\",  stat_intervals(control_mean_scores, 0.05))\n",
    "\n",
    "delta_median_scores = list(map(lambda x: x[1] - x[0], zip(exp_mean_scores, control_mean_scores)))\n",
    "print(\"95% confidence interval for the difference between means\",  stat_intervals(delta_median_scores, 0.05))"
   ]
  },
  {
   "cell_type": "markdown",
   "metadata": {},
   "source": [
    " "
   ]
  },
  {
   "cell_type": "code",
   "execution_count": 9,
   "metadata": {},
   "outputs": [
    {
     "data": {
      "image/png": "[encoded data removed]",
      "text/plain": [
       "<Figure size 1080x576 with 1 Axes>"
      ]
     },
     "metadata": {
      "needs_background": "light"
     },
     "output_type": "display_data"
    }
   ],
   "source": [
    "pylab.figure(figsize=(15,8))\n",
    "pylab.grid()\n",
    "pylab.hist(exp_data.n_clicks, bins=200)\n",
    "pylab.show()"
   ]
  },
  {
   "cell_type": "markdown",
   "metadata": {},
   "source": [
    " "
   ]
  },
  {
   "cell_type": "code",
   "execution_count": 10,
   "metadata": {},
   "outputs": [
    {
     "name": "stdout",
     "output_type": "stream",
     "text": [
      "mean = 11.280320, control_boot_chi_squared = 0.724024\n"
     ]
    }
   ],
   "source": [
    "mean = np.array(control_mean_scores).mean()\n",
    "control_boot_chi_squared = ((control_mean_scores - mean)**2).sum()\n",
    "print('mean = %f, control_boot_chi_squared = %f' % (mean, control_boot_chi_squared))"
   ]
  },
  {
   "cell_type": "code",
   "execution_count": 11,
   "metadata": {},
   "outputs": [
    {
     "data": {
      "image/png": "[encoded data removed]",
      "text/plain": [
       "<Figure size 864x432 with 1 Axes>"
      ]
     },
     "metadata": {
      "needs_background": "light"
     },
     "output_type": "display_data"
    },
    {
     "name": "stdout",
     "output_type": "stream",
     "text": [
      "Rˆ2 = 0.998389\n"
     ]
    }
   ],
   "source": [
    "pylab.figure(figsize=(12,6))\n",
    "_, info =stats.probplot(control_mean_scores, dist=\"chi2\", \n",
    "                              sparams=281579, plot=plt)\n",
    "pylab.show()\n",
    "print('Rˆ2 = %f' % info[2]**2)"
   ]
  },
  {
   "cell_type": "code",
   "execution_count": 12,
   "metadata": {},
   "outputs": [
    {
     "name": "stdout",
     "output_type": "stream",
     "text": [
      "95% confidence interval for control std: [19.97981291 20.63262605]\n"
     ]
    }
   ],
   "source": [
    "np.random.seed(0)\n",
    "\n",
    "control_boot_chi_squared = list(map(np.std, get_bootstrap_samples(control_data.n_clicks.values, n_boot_samples)))\n",
    "print(\"95% confidence interval for control std:\",  stat_intervals(control_boot_chi_squared, 0.05))"
   ]
  },
  {
   "cell_type": "code",
   "execution_count": 13,
   "metadata": {},
   "outputs": [
    {
     "data": {
      "image/png": "[encoded data removed]",
      "text/plain": [
       "<Figure size 864x432 with 1 Axes>"
      ]
     },
     "metadata": {
      "needs_background": "light"
     },
     "output_type": "display_data"
    },
    {
     "name": "stdout",
     "output_type": "stream",
     "text": [
      "Rˆ2 = 0.996839\n"
     ]
    }
   ],
   "source": [
    "pylab.figure(figsize=(12,6))\n",
    "_, info =stats.probplot(control_boot_chi_squared, dist=\"chi2\", \n",
    "                              sparams=281579, plot=plt)\n",
    "pylab.show()\n",
    "print('Rˆ2 = %f' % info[2]**2)"
   ]
  },
  {
   "cell_type": "markdown",
   "metadata": {},
   "source": [
    " "
   ]
  },
  {
   "cell_type": "code",
   "execution_count": 14,
   "metadata": {},
   "outputs": [
    {
     "data": {
      "text/plain": [
       "MannwhitneyuResult(statistic=38901259929.0, pvalue=4.3471471887604393e-75)"
      ]
     },
     "execution_count": 14,
     "metadata": {},
     "output_type": "execute_result"
    }
   ],
   "source": [
    "stats.mannwhitneyu(pd.pivot_table(exp_data,index=['userID'], values=['n_clicks'], aggfunc='sum').n_clicks.values,\n",
    "                   pd.pivot_table(control_data ,index=['userID'], values=['n_clicks'], aggfunc='sum').n_clicks.values)"
   ]
  },
  {
   "cell_type": "markdown",
   "metadata": {},
   "source": [
    " "
   ]
  },
  {
   "cell_type": "code",
   "execution_count": 15,
   "metadata": {},
   "outputs": [
    {
     "data": {
      "text/plain": [
       "array([0.02724386, 0.40760618, 0.        , 0.0374006 , 0.45366656,\n",
       "       0.25740552])"
      ]
     },
     "execution_count": 15,
     "metadata": {},
     "output_type": "execute_result"
    }
   ],
   "source": [
    "num_arr = [2, 4, 14, 17, 20, 22]\n",
    "p_val = np.array([])\n",
    "for num in num_arr:\n",
    "    _, p = stats.mannwhitneyu(exp_data[exp_data['browser'] == 'Browser #'+str(num)].n_clicks.values,\n",
    "                              control_data[control_data['browser'] == 'Browser #'+str(num)].n_clicks.values)\n",
    "    p_val = np.append(p_val, p)\n",
    "p_val"
   ]
  },
  {
   "cell_type": "code",
   "execution_count": 16,
   "metadata": {},
   "outputs": [],
   "source": [
    "reject, p_corrected, a1, a2 = multipletests(p_val, \n",
    "                                            alpha = 0.05, \n",
    "                                            method = 'holm')"
   ]
  },
  {
   "cell_type": "code",
   "execution_count": 17,
   "metadata": {},
   "outputs": [
    {
     "data": {
      "text/html": [
       "<div>\n",
       "<style scoped>\n",
       "    .dataframe tbody tr th:only-of-type {\n",
       "        vertical-align: middle;\n",
       "    }\n",
       "\n",
       "    .dataframe tbody tr th {\n",
       "        vertical-align: top;\n",
       "    }\n",
       "\n",
       "    .dataframe thead th {\n",
       "        text-align: right;\n",
       "    }\n",
       "</style>\n",
       "<table border=\"1\" class=\"dataframe\">\n",
       "  <thead>\n",
       "    <tr style=\"text-align: right;\">\n",
       "      <th></th>\n",
       "      <th>p-value</th>\n",
       "      <th>reject</th>\n",
       "      <th>p_corrected</th>\n",
       "    </tr>\n",
       "  </thead>\n",
       "  <tbody>\n",
       "    <tr>\n",
       "      <th>0</th>\n",
       "      <td>0.027244</td>\n",
       "      <td>False</td>\n",
       "      <td>0.136219</td>\n",
       "    </tr>\n",
       "    <tr>\n",
       "      <th>1</th>\n",
       "      <td>0.407606</td>\n",
       "      <td>False</td>\n",
       "      <td>0.815212</td>\n",
       "    </tr>\n",
       "    <tr>\n",
       "      <th>2</th>\n",
       "      <td>0.000000</td>\n",
       "      <td>True</td>\n",
       "      <td>0.000000</td>\n",
       "    </tr>\n",
       "    <tr>\n",
       "      <th>3</th>\n",
       "      <td>0.037401</td>\n",
       "      <td>False</td>\n",
       "      <td>0.149602</td>\n",
       "    </tr>\n",
       "    <tr>\n",
       "      <th>4</th>\n",
       "      <td>0.453667</td>\n",
       "      <td>False</td>\n",
       "      <td>0.815212</td>\n",
       "    </tr>\n",
       "    <tr>\n",
       "      <th>5</th>\n",
       "      <td>0.257406</td>\n",
       "      <td>False</td>\n",
       "      <td>0.772217</td>\n",
       "    </tr>\n",
       "  </tbody>\n",
       "</table>\n",
       "</div>"
      ],
      "text/plain": [
       "    p-value  reject  p_corrected\n",
       "0  0.027244   False     0.136219\n",
       "1  0.407606   False     0.815212\n",
       "2  0.000000    True     0.000000\n",
       "3  0.037401   False     0.149602\n",
       "4  0.453667   False     0.815212\n",
       "5  0.257406   False     0.772217"
      ]
     },
     "execution_count": 17,
     "metadata": {},
     "output_type": "execute_result"
    }
   ],
   "source": [
    "d = pd.DataFrame(p_val, columns=['p-value'])\n",
    "d['reject'] = reject\n",
    "d['p_corrected'] = p_corrected\n",
    "d"
   ]
  },
  {
   "cell_type": "markdown",
   "metadata": {},
   "source": [
    " "
   ]
  },
  {
   "cell_type": "code",
   "execution_count": 18,
   "metadata": {},
   "outputs": [
    {
     "name": "stdout",
     "output_type": "stream",
     "text": [
      "exp_prop \n",
      "              n_nonclk_queries  n_queries  proportion\n",
      "browser                                             \n",
      "Browser #14            123656     282606   43.755617\n",
      "Browser #17             77614     210123   36.937413\n",
      "Browser #2             246514     548019   44.982747\n",
      "Browser #20             72998     187283   38.977376\n",
      "Browser #22            296177     743156   39.853947\n",
      "Browser #4             456508    1011250   45.142942\n",
      "\n",
      "control_prop \n",
      "              n_nonclk_queries  n_queries  proportion\n",
      "browser                                             \n",
      "Browser #14            161252     279998   57.590411\n",
      "Browser #17             75837     208921   36.299367\n",
      "Browser #2             260259     566239   45.962747\n",
      "Browser #20             78548     193752   40.540485\n",
      "Browser #22            315470     777135   40.593977\n",
      "Browser #4             498254    1060771   46.970930\n"
     ]
    }
   ],
   "source": [
    "exp_prop = pd.pivot_table(exp_data,index=['browser'],\n",
    "                          values=['n_queries', 'n_nonclk_queries'],\n",
    "                          aggfunc='sum')\n",
    "control_prop = pd.pivot_table(control_data,index=['browser'],\n",
    "                              values=['n_queries', 'n_nonclk_queries'],\n",
    "                              aggfunc='sum')\n",
    "exp_prop['proportion'] = 100 * exp_prop.n_nonclk_queries / exp_prop.n_queries\n",
    "control_prop['proportion'] = 100 * control_prop.n_nonclk_queries / control_prop.n_queries\n",
    "print('exp_prop \\n',exp_prop)\n",
    "print()\n",
    "print('control_prop \\n', control_prop)"
   ]
  },
  {
   "cell_type": "markdown",
   "metadata": {},
   "source": [
    " "
   ]
  },
  {
   "cell_type": "markdown",
   "metadata": {},
   "source": [
    "# Test №2"
   ]
  },
  {
   "cell_type": "code",
   "execution_count": 19,
   "metadata": {},
   "outputs": [],
   "source": [
    "import itertools\n",
    "from scipy.stats import chi2_contingency"
   ]
  },
  {
   "cell_type": "markdown",
   "metadata": {},
   "source": [
    "Измерены следующие признаки:\n",
    "\n",
    "* state — штат США\n",
    "* account_length — длительность использования аккаунта\n",
    "* area_code — деление пользователей на псевдорегионы, использующееся в телекоме\n",
    "* intl_plan — подключена ли у пользователя услуга международного общения\n",
    "* vmail_plan — подключена ли у пользователя услуга голосовых сообщений\n",
    "* vmail_message — количество голосых сообщений, который пользователь отправил / принял\n",
    "* day_calls — сколько пользователь совершил дневных звонков\n",
    "* day_mins — сколько пользователь проговорил минут в течение дня\n",
    "* day_charge — сколько пользователь заплатил за свою дневную активность\n",
    "* eve_calls, eve_mins, eve_charge — аналогичные метрики относительно вечерней активности\n",
    "* night_calls, night_mins, night_charge — аналогичные метрики относительно ночной активности\n",
    "* intl_calls, intl_mins, intl_charge — аналогичные метрики относительно международного общения\n",
    "* custserv_calls — сколько раз пользователь позвонил в службу поддержки\n",
    "* treatment — номер стратегии, которая применялись для удержания абонентов (0, 2 = два разных типа воздействия, 1 = контрольная группа)\n",
    "* mes_estim — оценка интенсивности пользования интернет мессенджерами\n",
    "* churn — результат оттока: перестал ли абонент пользоваться услугами оператора"
   ]
  },
  {
   "cell_type": "code",
   "execution_count": 20,
   "metadata": {},
   "outputs": [
    {
     "data": {
      "text/html": [
       "<div>\n",
       "<style scoped>\n",
       "    .dataframe tbody tr th:only-of-type {\n",
       "        vertical-align: middle;\n",
       "    }\n",
       "\n",
       "    .dataframe tbody tr th {\n",
       "        vertical-align: top;\n",
       "    }\n",
       "\n",
       "    .dataframe thead th {\n",
       "        text-align: right;\n",
       "    }\n",
       "</style>\n",
       "<table border=\"1\" class=\"dataframe\">\n",
       "  <thead>\n",
       "    <tr style=\"text-align: right;\">\n",
       "      <th></th>\n",
       "      <th>Unnamed: 0</th>\n",
       "      <th>state</th>\n",
       "      <th>account_length</th>\n",
       "      <th>area_code</th>\n",
       "      <th>intl_plan</th>\n",
       "      <th>vmail_plan</th>\n",
       "      <th>vmail_message</th>\n",
       "      <th>day_mins</th>\n",
       "      <th>day_calls</th>\n",
       "      <th>day_charge</th>\n",
       "      <th>...</th>\n",
       "      <th>night_mins</th>\n",
       "      <th>night_calls</th>\n",
       "      <th>night_charge</th>\n",
       "      <th>intl_mins</th>\n",
       "      <th>intl_calls</th>\n",
       "      <th>intl_charge</th>\n",
       "      <th>custserv_calls</th>\n",
       "      <th>treatment</th>\n",
       "      <th>mes_estim</th>\n",
       "      <th>churn</th>\n",
       "    </tr>\n",
       "  </thead>\n",
       "  <tbody>\n",
       "    <tr>\n",
       "      <th>0</th>\n",
       "      <td>0</td>\n",
       "      <td>KS</td>\n",
       "      <td>128</td>\n",
       "      <td>415</td>\n",
       "      <td>no</td>\n",
       "      <td>yes</td>\n",
       "      <td>25</td>\n",
       "      <td>265.1</td>\n",
       "      <td>110</td>\n",
       "      <td>45.07</td>\n",
       "      <td>...</td>\n",
       "      <td>244.7</td>\n",
       "      <td>91</td>\n",
       "      <td>11.01</td>\n",
       "      <td>10.0</td>\n",
       "      <td>3</td>\n",
       "      <td>2.70</td>\n",
       "      <td>1</td>\n",
       "      <td>1</td>\n",
       "      <td>0.65</td>\n",
       "      <td>False.</td>\n",
       "    </tr>\n",
       "    <tr>\n",
       "      <th>1</th>\n",
       "      <td>1</td>\n",
       "      <td>OH</td>\n",
       "      <td>107</td>\n",
       "      <td>415</td>\n",
       "      <td>no</td>\n",
       "      <td>yes</td>\n",
       "      <td>26</td>\n",
       "      <td>161.6</td>\n",
       "      <td>123</td>\n",
       "      <td>27.47</td>\n",
       "      <td>...</td>\n",
       "      <td>254.4</td>\n",
       "      <td>103</td>\n",
       "      <td>11.45</td>\n",
       "      <td>13.7</td>\n",
       "      <td>3</td>\n",
       "      <td>3.70</td>\n",
       "      <td>1</td>\n",
       "      <td>0</td>\n",
       "      <td>0.55</td>\n",
       "      <td>False.</td>\n",
       "    </tr>\n",
       "    <tr>\n",
       "      <th>2</th>\n",
       "      <td>2</td>\n",
       "      <td>NJ</td>\n",
       "      <td>137</td>\n",
       "      <td>415</td>\n",
       "      <td>no</td>\n",
       "      <td>no</td>\n",
       "      <td>0</td>\n",
       "      <td>243.4</td>\n",
       "      <td>114</td>\n",
       "      <td>41.38</td>\n",
       "      <td>...</td>\n",
       "      <td>162.6</td>\n",
       "      <td>104</td>\n",
       "      <td>7.32</td>\n",
       "      <td>12.2</td>\n",
       "      <td>5</td>\n",
       "      <td>3.29</td>\n",
       "      <td>0</td>\n",
       "      <td>0</td>\n",
       "      <td>0.72</td>\n",
       "      <td>False.</td>\n",
       "    </tr>\n",
       "    <tr>\n",
       "      <th>3</th>\n",
       "      <td>3</td>\n",
       "      <td>OH</td>\n",
       "      <td>84</td>\n",
       "      <td>408</td>\n",
       "      <td>yes</td>\n",
       "      <td>no</td>\n",
       "      <td>0</td>\n",
       "      <td>299.4</td>\n",
       "      <td>71</td>\n",
       "      <td>50.90</td>\n",
       "      <td>...</td>\n",
       "      <td>196.9</td>\n",
       "      <td>89</td>\n",
       "      <td>8.86</td>\n",
       "      <td>6.6</td>\n",
       "      <td>7</td>\n",
       "      <td>1.78</td>\n",
       "      <td>2</td>\n",
       "      <td>1</td>\n",
       "      <td>0.28</td>\n",
       "      <td>False.</td>\n",
       "    </tr>\n",
       "    <tr>\n",
       "      <th>4</th>\n",
       "      <td>4</td>\n",
       "      <td>OK</td>\n",
       "      <td>75</td>\n",
       "      <td>415</td>\n",
       "      <td>yes</td>\n",
       "      <td>no</td>\n",
       "      <td>0</td>\n",
       "      <td>166.7</td>\n",
       "      <td>113</td>\n",
       "      <td>28.34</td>\n",
       "      <td>...</td>\n",
       "      <td>186.9</td>\n",
       "      <td>121</td>\n",
       "      <td>8.41</td>\n",
       "      <td>10.1</td>\n",
       "      <td>3</td>\n",
       "      <td>2.73</td>\n",
       "      <td>3</td>\n",
       "      <td>2</td>\n",
       "      <td>0.45</td>\n",
       "      <td>False.</td>\n",
       "    </tr>\n",
       "    <tr>\n",
       "      <th>...</th>\n",
       "      <td>...</td>\n",
       "      <td>...</td>\n",
       "      <td>...</td>\n",
       "      <td>...</td>\n",
       "      <td>...</td>\n",
       "      <td>...</td>\n",
       "      <td>...</td>\n",
       "      <td>...</td>\n",
       "      <td>...</td>\n",
       "      <td>...</td>\n",
       "      <td>...</td>\n",
       "      <td>...</td>\n",
       "      <td>...</td>\n",
       "      <td>...</td>\n",
       "      <td>...</td>\n",
       "      <td>...</td>\n",
       "      <td>...</td>\n",
       "      <td>...</td>\n",
       "      <td>...</td>\n",
       "      <td>...</td>\n",
       "      <td>...</td>\n",
       "    </tr>\n",
       "    <tr>\n",
       "      <th>3328</th>\n",
       "      <td>3328</td>\n",
       "      <td>AZ</td>\n",
       "      <td>192</td>\n",
       "      <td>415</td>\n",
       "      <td>no</td>\n",
       "      <td>yes</td>\n",
       "      <td>36</td>\n",
       "      <td>156.2</td>\n",
       "      <td>77</td>\n",
       "      <td>26.55</td>\n",
       "      <td>...</td>\n",
       "      <td>279.1</td>\n",
       "      <td>83</td>\n",
       "      <td>12.56</td>\n",
       "      <td>9.9</td>\n",
       "      <td>6</td>\n",
       "      <td>2.67</td>\n",
       "      <td>2</td>\n",
       "      <td>2</td>\n",
       "      <td>0.59</td>\n",
       "      <td>False.</td>\n",
       "    </tr>\n",
       "    <tr>\n",
       "      <th>3329</th>\n",
       "      <td>3329</td>\n",
       "      <td>WV</td>\n",
       "      <td>68</td>\n",
       "      <td>415</td>\n",
       "      <td>no</td>\n",
       "      <td>no</td>\n",
       "      <td>0</td>\n",
       "      <td>231.1</td>\n",
       "      <td>57</td>\n",
       "      <td>39.29</td>\n",
       "      <td>...</td>\n",
       "      <td>191.3</td>\n",
       "      <td>123</td>\n",
       "      <td>8.61</td>\n",
       "      <td>9.6</td>\n",
       "      <td>4</td>\n",
       "      <td>2.59</td>\n",
       "      <td>3</td>\n",
       "      <td>2</td>\n",
       "      <td>0.32</td>\n",
       "      <td>False.</td>\n",
       "    </tr>\n",
       "    <tr>\n",
       "      <th>3330</th>\n",
       "      <td>3330</td>\n",
       "      <td>RI</td>\n",
       "      <td>28</td>\n",
       "      <td>510</td>\n",
       "      <td>no</td>\n",
       "      <td>no</td>\n",
       "      <td>0</td>\n",
       "      <td>180.8</td>\n",
       "      <td>109</td>\n",
       "      <td>30.74</td>\n",
       "      <td>...</td>\n",
       "      <td>191.9</td>\n",
       "      <td>91</td>\n",
       "      <td>8.64</td>\n",
       "      <td>14.1</td>\n",
       "      <td>6</td>\n",
       "      <td>3.81</td>\n",
       "      <td>2</td>\n",
       "      <td>1</td>\n",
       "      <td>0.47</td>\n",
       "      <td>False.</td>\n",
       "    </tr>\n",
       "    <tr>\n",
       "      <th>3331</th>\n",
       "      <td>3331</td>\n",
       "      <td>CT</td>\n",
       "      <td>184</td>\n",
       "      <td>510</td>\n",
       "      <td>yes</td>\n",
       "      <td>no</td>\n",
       "      <td>0</td>\n",
       "      <td>213.8</td>\n",
       "      <td>105</td>\n",
       "      <td>36.35</td>\n",
       "      <td>...</td>\n",
       "      <td>139.2</td>\n",
       "      <td>137</td>\n",
       "      <td>6.26</td>\n",
       "      <td>5.0</td>\n",
       "      <td>10</td>\n",
       "      <td>1.35</td>\n",
       "      <td>2</td>\n",
       "      <td>2</td>\n",
       "      <td>0.32</td>\n",
       "      <td>False.</td>\n",
       "    </tr>\n",
       "    <tr>\n",
       "      <th>3332</th>\n",
       "      <td>3332</td>\n",
       "      <td>TN</td>\n",
       "      <td>74</td>\n",
       "      <td>415</td>\n",
       "      <td>no</td>\n",
       "      <td>yes</td>\n",
       "      <td>25</td>\n",
       "      <td>234.4</td>\n",
       "      <td>113</td>\n",
       "      <td>39.85</td>\n",
       "      <td>...</td>\n",
       "      <td>241.4</td>\n",
       "      <td>77</td>\n",
       "      <td>10.86</td>\n",
       "      <td>13.7</td>\n",
       "      <td>4</td>\n",
       "      <td>3.70</td>\n",
       "      <td>0</td>\n",
       "      <td>0</td>\n",
       "      <td>0.45</td>\n",
       "      <td>False.</td>\n",
       "    </tr>\n",
       "  </tbody>\n",
       "</table>\n",
       "<p>3333 rows × 23 columns</p>\n",
       "</div>"
      ],
      "text/plain": [
       "      Unnamed: 0 state  account_length  area_code intl_plan vmail_plan  \\\n",
       "0              0    KS             128        415        no        yes   \n",
       "1              1    OH             107        415        no        yes   \n",
       "2              2    NJ             137        415        no         no   \n",
       "3              3    OH              84        408       yes         no   \n",
       "4              4    OK              75        415       yes         no   \n",
       "...          ...   ...             ...        ...       ...        ...   \n",
       "3328        3328    AZ             192        415        no        yes   \n",
       "3329        3329    WV              68        415        no         no   \n",
       "3330        3330    RI              28        510        no         no   \n",
       "3331        3331    CT             184        510       yes         no   \n",
       "3332        3332    TN              74        415        no        yes   \n",
       "\n",
       "      vmail_message  day_mins  day_calls  day_charge  ...  night_mins  \\\n",
       "0                25     265.1        110       45.07  ...       244.7   \n",
       "1                26     161.6        123       27.47  ...       254.4   \n",
       "2                 0     243.4        114       41.38  ...       162.6   \n",
       "3                 0     299.4         71       50.90  ...       196.9   \n",
       "4                 0     166.7        113       28.34  ...       186.9   \n",
       "...             ...       ...        ...         ...  ...         ...   \n",
       "3328             36     156.2         77       26.55  ...       279.1   \n",
       "3329              0     231.1         57       39.29  ...       191.3   \n",
       "3330              0     180.8        109       30.74  ...       191.9   \n",
       "3331              0     213.8        105       36.35  ...       139.2   \n",
       "3332             25     234.4        113       39.85  ...       241.4   \n",
       "\n",
       "      night_calls  night_charge  intl_mins  intl_calls  intl_charge  \\\n",
       "0              91         11.01       10.0           3         2.70   \n",
       "1             103         11.45       13.7           3         3.70   \n",
       "2             104          7.32       12.2           5         3.29   \n",
       "3              89          8.86        6.6           7         1.78   \n",
       "4             121          8.41       10.1           3         2.73   \n",
       "...           ...           ...        ...         ...          ...   \n",
       "3328           83         12.56        9.9           6         2.67   \n",
       "3329          123          8.61        9.6           4         2.59   \n",
       "3330           91          8.64       14.1           6         3.81   \n",
       "3331          137          6.26        5.0          10         1.35   \n",
       "3332           77         10.86       13.7           4         3.70   \n",
       "\n",
       "      custserv_calls  treatment  mes_estim   churn  \n",
       "0                  1          1       0.65  False.  \n",
       "1                  1          0       0.55  False.  \n",
       "2                  0          0       0.72  False.  \n",
       "3                  2          1       0.28  False.  \n",
       "4                  3          2       0.45  False.  \n",
       "...              ...        ...        ...     ...  \n",
       "3328               2          2       0.59  False.  \n",
       "3329               3          2       0.32  False.  \n",
       "3330               2          1       0.47  False.  \n",
       "3331               2          2       0.32  False.  \n",
       "3332               0          0       0.45  False.  \n",
       "\n",
       "[3333 rows x 23 columns]"
      ]
     },
     "execution_count": 20,
     "metadata": {},
     "output_type": "execute_result"
    }
   ],
   "source": [
    "data = pd.read_csv('churn_analysis.csv')\n",
    "data"
   ]
  },
  {
   "cell_type": "code",
   "execution_count": 21,
   "metadata": {},
   "outputs": [],
   "source": [
    "control_data = data[data['treatment'] == 1]"
   ]
  },
  {
   "cell_type": "code",
   "execution_count": 22,
   "metadata": {},
   "outputs": [
    {
     "data": {
      "text/plain": [
       "array(['KS', 'OH', 'LA', 'IA', 'VT', 'CO', 'WY', 'MO', 'GA', 'AK', 'MA',\n",
       "       'NJ', 'AR', 'MI', 'IN', 'MN', 'SD', 'TX', 'DC', 'NY', 'OR', 'AZ',\n",
       "       'MS', 'UT', 'ME', 'ID', 'FL', 'NV', 'WA', 'WV', 'NH', 'VA', 'NM',\n",
       "       'KY', 'MT', 'PA', 'RI', 'DE', 'OK', 'NE', 'CT', 'WI', 'CA', 'NC',\n",
       "       'MD', 'TN', 'AL', 'IL', 'ND', 'HI', 'SC'], dtype=object)"
      ]
     },
     "execution_count": 22,
     "metadata": {},
     "output_type": "execute_result"
    }
   ],
   "source": [
    "control_data.state.unique()"
   ]
  },
  {
   "cell_type": "code",
   "execution_count": 23,
   "metadata": {},
   "outputs": [
    {
     "data": {
      "text/html": [
       "<div>\n",
       "<style scoped>\n",
       "    .dataframe tbody tr th:only-of-type {\n",
       "        vertical-align: middle;\n",
       "    }\n",
       "\n",
       "    .dataframe tbody tr th {\n",
       "        vertical-align: top;\n",
       "    }\n",
       "\n",
       "    .dataframe thead th {\n",
       "        text-align: right;\n",
       "    }\n",
       "</style>\n",
       "<table border=\"1\" class=\"dataframe\">\n",
       "  <thead>\n",
       "    <tr style=\"text-align: right;\">\n",
       "      <th>churn</th>\n",
       "      <th>False.</th>\n",
       "      <th>True.</th>\n",
       "    </tr>\n",
       "    <tr>\n",
       "      <th>state</th>\n",
       "      <th></th>\n",
       "      <th></th>\n",
       "    </tr>\n",
       "  </thead>\n",
       "  <tbody>\n",
       "    <tr>\n",
       "      <th>AK</th>\n",
       "      <td>19</td>\n",
       "      <td>1</td>\n",
       "    </tr>\n",
       "    <tr>\n",
       "      <th>AL</th>\n",
       "      <td>25</td>\n",
       "      <td>5</td>\n",
       "    </tr>\n",
       "    <tr>\n",
       "      <th>AR</th>\n",
       "      <td>11</td>\n",
       "      <td>5</td>\n",
       "    </tr>\n",
       "    <tr>\n",
       "      <th>AZ</th>\n",
       "      <td>17</td>\n",
       "      <td>2</td>\n",
       "    </tr>\n",
       "    <tr>\n",
       "      <th>CA</th>\n",
       "      <td>10</td>\n",
       "      <td>5</td>\n",
       "    </tr>\n",
       "  </tbody>\n",
       "</table>\n",
       "</div>"
      ],
      "text/plain": [
       "churn  False.  True.\n",
       "state               \n",
       "AK         19      1\n",
       "AL         25      5\n",
       "AR         11      5\n",
       "AZ         17      2\n",
       "CA         10      5"
      ]
     },
     "execution_count": 23,
     "metadata": {},
     "output_type": "execute_result"
    }
   ],
   "source": [
    "corr_table = pd.crosstab(control_data['state'],control_data['churn'])\n",
    "corr_table.head()"
   ]
  },
  {
   "cell_type": "code",
   "execution_count": 24,
   "metadata": {},
   "outputs": [
    {
     "data": {
      "text/plain": [
       "34"
      ]
     },
     "execution_count": 24,
     "metadata": {},
     "output_type": "execute_result"
    }
   ],
   "source": [
    "p_val_1 = []\n",
    "for i, j in itertools.combinations(control_data.state.unique(), 2):\n",
    "    _, p, _, _ = stats.chi2_contingency(corr_table.loc[[i, j]], correction=False)\n",
    "    p_val_1.append(p)\n",
    "\n",
    "counter = 0\n",
    "for p in p_val_1:\n",
    "    if p < 0.05:\n",
    "        counter += 1\n",
    "counter"
   ]
  },
  {
   "cell_type": "markdown",
   "metadata": {},
   "source": [
    " "
   ]
  },
  {
   "cell_type": "code",
   "execution_count": 25,
   "metadata": {},
   "outputs": [
    {
     "name": "stdout",
     "output_type": "stream",
     "text": [
      "p-value = 0.709759\n"
     ]
    }
   ],
   "source": [
    "_, p, _, _ = stats.chi2_contingency(corr_table, correction=False)\n",
    "print('p-value = %f' % p)"
   ]
  },
  {
   "cell_type": "code",
   "execution_count": 26,
   "metadata": {},
   "outputs": [
    {
     "data": {
      "text/plain": [
       "0"
      ]
     },
     "execution_count": 26,
     "metadata": {},
     "output_type": "execute_result"
    }
   ],
   "source": [
    "p_val_2 = []\n",
    "for i, j in itertools.combinations(control_data.state.unique(), 2):\n",
    "    _, p, _, _ = stats.chi2_contingency(corr_table.loc[[i, j]], correction=True)\n",
    "    p_val_2.append(p)\n",
    "    \n",
    "counter = 0\n",
    "for p in p_val_2:\n",
    "    if p < 0.05:\n",
    "        counter += 1\n",
    "counter"
   ]
  },
  {
   "cell_type": "markdown",
   "metadata": {},
   "source": [
    " "
   ]
  },
  {
   "cell_type": "code",
   "execution_count": 27,
   "metadata": {},
   "outputs": [
    {
     "data": {
      "text/plain": [
       "10"
      ]
     },
     "execution_count": 27,
     "metadata": {},
     "output_type": "execute_result"
    }
   ],
   "source": [
    "p_val_3 = []\n",
    "for i, j in itertools.combinations(control_data.state.unique(), 2):\n",
    "    _, p, = stats.fisher_exact(corr_table.loc[[i, j]])\n",
    "    p_val_3.append(p)\n",
    "\n",
    "counter = 0\n",
    "for p in p_val_3:\n",
    "    if p < 0.05:\n",
    "        counter += 1\n",
    "counter"
   ]
  },
  {
   "cell_type": "code",
   "execution_count": 28,
   "metadata": {},
   "outputs": [
    {
     "data": {
      "text/html": [
       "<div>\n",
       "<style scoped>\n",
       "    .dataframe tbody tr th:only-of-type {\n",
       "        vertical-align: middle;\n",
       "    }\n",
       "\n",
       "    .dataframe tbody tr th {\n",
       "        vertical-align: top;\n",
       "    }\n",
       "\n",
       "    .dataframe thead th {\n",
       "        text-align: right;\n",
       "    }\n",
       "</style>\n",
       "<table border=\"1\" class=\"dataframe\">\n",
       "  <thead>\n",
       "    <tr style=\"text-align: right;\">\n",
       "      <th></th>\n",
       "      <th>p_val_1</th>\n",
       "      <th>p_val_2</th>\n",
       "      <th>p_val_3</th>\n",
       "    </tr>\n",
       "  </thead>\n",
       "  <tbody>\n",
       "    <tr>\n",
       "      <th>0</th>\n",
       "      <td>0.075524</td>\n",
       "      <td>0.159054</td>\n",
       "      <td>0.138333</td>\n",
       "    </tr>\n",
       "    <tr>\n",
       "      <th>1</th>\n",
       "      <td>0.024052</td>\n",
       "      <td>0.067770</td>\n",
       "      <td>0.032840</td>\n",
       "    </tr>\n",
       "    <tr>\n",
       "      <th>2</th>\n",
       "      <td>0.282190</td>\n",
       "      <td>0.493752</td>\n",
       "      <td>0.440083</td>\n",
       "    </tr>\n",
       "    <tr>\n",
       "      <th>3</th>\n",
       "      <td>0.616769</td>\n",
       "      <td>0.867518</td>\n",
       "      <td>0.743389</td>\n",
       "    </tr>\n",
       "    <tr>\n",
       "      <th>4</th>\n",
       "      <td>0.679125</td>\n",
       "      <td>0.937468</td>\n",
       "      <td>0.747108</td>\n",
       "    </tr>\n",
       "    <tr>\n",
       "      <th>...</th>\n",
       "      <td>...</td>\n",
       "      <td>...</td>\n",
       "      <td>...</td>\n",
       "    </tr>\n",
       "    <tr>\n",
       "      <th>1270</th>\n",
       "      <td>0.952933</td>\n",
       "      <td>0.497280</td>\n",
       "      <td>1.000000</td>\n",
       "    </tr>\n",
       "    <tr>\n",
       "      <th>1271</th>\n",
       "      <td>0.267505</td>\n",
       "      <td>0.522363</td>\n",
       "      <td>0.379171</td>\n",
       "    </tr>\n",
       "    <tr>\n",
       "      <th>1272</th>\n",
       "      <td>0.652998</td>\n",
       "      <td>0.916450</td>\n",
       "      <td>1.000000</td>\n",
       "    </tr>\n",
       "    <tr>\n",
       "      <th>1273</th>\n",
       "      <td>0.322191</td>\n",
       "      <td>0.549046</td>\n",
       "      <td>0.442704</td>\n",
       "    </tr>\n",
       "    <tr>\n",
       "      <th>1274</th>\n",
       "      <td>0.230918</td>\n",
       "      <td>0.462257</td>\n",
       "      <td>0.370059</td>\n",
       "    </tr>\n",
       "  </tbody>\n",
       "</table>\n",
       "<p>1275 rows × 3 columns</p>\n",
       "</div>"
      ],
      "text/plain": [
       "       p_val_1   p_val_2   p_val_3\n",
       "0     0.075524  0.159054  0.138333\n",
       "1     0.024052  0.067770  0.032840\n",
       "2     0.282190  0.493752  0.440083\n",
       "3     0.616769  0.867518  0.743389\n",
       "4     0.679125  0.937468  0.747108\n",
       "...        ...       ...       ...\n",
       "1270  0.952933  0.497280  1.000000\n",
       "1271  0.267505  0.522363  0.379171\n",
       "1272  0.652998  0.916450  1.000000\n",
       "1273  0.322191  0.549046  0.442704\n",
       "1274  0.230918  0.462257  0.370059\n",
       "\n",
       "[1275 rows x 3 columns]"
      ]
     },
     "execution_count": 28,
     "metadata": {},
     "output_type": "execute_result"
    }
   ],
   "source": [
    "pd.DataFrame(np.array([p_val_1, p_val_2, p_val_3]).T, columns=['p_val_1', 'p_val_2', 'p_val_3'])"
   ]
  },
  {
   "cell_type": "markdown",
   "metadata": {},
   "source": [
    " "
   ]
  },
  {
   "cell_type": "code",
   "execution_count": 29,
   "metadata": {},
   "outputs": [
    {
     "data": {
      "text/plain": [
       "(-0.051794350587572625, 0.0027798836869738384)"
      ]
     },
     "execution_count": 29,
     "metadata": {},
     "output_type": "execute_result"
    }
   ],
   "source": [
    "stats.pearsonr(data['day_calls'],data['mes_estim'])"
   ]
  },
  {
   "cell_type": "code",
   "execution_count": 30,
   "metadata": {},
   "outputs": [
    {
     "data": {
      "text/plain": [
       "SpearmanrResult(correlation=0.043349880533927444, pvalue=0.012317367189170541)"
      ]
     },
     "execution_count": 30,
     "metadata": {},
     "output_type": "execute_result"
    }
   ],
   "source": [
    "stats.spearmanr(data['day_calls'],data['mes_estim'])"
   ]
  },
  {
   "cell_type": "markdown",
   "metadata": {},
   "source": [
    " "
   ]
  },
  {
   "cell_type": "code",
   "execution_count": 31,
   "metadata": {},
   "outputs": [
    {
     "data": {
      "image/png": "[encoded data removed]",
      "text/plain": [
       "<Figure size 864x432 with 2 Axes>"
      ]
     },
     "metadata": {
      "needs_background": "light"
     },
     "output_type": "display_data"
    }
   ],
   "source": [
    "pylab.figure(figsize=(12,6))\n",
    "\n",
    "pylab.subplot(1,2,1)\n",
    "stats.probplot(data['day_calls'], plot=plt)\n",
    "pylab.xlabel(\"day_calls\")\n",
    "\n",
    "pylab.subplot(1,2,2)\n",
    "stats.probplot(data['mes_estim'], plot=plt)\n",
    "pylab.xlabel(\"mes_estim\")\n",
    "\n",
    "pylab.show()"
   ]
  },
  {
   "cell_type": "markdown",
   "metadata": {},
   "source": [
    " "
   ]
  },
  {
   "cell_type": "code",
   "execution_count": 32,
   "metadata": {},
   "outputs": [
    {
     "name": "stdout",
     "output_type": "stream",
     "text": [
      "coef V Kramer = 0.200393\n",
      "p-value = 0.709759\n"
     ]
    }
   ],
   "source": [
    "chi2, p, _, _ = chi2_contingency(corr_table)\n",
    "n = corr_table.values.sum()\n",
    "r,k = corr_table.shape\n",
    "print('coef V Kramer = %f' %np.sqrt(chi2 / (n * min(r - 1, k - 1))))\n",
    "print('p-value = %f' %p)"
   ]
  },
  {
   "cell_type": "markdown",
   "metadata": {},
   "source": [
    "  "
   ]
  },
  {
   "cell_type": "code",
   "execution_count": 33,
   "metadata": {},
   "outputs": [],
   "source": [
    "data_0 = data[data['treatment'] == 0]\n",
    "data_2 = data[data['treatment'] == 2]"
   ]
  },
  {
   "cell_type": "code",
   "execution_count": 108,
   "metadata": {},
   "outputs": [
    {
     "data": {
      "text/plain": [
       "Ttest_indResult(statistic=array([-2.48382401, -1.66635624, -0.95003277,  2.47729877, -0.36603865,\n",
       "        2.47745975,  0.287776  ,  1.16935366,  0.28717771,  2.39008631,\n",
       "       -1.58756706,  2.38906129,  0.91737434,  0.03190939,  0.91827464,\n",
       "       -0.66616906,  1.59575026]), pvalue=array([0.01307131, 0.0957833 , 0.3421984 , 0.01331158, 0.71437119,\n",
       "       0.0133056 , 0.77354493, 0.24238627, 0.77400291, 0.01692709,\n",
       "       0.11252644, 0.01697427, 0.35904554, 0.97454717, 0.35857423,\n",
       "       0.50537225, 0.11068603]))"
      ]
     },
     "execution_count": 108,
     "metadata": {},
     "output_type": "execute_result"
    }
   ],
   "source": [
    "stats.ttest_ind(data_0.drop(columns=['Unnamed: 0','state','intl_plan', 'vmail_plan', 'treatment', 'churn']),\n",
    "                data_2.drop(columns=['Unnamed: 0','state','intl_plan', 'vmail_plan', 'treatment', 'churn']),\n",
    "                equal_var = False)"
   ]
  },
  {
   "cell_type": "code",
   "execution_count": 121,
   "metadata": {},
   "outputs": [
    {
     "name": "stderr",
     "output_type": "stream",
     "text": [
      "/Users/mate/opt/anaconda3/lib/python3.7/site-packages/ipykernel_launcher.py:1: SettingWithCopyWarning: \n",
      "A value is trying to be set on a copy of a slice from a DataFrame.\n",
      "Try using .loc[row_indexer,col_indexer] = value instead\n",
      "\n",
      "See the caveats in the documentation: https://pandas.pydata.org/pandas-docs/stable/user_guide/indexing.html#returning-a-view-versus-a-copy\n",
      "  \"\"\"Entry point for launching an IPython kernel.\n",
      "/Users/mate/opt/anaconda3/lib/python3.7/site-packages/ipykernel_launcher.py:2: SettingWithCopyWarning: \n",
      "A value is trying to be set on a copy of a slice from a DataFrame.\n",
      "Try using .loc[row_indexer,col_indexer] = value instead\n",
      "\n",
      "See the caveats in the documentation: https://pandas.pydata.org/pandas-docs/stable/user_guide/indexing.html#returning-a-view-versus-a-copy\n",
      "  \n",
      "/Users/mate/opt/anaconda3/lib/python3.7/site-packages/ipykernel_launcher.py:3: SettingWithCopyWarning: \n",
      "A value is trying to be set on a copy of a slice from a DataFrame.\n",
      "Try using .loc[row_indexer,col_indexer] = value instead\n",
      "\n",
      "See the caveats in the documentation: https://pandas.pydata.org/pandas-docs/stable/user_guide/indexing.html#returning-a-view-versus-a-copy\n",
      "  This is separate from the ipykernel package so we can avoid doing imports until\n"
     ]
    }
   ],
   "source": [
    "data_0['churn_corrected'] = [1 if t == 'True.' else 0 for t in data_0.churn.values]\n",
    "data_2['churn_corrected'] = [1 if t == 'True.' else 0 for t in data_2.churn.values]\n",
    "control_data['churn_corrected'] = [1 if t == 'True.' else 0 for t in control_data.churn.values]"
   ]
  },
  {
   "cell_type": "code",
   "execution_count": 124,
   "metadata": {},
   "outputs": [
    {
     "name": "stdout",
     "output_type": "stream",
     "text": [
      "p_02 = 0.156208\n",
      "p_10 = 0.228883\n",
      "p_12 = 0.009356\n"
     ]
    }
   ],
   "source": [
    "_, p_02 = stats.ttest_ind(data_0.churn_corrected, data_2.churn_corrected, equal_var = False)\n",
    "_, p_10 = stats.ttest_ind(data_0.churn_corrected, control_data.churn_corrected, equal_var = False)\n",
    "_, p_12 = stats.ttest_ind(data_2.churn_corrected, control_data.churn_corrected, equal_var = False)\n",
    "\n",
    "print('p_02 = %f' % p_02) \n",
    "print('p_10 = %f' % p_10) \n",
    "print('p_12 = %f' % p_12)"
   ]
  },
  {
   "cell_type": "code",
   "execution_count": 127,
   "metadata": {},
   "outputs": [],
   "source": [
    "reject, p_corrected, a1, a2 = multipletests([p_02, p_10, p_12], \n",
    "                                            alpha = 0.05, \n",
    "                                            method = 'holm') "
   ]
  },
  {
   "cell_type": "code",
   "execution_count": 135,
   "metadata": {},
   "outputs": [
    {
     "data": {
      "text/html": [
       "<div>\n",
       "<style scoped>\n",
       "    .dataframe tbody tr th:only-of-type {\n",
       "        vertical-align: middle;\n",
       "    }\n",
       "\n",
       "    .dataframe tbody tr th {\n",
       "        vertical-align: top;\n",
       "    }\n",
       "\n",
       "    .dataframe thead th {\n",
       "        text-align: right;\n",
       "    }\n",
       "</style>\n",
       "<table border=\"1\" class=\"dataframe\">\n",
       "  <thead>\n",
       "    <tr style=\"text-align: right;\">\n",
       "      <th></th>\n",
       "      <th>p_02</th>\n",
       "      <th>p_10</th>\n",
       "      <th>p_12</th>\n",
       "    </tr>\n",
       "  </thead>\n",
       "  <tbody>\n",
       "    <tr>\n",
       "      <th>p-value befor correction</th>\n",
       "      <td>0.156208</td>\n",
       "      <td>0.228883</td>\n",
       "      <td>0.009356</td>\n",
       "    </tr>\n",
       "    <tr>\n",
       "      <th>p-value after correction</th>\n",
       "      <td>0.312416</td>\n",
       "      <td>0.312416</td>\n",
       "      <td>0.028069</td>\n",
       "    </tr>\n",
       "  </tbody>\n",
       "</table>\n",
       "</div>"
      ],
      "text/plain": [
       "                              p_02      p_10      p_12\n",
       "p-value befor correction  0.156208  0.228883  0.009356\n",
       "p-value after correction  0.312416  0.312416  0.028069"
      ]
     },
     "execution_count": 135,
     "metadata": {},
     "output_type": "execute_result"
    }
   ],
   "source": [
    "pd.DataFrame(np.array([[p_02, p_10, p_12], p_corrected]),\n",
    "             columns=['p_02','p_10','p_12'],\n",
    "             index=['p-value befor correction', 'p-value after correction'])"
   ]
  }
 ],
 "metadata": {
  "kernelspec": {
   "display_name": "Python 3",
   "language": "python",
   "name": "python3"
  },
  "language_info": {
   "codemirror_mode": {
    "name": "ipython",
    "version": 3
   },
   "file_extension": ".py",
   "mimetype": "text/x-python",
   "name": "python",
   "nbconvert_exporter": "python",
   "pygments_lexer": "ipython3",
   "version": "3.7.6"
  }
 },
 "nbformat": 4,
 "nbformat_minor": 4
}
