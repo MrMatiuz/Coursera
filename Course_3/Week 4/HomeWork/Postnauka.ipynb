{
  "nbformat": 4,
  "nbformat_minor": 0,
  "metadata": {
    "kernelspec": {
      "display_name": "Python 3",
      "language": "python",
      "name": "python3"
    },
    "language_info": {
      "codemirror_mode": {
        "name": "ipython",
        "version": 3
      },
      "file_extension": ".py",
      "mimetype": "text/x-python",
      "name": "python",
      "nbconvert_exporter": "python",
      "pygments_lexer": "ipython3",
      "version": "3.6.5"
    },
    "colab": {
      "name": "Copy of PostnaukaPeerReview.ipynb",
      "provenance": [],
      "collapsed_sections": []
    }
  },
  "cells": [
    {
      "cell_type": "code",
      "metadata": {
        "id": "4jlfZGzeCDTb",
        "colab_type": "code",
        "colab": {
          "base_uri": "https://localhost:8080/",
          "height": 292
        },
        "outputId": "f784fff0-77cb-4e6c-a7fc-3f9d7e5a1169"
      },
      "source": [
        "!pip install bigartm10"
      ],
      "execution_count": null,
      "outputs": [
        {
          "output_type": "stream",
          "text": [
            "Collecting bigartm10\n",
            "\u001b[?25l  Downloading https://files.pythonhosted.org/packages/4b/0d/6ceb1f20a59f23f97113a07d7bf32ddb8226ff35ca706fd8c797e2941117/bigartm10-0.10.1-cp36-cp36m-manylinux1_x86_64.whl (2.0MB)\n",
            "\u001b[K     |████████████████████████████████| 2.0MB 9.6MB/s \n",
            "\u001b[?25hRequirement already satisfied: pandas in /usr/local/lib/python3.6/dist-packages (from bigartm10) (1.0.4)\n",
            "Requirement already satisfied: packaging in /usr/local/lib/python3.6/dist-packages (from bigartm10) (20.4)\n",
            "Requirement already satisfied: protobuf>=3.0 in /usr/local/lib/python3.6/dist-packages (from bigartm10) (3.10.0)\n",
            "Requirement already satisfied: tqdm in /usr/local/lib/python3.6/dist-packages (from bigartm10) (4.41.1)\n",
            "Requirement already satisfied: numpy in /usr/local/lib/python3.6/dist-packages (from bigartm10) (1.18.5)\n",
            "Requirement already satisfied: pytz>=2017.2 in /usr/local/lib/python3.6/dist-packages (from pandas->bigartm10) (2018.9)\n",
            "Requirement already satisfied: python-dateutil>=2.6.1 in /usr/local/lib/python3.6/dist-packages (from pandas->bigartm10) (2.8.1)\n",
            "Requirement already satisfied: six in /usr/local/lib/python3.6/dist-packages (from packaging->bigartm10) (1.12.0)\n",
            "Requirement already satisfied: pyparsing>=2.0.2 in /usr/local/lib/python3.6/dist-packages (from packaging->bigartm10) (2.4.7)\n",
            "Requirement already satisfied: setuptools in /usr/local/lib/python3.6/dist-packages (from protobuf>=3.0->bigartm10) (47.3.1)\n",
            "Installing collected packages: bigartm10\n",
            "Successfully installed bigartm10-0.10.1\n"
          ],
          "name": "stdout"
        }
      ]
    },
    {
      "cell_type": "markdown",
      "metadata": {
        "id": "bnGeT3azBOT9",
        "colab_type": "text"
      },
      "source": [
        "# Тематическая модель [Постнауки](http://postnauka.ru)\n",
        "## Peer Review (optional)"
      ]
    },
    {
      "cell_type": "markdown",
      "metadata": {
        "id": "1Y4C8YZSBOT-",
        "colab_type": "text"
      },
      "source": [
        "В этом задании мы применим аппарат тематического моделирования к коллекции текстовых записей видеолекций, скачанных с сайта Постнаука. Мы будем визуализировать модель и создавать прототип тематического навигатора по коллекции. В коллекции 1728 документов, размер словаря - 38467 слов. Слова лемматизированы, то есть приведены к начальной форме, с помощью программы [mystem](https://tech.yandex.ru/mystem/), коллекция сохранена в [формате vowpal wabbit](http://docs.bigartm.org/en/latest/formats.html). В каждой строке до первой черты записана информация о документе (ссылка на страницу с лекцией), после первой черты следует описание документа. Используются две модальности - текстовая (\"text\") и модальность авторов (\"author\"); у каждого документа один автор."
      ]
    },
    {
      "cell_type": "markdown",
      "metadata": {
        "id": "LMY36HC4BOT_",
        "colab_type": "text"
      },
      "source": [
        "Для выполнения задания понадобится библиотека [BigARTM](http://docs.bigartm.org). В демонстрации показан пример использования библиотеки версии 0.9.0. В новой версии изменены принципы работы со словарями: они вынесены в отдельный класс (пример в [Release Notes](http://docs.bigartm.org/en/stable/release_notes/python.html)).\n",
        "\n",
        "Спецификации всех функций вы можете смотреть на странице [Python API](http://bigartm.readthedocs.io/en/stable/python_interface.html)."
      ]
    },
    {
      "cell_type": "code",
      "metadata": {
        "id": "l9YfnsnCBOUA",
        "colab_type": "code",
        "colab": {}
      },
      "source": [
        "import artm"
      ],
      "execution_count": null,
      "outputs": []
    },
    {
      "cell_type": "code",
      "metadata": {
        "id": "KDmV6-OuBOUE",
        "colab_type": "code",
        "colab": {
          "base_uri": "https://localhost:8080/",
          "height": 71
        },
        "outputId": "914b0210-20ca-44d1-99ed-af0cd2d1e7da"
      },
      "source": [
        "from matplotlib import pyplot as plt\n",
        "import seaborn\n",
        "%matplotlib inline\n",
        "seaborn.set_style(\"whitegrid\", {'axes.grid' : False})"
      ],
      "execution_count": null,
      "outputs": [
        {
          "output_type": "stream",
          "text": [
            "/usr/local/lib/python3.6/dist-packages/statsmodels/tools/_testing.py:19: FutureWarning: pandas.util.testing is deprecated. Use the functions in the public API at pandas.testing instead.\n",
            "  import pandas.util.testing as tm\n"
          ],
          "name": "stderr"
        }
      ]
    },
    {
      "cell_type": "code",
      "metadata": {
        "id": "khYE2N7sBOUH",
        "colab_type": "code",
        "colab": {}
      },
      "source": [
        "import numpy as np\n",
        "import pandas as pd\n",
        "from google.colab import files"
      ],
      "execution_count": null,
      "outputs": []
    },
    {
      "cell_type": "markdown",
      "metadata": {
        "id": "H-sNbVt1BOUM",
        "colab_type": "text"
      },
      "source": [
        "##### Считывание данных"
      ]
    },
    {
      "cell_type": "markdown",
      "metadata": {
        "id": "JICAstm1BOUN",
        "colab_type": "text"
      },
      "source": [
        "Создайте объект класса artm.BatchVectorizer, который будет ссылаться на директорию с пакетами данных (батчами). Чтобы библиотека могла преобразовать текстовый файл в батчи, создайте пустую директорию и укажите ее название в параметре target_folder. Размер батча для небольших коллекций (как наша) не важен, вы можете указать любой."
      ]
    },
    {
      "cell_type": "code",
      "metadata": {
        "id": "h4Abg9mgHl1W",
        "colab_type": "code",
        "colab": {
          "resources": {
            "http://localhost:8080/nbextensions/google.colab/files.js": {
              "data": "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",
              "ok": true,
              "headers": [
                [
                  "content-type",
                  "application/javascript"
                ]
              ],
              "status": 200,
              "status_text": ""
            }
          },
          "base_uri": "https://localhost:8080/",
          "height": 72
        },
        "outputId": "3a3c0541-1ec0-4ea7-b26f-178f72a56992"
      },
      "source": [
        "files.upload()"
      ],
      "execution_count": null,
      "outputs": [
        {
          "output_type": "display_data",
          "data": {
            "text/html": [
              "\n",
              "     <input type=\"file\" id=\"files-32684308-c7a1-45e4-8983-b75d272f3de7\" name=\"files[]\" multiple disabled\n",
              "        style=\"border:none\" />\n",
              "     <output id=\"result-32684308-c7a1-45e4-8983-b75d272f3de7\">\n",
              "      Upload widget is only available when the cell has been executed in the\n",
              "      current browser session. Please rerun this cell to enable.\n",
              "      </output>\n",
              "      <script src=\"/nbextensions/google.colab/files.js\"></script> "
            ],
            "text/plain": [
              "<IPython.core.display.HTML object>"
            ]
          },
          "metadata": {
            "tags": []
          }
        },
        {
          "output_type": "stream",
          "text": [
            "Saving lectures.txt to lectures.txt\n"
          ],
          "name": "stdout"
        }
      ]
    },
    {
      "cell_type": "code",
      "metadata": {
        "id": "0yWnqsj2BOUN",
        "colab_type": "code",
        "colab": {}
      },
      "source": [
        "# Ваш код\n",
        "batch_vectorizer = artm.BatchVectorizer(data_path=\"lectures.txt\", data_format=\"vowpal_wabbit\", target_folder=\"lecture_batches\", \n",
        "                                       batch_size=250)"
      ],
      "execution_count": null,
      "outputs": []
    },
    {
      "cell_type": "markdown",
      "metadata": {
        "id": "sO-XQCXZBOUQ",
        "colab_type": "text"
      },
      "source": [
        "##### Инициализация модели"
      ]
    },
    {
      "cell_type": "markdown",
      "metadata": {
        "id": "fTjtrdIYBOUR",
        "colab_type": "text"
      },
      "source": [
        "Создайте объект класса artm.Model с 30 темами, именами тем, указанными ниже и единичными весами обеих модальностей. Количество тем выбрано не очень большим, чтобы вам было удобнее работать с темами. На этой коллекции можно строить и большее число тем, тогда они будут более узко специализированы."
      ]
    },
    {
      "cell_type": "code",
      "metadata": {
        "id": "JgNnBZLeBOUR",
        "colab_type": "code",
        "colab": {}
      },
      "source": [
        "T = 30   # количество тем\n",
        "topic_names=[\"sbj\"+str(i) for i in range(T-1)]+[\"bcg\"]\n",
        "# Ваш код\n",
        "model_artm = artm.ARTM(num_topics=T, topic_names=topic_names, class_ids={\"text\":1, \"author\":1}, \n",
        "                       num_document_passes=1, reuse_theta=True, cache_theta=True)"
      ],
      "execution_count": null,
      "outputs": []
    },
    {
      "cell_type": "markdown",
      "metadata": {
        "id": "TqeZy_4UBOUU",
        "colab_type": "text"
      },
      "source": [
        "Мы будем строить 29 предметных тем и одну фоновую. \n",
        "\n",
        "Соберите словарь с помощью метода gather_dictionary и инициализируйте модель, указав random_seed=1. Обязательно укажите свое название словаря, оно понадобится при добавлении регуляризаторов."
      ]
    },
    {
      "cell_type": "code",
      "metadata": {
        "id": "kkcj_AAqBOUV",
        "colab_type": "code",
        "colab": {}
      },
      "source": [
        "# Ваш код\n",
        "np.random_seed = 1\n",
        "dictionary_1 = artm.Dictionary('dictionary_1')\n",
        "dictionary_1.gather(batch_vectorizer.data_path)\n",
        "model_artm.initialize('dictionary_1')"
      ],
      "execution_count": null,
      "outputs": []
    },
    {
      "cell_type": "markdown",
      "metadata": {
        "id": "sLFicB-nBOUY",
        "colab_type": "text"
      },
      "source": [
        "##### Добавление score"
      ]
    },
    {
      "cell_type": "markdown",
      "metadata": {
        "id": "aRSuffFTBOUY",
        "colab_type": "text"
      },
      "source": [
        "Создайте два измерителя качества artm.TopTokensScore - по одному для каждой модальности; количество токенов 15. Названия для score придумайте самостоятельно."
      ]
    },
    {
      "cell_type": "code",
      "metadata": {
        "id": "GJ3IishyBOUZ",
        "colab_type": "code",
        "colab": {}
      },
      "source": [
        "# Ваш код\n",
        "model_artm.scores.add(artm.TopTokensScore(name=\"top_words_for_text\", num_tokens=15, class_id=\"text\"))\n",
        "model_artm.scores.add(artm.TopTokensScore(name=\"top_words_for_author\", num_tokens=15, class_id=\"author\"))"
      ],
      "execution_count": null,
      "outputs": []
    },
    {
      "cell_type": "markdown",
      "metadata": {
        "id": "r1bRdzsv1Se6",
        "colab_type": "text"
      },
      "source": [
        ""
      ]
    },
    {
      "cell_type": "markdown",
      "metadata": {
        "id": "UCLT0l7iBOUb",
        "colab_type": "text"
      },
      "source": [
        "##### Построение модели"
      ]
    },
    {
      "cell_type": "markdown",
      "metadata": {
        "id": "A3kQeNofBOUc",
        "colab_type": "text"
      },
      "source": [
        "Мы будем строить модель в два этапа: сначала добавим сглаживающий регуляризатор фоновой темы и настроим параметры модели, затем - добавим разреживающий регуляризатор предметрых тем и выполним еще несколько итераций. Так мы сможем получить наиболее чистые от фоновых слов предметные темы. Сглаживающий и разреживающий регуляризаторы задаются одним и тем же классом artm.SmoothSparsePhiRegularizer: если коэффициент tau положительный, то регуляризатор будет сглаживающий, если отрицательный - разреживающий.\n",
        "\n",
        "Если вы хотите подробнее разобраться, как выполняется регуляризация тематической модели в BigARTM, вы можете прочитать [статью](https://s3-eu-west-1.amazonaws.com/artm/voron-potap14artm-rus.pdf), раздел 4."
      ]
    },
    {
      "cell_type": "markdown",
      "metadata": {
        "id": "NE-hjzntBOUc",
        "colab_type": "text"
      },
      "source": [
        "Добавьте сглаживающий регуляризатор с коэффициентом tau = 1e5, указав название своего словаря в dictionary, модальность текста в class_ids и тему \"bcg\" в topic_names."
      ]
    },
    {
      "cell_type": "code",
      "metadata": {
        "id": "dxmV_siFBOUd",
        "colab_type": "code",
        "colab": {}
      },
      "source": [
        "# Ваш код\n",
        "model_artm.regularizers.add(artm.SmoothSparsePhiRegularizer(tau=1e5,\n",
        "                                                            dictionary=dictionary_1,\n",
        "                                                            topic_names='bcg',\n",
        "                                                            class_ids=[\"text\"]))"
      ],
      "execution_count": null,
      "outputs": []
    },
    {
      "cell_type": "markdown",
      "metadata": {
        "id": "o5zyA0R-BOUf",
        "colab_type": "text"
      },
      "source": [
        "Выполните 30 итераций по коллекции (num_collection_passes), количество внутренних итераций установите равным 1. Используйте метод fit_offline модели."
      ]
    },
    {
      "cell_type": "code",
      "metadata": {
        "id": "WCvYaL1nBOUg",
        "colab_type": "code",
        "colab": {}
      },
      "source": [
        "# Ваш код\n",
        "model_artm.fit_offline(batch_vectorizer=batch_vectorizer, num_collection_passes=30)"
      ],
      "execution_count": null,
      "outputs": []
    },
    {
      "cell_type": "markdown",
      "metadata": {
        "id": "MeWrYv8YBOUi",
        "colab_type": "text"
      },
      "source": [
        "Добавьте разреживающий регуляризатор с коэффициентом tau=-1e5, указав название своего словаря, модальность текста в class_ids и все темы \"sbjX\" в topic_names."
      ]
    },
    {
      "cell_type": "code",
      "metadata": {
        "id": "X1d2jfkrBOUk",
        "colab_type": "code",
        "colab": {}
      },
      "source": [
        "# Ваш код\n",
        "topic_names_cleared = list(topic_names).remove('bcg')\n",
        "model_artm.regularizers.add(artm.SmoothSparsePhiRegularizer(tau=-1e5,\n",
        "                                                            dictionary=dictionary_1,\n",
        "                                                            topic_names=topic_names_cleared,\n",
        "                                                            class_ids=[\"text\"]))"
      ],
      "execution_count": null,
      "outputs": []
    },
    {
      "cell_type": "markdown",
      "metadata": {
        "id": "veiia0krBOUm",
        "colab_type": "text"
      },
      "source": [
        "Выполните еще 15 проходов по коллекции."
      ]
    },
    {
      "cell_type": "code",
      "metadata": {
        "id": "p6gphAyTBOUm",
        "colab_type": "code",
        "colab": {}
      },
      "source": [
        "# Ваш код\n",
        "model_artm.fit_offline(batch_vectorizer=batch_vectorizer, num_collection_passes=15)"
      ],
      "execution_count": null,
      "outputs": []
    },
    {
      "cell_type": "markdown",
      "metadata": {
        "id": "UHST0eobBOUp",
        "colab_type": "text"
      },
      "source": [
        "##### Интерпретация тем"
      ]
    },
    {
      "cell_type": "markdown",
      "metadata": {
        "id": "dIMePrVCBOUp",
        "colab_type": "text"
      },
      "source": [
        "Используя созданные score, выведите топы слов и топы авторов в темах. Удобнее всего выводить топ слов каждой темы с новой строки, указывая название темы в начале строки, и аналогично с авторами."
      ]
    },
    {
      "cell_type": "code",
      "metadata": {
        "id": "7Qv5zKcwBOUq",
        "colab_type": "code",
        "colab": {
          "base_uri": "https://localhost:8080/",
          "height": 1000
        },
        "outputId": "fa858e5e-c887-4372-b4ac-1188427a83f4"
      },
      "source": [
        "# Ваш код\n",
        "def print_tops(model, top_words):\n",
        "  tokens = model.score_tracker[top_words].last_tokens\n",
        "  for topic_name in model.topic_names:\n",
        "    print(topic_name + ':', end='')\n",
        "    for word in tokens[topic_name]:\n",
        "      print(word, ' ', end='')\n",
        "    print()\n",
        "\n",
        "print_tops(model_artm, \"top_words_for_text\")\n",
        "print('---------------------------------------------------------------------------------------------------')\n",
        "print_tops(model_artm, \"top_words_for_author\")"
      ],
      "execution_count": null,
      "outputs": [
        {
          "output_type": "stream",
          "text": [
            "sbj0:церковь  власть  средневековый  император  русь  святой  римский  папа  князь  сага  король  александр  византийский  вера  рим  \n",
            "sbj1:планета  земля  атмосфера  солнце  солнечный  белый  газ  образовываться  карлик  вокруг  вода  поверхность  спутник  орбита  океан  \n",
            "sbj2:система  трудность  поведение  частота  двигаться  точность  искусственный  движение  относительность  тест  час  самка  задание  переход  часы  \n",
            "sbj3:культура  понятие  культурный  восприятие  сознание  феномен  личность  воспринимать  ощущение  чувство  повседневный  переживание  детство  этика  индивид  \n",
            "sbj4:право  литература  искусство  литературный  юрист  писатель  должник  собственность  обязательство  владение  римский  произведение  исполнение  юридический  требование  \n",
            "sbj5:материал  структура  молекула  свойство  углерод  применение  поверхность  полимер  кристалл  металл  электронный  твердый  трехмерный  алмаз  углеродный  \n",
            "sbj6:книга  фильм  автор  кино  написать  документ  жанр  театр  тема  кинематограф  академия  герой  анекдот  екатерина  культовый  \n",
            "sbj7:смерть  ритуал  террор  правитель  государь  обряд  служба  конвент  диктатура  моральный  монтаньяр  подданный  комитет  баратынский  насилие  \n",
            "sbj8:метод  химический  соединение  вещество  реакция  химия  давление  лекарство  синтез  органический  разработка  продукт  концентрация  натрий  химик  \n",
            "sbj9:частица  энергия  квантовый  поле  физика  взаимодействие  атом  магнитный  теория  электрон  кварк  симметрия  элементарный  фотон  стандартный  \n",
            "sbj10:война  россия  советский  русский  власть  российский  германия  мировой  реформа  историк  петр  немецкий  против  гражданский  военный  \n",
            "sbj11:ребенок  семья  возраст  кровь  взрослый  мать  сон  родитель  старение  конфликт  катастрофа  травма  обезьяна  сосуд  диабет  \n",
            "sbj12:растение  ткань  орган  иммунный  рак  озеро  сердце  опухоль  мышца  нейронный  птица  вода  активация  печень  шимпанзе  \n",
            "sbj13:территория  народ  христианский  империя  восток  древний  письменность  государство  цивилизация  китай  памятник  христианство  северный  восточный  китайский  \n",
            "sbj14:звезда  галактика  масса  черный  вселенная  свет  объект  скорость  волна  дыра  излучение  расстояние  вещество  телескоп  размер  \n",
            "sbj15:задача  информация  память  данные  решение  компьютер  психология  мышление  анализ  внимание  ошибка  когнитивный  компьютерный  психолог  решать  \n",
            "sbj16:раса  африка  остров  америка  южный  станислав  нос  волос  индия  монголоид  сенсор  дробышевский  штамм  индеец  территориальный  \n",
            "sbj17:политический  философия  государство  общество  философский  философ  партия  правовой  политика  суд  враг  платон  мысль  профессиональный  дух  \n",
            "sbj18:слово  текст  русский  словарь  предложение  категория  значение  корпус  глагол  конструкция  грамматика  падеж  речь  поэт  лингвистика  \n",
            "sbj19:революция  французский  свобода  франция  роман  национальный  король  нация  аргумент  творчество  актер  париж  конституция  монархия  депутат  \n",
            "sbj20:город  технология  сеть  робот  городской  интернет  компания  пользователь  музей  библиотека  медиа  горожанин  управление  метро  здание  \n",
            "sbj21:болезнь  заболевание  пациент  женщина  лечение  медицина  врач  боль  препарат  медицинский  операция  мужчина  больной  нарушение  диагностика  \n",
            "sbj22:социальный  знание  социология  объект  социологический  дисциплина  перевод  познание  обучение  описание  виктор  коммуникация  социолог  форма  предмет  \n",
            "sbj23:матрица  микроорганизм  схема  эмоция  алгоритм  вычислительный  эмоциональный  глубина  интеллект  микроб  программный  машина  фольклор  обеспечение  архитектура  \n",
            "sbj24:исторический  традиция  бог  миф  царь  греческий  представление  эпоха  религиозный  религия  имя  душа  письмо  мифология  египет  \n",
            "sbj25:язык  лингвист  языковой  английский  гласный  согласный  звук  лингвистический  говор  филологический  диалект  компилятор  жест  программирование  германский  \n",
            "sbj26:страна  экономический  экономика  политика  идентичность  ценность  кризис  принятие  общественный  сталин  коллективный  выбор  праздник  решение  ресурс  \n",
            "sbj27:клетка  мозг  организм  ген  днк  белок  биологический  животное  генетический  нейрон  геном  бактерия  молекулярный  биология  рнк  \n",
            "sbj28:температура  университет  сверхпроводимость  профессор  сверхпроводник  сверхпроводящий  железо  заимствование  гумбольдт  магнит  кельвин  сопротивление  электроника  диссертация  булгарский  \n",
            "bcg:быть  что  это  который  этот  как  они  мочь  такой  очень  для  человек  или  тот  один  \n",
            "---------------------------------------------------------------------------------------------------\n",
            "sbj0:Александр_Марей  Фёдор_Успенский  Татьяна_Бобровникова  Павел_Уваров  Алексей_Юдин  Игорь_Данилевский  Ольга_Вайнштейн  Елена_Уханова  Ольга_Брилева  Владимир_Петрухин  Елена_Браун  Григорий_Бондаренко  Раиса_Кирсанова  Екатерина_Болтунова  Ольга_Тогоева  \n",
            "sbj1:Сергей_Попов  Кирилл_Еськов  Дмитрий_Вибе  Дмитрий_Титов  Валерий_Сулейманов  Зоригто_Намсараев  Сергей_Наугольных  Александр_Марков  Елизавета_Ривкина  Александр_Слободкин  Наталья_Новикова  Роман_Рафиков  Сергей_Писарев  Дмитрий_Лось  Юлия_Краус  \n",
            "sbj2:Елена_Брызгалина  Михаил_Пантелеев  Александр_Поддьяков  Владимир_Мележик  Эмиль_Ахмедов  Антон_Суворов  Даниэль_Сельва  Виталий_Пальчиков  Михаил_Фейгельман  Василий_Климов  Алексей_Желтиков  Юджин_Ползик  Илья_Щуров  Владимир_Редько  Александра_Скрипченко  \n",
            "sbj3:Сергей_Арутюнов  Владимир_Миронов  Алексей_Руткевич  Пётр_Турчин  Татьяна_Смоктунович  Андрей_Лосев  Константин_Анохин  Кирилл_Разлогов  Фёдор_Гиренок  Дмитрий_Иванов  Павел_Степанцов  Александр_Кислов  Павел_Умрюхин  Светлана_Кузнецова  Андрей_Лукашов  \n",
            "sbj4:Дмитрий_Дождев  Олег_Лекманов  Андрей_Кофман  Наталья_Смолянская  Денис_Новак  Сергей_Зенкин  Александр_Парфенов  Виктор_Цетлин  Дмитрий_Дорохов  Марина_Бутовская  Дмитрий_Полдников  Евгений_Рогожин  Мария_Штейнман  Алиса_Вячеславова  Джу_Йонг_Ли  \n",
            "sbj5:Артем_Оганов  Дмитрий_Паращук  Алексей_Акимов  Валентин_Крапошин  Дмитрий_Гольберг  Евгений_Гудилин  Владимир_Шалаев  Виктор_Зайченко  Дмитрий_Клинов  Алексей_Хохлов  Владимир_Комлев  Сергей_Никитов  Андрей_Головин  Эрик_Мазур  Шринивас_Шридхар  \n",
            "sbj6:Александр_Павлов  Павел_Руднев  Ян_Левченко  Ольга_Эдельман  Алексей_Бартошевич  Мария_Неклюдова  Владимир_Кантор  Петр_Дружинин  Наталья_Харламенкова  Ольга_Вайнштейн  Екатерина_Щербакова  Анатолий_Гершман  Анна_Рогожина  Михаил_Маяцкий  Мария_Майофис  \n",
            "sbj7:Михаил_Бойцов  Анна_Соколова  Александр_Гофман  Игорь_Чубаров  Арсений_Хитров  Дмитрий_Рогозин  Алина_Бодрова  Галина_Зверева  Пол_Грегори  Олег_Ауров  Мария_Майофис  Дмитрий_Бовыкин  Михаил_Алексеевский  Владимир_Емельянов  Сет_Ллойд  \n",
            "sbj8:Валерий_Фокин  Валентин_Ненайденко  Алла_Ножевникова  Александр_Апт  Виктория_Битюкова  Александр_Беленький  Иван_Сорокин  Алексей_Малашенко  Сергей_Майоров  Сергей_Румянцев  Константин_Мирошников  Пётр_Образцов  Дмитрий_Бак  Олег_Мельник  Владимир_Польшаков  \n",
            "sbj9:Дмитрий_Казаков  Эмиль_Ахмедов  Михаил_Данилов  Виктор_Брагута  Наталья_Берлофф  Игорь_Волобуев  Сергей_Демокритов  Павел_Пахлов  Лев_Дудко  Сергей_Троицкий  Алексей_Рубцов  Кит_Моффат  Анатолий_Лиходед  Марина_Корсакова-Крейн  Андрей_Семенов  \n",
            "sbj10:Илья_Женин  Борис_Морозов  Кирилл_Соловьев  Кирилл_Кочегаров  Александр_Лаврентьев  Ирина_Бёме  Олег_Будницкий  Александр_Каменский  Алексей_Киличенков  Игорь_Курукин  Илья_Виньковецкий  Людмила_Новикова  Сергей_Соколовский  Ольга_Исупова  Варвара_Добровольская  \n",
            "sbj11:Катерина_Поливанова  Юрий_Яшков  Мария_Падун  Джеральд_де_Хаан  Эмери_Браун  Мария_Медникова  Владимир_Ковальзон  Дмитрий_Жуков  Наталья_Харламенкова  Ольга_Исупова  Александр_Жаворонков  Максим_Киселев  Дэвид_С._Джонс  Алексей_Москалев  Михаил_Полуэктов  \n",
            "sbj12:Михаил_Бурцев  Филипп_Хайтович  Егор_Задереев  Константин_Агладзе  Дмитрий_Громов  Андрей_Цатурян  Варвара_Веденина  Сергей_Яковенко  Мария_Добровольская  Александр_Петренко  Алишер_Тураев  Филлип_Шарп  Рудольф_Йениш  Михаил_Киселев  Иван_Воробьев  \n",
            "sbj13:Алексей_Муравьёв  Дмитрий_Беляев  Марк_Ульянов  Дмитрий_Худяков  Сергей_Серёгичев  Наталья_Зубаревич  Андрей_Виноградов  Владимир_Каганский  Олег_Ауров  Александр_Высоковский  Галина_Ершова  Дмитрий_Арзютов  Нина_Сумбатова  Анна_Дыбо  Анна_Рогожина  \n",
            "sbj14:Сергей_Попов  Анатолий_Засов  Алексей_Расторгуев  Ольга_Сильченко  Владимир_Сурдин  Михаил_Ревнивцев  Дмитрий_Горбунов  Олег_Верходанов  Андрей_Савельев-Трофимов  Алексей_Старобинский  Владимир_Белотелов  Валерий_Рубаков  Ильдар_Габитов  Антон_Бирюков  Макс_Тегмарк  \n",
            "sbj15:Павел_Балабан  Владимир_Спиридонов  Игорь_Уточкин  Александр_Войскунский  Ольга_Сварник  Наталья_Кисельникова  Станислав_Клименко  Иван_Луковников  Антон_Чижов  Ксения_Паниди  Александр_Каплан  Александр_Львовский  Сет_Ллойд  Сергей_Шишкин  Кьянг_Ку  \n",
            "sbj16:Станислав_Дробышевский  Виталий_Кушниров  Александр_Шацкий  Евгений_Рогожин  Митчел_Резник  Алиса_Вячеславова  Владимир_Муронец  Вера_Мильчина  Раиса_Кирсанова  Георгий_Базыкин  Андрей_Летаров  Александр_Воеводский  Константин_Лукьянов  Леонид_Иомдин  Михаил_Эльдаров  \n",
            "sbj17:Алексей_Козырев  Иван_Болдырев  Дина_Гусейнова  Владимир_Малахов  Александр_Павлов  Петр_Резвых  Павел_Соколов  Василий_Жарков  Дмитрий_Балалыкин  Валентина_Харитонова  Руслан_Хестанов  Александр_Воеводский  Николай_Плотников  Анна_Севортьян  Юрий_Рогулёв  \n",
            "sbj18:Александр_Пиперски  Анатолий_Баранов  Петр_Аркадьев  Борис_Иомдин  Надежда_Онипенко  Дмитрий_Добровольский  Светлана_Евграфова  Алексей_Шмелев  Леонид_Иомдин  Екатерина_Протасова  Екатерина_Лютикова  Вера_Подлесская  Андрей_Кибрик  Владимир_Плунгян  Алина_Бодрова  \n",
            "sbj19:Дмитрий_Бовыкин  Андрей_Зорин  Борис_Колоницкий  Раиса_Кирсанова  Вера_Мильчина  Мария_Майофис  Алексей_Миллер  Александр_Дмитриев  Максим_Демин  Марина_Новикова-Грунд  Мария_Неклюдова  Дина_Гусейнова  Илья_Иткин  Светлана_Баньковская  Михаил_Алексеевский  \n",
            "sbj20:Александр_Сафонов  Оксана_Запорожец  Алексей_Лебедев  Александр_Тормасов  Екатерина_Ларионова  Екатерина_Лапина-Кратасюк  Руслан_Смелянский  Лев_Беклемишев  Джанмарко_Веруджио  Евгений_Магид  Деметрис_Зейналипур  Дарья_Радченко  Сергей_Карабасов  Евгений_Хоров  Сергей_Ландо  \n",
            "sbj21:Петр_Федичев  Ярослав_Ашихмин  Алексей_Алексеев  Константин_Анохин  Вера_Ижевская  Александр_Васильев  Алексей_Чжао  Елена_Брызгалина  Александр_Габибов  Инга_Полетаева  Павел_Тищенко  Юрий_Вайнер  Станислав_Полонский  Елена_Голубева  Наталья_Савва  \n",
            "sbj22:Виктор_Вахштайн  Дмитрий_Ветров  Светлана_Бурлак  Светлана_Баньковская  Сезар_Идальго  Александр_Дьяконов  Джозеф_Браун  Дэвид_Вайнберг  Владик_Аветисов  Мира_Бергельсон  Леонид_Иомдин  Aльберт_Давлетшин  Александр_Филиппов  Андрей_Кибрик  Джеффри_Шнапп  \n",
            "sbj23:Елизавета_Бонч-Осмоловская  Дмитрий_Рогозин  Иван_Оселедец  Елена_Гороховская  Николай_Пименов  Александр_Жданов  Владимир_Кузнецов  Станислав_Протасов  Александр_Жаворонков  Илья_Щуров  Максим_Таланов  Игорь_Петров  Александр_Шень  Сергей_Зыков  Ольга_Столярова  \n",
            "sbj24:Гасан_Гусейнов  Олег_Воскобойников  Ивар_Максутов  Мария_Штейнман  Ольга_Артёмова  Владимир_Емельянов  Владимир_Бобровников  Леонид_Григорьев  Иван_Ладынин  Галина_Зеленина  Аскольд_Иванчик  Мира_Бергельсон  Ирина_Савельева  Ахмет_Ярлыкапов  Александр_Мещеряков  \n",
            "sbj25:Владимир_Плунгян  Игорь_Исаев  Кирилл_Бабаев  Андрей_Кибрик  Илья_Иткин  Григорий_Крейдлин  Владимир_Беликов  Георгий_Старостин  Евгений_Зуев  Максим_Кронгауз  Екатерина_Лямина  Яков_Тестелец  Альберт_Насибулин  Дмитрий_Дагаев  Андрей_Кофман  \n",
            "sbj26:Фуад_Алескеров  Олег_Хлевнюк  Алексей_Белянин  Ольга_Малинова  Владимир_Гимпельсон  Виктор_Полтерович  Сергей_Гуриев  Сергей_Афонцев  Сергей_Бобылев  Сергей_Пекарский  Александр_Аузан  Ольга_Гулевич  Леонард_Полищук  Рауль_Гайнетдинов  Василий_Ключарев  \n",
            "sbj27:Евгений_Шеваль  Константин_Северинов  Максим_Франк-Каменецкий  Сергей_Киселев  Антон_Буздин  Сергей_Саложин  Светлана_Боринская  Сергей_Науменко  Алексей_Кондрашов  Андрей_Летаров  Евгений_Куликов  Владимир_Муронец  Антон_Бернс  Ричард_Янг  Питер_Лэнсдорп  \n",
            "sbj28:Михаил_Киселев  Наталья_Ростиславлева  Илья_Шкредов  Владимир_Пудалов  Елена_Вишленкова  Евгений_Николаев  Анна_Дыбо  Алексей_Рубцов  Евгений_Антипов  Дмитрий_Лось  Александр_Шварцбург  Николай_Мощевитин  Мел_Сигел  Алексей_Орлов  Теунис_Клапвик  \n",
            "bcg:Мария_Фаликман  Михаил_Соколов  Виталий_Куренной  Сергей_Неклюдов  Кирилл_Мартынов  Михаил_Гельфанд  Кирилл_Титаев  ПостНаука  Александр_Филиппов  Михаил_Алексеевский  Михаил_Маяцкий  Алексей_Маслов  Александр_Доброхотов  Павел_Нерлер_(Полян)  Андрей_Журавлев  \n"
          ],
          "name": "stdout"
        }
      ]
    },
    {
      "cell_type": "markdown",
      "metadata": {
        "id": "DDoxamhOBOUs",
        "colab_type": "text"
      },
      "source": [
        "В последней теме \"bcg\" должны находиться общеупотребительные слова.\n",
        "\n",
        "Важный шаг в работе с тематической моделью, когда речь идет о визуализации или создании тематического навигатора, это именование тем. Понять, о чем каждая тема, можно по списку ее топовых слов. Например, тему\n",
        "    \n",
        "    частица взаимодействие физика кварк симметрия элементарный нейтрино стандартный материя протон бозон заряд масса ускоритель слабый\n",
        "    \n",
        "можно назвать \"Физика элементарных частиц\". \n",
        "\n",
        "Дайте названия 29 предметным темам. Если вы не знаете, как назвать тему, назовите ее первым встретившимся в ней существительным, хотя при таком подходе навигатор будет менее информативным. Из названий тем составьте список из 29 строк и запишите го в переменную sbj_topic_labels. В переменной topic_labels будут храниться названия всех тем, включая фоновую."
      ]
    },
    {
      "cell_type": "code",
      "metadata": {
        "id": "-_gEOKB7BOUs",
        "colab_type": "code",
        "colab": {}
      },
      "source": [
        "sbj_topic_labels = []   # запишите названия тем в список\n",
        "\n",
        "tokens = model_artm.score_tracker['top_words_for_text'].last_tokens\n",
        "\n",
        "for topic_name in model_artm.topic_names[:29]:\n",
        "  sbj_topic_labels.append(tokens[topic_name][0])\n",
        "\n",
        "topic_labels = sbj_topic_labels + [\"Фоновая тема\"]"
      ],
      "execution_count": null,
      "outputs": []
    },
    {
      "cell_type": "markdown",
      "metadata": {
        "id": "Nqp_Hg3ABOUv",
        "colab_type": "text"
      },
      "source": [
        "##### Анализ тем"
      ]
    },
    {
      "cell_type": "markdown",
      "metadata": {
        "id": "DUxXucZRBOUw",
        "colab_type": "text"
      },
      "source": [
        "Далее мы будем работать с распределениями тем в документах (матрица $\\Theta$) и авторов в темах (одна из двух матриц $\\Phi$, соответствующая модальности авторов). \n",
        "Создайте переменные, содержащие две этих матрицы, с помощью методов get_phi и get_theta модели. Назовите переменные theta и phi_a. Выведите формы обеих матриц, чтобы понять, по каким осям стоят темы."
      ]
    },
    {
      "cell_type": "code",
      "metadata": {
        "id": "T-5rWclQBOUx",
        "colab_type": "code",
        "colab": {
          "base_uri": "https://localhost:8080/",
          "height": 51
        },
        "outputId": "77452672-7fb8-4821-b60e-4a5d1a905aa7"
      },
      "source": [
        "model_artm.theta_columns_naming = \"title\" # включает именование столбцов Theta их названиями-ссылками, а не внутренними id \n",
        "# Ваш код\n",
        "theta = model_artm.get_theta()\n",
        "phi_a = model_artm.get_phi(class_ids='author')\n",
        "print(\"Theta size:\", theta.shape)\n",
        "print(\"Phi_a size:\", phi_a.shape)"
      ],
      "execution_count": null,
      "outputs": [
        {
          "output_type": "stream",
          "text": [
            "Theta size: (30, 1728)\n",
            "Phi_a size: (539, 30)\n"
          ],
          "name": "stdout"
        }
      ]
    },
    {
      "cell_type": "markdown",
      "metadata": {
        "id": "QYP6KsX2BOUz",
        "colab_type": "text"
      },
      "source": [
        "Визуализируем фрагмент матрицы $\\Theta$ - первые 100 документов (это наиболее простой способ визуально оценить, как темы распределяются в документах). С помощью метода seaborn.heatmap выведите фрагмент theta как изображение. Рекомендация: создайте фигуру pyplot размера (20, 10)."
      ]
    },
    {
      "cell_type": "code",
      "metadata": {
        "id": "K-Y3mOvDBOUz",
        "colab_type": "code",
        "colab": {
          "base_uri": "https://localhost:8080/",
          "height": 1000
        },
        "outputId": "f184ff56-523d-471e-8510-c81f83e88e6d"
      },
      "source": [
        "# Ваш код\n",
        "theta.iloc[:,:100]"
      ],
      "execution_count": null,
      "outputs": [
        {
          "output_type": "execute_result",
          "data": {
            "text/html": [
              "<div>\n",
              "<style scoped>\n",
              "    .dataframe tbody tr th:only-of-type {\n",
              "        vertical-align: middle;\n",
              "    }\n",
              "\n",
              "    .dataframe tbody tr th {\n",
              "        vertical-align: top;\n",
              "    }\n",
              "\n",
              "    .dataframe thead th {\n",
              "        text-align: right;\n",
              "    }\n",
              "</style>\n",
              "<table border=\"1\" class=\"dataframe\">\n",
              "  <thead>\n",
              "    <tr style=\"text-align: right;\">\n",
              "      <th></th>\n",
              "      <th>http://postnauka.ru/video/18408</th>\n",
              "      <th>http://postnauka.ru/video/18409</th>\n",
              "      <th>http://postnauka.ru/video/1850</th>\n",
              "      <th>http://postnauka.ru/video/1856</th>\n",
              "      <th>http://postnauka.ru/video/18603</th>\n",
              "      <th>http://postnauka.ru/video/18613</th>\n",
              "      <th>http://postnauka.ru/video/18637</th>\n",
              "      <th>http://postnauka.ru/video/1870</th>\n",
              "      <th>http://postnauka.ru/video/18739</th>\n",
              "      <th>http://postnauka.ru/video/18742</th>\n",
              "      <th>http://postnauka.ru/video/18804</th>\n",
              "      <th>http://postnauka.ru/video/18807</th>\n",
              "      <th>http://postnauka.ru/video/18854</th>\n",
              "      <th>http://postnauka.ru/video/18855</th>\n",
              "      <th>http://postnauka.ru/video/18865</th>\n",
              "      <th>http://postnauka.ru/video/18870</th>\n",
              "      <th>http://postnauka.ru/video/18873</th>\n",
              "      <th>http://postnauka.ru/video/18876</th>\n",
              "      <th>http://postnauka.ru/video/1893</th>\n",
              "      <th>http://postnauka.ru/video/1894</th>\n",
              "      <th>http://postnauka.ru/video/1895</th>\n",
              "      <th>http://postnauka.ru/video/18958</th>\n",
              "      <th>http://postnauka.ru/video/1897</th>\n",
              "      <th>http://postnauka.ru/video/1898</th>\n",
              "      <th>http://postnauka.ru/video/1899</th>\n",
              "      <th>http://postnauka.ru/video/18993</th>\n",
              "      <th>http://postnauka.ru/video/19060</th>\n",
              "      <th>http://postnauka.ru/video/19065</th>\n",
              "      <th>http://postnauka.ru/video/19066</th>\n",
              "      <th>http://postnauka.ru/video/19067</th>\n",
              "      <th>http://postnauka.ru/video/19068</th>\n",
              "      <th>http://postnauka.ru/video/19069</th>\n",
              "      <th>http://postnauka.ru/video/19070</th>\n",
              "      <th>http://postnauka.ru/video/19071</th>\n",
              "      <th>http://postnauka.ru/video/19072</th>\n",
              "      <th>http://postnauka.ru/video/19083</th>\n",
              "      <th>http://postnauka.ru/video/19084</th>\n",
              "      <th>http://postnauka.ru/video/19085</th>\n",
              "      <th>http://postnauka.ru/video/19086</th>\n",
              "      <th>http://postnauka.ru/video/19087</th>\n",
              "      <th>...</th>\n",
              "      <th>http://postnauka.ru/video/19460</th>\n",
              "      <th>http://postnauka.ru/video/19461</th>\n",
              "      <th>http://postnauka.ru/video/19472</th>\n",
              "      <th>http://postnauka.ru/video/19509</th>\n",
              "      <th>http://postnauka.ru/video/19518</th>\n",
              "      <th>http://postnauka.ru/video/19540</th>\n",
              "      <th>http://postnauka.ru/video/19564</th>\n",
              "      <th>http://postnauka.ru/video/19570</th>\n",
              "      <th>http://postnauka.ru/video/19574</th>\n",
              "      <th>http://postnauka.ru/video/19577</th>\n",
              "      <th>http://postnauka.ru/video/20293</th>\n",
              "      <th>http://postnauka.ru/video/20295</th>\n",
              "      <th>http://postnauka.ru/video/20298</th>\n",
              "      <th>http://postnauka.ru/video/20299</th>\n",
              "      <th>http://postnauka.ru/video/20388</th>\n",
              "      <th>http://postnauka.ru/video/20389</th>\n",
              "      <th>http://postnauka.ru/video/20390</th>\n",
              "      <th>http://postnauka.ru/video/20391</th>\n",
              "      <th>http://postnauka.ru/video/20392</th>\n",
              "      <th>http://postnauka.ru/video/20393</th>\n",
              "      <th>http://postnauka.ru/video/20394</th>\n",
              "      <th>http://postnauka.ru/video/20598</th>\n",
              "      <th>http://postnauka.ru/video/20720</th>\n",
              "      <th>http://postnauka.ru/video/20749</th>\n",
              "      <th>http://postnauka.ru/video/20799</th>\n",
              "      <th>http://postnauka.ru/video/20874</th>\n",
              "      <th>http://postnauka.ru/video/20875</th>\n",
              "      <th>http://postnauka.ru/video/20876</th>\n",
              "      <th>http://postnauka.ru/video/20877</th>\n",
              "      <th>http://postnauka.ru/video/20878</th>\n",
              "      <th>http://postnauka.ru/video/20879</th>\n",
              "      <th>http://postnauka.ru/video/20880</th>\n",
              "      <th>http://postnauka.ru/video/21074</th>\n",
              "      <th>http://postnauka.ru/video/21100</th>\n",
              "      <th>http://postnauka.ru/video/21125</th>\n",
              "      <th>http://postnauka.ru/video/21177</th>\n",
              "      <th>http://postnauka.ru/video/21179</th>\n",
              "      <th>http://postnauka.ru/video/21181</th>\n",
              "      <th>http://postnauka.ru/video/21275</th>\n",
              "      <th>http://postnauka.ru/video/21276</th>\n",
              "    </tr>\n",
              "  </thead>\n",
              "  <tbody>\n",
              "    <tr>\n",
              "      <th>sbj0</th>\n",
              "      <td>0.000000e+00</td>\n",
              "      <td>4.763806e-14</td>\n",
              "      <td>0.000000e+00</td>\n",
              "      <td>2.012520e-12</td>\n",
              "      <td>0.000000e+00</td>\n",
              "      <td>3.604443e-09</td>\n",
              "      <td>0.000000e+00</td>\n",
              "      <td>0.000000e+00</td>\n",
              "      <td>0.000000e+00</td>\n",
              "      <td>0.000000e+00</td>\n",
              "      <td>0.101005</td>\n",
              "      <td>4.566297e-11</td>\n",
              "      <td>0.000000e+00</td>\n",
              "      <td>0.000000e+00</td>\n",
              "      <td>0.000000e+00</td>\n",
              "      <td>0.000000</td>\n",
              "      <td>0.000000e+00</td>\n",
              "      <td>8.581830e-16</td>\n",
              "      <td>1.258630e-10</td>\n",
              "      <td>0.000000e+00</td>\n",
              "      <td>1.793914e-13</td>\n",
              "      <td>2.860424e-12</td>\n",
              "      <td>3.392759e-12</td>\n",
              "      <td>0.000000e+00</td>\n",
              "      <td>0.000000e+00</td>\n",
              "      <td>7.602187e-12</td>\n",
              "      <td>0.000000e+00</td>\n",
              "      <td>0.000000e+00</td>\n",
              "      <td>0.000000e+00</td>\n",
              "      <td>0.000000e+00</td>\n",
              "      <td>0.000000e+00</td>\n",
              "      <td>0.000000</td>\n",
              "      <td>0.000000e+00</td>\n",
              "      <td>0.000000e+00</td>\n",
              "      <td>0.000000e+00</td>\n",
              "      <td>4.060145e-08</td>\n",
              "      <td>0.000000e+00</td>\n",
              "      <td>0.000000e+00</td>\n",
              "      <td>0.000000e+00</td>\n",
              "      <td>7.028019e-10</td>\n",
              "      <td>...</td>\n",
              "      <td>2.591872e-09</td>\n",
              "      <td>0.000000e+00</td>\n",
              "      <td>3.172430e-02</td>\n",
              "      <td>0.041189</td>\n",
              "      <td>1.202826e-02</td>\n",
              "      <td>6.661858e-02</td>\n",
              "      <td>5.101066e-03</td>\n",
              "      <td>0.000000e+00</td>\n",
              "      <td>1.047617e-10</td>\n",
              "      <td>1.882650e-08</td>\n",
              "      <td>2.593620e-11</td>\n",
              "      <td>5.867593e-03</td>\n",
              "      <td>0.000000e+00</td>\n",
              "      <td>2.807785e-02</td>\n",
              "      <td>0.000000e+00</td>\n",
              "      <td>0.000000e+00</td>\n",
              "      <td>1.382787e-09</td>\n",
              "      <td>1.346485e-15</td>\n",
              "      <td>2.063414e-16</td>\n",
              "      <td>0.000000e+00</td>\n",
              "      <td>5.699830e-03</td>\n",
              "      <td>0.000000e+00</td>\n",
              "      <td>0.000000</td>\n",
              "      <td>9.540451e-10</td>\n",
              "      <td>6.285194e-09</td>\n",
              "      <td>8.332855e-02</td>\n",
              "      <td>0.000000e+00</td>\n",
              "      <td>0.000000e+00</td>\n",
              "      <td>0.000000e+00</td>\n",
              "      <td>7.445430e-03</td>\n",
              "      <td>1.000527e-03</td>\n",
              "      <td>2.597160e-13</td>\n",
              "      <td>0.000000e+00</td>\n",
              "      <td>2.198610e-01</td>\n",
              "      <td>0.000000e+00</td>\n",
              "      <td>9.129638e-03</td>\n",
              "      <td>4.638057e-03</td>\n",
              "      <td>4.630334e-06</td>\n",
              "      <td>0.000000e+00</td>\n",
              "      <td>0.000000e+00</td>\n",
              "    </tr>\n",
              "    <tr>\n",
              "      <th>sbj1</th>\n",
              "      <td>2.097368e-02</td>\n",
              "      <td>0.000000e+00</td>\n",
              "      <td>7.614096e-13</td>\n",
              "      <td>4.182119e-07</td>\n",
              "      <td>1.842578e-02</td>\n",
              "      <td>0.000000e+00</td>\n",
              "      <td>1.463972e-06</td>\n",
              "      <td>3.567005e-02</td>\n",
              "      <td>2.110738e-03</td>\n",
              "      <td>0.000000e+00</td>\n",
              "      <td>0.000000</td>\n",
              "      <td>0.000000e+00</td>\n",
              "      <td>1.299394e-02</td>\n",
              "      <td>3.344422e-13</td>\n",
              "      <td>2.273270e-02</td>\n",
              "      <td>0.000000</td>\n",
              "      <td>0.000000e+00</td>\n",
              "      <td>2.336066e-04</td>\n",
              "      <td>0.000000e+00</td>\n",
              "      <td>0.000000e+00</td>\n",
              "      <td>0.000000e+00</td>\n",
              "      <td>3.744528e-08</td>\n",
              "      <td>8.844769e-03</td>\n",
              "      <td>0.000000e+00</td>\n",
              "      <td>0.000000e+00</td>\n",
              "      <td>0.000000e+00</td>\n",
              "      <td>0.000000e+00</td>\n",
              "      <td>3.535570e-02</td>\n",
              "      <td>6.074895e-03</td>\n",
              "      <td>2.445656e-07</td>\n",
              "      <td>0.000000e+00</td>\n",
              "      <td>0.008714</td>\n",
              "      <td>1.173236e-02</td>\n",
              "      <td>2.273529e-02</td>\n",
              "      <td>2.271168e-03</td>\n",
              "      <td>0.000000e+00</td>\n",
              "      <td>0.000000e+00</td>\n",
              "      <td>9.905961e-03</td>\n",
              "      <td>0.000000e+00</td>\n",
              "      <td>0.000000e+00</td>\n",
              "      <td>...</td>\n",
              "      <td>1.492247e-02</td>\n",
              "      <td>0.000000e+00</td>\n",
              "      <td>6.417583e-03</td>\n",
              "      <td>0.000000</td>\n",
              "      <td>0.000000e+00</td>\n",
              "      <td>0.000000e+00</td>\n",
              "      <td>7.795341e-07</td>\n",
              "      <td>0.000000e+00</td>\n",
              "      <td>8.088417e-08</td>\n",
              "      <td>1.604211e-02</td>\n",
              "      <td>0.000000e+00</td>\n",
              "      <td>5.518301e-13</td>\n",
              "      <td>5.733209e-13</td>\n",
              "      <td>7.344771e-11</td>\n",
              "      <td>3.480523e-16</td>\n",
              "      <td>0.000000e+00</td>\n",
              "      <td>6.419174e-13</td>\n",
              "      <td>0.000000e+00</td>\n",
              "      <td>9.855891e-06</td>\n",
              "      <td>0.000000e+00</td>\n",
              "      <td>0.000000e+00</td>\n",
              "      <td>0.000000e+00</td>\n",
              "      <td>0.000000</td>\n",
              "      <td>4.051721e-04</td>\n",
              "      <td>1.953635e-16</td>\n",
              "      <td>8.294520e-03</td>\n",
              "      <td>0.000000e+00</td>\n",
              "      <td>0.000000e+00</td>\n",
              "      <td>0.000000e+00</td>\n",
              "      <td>0.000000e+00</td>\n",
              "      <td>1.513246e-02</td>\n",
              "      <td>0.000000e+00</td>\n",
              "      <td>7.162943e-09</td>\n",
              "      <td>0.000000e+00</td>\n",
              "      <td>0.000000e+00</td>\n",
              "      <td>0.000000e+00</td>\n",
              "      <td>0.000000e+00</td>\n",
              "      <td>1.342603e-02</td>\n",
              "      <td>0.000000e+00</td>\n",
              "      <td>0.000000e+00</td>\n",
              "    </tr>\n",
              "    <tr>\n",
              "      <th>sbj2</th>\n",
              "      <td>1.257771e-02</td>\n",
              "      <td>0.000000e+00</td>\n",
              "      <td>1.263256e-02</td>\n",
              "      <td>2.610806e-01</td>\n",
              "      <td>0.000000e+00</td>\n",
              "      <td>3.638058e-03</td>\n",
              "      <td>4.633379e-03</td>\n",
              "      <td>0.000000e+00</td>\n",
              "      <td>3.659079e-02</td>\n",
              "      <td>1.169131e-02</td>\n",
              "      <td>0.000000</td>\n",
              "      <td>6.217288e-03</td>\n",
              "      <td>4.143190e-03</td>\n",
              "      <td>0.000000e+00</td>\n",
              "      <td>8.179134e-12</td>\n",
              "      <td>0.000000</td>\n",
              "      <td>4.508919e-06</td>\n",
              "      <td>0.000000e+00</td>\n",
              "      <td>2.088323e-11</td>\n",
              "      <td>0.000000e+00</td>\n",
              "      <td>5.350395e-03</td>\n",
              "      <td>0.000000e+00</td>\n",
              "      <td>4.098986e-03</td>\n",
              "      <td>1.065502e-10</td>\n",
              "      <td>0.000000e+00</td>\n",
              "      <td>1.169599e-02</td>\n",
              "      <td>1.372796e-05</td>\n",
              "      <td>7.905859e-03</td>\n",
              "      <td>0.000000e+00</td>\n",
              "      <td>2.881280e-03</td>\n",
              "      <td>1.581082e-02</td>\n",
              "      <td>0.000000</td>\n",
              "      <td>3.064788e-02</td>\n",
              "      <td>0.000000e+00</td>\n",
              "      <td>0.000000e+00</td>\n",
              "      <td>3.195280e-02</td>\n",
              "      <td>3.320616e-03</td>\n",
              "      <td>0.000000e+00</td>\n",
              "      <td>1.498541e-05</td>\n",
              "      <td>3.704921e-07</td>\n",
              "      <td>...</td>\n",
              "      <td>5.633294e-03</td>\n",
              "      <td>0.000000e+00</td>\n",
              "      <td>0.000000e+00</td>\n",
              "      <td>0.173909</td>\n",
              "      <td>1.091526e-05</td>\n",
              "      <td>3.077121e-03</td>\n",
              "      <td>7.152116e-03</td>\n",
              "      <td>1.398346e-01</td>\n",
              "      <td>3.205038e-03</td>\n",
              "      <td>9.701478e-03</td>\n",
              "      <td>1.114827e-02</td>\n",
              "      <td>8.868002e-03</td>\n",
              "      <td>6.042082e-09</td>\n",
              "      <td>2.692905e-03</td>\n",
              "      <td>3.889370e-08</td>\n",
              "      <td>1.211584e-02</td>\n",
              "      <td>3.281880e-03</td>\n",
              "      <td>0.000000e+00</td>\n",
              "      <td>1.864300e-10</td>\n",
              "      <td>2.360499e-03</td>\n",
              "      <td>2.712483e-07</td>\n",
              "      <td>2.016500e-02</td>\n",
              "      <td>0.000000</td>\n",
              "      <td>1.356760e-11</td>\n",
              "      <td>0.000000e+00</td>\n",
              "      <td>4.384981e-03</td>\n",
              "      <td>2.891551e-02</td>\n",
              "      <td>0.000000e+00</td>\n",
              "      <td>4.599549e-03</td>\n",
              "      <td>4.269071e-03</td>\n",
              "      <td>0.000000e+00</td>\n",
              "      <td>9.293017e-03</td>\n",
              "      <td>3.748231e-03</td>\n",
              "      <td>3.937006e-03</td>\n",
              "      <td>0.000000e+00</td>\n",
              "      <td>0.000000e+00</td>\n",
              "      <td>0.000000e+00</td>\n",
              "      <td>2.172185e-02</td>\n",
              "      <td>9.531664e-06</td>\n",
              "      <td>0.000000e+00</td>\n",
              "    </tr>\n",
              "    <tr>\n",
              "      <th>sbj3</th>\n",
              "      <td>0.000000e+00</td>\n",
              "      <td>1.826004e-02</td>\n",
              "      <td>3.293791e-03</td>\n",
              "      <td>2.475433e-03</td>\n",
              "      <td>0.000000e+00</td>\n",
              "      <td>0.000000e+00</td>\n",
              "      <td>1.719190e-02</td>\n",
              "      <td>0.000000e+00</td>\n",
              "      <td>6.268853e-06</td>\n",
              "      <td>0.000000e+00</td>\n",
              "      <td>0.000000</td>\n",
              "      <td>8.002197e-03</td>\n",
              "      <td>1.602982e-14</td>\n",
              "      <td>0.000000e+00</td>\n",
              "      <td>5.808498e-03</td>\n",
              "      <td>0.000000</td>\n",
              "      <td>7.172624e-10</td>\n",
              "      <td>0.000000e+00</td>\n",
              "      <td>1.116564e-02</td>\n",
              "      <td>1.764614e-14</td>\n",
              "      <td>4.828355e-03</td>\n",
              "      <td>3.733835e-03</td>\n",
              "      <td>6.480054e-03</td>\n",
              "      <td>0.000000e+00</td>\n",
              "      <td>0.000000e+00</td>\n",
              "      <td>0.000000e+00</td>\n",
              "      <td>0.000000e+00</td>\n",
              "      <td>0.000000e+00</td>\n",
              "      <td>0.000000e+00</td>\n",
              "      <td>1.991032e-02</td>\n",
              "      <td>1.544459e-03</td>\n",
              "      <td>0.042831</td>\n",
              "      <td>2.084811e-03</td>\n",
              "      <td>0.000000e+00</td>\n",
              "      <td>0.000000e+00</td>\n",
              "      <td>2.390215e-13</td>\n",
              "      <td>0.000000e+00</td>\n",
              "      <td>1.903433e-03</td>\n",
              "      <td>0.000000e+00</td>\n",
              "      <td>2.148479e-02</td>\n",
              "      <td>...</td>\n",
              "      <td>0.000000e+00</td>\n",
              "      <td>0.000000e+00</td>\n",
              "      <td>0.000000e+00</td>\n",
              "      <td>0.000000</td>\n",
              "      <td>2.128928e-02</td>\n",
              "      <td>2.006818e-02</td>\n",
              "      <td>3.652316e-05</td>\n",
              "      <td>5.320842e-03</td>\n",
              "      <td>6.442296e-03</td>\n",
              "      <td>4.016330e-03</td>\n",
              "      <td>0.000000e+00</td>\n",
              "      <td>6.792604e-03</td>\n",
              "      <td>5.481235e-02</td>\n",
              "      <td>8.620177e-06</td>\n",
              "      <td>1.891377e-01</td>\n",
              "      <td>6.527159e-02</td>\n",
              "      <td>5.377435e-02</td>\n",
              "      <td>1.314454e-01</td>\n",
              "      <td>5.368699e-02</td>\n",
              "      <td>7.599868e-02</td>\n",
              "      <td>8.845486e-02</td>\n",
              "      <td>3.468177e-03</td>\n",
              "      <td>0.000000</td>\n",
              "      <td>5.963080e-09</td>\n",
              "      <td>5.790039e-02</td>\n",
              "      <td>2.666462e-10</td>\n",
              "      <td>5.616675e-03</td>\n",
              "      <td>6.227184e-02</td>\n",
              "      <td>3.032368e-02</td>\n",
              "      <td>8.409355e-02</td>\n",
              "      <td>1.121247e-01</td>\n",
              "      <td>7.720138e-02</td>\n",
              "      <td>0.000000e+00</td>\n",
              "      <td>0.000000e+00</td>\n",
              "      <td>0.000000e+00</td>\n",
              "      <td>7.121995e-03</td>\n",
              "      <td>0.000000e+00</td>\n",
              "      <td>5.877803e-03</td>\n",
              "      <td>2.397329e-04</td>\n",
              "      <td>0.000000e+00</td>\n",
              "    </tr>\n",
              "    <tr>\n",
              "      <th>sbj4</th>\n",
              "      <td>0.000000e+00</td>\n",
              "      <td>0.000000e+00</td>\n",
              "      <td>0.000000e+00</td>\n",
              "      <td>0.000000e+00</td>\n",
              "      <td>0.000000e+00</td>\n",
              "      <td>4.480232e-03</td>\n",
              "      <td>0.000000e+00</td>\n",
              "      <td>0.000000e+00</td>\n",
              "      <td>0.000000e+00</td>\n",
              "      <td>0.000000e+00</td>\n",
              "      <td>0.000000</td>\n",
              "      <td>4.833805e-15</td>\n",
              "      <td>0.000000e+00</td>\n",
              "      <td>0.000000e+00</td>\n",
              "      <td>0.000000e+00</td>\n",
              "      <td>0.000000</td>\n",
              "      <td>0.000000e+00</td>\n",
              "      <td>0.000000e+00</td>\n",
              "      <td>3.799049e-14</td>\n",
              "      <td>0.000000e+00</td>\n",
              "      <td>1.734851e-01</td>\n",
              "      <td>1.063983e-02</td>\n",
              "      <td>4.285319e-13</td>\n",
              "      <td>0.000000e+00</td>\n",
              "      <td>0.000000e+00</td>\n",
              "      <td>3.481726e-03</td>\n",
              "      <td>0.000000e+00</td>\n",
              "      <td>0.000000e+00</td>\n",
              "      <td>5.050759e-16</td>\n",
              "      <td>0.000000e+00</td>\n",
              "      <td>0.000000e+00</td>\n",
              "      <td>0.000000</td>\n",
              "      <td>0.000000e+00</td>\n",
              "      <td>0.000000e+00</td>\n",
              "      <td>0.000000e+00</td>\n",
              "      <td>1.021123e-02</td>\n",
              "      <td>0.000000e+00</td>\n",
              "      <td>0.000000e+00</td>\n",
              "      <td>0.000000e+00</td>\n",
              "      <td>0.000000e+00</td>\n",
              "      <td>...</td>\n",
              "      <td>0.000000e+00</td>\n",
              "      <td>0.000000e+00</td>\n",
              "      <td>1.003460e-06</td>\n",
              "      <td>0.000000</td>\n",
              "      <td>0.000000e+00</td>\n",
              "      <td>1.138052e-06</td>\n",
              "      <td>6.310146e-03</td>\n",
              "      <td>4.618684e-03</td>\n",
              "      <td>1.444887e-02</td>\n",
              "      <td>1.018235e-02</td>\n",
              "      <td>3.276322e-06</td>\n",
              "      <td>0.000000e+00</td>\n",
              "      <td>7.124813e-03</td>\n",
              "      <td>5.431860e-03</td>\n",
              "      <td>0.000000e+00</td>\n",
              "      <td>0.000000e+00</td>\n",
              "      <td>9.202822e-02</td>\n",
              "      <td>0.000000e+00</td>\n",
              "      <td>1.538387e-03</td>\n",
              "      <td>5.537355e-03</td>\n",
              "      <td>0.000000e+00</td>\n",
              "      <td>0.000000e+00</td>\n",
              "      <td>0.000000</td>\n",
              "      <td>9.000631e-04</td>\n",
              "      <td>7.586611e-02</td>\n",
              "      <td>1.112841e-06</td>\n",
              "      <td>2.241424e-07</td>\n",
              "      <td>0.000000e+00</td>\n",
              "      <td>0.000000e+00</td>\n",
              "      <td>0.000000e+00</td>\n",
              "      <td>0.000000e+00</td>\n",
              "      <td>0.000000e+00</td>\n",
              "      <td>0.000000e+00</td>\n",
              "      <td>0.000000e+00</td>\n",
              "      <td>0.000000e+00</td>\n",
              "      <td>0.000000e+00</td>\n",
              "      <td>2.294684e-09</td>\n",
              "      <td>0.000000e+00</td>\n",
              "      <td>2.704051e-02</td>\n",
              "      <td>0.000000e+00</td>\n",
              "    </tr>\n",
              "    <tr>\n",
              "      <th>sbj5</th>\n",
              "      <td>5.629926e-05</td>\n",
              "      <td>9.647305e-07</td>\n",
              "      <td>0.000000e+00</td>\n",
              "      <td>4.093029e-07</td>\n",
              "      <td>3.886706e-02</td>\n",
              "      <td>2.896821e-10</td>\n",
              "      <td>0.000000e+00</td>\n",
              "      <td>2.134674e-03</td>\n",
              "      <td>5.078264e-02</td>\n",
              "      <td>1.322378e-02</td>\n",
              "      <td>0.000000</td>\n",
              "      <td>4.095708e-03</td>\n",
              "      <td>4.441020e-02</td>\n",
              "      <td>6.253168e-06</td>\n",
              "      <td>6.148423e-09</td>\n",
              "      <td>0.027027</td>\n",
              "      <td>3.370332e-04</td>\n",
              "      <td>1.625717e-02</td>\n",
              "      <td>0.000000e+00</td>\n",
              "      <td>9.082712e-03</td>\n",
              "      <td>0.000000e+00</td>\n",
              "      <td>2.771129e-13</td>\n",
              "      <td>0.000000e+00</td>\n",
              "      <td>0.000000e+00</td>\n",
              "      <td>0.000000e+00</td>\n",
              "      <td>4.006767e-12</td>\n",
              "      <td>5.579237e-02</td>\n",
              "      <td>9.385205e-02</td>\n",
              "      <td>8.900531e-04</td>\n",
              "      <td>0.000000e+00</td>\n",
              "      <td>5.756285e-03</td>\n",
              "      <td>0.000000</td>\n",
              "      <td>4.234006e-03</td>\n",
              "      <td>2.073142e-02</td>\n",
              "      <td>5.207583e-02</td>\n",
              "      <td>8.429298e-03</td>\n",
              "      <td>4.406778e-07</td>\n",
              "      <td>6.943350e-03</td>\n",
              "      <td>6.926988e-02</td>\n",
              "      <td>2.397042e-05</td>\n",
              "      <td>...</td>\n",
              "      <td>5.545845e-03</td>\n",
              "      <td>6.676434e-02</td>\n",
              "      <td>0.000000e+00</td>\n",
              "      <td>0.041916</td>\n",
              "      <td>0.000000e+00</td>\n",
              "      <td>0.000000e+00</td>\n",
              "      <td>2.263216e-03</td>\n",
              "      <td>0.000000e+00</td>\n",
              "      <td>0.000000e+00</td>\n",
              "      <td>1.539302e-13</td>\n",
              "      <td>1.584766e-10</td>\n",
              "      <td>1.673756e-03</td>\n",
              "      <td>0.000000e+00</td>\n",
              "      <td>0.000000e+00</td>\n",
              "      <td>4.701189e-03</td>\n",
              "      <td>0.000000e+00</td>\n",
              "      <td>0.000000e+00</td>\n",
              "      <td>0.000000e+00</td>\n",
              "      <td>1.821111e-08</td>\n",
              "      <td>2.159866e-05</td>\n",
              "      <td>0.000000e+00</td>\n",
              "      <td>2.079920e-06</td>\n",
              "      <td>0.000000</td>\n",
              "      <td>1.498640e-01</td>\n",
              "      <td>0.000000e+00</td>\n",
              "      <td>0.000000e+00</td>\n",
              "      <td>1.479915e-04</td>\n",
              "      <td>0.000000e+00</td>\n",
              "      <td>4.667789e-03</td>\n",
              "      <td>0.000000e+00</td>\n",
              "      <td>2.672969e-04</td>\n",
              "      <td>1.449047e-07</td>\n",
              "      <td>0.000000e+00</td>\n",
              "      <td>1.143599e-02</td>\n",
              "      <td>5.768263e-02</td>\n",
              "      <td>9.433751e-05</td>\n",
              "      <td>7.549272e-07</td>\n",
              "      <td>5.767820e-03</td>\n",
              "      <td>0.000000e+00</td>\n",
              "      <td>0.000000e+00</td>\n",
              "    </tr>\n",
              "    <tr>\n",
              "      <th>sbj6</th>\n",
              "      <td>3.713327e-06</td>\n",
              "      <td>1.413345e-06</td>\n",
              "      <td>6.212148e-03</td>\n",
              "      <td>1.818493e-02</td>\n",
              "      <td>3.603404e-05</td>\n",
              "      <td>0.000000e+00</td>\n",
              "      <td>0.000000e+00</td>\n",
              "      <td>0.000000e+00</td>\n",
              "      <td>0.000000e+00</td>\n",
              "      <td>2.111787e-03</td>\n",
              "      <td>0.000000</td>\n",
              "      <td>6.763849e-07</td>\n",
              "      <td>0.000000e+00</td>\n",
              "      <td>0.000000e+00</td>\n",
              "      <td>0.000000e+00</td>\n",
              "      <td>0.000000</td>\n",
              "      <td>0.000000e+00</td>\n",
              "      <td>0.000000e+00</td>\n",
              "      <td>4.020027e-03</td>\n",
              "      <td>0.000000e+00</td>\n",
              "      <td>6.237314e-12</td>\n",
              "      <td>1.342782e-02</td>\n",
              "      <td>0.000000e+00</td>\n",
              "      <td>5.829082e-03</td>\n",
              "      <td>0.000000e+00</td>\n",
              "      <td>0.000000e+00</td>\n",
              "      <td>3.413960e-07</td>\n",
              "      <td>0.000000e+00</td>\n",
              "      <td>1.721640e-13</td>\n",
              "      <td>4.666506e-03</td>\n",
              "      <td>0.000000e+00</td>\n",
              "      <td>0.000000</td>\n",
              "      <td>0.000000e+00</td>\n",
              "      <td>0.000000e+00</td>\n",
              "      <td>0.000000e+00</td>\n",
              "      <td>4.460099e-03</td>\n",
              "      <td>0.000000e+00</td>\n",
              "      <td>2.555864e-08</td>\n",
              "      <td>4.064328e-03</td>\n",
              "      <td>1.058218e-07</td>\n",
              "      <td>...</td>\n",
              "      <td>0.000000e+00</td>\n",
              "      <td>0.000000e+00</td>\n",
              "      <td>1.088853e-02</td>\n",
              "      <td>0.000000</td>\n",
              "      <td>5.330205e-12</td>\n",
              "      <td>2.000013e-03</td>\n",
              "      <td>0.000000e+00</td>\n",
              "      <td>1.541396e-09</td>\n",
              "      <td>3.822370e-04</td>\n",
              "      <td>1.075221e-10</td>\n",
              "      <td>0.000000e+00</td>\n",
              "      <td>7.561178e-08</td>\n",
              "      <td>8.163777e-03</td>\n",
              "      <td>0.000000e+00</td>\n",
              "      <td>0.000000e+00</td>\n",
              "      <td>2.291243e-02</td>\n",
              "      <td>0.000000e+00</td>\n",
              "      <td>4.716685e-02</td>\n",
              "      <td>1.062020e-03</td>\n",
              "      <td>7.617369e-03</td>\n",
              "      <td>0.000000e+00</td>\n",
              "      <td>1.491687e-03</td>\n",
              "      <td>0.000000</td>\n",
              "      <td>8.400102e-07</td>\n",
              "      <td>1.360175e-01</td>\n",
              "      <td>1.607351e-02</td>\n",
              "      <td>0.000000e+00</td>\n",
              "      <td>0.000000e+00</td>\n",
              "      <td>0.000000e+00</td>\n",
              "      <td>3.158066e-02</td>\n",
              "      <td>4.345496e-08</td>\n",
              "      <td>1.564643e-05</td>\n",
              "      <td>9.401993e-06</td>\n",
              "      <td>0.000000e+00</td>\n",
              "      <td>0.000000e+00</td>\n",
              "      <td>4.524482e-02</td>\n",
              "      <td>3.217327e-06</td>\n",
              "      <td>1.418156e-08</td>\n",
              "      <td>1.450027e-06</td>\n",
              "      <td>0.000000e+00</td>\n",
              "    </tr>\n",
              "    <tr>\n",
              "      <th>sbj7</th>\n",
              "      <td>0.000000e+00</td>\n",
              "      <td>0.000000e+00</td>\n",
              "      <td>4.367269e-09</td>\n",
              "      <td>0.000000e+00</td>\n",
              "      <td>0.000000e+00</td>\n",
              "      <td>2.181714e-02</td>\n",
              "      <td>0.000000e+00</td>\n",
              "      <td>9.495899e-11</td>\n",
              "      <td>0.000000e+00</td>\n",
              "      <td>0.000000e+00</td>\n",
              "      <td>0.000000</td>\n",
              "      <td>0.000000e+00</td>\n",
              "      <td>0.000000e+00</td>\n",
              "      <td>0.000000e+00</td>\n",
              "      <td>0.000000e+00</td>\n",
              "      <td>0.000000</td>\n",
              "      <td>0.000000e+00</td>\n",
              "      <td>0.000000e+00</td>\n",
              "      <td>3.048003e-01</td>\n",
              "      <td>0.000000e+00</td>\n",
              "      <td>2.291462e-02</td>\n",
              "      <td>0.000000e+00</td>\n",
              "      <td>1.195539e-15</td>\n",
              "      <td>0.000000e+00</td>\n",
              "      <td>1.612903e-01</td>\n",
              "      <td>3.849784e-03</td>\n",
              "      <td>4.084568e-03</td>\n",
              "      <td>0.000000e+00</td>\n",
              "      <td>0.000000e+00</td>\n",
              "      <td>1.633326e-05</td>\n",
              "      <td>0.000000e+00</td>\n",
              "      <td>0.000000</td>\n",
              "      <td>0.000000e+00</td>\n",
              "      <td>0.000000e+00</td>\n",
              "      <td>0.000000e+00</td>\n",
              "      <td>0.000000e+00</td>\n",
              "      <td>0.000000e+00</td>\n",
              "      <td>0.000000e+00</td>\n",
              "      <td>0.000000e+00</td>\n",
              "      <td>4.657743e-06</td>\n",
              "      <td>...</td>\n",
              "      <td>0.000000e+00</td>\n",
              "      <td>0.000000e+00</td>\n",
              "      <td>1.164899e-01</td>\n",
              "      <td>0.000000</td>\n",
              "      <td>2.724741e-02</td>\n",
              "      <td>4.971044e-03</td>\n",
              "      <td>0.000000e+00</td>\n",
              "      <td>0.000000e+00</td>\n",
              "      <td>2.307256e-02</td>\n",
              "      <td>1.265485e-04</td>\n",
              "      <td>1.492990e-02</td>\n",
              "      <td>0.000000e+00</td>\n",
              "      <td>1.068640e-02</td>\n",
              "      <td>1.974144e-02</td>\n",
              "      <td>0.000000e+00</td>\n",
              "      <td>4.071664e-16</td>\n",
              "      <td>8.597688e-03</td>\n",
              "      <td>2.132739e-14</td>\n",
              "      <td>5.464475e-03</td>\n",
              "      <td>0.000000e+00</td>\n",
              "      <td>0.000000e+00</td>\n",
              "      <td>0.000000e+00</td>\n",
              "      <td>0.003837</td>\n",
              "      <td>0.000000e+00</td>\n",
              "      <td>1.027467e-02</td>\n",
              "      <td>1.644227e-10</td>\n",
              "      <td>0.000000e+00</td>\n",
              "      <td>0.000000e+00</td>\n",
              "      <td>2.265546e-11</td>\n",
              "      <td>3.008363e-03</td>\n",
              "      <td>0.000000e+00</td>\n",
              "      <td>9.398473e-03</td>\n",
              "      <td>0.000000e+00</td>\n",
              "      <td>4.362149e-03</td>\n",
              "      <td>0.000000e+00</td>\n",
              "      <td>4.668121e-02</td>\n",
              "      <td>2.079481e-13</td>\n",
              "      <td>9.826382e-06</td>\n",
              "      <td>5.472850e-03</td>\n",
              "      <td>0.000000e+00</td>\n",
              "    </tr>\n",
              "    <tr>\n",
              "      <th>sbj8</th>\n",
              "      <td>0.000000e+00</td>\n",
              "      <td>7.740742e-11</td>\n",
              "      <td>1.245295e-12</td>\n",
              "      <td>1.494771e-02</td>\n",
              "      <td>1.086363e-02</td>\n",
              "      <td>8.997608e-07</td>\n",
              "      <td>0.000000e+00</td>\n",
              "      <td>6.881311e-10</td>\n",
              "      <td>3.724109e-10</td>\n",
              "      <td>3.449218e-02</td>\n",
              "      <td>0.000000</td>\n",
              "      <td>6.264910e-04</td>\n",
              "      <td>2.974522e-02</td>\n",
              "      <td>7.739012e-03</td>\n",
              "      <td>1.510748e-02</td>\n",
              "      <td>0.000000</td>\n",
              "      <td>5.442078e-07</td>\n",
              "      <td>3.908887e-07</td>\n",
              "      <td>2.514244e-11</td>\n",
              "      <td>3.550967e-04</td>\n",
              "      <td>0.000000e+00</td>\n",
              "      <td>8.285846e-10</td>\n",
              "      <td>6.127462e-03</td>\n",
              "      <td>0.000000e+00</td>\n",
              "      <td>6.451613e-02</td>\n",
              "      <td>6.792472e-03</td>\n",
              "      <td>7.594716e-02</td>\n",
              "      <td>1.434226e-01</td>\n",
              "      <td>2.324433e-03</td>\n",
              "      <td>3.948484e-02</td>\n",
              "      <td>8.910799e-03</td>\n",
              "      <td>0.090909</td>\n",
              "      <td>2.061403e-07</td>\n",
              "      <td>2.727726e-01</td>\n",
              "      <td>3.768174e-02</td>\n",
              "      <td>9.488829e-03</td>\n",
              "      <td>1.245044e-03</td>\n",
              "      <td>2.635365e-03</td>\n",
              "      <td>2.303261e-01</td>\n",
              "      <td>3.575350e-10</td>\n",
              "      <td>...</td>\n",
              "      <td>1.079207e-02</td>\n",
              "      <td>2.911121e-02</td>\n",
              "      <td>3.902292e-10</td>\n",
              "      <td>0.104458</td>\n",
              "      <td>1.895190e-15</td>\n",
              "      <td>0.000000e+00</td>\n",
              "      <td>3.197333e-02</td>\n",
              "      <td>4.258336e-03</td>\n",
              "      <td>1.564649e-09</td>\n",
              "      <td>2.005713e-11</td>\n",
              "      <td>2.539917e-12</td>\n",
              "      <td>0.000000e+00</td>\n",
              "      <td>2.894919e-13</td>\n",
              "      <td>3.816796e-03</td>\n",
              "      <td>1.365046e-12</td>\n",
              "      <td>0.000000e+00</td>\n",
              "      <td>1.962016e-12</td>\n",
              "      <td>0.000000e+00</td>\n",
              "      <td>0.000000e+00</td>\n",
              "      <td>0.000000e+00</td>\n",
              "      <td>2.786287e-09</td>\n",
              "      <td>1.433408e-02</td>\n",
              "      <td>0.000000</td>\n",
              "      <td>4.049801e-02</td>\n",
              "      <td>0.000000e+00</td>\n",
              "      <td>1.400193e-06</td>\n",
              "      <td>0.000000e+00</td>\n",
              "      <td>0.000000e+00</td>\n",
              "      <td>0.000000e+00</td>\n",
              "      <td>1.380363e-02</td>\n",
              "      <td>6.285121e-08</td>\n",
              "      <td>0.000000e+00</td>\n",
              "      <td>2.125902e-10</td>\n",
              "      <td>1.482550e-09</td>\n",
              "      <td>7.361841e-02</td>\n",
              "      <td>0.000000e+00</td>\n",
              "      <td>6.184750e-05</td>\n",
              "      <td>0.000000e+00</td>\n",
              "      <td>1.383242e-03</td>\n",
              "      <td>2.256509e-03</td>\n",
              "    </tr>\n",
              "    <tr>\n",
              "      <th>sbj9</th>\n",
              "      <td>1.061070e-01</td>\n",
              "      <td>0.000000e+00</td>\n",
              "      <td>4.971130e-12</td>\n",
              "      <td>1.778132e-05</td>\n",
              "      <td>2.010635e-02</td>\n",
              "      <td>1.408659e-04</td>\n",
              "      <td>0.000000e+00</td>\n",
              "      <td>6.790922e-03</td>\n",
              "      <td>1.442300e-01</td>\n",
              "      <td>2.444059e-03</td>\n",
              "      <td>0.000000</td>\n",
              "      <td>0.000000e+00</td>\n",
              "      <td>6.789945e-02</td>\n",
              "      <td>2.904509e-01</td>\n",
              "      <td>2.788345e-01</td>\n",
              "      <td>0.377845</td>\n",
              "      <td>3.661445e-01</td>\n",
              "      <td>2.710649e-01</td>\n",
              "      <td>3.875223e-04</td>\n",
              "      <td>2.771136e-01</td>\n",
              "      <td>2.536997e-06</td>\n",
              "      <td>8.213225e-16</td>\n",
              "      <td>2.807996e-01</td>\n",
              "      <td>4.180812e-13</td>\n",
              "      <td>0.000000e+00</td>\n",
              "      <td>7.477302e-03</td>\n",
              "      <td>9.080396e-03</td>\n",
              "      <td>1.650859e-02</td>\n",
              "      <td>2.523839e-01</td>\n",
              "      <td>3.752623e-05</td>\n",
              "      <td>7.581758e-03</td>\n",
              "      <td>0.000000</td>\n",
              "      <td>1.019197e-01</td>\n",
              "      <td>0.000000e+00</td>\n",
              "      <td>1.967604e-02</td>\n",
              "      <td>1.705276e-02</td>\n",
              "      <td>0.000000e+00</td>\n",
              "      <td>5.061251e-02</td>\n",
              "      <td>1.453579e-02</td>\n",
              "      <td>1.918356e-02</td>\n",
              "      <td>...</td>\n",
              "      <td>2.311427e-01</td>\n",
              "      <td>1.321270e-02</td>\n",
              "      <td>0.000000e+00</td>\n",
              "      <td>0.000000</td>\n",
              "      <td>1.763099e-03</td>\n",
              "      <td>0.000000e+00</td>\n",
              "      <td>7.327229e-03</td>\n",
              "      <td>1.990542e-15</td>\n",
              "      <td>5.385647e-07</td>\n",
              "      <td>6.911284e-16</td>\n",
              "      <td>2.038352e-06</td>\n",
              "      <td>0.000000e+00</td>\n",
              "      <td>1.278098e-07</td>\n",
              "      <td>1.170476e-13</td>\n",
              "      <td>2.939692e-07</td>\n",
              "      <td>1.604352e-12</td>\n",
              "      <td>1.580019e-04</td>\n",
              "      <td>1.785122e-11</td>\n",
              "      <td>8.220519e-03</td>\n",
              "      <td>0.000000e+00</td>\n",
              "      <td>0.000000e+00</td>\n",
              "      <td>1.175047e-13</td>\n",
              "      <td>0.000000</td>\n",
              "      <td>1.063162e-02</td>\n",
              "      <td>2.976518e-16</td>\n",
              "      <td>5.517947e-10</td>\n",
              "      <td>7.545088e-06</td>\n",
              "      <td>1.137591e-05</td>\n",
              "      <td>1.283153e-05</td>\n",
              "      <td>4.290817e-06</td>\n",
              "      <td>1.314905e-02</td>\n",
              "      <td>6.392922e-03</td>\n",
              "      <td>2.149485e-06</td>\n",
              "      <td>2.894906e-06</td>\n",
              "      <td>1.670050e-01</td>\n",
              "      <td>0.000000e+00</td>\n",
              "      <td>0.000000e+00</td>\n",
              "      <td>4.040759e-02</td>\n",
              "      <td>7.131840e-04</td>\n",
              "      <td>0.000000e+00</td>\n",
              "    </tr>\n",
              "    <tr>\n",
              "      <th>sbj10</th>\n",
              "      <td>2.885959e-06</td>\n",
              "      <td>1.574869e-01</td>\n",
              "      <td>7.978453e-03</td>\n",
              "      <td>8.058255e-05</td>\n",
              "      <td>2.387833e-09</td>\n",
              "      <td>5.718900e-04</td>\n",
              "      <td>1.292535e-06</td>\n",
              "      <td>1.800161e-05</td>\n",
              "      <td>0.000000e+00</td>\n",
              "      <td>9.644218e-03</td>\n",
              "      <td>0.000000</td>\n",
              "      <td>1.818802e-11</td>\n",
              "      <td>0.000000e+00</td>\n",
              "      <td>0.000000e+00</td>\n",
              "      <td>1.329246e-02</td>\n",
              "      <td>0.000000</td>\n",
              "      <td>4.637474e-09</td>\n",
              "      <td>0.000000e+00</td>\n",
              "      <td>2.400959e-02</td>\n",
              "      <td>4.284345e-04</td>\n",
              "      <td>4.300612e-03</td>\n",
              "      <td>6.689538e-02</td>\n",
              "      <td>0.000000e+00</td>\n",
              "      <td>1.651780e-05</td>\n",
              "      <td>0.000000e+00</td>\n",
              "      <td>9.043702e-03</td>\n",
              "      <td>3.972979e-05</td>\n",
              "      <td>9.054580e-08</td>\n",
              "      <td>8.511373e-03</td>\n",
              "      <td>1.044442e-05</td>\n",
              "      <td>4.524531e-09</td>\n",
              "      <td>0.000000</td>\n",
              "      <td>3.519271e-13</td>\n",
              "      <td>7.079753e-06</td>\n",
              "      <td>0.000000e+00</td>\n",
              "      <td>0.000000e+00</td>\n",
              "      <td>1.449267e-14</td>\n",
              "      <td>0.000000e+00</td>\n",
              "      <td>0.000000e+00</td>\n",
              "      <td>0.000000e+00</td>\n",
              "      <td>...</td>\n",
              "      <td>1.672527e-08</td>\n",
              "      <td>0.000000e+00</td>\n",
              "      <td>1.247218e-02</td>\n",
              "      <td>0.000000</td>\n",
              "      <td>1.228933e-05</td>\n",
              "      <td>3.560464e-05</td>\n",
              "      <td>0.000000e+00</td>\n",
              "      <td>4.498897e-02</td>\n",
              "      <td>3.448660e-01</td>\n",
              "      <td>9.451708e-07</td>\n",
              "      <td>1.000504e-02</td>\n",
              "      <td>3.474644e-02</td>\n",
              "      <td>6.064991e-02</td>\n",
              "      <td>2.055342e-02</td>\n",
              "      <td>0.000000e+00</td>\n",
              "      <td>8.902861e-07</td>\n",
              "      <td>2.798570e-02</td>\n",
              "      <td>1.209111e-02</td>\n",
              "      <td>0.000000e+00</td>\n",
              "      <td>0.000000e+00</td>\n",
              "      <td>8.940405e-02</td>\n",
              "      <td>1.769296e-13</td>\n",
              "      <td>0.000000</td>\n",
              "      <td>0.000000e+00</td>\n",
              "      <td>2.864803e-04</td>\n",
              "      <td>2.738704e-02</td>\n",
              "      <td>1.186570e-02</td>\n",
              "      <td>0.000000e+00</td>\n",
              "      <td>0.000000e+00</td>\n",
              "      <td>5.434177e-02</td>\n",
              "      <td>3.306720e-02</td>\n",
              "      <td>1.822426e-02</td>\n",
              "      <td>2.419905e-06</td>\n",
              "      <td>1.330961e-02</td>\n",
              "      <td>0.000000e+00</td>\n",
              "      <td>2.249946e-09</td>\n",
              "      <td>4.197371e-02</td>\n",
              "      <td>0.000000e+00</td>\n",
              "      <td>0.000000e+00</td>\n",
              "      <td>0.000000e+00</td>\n",
              "    </tr>\n",
              "    <tr>\n",
              "      <th>sbj11</th>\n",
              "      <td>0.000000e+00</td>\n",
              "      <td>7.911295e-03</td>\n",
              "      <td>4.120380e-03</td>\n",
              "      <td>1.358199e-15</td>\n",
              "      <td>0.000000e+00</td>\n",
              "      <td>1.814004e-01</td>\n",
              "      <td>1.631706e-05</td>\n",
              "      <td>0.000000e+00</td>\n",
              "      <td>0.000000e+00</td>\n",
              "      <td>3.726370e-03</td>\n",
              "      <td>0.000000</td>\n",
              "      <td>0.000000e+00</td>\n",
              "      <td>0.000000e+00</td>\n",
              "      <td>2.871030e-14</td>\n",
              "      <td>0.000000e+00</td>\n",
              "      <td>0.000000</td>\n",
              "      <td>0.000000e+00</td>\n",
              "      <td>0.000000e+00</td>\n",
              "      <td>5.472098e-03</td>\n",
              "      <td>0.000000e+00</td>\n",
              "      <td>0.000000e+00</td>\n",
              "      <td>2.390874e-02</td>\n",
              "      <td>0.000000e+00</td>\n",
              "      <td>0.000000e+00</td>\n",
              "      <td>3.562880e-12</td>\n",
              "      <td>1.757075e-02</td>\n",
              "      <td>0.000000e+00</td>\n",
              "      <td>0.000000e+00</td>\n",
              "      <td>0.000000e+00</td>\n",
              "      <td>0.000000e+00</td>\n",
              "      <td>0.000000e+00</td>\n",
              "      <td>0.000000</td>\n",
              "      <td>5.827108e-14</td>\n",
              "      <td>4.951415e-15</td>\n",
              "      <td>0.000000e+00</td>\n",
              "      <td>0.000000e+00</td>\n",
              "      <td>0.000000e+00</td>\n",
              "      <td>0.000000e+00</td>\n",
              "      <td>3.073967e-05</td>\n",
              "      <td>8.109299e-03</td>\n",
              "      <td>...</td>\n",
              "      <td>0.000000e+00</td>\n",
              "      <td>0.000000e+00</td>\n",
              "      <td>9.125294e-03</td>\n",
              "      <td>0.000000</td>\n",
              "      <td>0.000000e+00</td>\n",
              "      <td>0.000000e+00</td>\n",
              "      <td>9.352851e-09</td>\n",
              "      <td>7.522810e-03</td>\n",
              "      <td>0.000000e+00</td>\n",
              "      <td>0.000000e+00</td>\n",
              "      <td>4.900834e-07</td>\n",
              "      <td>1.540857e-03</td>\n",
              "      <td>1.032719e-13</td>\n",
              "      <td>0.000000e+00</td>\n",
              "      <td>0.000000e+00</td>\n",
              "      <td>0.000000e+00</td>\n",
              "      <td>0.000000e+00</td>\n",
              "      <td>0.000000e+00</td>\n",
              "      <td>0.000000e+00</td>\n",
              "      <td>1.135855e-08</td>\n",
              "      <td>0.000000e+00</td>\n",
              "      <td>1.223783e-01</td>\n",
              "      <td>0.000000</td>\n",
              "      <td>5.947790e-03</td>\n",
              "      <td>0.000000e+00</td>\n",
              "      <td>1.201888e-01</td>\n",
              "      <td>3.879479e-03</td>\n",
              "      <td>1.680678e-11</td>\n",
              "      <td>1.157187e-09</td>\n",
              "      <td>1.351196e-14</td>\n",
              "      <td>4.367256e-04</td>\n",
              "      <td>0.000000e+00</td>\n",
              "      <td>6.913599e-03</td>\n",
              "      <td>6.834829e-03</td>\n",
              "      <td>3.631409e-15</td>\n",
              "      <td>0.000000e+00</td>\n",
              "      <td>9.021509e-03</td>\n",
              "      <td>1.081181e-05</td>\n",
              "      <td>0.000000e+00</td>\n",
              "      <td>0.000000e+00</td>\n",
              "    </tr>\n",
              "    <tr>\n",
              "      <th>sbj12</th>\n",
              "      <td>3.364048e-09</td>\n",
              "      <td>2.218678e-06</td>\n",
              "      <td>0.000000e+00</td>\n",
              "      <td>2.423240e-03</td>\n",
              "      <td>2.020088e-02</td>\n",
              "      <td>3.902046e-11</td>\n",
              "      <td>0.000000e+00</td>\n",
              "      <td>2.820970e-08</td>\n",
              "      <td>5.066588e-16</td>\n",
              "      <td>7.878767e-02</td>\n",
              "      <td>0.000000</td>\n",
              "      <td>0.000000e+00</td>\n",
              "      <td>0.000000e+00</td>\n",
              "      <td>0.000000e+00</td>\n",
              "      <td>0.000000e+00</td>\n",
              "      <td>0.000000</td>\n",
              "      <td>0.000000e+00</td>\n",
              "      <td>0.000000e+00</td>\n",
              "      <td>0.000000e+00</td>\n",
              "      <td>0.000000e+00</td>\n",
              "      <td>0.000000e+00</td>\n",
              "      <td>3.776737e-04</td>\n",
              "      <td>0.000000e+00</td>\n",
              "      <td>0.000000e+00</td>\n",
              "      <td>6.451613e-02</td>\n",
              "      <td>7.813606e-02</td>\n",
              "      <td>0.000000e+00</td>\n",
              "      <td>7.332162e-06</td>\n",
              "      <td>0.000000e+00</td>\n",
              "      <td>4.047933e-03</td>\n",
              "      <td>2.364596e-02</td>\n",
              "      <td>0.000000</td>\n",
              "      <td>0.000000e+00</td>\n",
              "      <td>1.307895e-02</td>\n",
              "      <td>0.000000e+00</td>\n",
              "      <td>2.432343e-02</td>\n",
              "      <td>5.336888e-02</td>\n",
              "      <td>2.809525e-07</td>\n",
              "      <td>5.713620e-04</td>\n",
              "      <td>0.000000e+00</td>\n",
              "      <td>...</td>\n",
              "      <td>1.376000e-09</td>\n",
              "      <td>0.000000e+00</td>\n",
              "      <td>0.000000e+00</td>\n",
              "      <td>0.000000</td>\n",
              "      <td>0.000000e+00</td>\n",
              "      <td>0.000000e+00</td>\n",
              "      <td>1.973454e-14</td>\n",
              "      <td>4.620271e-15</td>\n",
              "      <td>0.000000e+00</td>\n",
              "      <td>0.000000e+00</td>\n",
              "      <td>0.000000e+00</td>\n",
              "      <td>1.772556e-13</td>\n",
              "      <td>1.605586e-11</td>\n",
              "      <td>0.000000e+00</td>\n",
              "      <td>0.000000e+00</td>\n",
              "      <td>0.000000e+00</td>\n",
              "      <td>0.000000e+00</td>\n",
              "      <td>0.000000e+00</td>\n",
              "      <td>0.000000e+00</td>\n",
              "      <td>0.000000e+00</td>\n",
              "      <td>0.000000e+00</td>\n",
              "      <td>0.000000e+00</td>\n",
              "      <td>0.000000</td>\n",
              "      <td>4.769284e-03</td>\n",
              "      <td>0.000000e+00</td>\n",
              "      <td>4.797224e-03</td>\n",
              "      <td>0.000000e+00</td>\n",
              "      <td>3.357322e-03</td>\n",
              "      <td>0.000000e+00</td>\n",
              "      <td>0.000000e+00</td>\n",
              "      <td>1.211131e-09</td>\n",
              "      <td>0.000000e+00</td>\n",
              "      <td>2.218790e-02</td>\n",
              "      <td>0.000000e+00</td>\n",
              "      <td>0.000000e+00</td>\n",
              "      <td>0.000000e+00</td>\n",
              "      <td>0.000000e+00</td>\n",
              "      <td>7.506589e-02</td>\n",
              "      <td>0.000000e+00</td>\n",
              "      <td>0.000000e+00</td>\n",
              "    </tr>\n",
              "    <tr>\n",
              "      <th>sbj13</th>\n",
              "      <td>6.519698e-03</td>\n",
              "      <td>5.809378e-02</td>\n",
              "      <td>1.160171e-06</td>\n",
              "      <td>0.000000e+00</td>\n",
              "      <td>6.958841e-03</td>\n",
              "      <td>0.000000e+00</td>\n",
              "      <td>5.003294e-02</td>\n",
              "      <td>4.356196e-11</td>\n",
              "      <td>0.000000e+00</td>\n",
              "      <td>3.623247e-04</td>\n",
              "      <td>0.000000</td>\n",
              "      <td>6.865749e-02</td>\n",
              "      <td>0.000000e+00</td>\n",
              "      <td>0.000000e+00</td>\n",
              "      <td>0.000000e+00</td>\n",
              "      <td>0.000000</td>\n",
              "      <td>0.000000e+00</td>\n",
              "      <td>0.000000e+00</td>\n",
              "      <td>4.132074e-03</td>\n",
              "      <td>0.000000e+00</td>\n",
              "      <td>1.171707e-05</td>\n",
              "      <td>2.718861e-06</td>\n",
              "      <td>0.000000e+00</td>\n",
              "      <td>7.998193e-03</td>\n",
              "      <td>0.000000e+00</td>\n",
              "      <td>0.000000e+00</td>\n",
              "      <td>3.440304e-03</td>\n",
              "      <td>7.706880e-06</td>\n",
              "      <td>0.000000e+00</td>\n",
              "      <td>3.816406e-02</td>\n",
              "      <td>0.000000e+00</td>\n",
              "      <td>0.000000</td>\n",
              "      <td>0.000000e+00</td>\n",
              "      <td>4.270723e-05</td>\n",
              "      <td>0.000000e+00</td>\n",
              "      <td>0.000000e+00</td>\n",
              "      <td>0.000000e+00</td>\n",
              "      <td>0.000000e+00</td>\n",
              "      <td>0.000000e+00</td>\n",
              "      <td>0.000000e+00</td>\n",
              "      <td>...</td>\n",
              "      <td>0.000000e+00</td>\n",
              "      <td>2.005829e-11</td>\n",
              "      <td>2.144680e-02</td>\n",
              "      <td>0.000000</td>\n",
              "      <td>0.000000e+00</td>\n",
              "      <td>6.077819e-03</td>\n",
              "      <td>4.500215e-02</td>\n",
              "      <td>0.000000e+00</td>\n",
              "      <td>1.467652e-02</td>\n",
              "      <td>0.000000e+00</td>\n",
              "      <td>7.407235e-02</td>\n",
              "      <td>1.406523e-01</td>\n",
              "      <td>4.025607e-03</td>\n",
              "      <td>1.983007e-02</td>\n",
              "      <td>4.849826e-06</td>\n",
              "      <td>5.017363e-14</td>\n",
              "      <td>1.522754e-06</td>\n",
              "      <td>0.000000e+00</td>\n",
              "      <td>4.703192e-03</td>\n",
              "      <td>1.493552e-06</td>\n",
              "      <td>1.948982e-02</td>\n",
              "      <td>6.252183e-08</td>\n",
              "      <td>0.000000</td>\n",
              "      <td>0.000000e+00</td>\n",
              "      <td>5.537705e-10</td>\n",
              "      <td>2.621820e-02</td>\n",
              "      <td>5.521644e-08</td>\n",
              "      <td>4.574241e-08</td>\n",
              "      <td>0.000000e+00</td>\n",
              "      <td>7.327682e-05</td>\n",
              "      <td>1.155240e-01</td>\n",
              "      <td>7.802632e-02</td>\n",
              "      <td>0.000000e+00</td>\n",
              "      <td>6.092628e-02</td>\n",
              "      <td>0.000000e+00</td>\n",
              "      <td>0.000000e+00</td>\n",
              "      <td>1.824311e-01</td>\n",
              "      <td>9.324023e-10</td>\n",
              "      <td>5.585358e-03</td>\n",
              "      <td>0.000000e+00</td>\n",
              "    </tr>\n",
              "    <tr>\n",
              "      <th>sbj14</th>\n",
              "      <td>4.794585e-05</td>\n",
              "      <td>8.803024e-07</td>\n",
              "      <td>1.682179e-03</td>\n",
              "      <td>5.610313e-03</td>\n",
              "      <td>2.399740e-11</td>\n",
              "      <td>1.707876e-03</td>\n",
              "      <td>1.647670e-05</td>\n",
              "      <td>2.275006e-01</td>\n",
              "      <td>4.959007e-02</td>\n",
              "      <td>0.000000e+00</td>\n",
              "      <td>0.000000</td>\n",
              "      <td>0.000000e+00</td>\n",
              "      <td>6.919032e-02</td>\n",
              "      <td>1.685303e-02</td>\n",
              "      <td>1.075985e-01</td>\n",
              "      <td>0.000000</td>\n",
              "      <td>0.000000e+00</td>\n",
              "      <td>2.282788e-02</td>\n",
              "      <td>8.557115e-16</td>\n",
              "      <td>1.738792e-02</td>\n",
              "      <td>4.650417e-07</td>\n",
              "      <td>1.358631e-07</td>\n",
              "      <td>1.152605e-02</td>\n",
              "      <td>0.000000e+00</td>\n",
              "      <td>0.000000e+00</td>\n",
              "      <td>2.625713e-05</td>\n",
              "      <td>1.440769e-02</td>\n",
              "      <td>2.180440e-02</td>\n",
              "      <td>3.197674e-05</td>\n",
              "      <td>2.413298e-06</td>\n",
              "      <td>3.366185e-04</td>\n",
              "      <td>0.000000</td>\n",
              "      <td>3.821782e-02</td>\n",
              "      <td>6.147658e-08</td>\n",
              "      <td>2.835767e-04</td>\n",
              "      <td>3.494865e-06</td>\n",
              "      <td>1.596767e-03</td>\n",
              "      <td>3.137461e-01</td>\n",
              "      <td>0.000000e+00</td>\n",
              "      <td>4.882551e-04</td>\n",
              "      <td>...</td>\n",
              "      <td>2.039804e-04</td>\n",
              "      <td>1.372445e-01</td>\n",
              "      <td>0.000000e+00</td>\n",
              "      <td>0.086957</td>\n",
              "      <td>0.000000e+00</td>\n",
              "      <td>0.000000e+00</td>\n",
              "      <td>1.429973e-03</td>\n",
              "      <td>0.000000e+00</td>\n",
              "      <td>1.014601e-06</td>\n",
              "      <td>3.766694e-03</td>\n",
              "      <td>2.798925e-15</td>\n",
              "      <td>3.197661e-03</td>\n",
              "      <td>1.667617e-03</td>\n",
              "      <td>0.000000e+00</td>\n",
              "      <td>5.628285e-03</td>\n",
              "      <td>0.000000e+00</td>\n",
              "      <td>3.802137e-12</td>\n",
              "      <td>8.687939e-14</td>\n",
              "      <td>6.186096e-05</td>\n",
              "      <td>0.000000e+00</td>\n",
              "      <td>0.000000e+00</td>\n",
              "      <td>8.198566e-06</td>\n",
              "      <td>0.000000</td>\n",
              "      <td>1.577100e-04</td>\n",
              "      <td>0.000000e+00</td>\n",
              "      <td>3.374773e-03</td>\n",
              "      <td>5.875967e-05</td>\n",
              "      <td>3.738042e-04</td>\n",
              "      <td>0.000000e+00</td>\n",
              "      <td>0.000000e+00</td>\n",
              "      <td>0.000000e+00</td>\n",
              "      <td>1.592194e-07</td>\n",
              "      <td>1.118534e-04</td>\n",
              "      <td>0.000000e+00</td>\n",
              "      <td>3.262789e-02</td>\n",
              "      <td>0.000000e+00</td>\n",
              "      <td>0.000000e+00</td>\n",
              "      <td>1.175094e-01</td>\n",
              "      <td>1.137578e-16</td>\n",
              "      <td>0.000000e+00</td>\n",
              "    </tr>\n",
              "    <tr>\n",
              "      <th>sbj15</th>\n",
              "      <td>8.004949e-03</td>\n",
              "      <td>5.136356e-07</td>\n",
              "      <td>1.331654e-02</td>\n",
              "      <td>2.646375e-02</td>\n",
              "      <td>1.243947e-02</td>\n",
              "      <td>1.527713e-02</td>\n",
              "      <td>4.587073e-11</td>\n",
              "      <td>4.464278e-03</td>\n",
              "      <td>1.747529e-02</td>\n",
              "      <td>8.090922e-03</td>\n",
              "      <td>0.013194</td>\n",
              "      <td>1.187043e-04</td>\n",
              "      <td>1.735517e-02</td>\n",
              "      <td>2.823688e-04</td>\n",
              "      <td>2.261841e-03</td>\n",
              "      <td>0.000000</td>\n",
              "      <td>2.917966e-03</td>\n",
              "      <td>0.000000e+00</td>\n",
              "      <td>0.000000e+00</td>\n",
              "      <td>7.456537e-03</td>\n",
              "      <td>2.912077e-02</td>\n",
              "      <td>1.396726e-03</td>\n",
              "      <td>0.000000e+00</td>\n",
              "      <td>4.893142e-03</td>\n",
              "      <td>3.216635e-02</td>\n",
              "      <td>6.371000e-03</td>\n",
              "      <td>9.993658e-03</td>\n",
              "      <td>1.452443e-14</td>\n",
              "      <td>0.000000e+00</td>\n",
              "      <td>4.041001e-03</td>\n",
              "      <td>5.282895e-03</td>\n",
              "      <td>0.000000</td>\n",
              "      <td>2.750645e-02</td>\n",
              "      <td>2.566840e-02</td>\n",
              "      <td>1.379975e-02</td>\n",
              "      <td>1.801982e-02</td>\n",
              "      <td>0.000000e+00</td>\n",
              "      <td>7.073449e-03</td>\n",
              "      <td>9.887846e-03</td>\n",
              "      <td>9.245262e-02</td>\n",
              "      <td>...</td>\n",
              "      <td>0.000000e+00</td>\n",
              "      <td>6.940717e-03</td>\n",
              "      <td>2.986722e-04</td>\n",
              "      <td>0.086644</td>\n",
              "      <td>4.611659e-03</td>\n",
              "      <td>0.000000e+00</td>\n",
              "      <td>3.318818e-02</td>\n",
              "      <td>3.876242e-03</td>\n",
              "      <td>0.000000e+00</td>\n",
              "      <td>2.122863e-01</td>\n",
              "      <td>0.000000e+00</td>\n",
              "      <td>0.000000e+00</td>\n",
              "      <td>2.917439e-02</td>\n",
              "      <td>1.580172e-03</td>\n",
              "      <td>0.000000e+00</td>\n",
              "      <td>2.903371e-05</td>\n",
              "      <td>0.000000e+00</td>\n",
              "      <td>1.058149e-03</td>\n",
              "      <td>4.857684e-03</td>\n",
              "      <td>8.962587e-03</td>\n",
              "      <td>1.781650e-02</td>\n",
              "      <td>1.093937e-02</td>\n",
              "      <td>0.074069</td>\n",
              "      <td>2.923076e-02</td>\n",
              "      <td>9.708623e-03</td>\n",
              "      <td>9.438713e-07</td>\n",
              "      <td>2.849048e-03</td>\n",
              "      <td>8.312967e-02</td>\n",
              "      <td>1.814707e-05</td>\n",
              "      <td>0.000000e+00</td>\n",
              "      <td>1.082870e-02</td>\n",
              "      <td>0.000000e+00</td>\n",
              "      <td>0.000000e+00</td>\n",
              "      <td>1.345962e-08</td>\n",
              "      <td>3.213894e-02</td>\n",
              "      <td>0.000000e+00</td>\n",
              "      <td>4.872941e-11</td>\n",
              "      <td>0.000000e+00</td>\n",
              "      <td>5.581357e-03</td>\n",
              "      <td>0.000000e+00</td>\n",
              "    </tr>\n",
              "    <tr>\n",
              "      <th>sbj16</th>\n",
              "      <td>7.041309e-11</td>\n",
              "      <td>2.677741e-02</td>\n",
              "      <td>8.895962e-03</td>\n",
              "      <td>0.000000e+00</td>\n",
              "      <td>0.000000e+00</td>\n",
              "      <td>0.000000e+00</td>\n",
              "      <td>0.000000e+00</td>\n",
              "      <td>9.253529e-03</td>\n",
              "      <td>0.000000e+00</td>\n",
              "      <td>0.000000e+00</td>\n",
              "      <td>0.000000</td>\n",
              "      <td>0.000000e+00</td>\n",
              "      <td>0.000000e+00</td>\n",
              "      <td>0.000000e+00</td>\n",
              "      <td>0.000000e+00</td>\n",
              "      <td>0.000000</td>\n",
              "      <td>0.000000e+00</td>\n",
              "      <td>0.000000e+00</td>\n",
              "      <td>2.783517e-04</td>\n",
              "      <td>0.000000e+00</td>\n",
              "      <td>0.000000e+00</td>\n",
              "      <td>2.648346e-14</td>\n",
              "      <td>0.000000e+00</td>\n",
              "      <td>0.000000e+00</td>\n",
              "      <td>0.000000e+00</td>\n",
              "      <td>0.000000e+00</td>\n",
              "      <td>0.000000e+00</td>\n",
              "      <td>0.000000e+00</td>\n",
              "      <td>0.000000e+00</td>\n",
              "      <td>1.168043e-02</td>\n",
              "      <td>3.159237e-03</td>\n",
              "      <td>0.000000</td>\n",
              "      <td>0.000000e+00</td>\n",
              "      <td>2.203930e-09</td>\n",
              "      <td>4.716912e-03</td>\n",
              "      <td>0.000000e+00</td>\n",
              "      <td>0.000000e+00</td>\n",
              "      <td>0.000000e+00</td>\n",
              "      <td>5.437013e-05</td>\n",
              "      <td>0.000000e+00</td>\n",
              "      <td>...</td>\n",
              "      <td>0.000000e+00</td>\n",
              "      <td>0.000000e+00</td>\n",
              "      <td>0.000000e+00</td>\n",
              "      <td>0.000000</td>\n",
              "      <td>1.936906e-04</td>\n",
              "      <td>0.000000e+00</td>\n",
              "      <td>1.596659e-02</td>\n",
              "      <td>0.000000e+00</td>\n",
              "      <td>0.000000e+00</td>\n",
              "      <td>0.000000e+00</td>\n",
              "      <td>0.000000e+00</td>\n",
              "      <td>1.408451e-02</td>\n",
              "      <td>2.741902e-15</td>\n",
              "      <td>0.000000e+00</td>\n",
              "      <td>0.000000e+00</td>\n",
              "      <td>0.000000e+00</td>\n",
              "      <td>0.000000e+00</td>\n",
              "      <td>0.000000e+00</td>\n",
              "      <td>0.000000e+00</td>\n",
              "      <td>0.000000e+00</td>\n",
              "      <td>0.000000e+00</td>\n",
              "      <td>1.317832e-06</td>\n",
              "      <td>0.000000</td>\n",
              "      <td>3.443403e-13</td>\n",
              "      <td>0.000000e+00</td>\n",
              "      <td>1.106071e-11</td>\n",
              "      <td>0.000000e+00</td>\n",
              "      <td>0.000000e+00</td>\n",
              "      <td>0.000000e+00</td>\n",
              "      <td>0.000000e+00</td>\n",
              "      <td>0.000000e+00</td>\n",
              "      <td>0.000000e+00</td>\n",
              "      <td>2.236404e-14</td>\n",
              "      <td>0.000000e+00</td>\n",
              "      <td>0.000000e+00</td>\n",
              "      <td>0.000000e+00</td>\n",
              "      <td>1.257313e-02</td>\n",
              "      <td>3.698803e-11</td>\n",
              "      <td>0.000000e+00</td>\n",
              "      <td>0.000000e+00</td>\n",
              "    </tr>\n",
              "    <tr>\n",
              "      <th>sbj17</th>\n",
              "      <td>0.000000e+00</td>\n",
              "      <td>1.283161e-07</td>\n",
              "      <td>2.349163e-01</td>\n",
              "      <td>2.561492e-03</td>\n",
              "      <td>0.000000e+00</td>\n",
              "      <td>0.000000e+00</td>\n",
              "      <td>3.890934e-02</td>\n",
              "      <td>0.000000e+00</td>\n",
              "      <td>0.000000e+00</td>\n",
              "      <td>1.441234e-02</td>\n",
              "      <td>0.018616</td>\n",
              "      <td>3.412148e-11</td>\n",
              "      <td>1.115629e-16</td>\n",
              "      <td>2.122703e-12</td>\n",
              "      <td>0.000000e+00</td>\n",
              "      <td>0.000000</td>\n",
              "      <td>0.000000e+00</td>\n",
              "      <td>0.000000e+00</td>\n",
              "      <td>7.344324e-11</td>\n",
              "      <td>0.000000e+00</td>\n",
              "      <td>1.920728e-03</td>\n",
              "      <td>1.305804e-01</td>\n",
              "      <td>0.000000e+00</td>\n",
              "      <td>0.000000e+00</td>\n",
              "      <td>0.000000e+00</td>\n",
              "      <td>0.000000e+00</td>\n",
              "      <td>1.467892e-05</td>\n",
              "      <td>1.674738e-08</td>\n",
              "      <td>0.000000e+00</td>\n",
              "      <td>2.905366e-03</td>\n",
              "      <td>0.000000e+00</td>\n",
              "      <td>0.000000</td>\n",
              "      <td>0.000000e+00</td>\n",
              "      <td>2.656027e-14</td>\n",
              "      <td>0.000000e+00</td>\n",
              "      <td>1.865648e-11</td>\n",
              "      <td>0.000000e+00</td>\n",
              "      <td>6.794548e-12</td>\n",
              "      <td>0.000000e+00</td>\n",
              "      <td>2.208491e-02</td>\n",
              "      <td>...</td>\n",
              "      <td>2.200033e-11</td>\n",
              "      <td>0.000000e+00</td>\n",
              "      <td>3.810002e-02</td>\n",
              "      <td>0.000000</td>\n",
              "      <td>3.327048e-03</td>\n",
              "      <td>1.716490e-01</td>\n",
              "      <td>7.609585e-13</td>\n",
              "      <td>2.386861e-05</td>\n",
              "      <td>5.922846e-02</td>\n",
              "      <td>1.270517e-02</td>\n",
              "      <td>4.524793e-02</td>\n",
              "      <td>7.385225e-02</td>\n",
              "      <td>1.672097e-02</td>\n",
              "      <td>8.040359e-02</td>\n",
              "      <td>1.584420e-02</td>\n",
              "      <td>1.355002e-02</td>\n",
              "      <td>3.795021e-02</td>\n",
              "      <td>5.173468e-02</td>\n",
              "      <td>1.723247e-02</td>\n",
              "      <td>1.078702e-01</td>\n",
              "      <td>2.587802e-02</td>\n",
              "      <td>0.000000e+00</td>\n",
              "      <td>0.160243</td>\n",
              "      <td>0.000000e+00</td>\n",
              "      <td>7.578773e-07</td>\n",
              "      <td>3.739790e-08</td>\n",
              "      <td>2.772365e-02</td>\n",
              "      <td>1.215364e-14</td>\n",
              "      <td>1.181392e-02</td>\n",
              "      <td>3.062976e-02</td>\n",
              "      <td>7.647098e-03</td>\n",
              "      <td>9.061611e-07</td>\n",
              "      <td>1.821564e-03</td>\n",
              "      <td>0.000000e+00</td>\n",
              "      <td>0.000000e+00</td>\n",
              "      <td>1.574994e-01</td>\n",
              "      <td>0.000000e+00</td>\n",
              "      <td>0.000000e+00</td>\n",
              "      <td>1.433161e-02</td>\n",
              "      <td>1.575991e-13</td>\n",
              "    </tr>\n",
              "    <tr>\n",
              "      <th>sbj18</th>\n",
              "      <td>1.478944e-02</td>\n",
              "      <td>4.336425e-05</td>\n",
              "      <td>1.427624e-02</td>\n",
              "      <td>0.000000e+00</td>\n",
              "      <td>0.000000e+00</td>\n",
              "      <td>0.000000e+00</td>\n",
              "      <td>9.845866e-06</td>\n",
              "      <td>3.454884e-03</td>\n",
              "      <td>1.869026e-10</td>\n",
              "      <td>2.410736e-06</td>\n",
              "      <td>0.000000</td>\n",
              "      <td>2.780904e-02</td>\n",
              "      <td>3.108096e-07</td>\n",
              "      <td>0.000000e+00</td>\n",
              "      <td>0.000000e+00</td>\n",
              "      <td>0.000000</td>\n",
              "      <td>0.000000e+00</td>\n",
              "      <td>0.000000e+00</td>\n",
              "      <td>9.751740e-03</td>\n",
              "      <td>0.000000e+00</td>\n",
              "      <td>3.317887e-02</td>\n",
              "      <td>0.000000e+00</td>\n",
              "      <td>6.198621e-08</td>\n",
              "      <td>2.589567e-01</td>\n",
              "      <td>0.000000e+00</td>\n",
              "      <td>2.289837e-08</td>\n",
              "      <td>5.709500e-04</td>\n",
              "      <td>7.701352e-04</td>\n",
              "      <td>0.000000e+00</td>\n",
              "      <td>6.632997e-03</td>\n",
              "      <td>0.000000e+00</td>\n",
              "      <td>0.000000</td>\n",
              "      <td>1.656144e-06</td>\n",
              "      <td>7.762824e-03</td>\n",
              "      <td>1.739803e-05</td>\n",
              "      <td>0.000000e+00</td>\n",
              "      <td>0.000000e+00</td>\n",
              "      <td>0.000000e+00</td>\n",
              "      <td>1.028123e-07</td>\n",
              "      <td>1.239898e-03</td>\n",
              "      <td>...</td>\n",
              "      <td>0.000000e+00</td>\n",
              "      <td>0.000000e+00</td>\n",
              "      <td>0.000000e+00</td>\n",
              "      <td>0.000000</td>\n",
              "      <td>0.000000e+00</td>\n",
              "      <td>4.227645e-02</td>\n",
              "      <td>2.134881e-02</td>\n",
              "      <td>2.722134e-03</td>\n",
              "      <td>0.000000e+00</td>\n",
              "      <td>0.000000e+00</td>\n",
              "      <td>2.890906e-06</td>\n",
              "      <td>0.000000e+00</td>\n",
              "      <td>0.000000e+00</td>\n",
              "      <td>5.779548e-15</td>\n",
              "      <td>3.978040e-02</td>\n",
              "      <td>1.527698e-02</td>\n",
              "      <td>3.432751e-08</td>\n",
              "      <td>0.000000e+00</td>\n",
              "      <td>1.997456e-02</td>\n",
              "      <td>2.101265e-04</td>\n",
              "      <td>0.000000e+00</td>\n",
              "      <td>4.411360e-15</td>\n",
              "      <td>0.000000</td>\n",
              "      <td>1.051649e-14</td>\n",
              "      <td>1.380394e-02</td>\n",
              "      <td>1.016456e-16</td>\n",
              "      <td>0.000000e+00</td>\n",
              "      <td>2.675840e-02</td>\n",
              "      <td>1.034423e-01</td>\n",
              "      <td>2.021660e-11</td>\n",
              "      <td>6.711232e-10</td>\n",
              "      <td>0.000000e+00</td>\n",
              "      <td>0.000000e+00</td>\n",
              "      <td>7.401162e-06</td>\n",
              "      <td>2.742678e-02</td>\n",
              "      <td>5.887629e-03</td>\n",
              "      <td>1.813716e-05</td>\n",
              "      <td>8.088376e-10</td>\n",
              "      <td>1.625059e-02</td>\n",
              "      <td>3.376901e-02</td>\n",
              "    </tr>\n",
              "    <tr>\n",
              "      <th>sbj19</th>\n",
              "      <td>5.054110e-03</td>\n",
              "      <td>0.000000e+00</td>\n",
              "      <td>4.258578e-02</td>\n",
              "      <td>1.198181e-02</td>\n",
              "      <td>0.000000e+00</td>\n",
              "      <td>0.000000e+00</td>\n",
              "      <td>2.630658e-07</td>\n",
              "      <td>0.000000e+00</td>\n",
              "      <td>0.000000e+00</td>\n",
              "      <td>0.000000e+00</td>\n",
              "      <td>0.000076</td>\n",
              "      <td>0.000000e+00</td>\n",
              "      <td>0.000000e+00</td>\n",
              "      <td>0.000000e+00</td>\n",
              "      <td>0.000000e+00</td>\n",
              "      <td>0.000000</td>\n",
              "      <td>8.628563e-03</td>\n",
              "      <td>0.000000e+00</td>\n",
              "      <td>0.000000e+00</td>\n",
              "      <td>0.000000e+00</td>\n",
              "      <td>3.048068e-03</td>\n",
              "      <td>0.000000e+00</td>\n",
              "      <td>0.000000e+00</td>\n",
              "      <td>7.448605e-03</td>\n",
              "      <td>0.000000e+00</td>\n",
              "      <td>0.000000e+00</td>\n",
              "      <td>0.000000e+00</td>\n",
              "      <td>0.000000e+00</td>\n",
              "      <td>0.000000e+00</td>\n",
              "      <td>1.774587e-02</td>\n",
              "      <td>0.000000e+00</td>\n",
              "      <td>0.000000</td>\n",
              "      <td>0.000000e+00</td>\n",
              "      <td>0.000000e+00</td>\n",
              "      <td>0.000000e+00</td>\n",
              "      <td>0.000000e+00</td>\n",
              "      <td>0.000000e+00</td>\n",
              "      <td>0.000000e+00</td>\n",
              "      <td>0.000000e+00</td>\n",
              "      <td>0.000000e+00</td>\n",
              "      <td>...</td>\n",
              "      <td>0.000000e+00</td>\n",
              "      <td>0.000000e+00</td>\n",
              "      <td>5.578217e-03</td>\n",
              "      <td>0.000000</td>\n",
              "      <td>9.093001e-03</td>\n",
              "      <td>4.165219e-03</td>\n",
              "      <td>0.000000e+00</td>\n",
              "      <td>3.091594e-02</td>\n",
              "      <td>2.327754e-05</td>\n",
              "      <td>1.008943e-11</td>\n",
              "      <td>2.539643e-02</td>\n",
              "      <td>5.445109e-03</td>\n",
              "      <td>1.319798e-10</td>\n",
              "      <td>5.407144e-02</td>\n",
              "      <td>0.000000e+00</td>\n",
              "      <td>5.262167e-03</td>\n",
              "      <td>3.278814e-15</td>\n",
              "      <td>1.771699e-02</td>\n",
              "      <td>5.381430e-03</td>\n",
              "      <td>1.007728e-02</td>\n",
              "      <td>8.561645e-02</td>\n",
              "      <td>3.610349e-03</td>\n",
              "      <td>0.119433</td>\n",
              "      <td>5.756072e-14</td>\n",
              "      <td>2.662503e-03</td>\n",
              "      <td>6.384830e-07</td>\n",
              "      <td>9.114942e-05</td>\n",
              "      <td>1.105373e-02</td>\n",
              "      <td>8.397309e-12</td>\n",
              "      <td>1.567354e-02</td>\n",
              "      <td>2.394325e-02</td>\n",
              "      <td>1.363290e-02</td>\n",
              "      <td>2.627148e-03</td>\n",
              "      <td>1.204408e-16</td>\n",
              "      <td>0.000000e+00</td>\n",
              "      <td>0.000000e+00</td>\n",
              "      <td>1.749922e-03</td>\n",
              "      <td>0.000000e+00</td>\n",
              "      <td>4.489280e-03</td>\n",
              "      <td>0.000000e+00</td>\n",
              "    </tr>\n",
              "    <tr>\n",
              "      <th>sbj20</th>\n",
              "      <td>9.829239e-03</td>\n",
              "      <td>0.000000e+00</td>\n",
              "      <td>7.226971e-03</td>\n",
              "      <td>1.762105e-02</td>\n",
              "      <td>0.000000e+00</td>\n",
              "      <td>1.048678e-02</td>\n",
              "      <td>4.667240e-02</td>\n",
              "      <td>0.000000e+00</td>\n",
              "      <td>9.371898e-03</td>\n",
              "      <td>1.381577e-02</td>\n",
              "      <td>0.000000</td>\n",
              "      <td>7.743522e-05</td>\n",
              "      <td>0.000000e+00</td>\n",
              "      <td>0.000000e+00</td>\n",
              "      <td>0.000000e+00</td>\n",
              "      <td>0.000000</td>\n",
              "      <td>0.000000e+00</td>\n",
              "      <td>0.000000e+00</td>\n",
              "      <td>0.000000e+00</td>\n",
              "      <td>2.236328e-08</td>\n",
              "      <td>3.480884e-05</td>\n",
              "      <td>0.000000e+00</td>\n",
              "      <td>0.000000e+00</td>\n",
              "      <td>4.473478e-03</td>\n",
              "      <td>3.225749e-02</td>\n",
              "      <td>4.254227e-04</td>\n",
              "      <td>8.195128e-03</td>\n",
              "      <td>0.000000e+00</td>\n",
              "      <td>4.160293e-03</td>\n",
              "      <td>9.785063e-02</td>\n",
              "      <td>6.783888e-03</td>\n",
              "      <td>0.043434</td>\n",
              "      <td>1.347201e-02</td>\n",
              "      <td>2.547213e-02</td>\n",
              "      <td>4.551554e-07</td>\n",
              "      <td>1.823049e-02</td>\n",
              "      <td>6.738904e-03</td>\n",
              "      <td>1.106721e-09</td>\n",
              "      <td>1.216228e-03</td>\n",
              "      <td>5.808978e-02</td>\n",
              "      <td>...</td>\n",
              "      <td>1.965477e-03</td>\n",
              "      <td>0.000000e+00</td>\n",
              "      <td>0.000000e+00</td>\n",
              "      <td>0.042182</td>\n",
              "      <td>3.720573e-02</td>\n",
              "      <td>2.719487e-10</td>\n",
              "      <td>1.588335e-10</td>\n",
              "      <td>3.296601e-03</td>\n",
              "      <td>2.632686e-16</td>\n",
              "      <td>2.668087e-03</td>\n",
              "      <td>1.689628e-02</td>\n",
              "      <td>9.258054e-03</td>\n",
              "      <td>1.290441e-02</td>\n",
              "      <td>0.000000e+00</td>\n",
              "      <td>0.000000e+00</td>\n",
              "      <td>0.000000e+00</td>\n",
              "      <td>0.000000e+00</td>\n",
              "      <td>0.000000e+00</td>\n",
              "      <td>5.910918e-02</td>\n",
              "      <td>4.451327e-16</td>\n",
              "      <td>8.709495e-02</td>\n",
              "      <td>0.000000e+00</td>\n",
              "      <td>0.000000</td>\n",
              "      <td>3.181670e-03</td>\n",
              "      <td>2.015754e-02</td>\n",
              "      <td>0.000000e+00</td>\n",
              "      <td>1.064896e-02</td>\n",
              "      <td>1.268422e-08</td>\n",
              "      <td>0.000000e+00</td>\n",
              "      <td>5.503023e-03</td>\n",
              "      <td>2.656865e-03</td>\n",
              "      <td>5.730353e-03</td>\n",
              "      <td>5.579592e-14</td>\n",
              "      <td>0.000000e+00</td>\n",
              "      <td>0.000000e+00</td>\n",
              "      <td>5.684864e-05</td>\n",
              "      <td>0.000000e+00</td>\n",
              "      <td>0.000000e+00</td>\n",
              "      <td>3.568181e-03</td>\n",
              "      <td>2.901887e-02</td>\n",
              "    </tr>\n",
              "    <tr>\n",
              "      <th>sbj21</th>\n",
              "      <td>0.000000e+00</td>\n",
              "      <td>7.478685e-03</td>\n",
              "      <td>0.000000e+00</td>\n",
              "      <td>0.000000e+00</td>\n",
              "      <td>5.449101e-10</td>\n",
              "      <td>2.172172e-02</td>\n",
              "      <td>4.724339e-08</td>\n",
              "      <td>0.000000e+00</td>\n",
              "      <td>0.000000e+00</td>\n",
              "      <td>1.304105e-01</td>\n",
              "      <td>0.000000</td>\n",
              "      <td>0.000000e+00</td>\n",
              "      <td>8.083382e-06</td>\n",
              "      <td>0.000000e+00</td>\n",
              "      <td>0.000000e+00</td>\n",
              "      <td>0.000000</td>\n",
              "      <td>0.000000e+00</td>\n",
              "      <td>0.000000e+00</td>\n",
              "      <td>3.464723e-05</td>\n",
              "      <td>0.000000e+00</td>\n",
              "      <td>1.293502e-14</td>\n",
              "      <td>1.127710e-02</td>\n",
              "      <td>1.231109e-05</td>\n",
              "      <td>6.314947e-03</td>\n",
              "      <td>0.000000e+00</td>\n",
              "      <td>7.692462e-02</td>\n",
              "      <td>0.000000e+00</td>\n",
              "      <td>0.000000e+00</td>\n",
              "      <td>0.000000e+00</td>\n",
              "      <td>0.000000e+00</td>\n",
              "      <td>3.289478e-03</td>\n",
              "      <td>0.000000</td>\n",
              "      <td>1.051748e-05</td>\n",
              "      <td>8.000445e-16</td>\n",
              "      <td>1.886778e-02</td>\n",
              "      <td>6.843058e-03</td>\n",
              "      <td>4.484296e-03</td>\n",
              "      <td>0.000000e+00</td>\n",
              "      <td>1.324064e-02</td>\n",
              "      <td>0.000000e+00</td>\n",
              "      <td>...</td>\n",
              "      <td>1.809042e-15</td>\n",
              "      <td>0.000000e+00</td>\n",
              "      <td>0.000000e+00</td>\n",
              "      <td>0.000000</td>\n",
              "      <td>6.143799e-10</td>\n",
              "      <td>0.000000e+00</td>\n",
              "      <td>0.000000e+00</td>\n",
              "      <td>0.000000e+00</td>\n",
              "      <td>4.086467e-03</td>\n",
              "      <td>0.000000e+00</td>\n",
              "      <td>6.816539e-03</td>\n",
              "      <td>0.000000e+00</td>\n",
              "      <td>7.147269e-09</td>\n",
              "      <td>0.000000e+00</td>\n",
              "      <td>0.000000e+00</td>\n",
              "      <td>0.000000e+00</td>\n",
              "      <td>0.000000e+00</td>\n",
              "      <td>0.000000e+00</td>\n",
              "      <td>0.000000e+00</td>\n",
              "      <td>1.183025e-07</td>\n",
              "      <td>5.117257e-10</td>\n",
              "      <td>1.754586e-02</td>\n",
              "      <td>0.000000</td>\n",
              "      <td>6.334504e-03</td>\n",
              "      <td>8.144313e-12</td>\n",
              "      <td>2.278997e-02</td>\n",
              "      <td>0.000000e+00</td>\n",
              "      <td>0.000000e+00</td>\n",
              "      <td>3.338774e-03</td>\n",
              "      <td>5.263155e-03</td>\n",
              "      <td>0.000000e+00</td>\n",
              "      <td>0.000000e+00</td>\n",
              "      <td>0.000000e+00</td>\n",
              "      <td>0.000000e+00</td>\n",
              "      <td>0.000000e+00</td>\n",
              "      <td>0.000000e+00</td>\n",
              "      <td>7.945845e-12</td>\n",
              "      <td>1.960437e-02</td>\n",
              "      <td>0.000000e+00</td>\n",
              "      <td>0.000000e+00</td>\n",
              "    </tr>\n",
              "    <tr>\n",
              "      <th>sbj22</th>\n",
              "      <td>1.810028e-11</td>\n",
              "      <td>0.000000e+00</td>\n",
              "      <td>1.347680e-02</td>\n",
              "      <td>4.384445e-03</td>\n",
              "      <td>5.187283e-05</td>\n",
              "      <td>0.000000e+00</td>\n",
              "      <td>2.958572e-03</td>\n",
              "      <td>2.191964e-08</td>\n",
              "      <td>0.000000e+00</td>\n",
              "      <td>0.000000e+00</td>\n",
              "      <td>0.111775</td>\n",
              "      <td>0.000000e+00</td>\n",
              "      <td>0.000000e+00</td>\n",
              "      <td>4.937141e-03</td>\n",
              "      <td>0.000000e+00</td>\n",
              "      <td>0.000000</td>\n",
              "      <td>3.543086e-16</td>\n",
              "      <td>3.562735e-04</td>\n",
              "      <td>9.552854e-05</td>\n",
              "      <td>0.000000e+00</td>\n",
              "      <td>1.718430e-02</td>\n",
              "      <td>1.976307e-02</td>\n",
              "      <td>3.382362e-04</td>\n",
              "      <td>1.770298e-04</td>\n",
              "      <td>0.000000e+00</td>\n",
              "      <td>6.946385e-08</td>\n",
              "      <td>0.000000e+00</td>\n",
              "      <td>3.762682e-07</td>\n",
              "      <td>0.000000e+00</td>\n",
              "      <td>0.000000e+00</td>\n",
              "      <td>4.000751e-03</td>\n",
              "      <td>0.000000</td>\n",
              "      <td>7.284112e-05</td>\n",
              "      <td>0.000000e+00</td>\n",
              "      <td>3.031718e-05</td>\n",
              "      <td>1.403308e-02</td>\n",
              "      <td>4.381657e-03</td>\n",
              "      <td>0.000000e+00</td>\n",
              "      <td>3.976071e-03</td>\n",
              "      <td>2.643749e-02</td>\n",
              "      <td>...</td>\n",
              "      <td>0.000000e+00</td>\n",
              "      <td>0.000000e+00</td>\n",
              "      <td>5.867216e-03</td>\n",
              "      <td>0.000000</td>\n",
              "      <td>2.326368e-02</td>\n",
              "      <td>4.285637e-08</td>\n",
              "      <td>1.648774e-02</td>\n",
              "      <td>2.672495e-02</td>\n",
              "      <td>8.330525e-03</td>\n",
              "      <td>2.596992e-02</td>\n",
              "      <td>9.022164e-03</td>\n",
              "      <td>1.076162e-02</td>\n",
              "      <td>4.409797e-03</td>\n",
              "      <td>2.000547e-06</td>\n",
              "      <td>3.941049e-02</td>\n",
              "      <td>9.016823e-02</td>\n",
              "      <td>5.599624e-03</td>\n",
              "      <td>1.201055e-02</td>\n",
              "      <td>1.029293e-01</td>\n",
              "      <td>5.643778e-06</td>\n",
              "      <td>0.000000e+00</td>\n",
              "      <td>0.000000e+00</td>\n",
              "      <td>0.185156</td>\n",
              "      <td>9.721688e-04</td>\n",
              "      <td>5.918823e-03</td>\n",
              "      <td>1.789128e-08</td>\n",
              "      <td>2.102253e-02</td>\n",
              "      <td>3.275064e-02</td>\n",
              "      <td>3.231351e-02</td>\n",
              "      <td>9.658332e-02</td>\n",
              "      <td>1.001588e-02</td>\n",
              "      <td>2.046463e-02</td>\n",
              "      <td>0.000000e+00</td>\n",
              "      <td>2.919470e-16</td>\n",
              "      <td>0.000000e+00</td>\n",
              "      <td>4.477635e-03</td>\n",
              "      <td>0.000000e+00</td>\n",
              "      <td>1.495565e-08</td>\n",
              "      <td>3.263348e-02</td>\n",
              "      <td>6.534281e-02</td>\n",
              "    </tr>\n",
              "    <tr>\n",
              "      <th>sbj23</th>\n",
              "      <td>0.000000e+00</td>\n",
              "      <td>0.000000e+00</td>\n",
              "      <td>8.287225e-03</td>\n",
              "      <td>7.819665e-15</td>\n",
              "      <td>0.000000e+00</td>\n",
              "      <td>5.091517e-03</td>\n",
              "      <td>0.000000e+00</td>\n",
              "      <td>0.000000e+00</td>\n",
              "      <td>0.000000e+00</td>\n",
              "      <td>4.182152e-03</td>\n",
              "      <td>0.000000</td>\n",
              "      <td>0.000000e+00</td>\n",
              "      <td>3.571429e-03</td>\n",
              "      <td>7.099317e-14</td>\n",
              "      <td>0.000000e+00</td>\n",
              "      <td>0.000000</td>\n",
              "      <td>0.000000e+00</td>\n",
              "      <td>5.658561e-03</td>\n",
              "      <td>7.842109e-03</td>\n",
              "      <td>0.000000e+00</td>\n",
              "      <td>2.871070e-04</td>\n",
              "      <td>0.000000e+00</td>\n",
              "      <td>0.000000e+00</td>\n",
              "      <td>0.000000e+00</td>\n",
              "      <td>0.000000e+00</td>\n",
              "      <td>0.000000e+00</td>\n",
              "      <td>0.000000e+00</td>\n",
              "      <td>2.411064e-02</td>\n",
              "      <td>0.000000e+00</td>\n",
              "      <td>1.164044e-02</td>\n",
              "      <td>0.000000e+00</td>\n",
              "      <td>0.000000</td>\n",
              "      <td>0.000000e+00</td>\n",
              "      <td>4.885318e-02</td>\n",
              "      <td>0.000000e+00</td>\n",
              "      <td>4.975073e-03</td>\n",
              "      <td>9.108062e-03</td>\n",
              "      <td>0.000000e+00</td>\n",
              "      <td>2.651150e-03</td>\n",
              "      <td>0.000000e+00</td>\n",
              "      <td>...</td>\n",
              "      <td>0.000000e+00</td>\n",
              "      <td>0.000000e+00</td>\n",
              "      <td>0.000000e+00</td>\n",
              "      <td>0.000000</td>\n",
              "      <td>2.646119e-05</td>\n",
              "      <td>0.000000e+00</td>\n",
              "      <td>2.927976e-02</td>\n",
              "      <td>0.000000e+00</td>\n",
              "      <td>0.000000e+00</td>\n",
              "      <td>0.000000e+00</td>\n",
              "      <td>7.677319e-03</td>\n",
              "      <td>0.000000e+00</td>\n",
              "      <td>1.104645e-02</td>\n",
              "      <td>1.382738e-08</td>\n",
              "      <td>0.000000e+00</td>\n",
              "      <td>3.776006e-03</td>\n",
              "      <td>0.000000e+00</td>\n",
              "      <td>7.599776e-13</td>\n",
              "      <td>0.000000e+00</td>\n",
              "      <td>6.051443e-02</td>\n",
              "      <td>1.195217e-02</td>\n",
              "      <td>6.518700e-03</td>\n",
              "      <td>0.000000</td>\n",
              "      <td>6.380968e-06</td>\n",
              "      <td>7.997817e-09</td>\n",
              "      <td>0.000000e+00</td>\n",
              "      <td>0.000000e+00</td>\n",
              "      <td>0.000000e+00</td>\n",
              "      <td>7.801150e-03</td>\n",
              "      <td>0.000000e+00</td>\n",
              "      <td>3.372116e-03</td>\n",
              "      <td>0.000000e+00</td>\n",
              "      <td>0.000000e+00</td>\n",
              "      <td>0.000000e+00</td>\n",
              "      <td>0.000000e+00</td>\n",
              "      <td>0.000000e+00</td>\n",
              "      <td>3.128660e-06</td>\n",
              "      <td>0.000000e+00</td>\n",
              "      <td>0.000000e+00</td>\n",
              "      <td>0.000000e+00</td>\n",
              "    </tr>\n",
              "    <tr>\n",
              "      <th>sbj24</th>\n",
              "      <td>0.000000e+00</td>\n",
              "      <td>3.149783e-03</td>\n",
              "      <td>2.745159e-09</td>\n",
              "      <td>0.000000e+00</td>\n",
              "      <td>0.000000e+00</td>\n",
              "      <td>0.000000e+00</td>\n",
              "      <td>9.682061e-15</td>\n",
              "      <td>1.548890e-10</td>\n",
              "      <td>0.000000e+00</td>\n",
              "      <td>1.883422e-12</td>\n",
              "      <td>0.027550</td>\n",
              "      <td>7.901699e-05</td>\n",
              "      <td>0.000000e+00</td>\n",
              "      <td>0.000000e+00</td>\n",
              "      <td>0.000000e+00</td>\n",
              "      <td>0.005358</td>\n",
              "      <td>0.000000e+00</td>\n",
              "      <td>0.000000e+00</td>\n",
              "      <td>1.765162e-02</td>\n",
              "      <td>6.286506e-13</td>\n",
              "      <td>5.418840e-03</td>\n",
              "      <td>0.000000e+00</td>\n",
              "      <td>0.000000e+00</td>\n",
              "      <td>3.848395e-05</td>\n",
              "      <td>0.000000e+00</td>\n",
              "      <td>0.000000e+00</td>\n",
              "      <td>0.000000e+00</td>\n",
              "      <td>0.000000e+00</td>\n",
              "      <td>1.034847e-11</td>\n",
              "      <td>0.000000e+00</td>\n",
              "      <td>0.000000e+00</td>\n",
              "      <td>0.000000</td>\n",
              "      <td>0.000000e+00</td>\n",
              "      <td>0.000000e+00</td>\n",
              "      <td>3.569818e-08</td>\n",
              "      <td>3.473838e-05</td>\n",
              "      <td>6.678234e-14</td>\n",
              "      <td>0.000000e+00</td>\n",
              "      <td>5.057808e-15</td>\n",
              "      <td>3.716318e-11</td>\n",
              "      <td>...</td>\n",
              "      <td>0.000000e+00</td>\n",
              "      <td>0.000000e+00</td>\n",
              "      <td>9.186193e-02</td>\n",
              "      <td>0.000000</td>\n",
              "      <td>1.178377e-02</td>\n",
              "      <td>1.190295e-15</td>\n",
              "      <td>2.427317e-06</td>\n",
              "      <td>0.000000e+00</td>\n",
              "      <td>1.042313e-02</td>\n",
              "      <td>0.000000e+00</td>\n",
              "      <td>4.429880e-10</td>\n",
              "      <td>1.100716e-03</td>\n",
              "      <td>0.000000e+00</td>\n",
              "      <td>4.261274e-02</td>\n",
              "      <td>7.140351e-03</td>\n",
              "      <td>0.000000e+00</td>\n",
              "      <td>6.174688e-02</td>\n",
              "      <td>5.997058e-03</td>\n",
              "      <td>0.000000e+00</td>\n",
              "      <td>1.089669e-02</td>\n",
              "      <td>1.663163e-08</td>\n",
              "      <td>0.000000e+00</td>\n",
              "      <td>0.000000</td>\n",
              "      <td>0.000000e+00</td>\n",
              "      <td>1.370588e-02</td>\n",
              "      <td>6.881798e-02</td>\n",
              "      <td>4.186747e-07</td>\n",
              "      <td>1.606124e-06</td>\n",
              "      <td>3.608182e-03</td>\n",
              "      <td>1.808640e-02</td>\n",
              "      <td>0.000000e+00</td>\n",
              "      <td>2.289471e-03</td>\n",
              "      <td>0.000000e+00</td>\n",
              "      <td>5.780273e-02</td>\n",
              "      <td>0.000000e+00</td>\n",
              "      <td>3.567729e-02</td>\n",
              "      <td>1.993388e-03</td>\n",
              "      <td>0.000000e+00</td>\n",
              "      <td>1.592282e-01</td>\n",
              "      <td>3.542259e-02</td>\n",
              "    </tr>\n",
              "    <tr>\n",
              "      <th>sbj25</th>\n",
              "      <td>0.000000e+00</td>\n",
              "      <td>8.010668e-02</td>\n",
              "      <td>1.551444e-02</td>\n",
              "      <td>3.375492e-11</td>\n",
              "      <td>0.000000e+00</td>\n",
              "      <td>2.511511e-05</td>\n",
              "      <td>0.000000e+00</td>\n",
              "      <td>1.391614e-03</td>\n",
              "      <td>0.000000e+00</td>\n",
              "      <td>0.000000e+00</td>\n",
              "      <td>0.000000</td>\n",
              "      <td>2.165668e-01</td>\n",
              "      <td>0.000000e+00</td>\n",
              "      <td>2.658610e-12</td>\n",
              "      <td>0.000000e+00</td>\n",
              "      <td>0.000000</td>\n",
              "      <td>0.000000e+00</td>\n",
              "      <td>0.000000e+00</td>\n",
              "      <td>4.277481e-03</td>\n",
              "      <td>0.000000e+00</td>\n",
              "      <td>0.000000e+00</td>\n",
              "      <td>2.255266e-12</td>\n",
              "      <td>0.000000e+00</td>\n",
              "      <td>3.356342e-02</td>\n",
              "      <td>0.000000e+00</td>\n",
              "      <td>0.000000e+00</td>\n",
              "      <td>0.000000e+00</td>\n",
              "      <td>3.120265e-04</td>\n",
              "      <td>0.000000e+00</td>\n",
              "      <td>0.000000e+00</td>\n",
              "      <td>0.000000e+00</td>\n",
              "      <td>0.000000</td>\n",
              "      <td>0.000000e+00</td>\n",
              "      <td>4.139123e-10</td>\n",
              "      <td>0.000000e+00</td>\n",
              "      <td>4.951128e-03</td>\n",
              "      <td>0.000000e+00</td>\n",
              "      <td>0.000000e+00</td>\n",
              "      <td>0.000000e+00</td>\n",
              "      <td>0.000000e+00</td>\n",
              "      <td>...</td>\n",
              "      <td>7.118140e-09</td>\n",
              "      <td>0.000000e+00</td>\n",
              "      <td>0.000000e+00</td>\n",
              "      <td>0.000000</td>\n",
              "      <td>0.000000e+00</td>\n",
              "      <td>1.428966e-03</td>\n",
              "      <td>6.921665e-02</td>\n",
              "      <td>3.234710e-03</td>\n",
              "      <td>0.000000e+00</td>\n",
              "      <td>0.000000e+00</td>\n",
              "      <td>0.000000e+00</td>\n",
              "      <td>0.000000e+00</td>\n",
              "      <td>0.000000e+00</td>\n",
              "      <td>0.000000e+00</td>\n",
              "      <td>9.378599e-06</td>\n",
              "      <td>1.050243e-02</td>\n",
              "      <td>0.000000e+00</td>\n",
              "      <td>0.000000e+00</td>\n",
              "      <td>1.233215e-11</td>\n",
              "      <td>0.000000e+00</td>\n",
              "      <td>0.000000e+00</td>\n",
              "      <td>0.000000e+00</td>\n",
              "      <td>0.000000</td>\n",
              "      <td>2.749265e-03</td>\n",
              "      <td>0.000000e+00</td>\n",
              "      <td>2.140931e-04</td>\n",
              "      <td>0.000000e+00</td>\n",
              "      <td>0.000000e+00</td>\n",
              "      <td>6.856669e-02</td>\n",
              "      <td>5.243405e-03</td>\n",
              "      <td>0.000000e+00</td>\n",
              "      <td>0.000000e+00</td>\n",
              "      <td>0.000000e+00</td>\n",
              "      <td>7.967114e-03</td>\n",
              "      <td>0.000000e+00</td>\n",
              "      <td>1.175492e-16</td>\n",
              "      <td>9.677895e-02</td>\n",
              "      <td>0.000000e+00</td>\n",
              "      <td>7.009388e-03</td>\n",
              "      <td>1.928460e-01</td>\n",
              "    </tr>\n",
              "    <tr>\n",
              "      <th>sbj26</th>\n",
              "      <td>3.288596e-03</td>\n",
              "      <td>8.288766e-14</td>\n",
              "      <td>0.000000e+00</td>\n",
              "      <td>7.795640e-12</td>\n",
              "      <td>0.000000e+00</td>\n",
              "      <td>3.417837e-02</td>\n",
              "      <td>3.931313e-02</td>\n",
              "      <td>0.000000e+00</td>\n",
              "      <td>0.000000e+00</td>\n",
              "      <td>0.000000e+00</td>\n",
              "      <td>0.028568</td>\n",
              "      <td>0.000000e+00</td>\n",
              "      <td>4.255032e-15</td>\n",
              "      <td>0.000000e+00</td>\n",
              "      <td>0.000000e+00</td>\n",
              "      <td>0.000000</td>\n",
              "      <td>0.000000e+00</td>\n",
              "      <td>5.803175e-12</td>\n",
              "      <td>1.426205e-02</td>\n",
              "      <td>0.000000e+00</td>\n",
              "      <td>5.900295e-03</td>\n",
              "      <td>3.981574e-03</td>\n",
              "      <td>0.000000e+00</td>\n",
              "      <td>4.614523e-09</td>\n",
              "      <td>0.000000e+00</td>\n",
              "      <td>0.000000e+00</td>\n",
              "      <td>0.000000e+00</td>\n",
              "      <td>7.809776e-06</td>\n",
              "      <td>0.000000e+00</td>\n",
              "      <td>1.402104e-02</td>\n",
              "      <td>0.000000e+00</td>\n",
              "      <td>0.000000</td>\n",
              "      <td>0.000000e+00</td>\n",
              "      <td>0.000000e+00</td>\n",
              "      <td>0.000000e+00</td>\n",
              "      <td>0.000000e+00</td>\n",
              "      <td>0.000000e+00</td>\n",
              "      <td>0.000000e+00</td>\n",
              "      <td>4.775052e-03</td>\n",
              "      <td>0.000000e+00</td>\n",
              "      <td>...</td>\n",
              "      <td>0.000000e+00</td>\n",
              "      <td>1.982074e-02</td>\n",
              "      <td>7.390114e-03</td>\n",
              "      <td>0.000000</td>\n",
              "      <td>3.927935e-02</td>\n",
              "      <td>0.000000e+00</td>\n",
              "      <td>3.109277e-12</td>\n",
              "      <td>6.874892e-03</td>\n",
              "      <td>1.540107e-02</td>\n",
              "      <td>1.306054e-02</td>\n",
              "      <td>4.388207e-02</td>\n",
              "      <td>4.418685e-03</td>\n",
              "      <td>2.168252e-02</td>\n",
              "      <td>2.804331e-02</td>\n",
              "      <td>1.002836e-12</td>\n",
              "      <td>1.188942e-13</td>\n",
              "      <td>1.514955e-02</td>\n",
              "      <td>4.738776e-03</td>\n",
              "      <td>8.521397e-03</td>\n",
              "      <td>2.314644e-08</td>\n",
              "      <td>2.131701e-02</td>\n",
              "      <td>1.071450e-02</td>\n",
              "      <td>0.000000</td>\n",
              "      <td>1.697604e-05</td>\n",
              "      <td>7.455561e-03</td>\n",
              "      <td>0.000000e+00</td>\n",
              "      <td>1.573432e-01</td>\n",
              "      <td>0.000000e+00</td>\n",
              "      <td>8.651549e-10</td>\n",
              "      <td>5.299614e-03</td>\n",
              "      <td>1.002670e-02</td>\n",
              "      <td>1.570667e-02</td>\n",
              "      <td>6.811128e-10</td>\n",
              "      <td>3.634180e-03</td>\n",
              "      <td>0.000000e+00</td>\n",
              "      <td>9.708707e-09</td>\n",
              "      <td>0.000000e+00</td>\n",
              "      <td>0.000000e+00</td>\n",
              "      <td>1.082002e-04</td>\n",
              "      <td>0.000000e+00</td>\n",
              "    </tr>\n",
              "    <tr>\n",
              "      <th>sbj27</th>\n",
              "      <td>1.911455e-02</td>\n",
              "      <td>4.987961e-03</td>\n",
              "      <td>0.000000e+00</td>\n",
              "      <td>5.697990e-02</td>\n",
              "      <td>1.753022e-01</td>\n",
              "      <td>1.246266e-02</td>\n",
              "      <td>0.000000e+00</td>\n",
              "      <td>0.000000e+00</td>\n",
              "      <td>0.000000e+00</td>\n",
              "      <td>8.935392e-02</td>\n",
              "      <td>0.000000</td>\n",
              "      <td>0.000000e+00</td>\n",
              "      <td>4.497868e-02</td>\n",
              "      <td>0.000000e+00</td>\n",
              "      <td>6.242105e-03</td>\n",
              "      <td>0.000000</td>\n",
              "      <td>0.000000e+00</td>\n",
              "      <td>1.929848e-11</td>\n",
              "      <td>3.971438e-10</td>\n",
              "      <td>7.748232e-05</td>\n",
              "      <td>0.000000e+00</td>\n",
              "      <td>0.000000e+00</td>\n",
              "      <td>0.000000e+00</td>\n",
              "      <td>0.000000e+00</td>\n",
              "      <td>0.000000e+00</td>\n",
              "      <td>1.055367e-01</td>\n",
              "      <td>4.401054e-04</td>\n",
              "      <td>5.635978e-13</td>\n",
              "      <td>0.000000e+00</td>\n",
              "      <td>7.260339e-06</td>\n",
              "      <td>2.040699e-01</td>\n",
              "      <td>0.044688</td>\n",
              "      <td>4.198566e-10</td>\n",
              "      <td>9.371486e-03</td>\n",
              "      <td>9.106718e-02</td>\n",
              "      <td>7.553706e-02</td>\n",
              "      <td>1.963499e-01</td>\n",
              "      <td>1.040202e-10</td>\n",
              "      <td>2.030710e-02</td>\n",
              "      <td>0.000000e+00</td>\n",
              "      <td>...</td>\n",
              "      <td>3.068925e-07</td>\n",
              "      <td>0.000000e+00</td>\n",
              "      <td>0.000000e+00</td>\n",
              "      <td>0.000000</td>\n",
              "      <td>0.000000e+00</td>\n",
              "      <td>0.000000e+00</td>\n",
              "      <td>9.128696e-03</td>\n",
              "      <td>0.000000e+00</td>\n",
              "      <td>0.000000e+00</td>\n",
              "      <td>3.832060e-03</td>\n",
              "      <td>1.045996e-11</td>\n",
              "      <td>0.000000e+00</td>\n",
              "      <td>0.000000e+00</td>\n",
              "      <td>0.000000e+00</td>\n",
              "      <td>0.000000e+00</td>\n",
              "      <td>5.225364e-12</td>\n",
              "      <td>0.000000e+00</td>\n",
              "      <td>2.159535e-05</td>\n",
              "      <td>0.000000e+00</td>\n",
              "      <td>0.000000e+00</td>\n",
              "      <td>0.000000e+00</td>\n",
              "      <td>7.029559e-02</td>\n",
              "      <td>0.000000</td>\n",
              "      <td>7.334861e-03</td>\n",
              "      <td>0.000000e+00</td>\n",
              "      <td>4.296680e-03</td>\n",
              "      <td>0.000000e+00</td>\n",
              "      <td>1.781111e-02</td>\n",
              "      <td>0.000000e+00</td>\n",
              "      <td>0.000000e+00</td>\n",
              "      <td>0.000000e+00</td>\n",
              "      <td>2.627288e-12</td>\n",
              "      <td>2.045049e-01</td>\n",
              "      <td>0.000000e+00</td>\n",
              "      <td>3.225597e-02</td>\n",
              "      <td>0.000000e+00</td>\n",
              "      <td>0.000000e+00</td>\n",
              "      <td>1.043261e-02</td>\n",
              "      <td>8.979425e-03</td>\n",
              "      <td>0.000000e+00</td>\n",
              "    </tr>\n",
              "    <tr>\n",
              "      <th>sbj28</th>\n",
              "      <td>1.576849e-01</td>\n",
              "      <td>0.000000e+00</td>\n",
              "      <td>0.000000e+00</td>\n",
              "      <td>9.259212e-03</td>\n",
              "      <td>0.000000e+00</td>\n",
              "      <td>0.000000e+00</td>\n",
              "      <td>0.000000e+00</td>\n",
              "      <td>6.712421e-08</td>\n",
              "      <td>4.386475e-02</td>\n",
              "      <td>0.000000e+00</td>\n",
              "      <td>0.028495</td>\n",
              "      <td>0.000000e+00</td>\n",
              "      <td>8.852210e-03</td>\n",
              "      <td>0.000000e+00</td>\n",
              "      <td>0.000000e+00</td>\n",
              "      <td>0.000000</td>\n",
              "      <td>0.000000e+00</td>\n",
              "      <td>0.000000e+00</td>\n",
              "      <td>0.000000e+00</td>\n",
              "      <td>0.000000e+00</td>\n",
              "      <td>0.000000e+00</td>\n",
              "      <td>4.336125e-03</td>\n",
              "      <td>0.000000e+00</td>\n",
              "      <td>0.000000e+00</td>\n",
              "      <td>0.000000e+00</td>\n",
              "      <td>8.532795e-03</td>\n",
              "      <td>7.955852e-02</td>\n",
              "      <td>1.620247e-12</td>\n",
              "      <td>5.053835e-10</td>\n",
              "      <td>0.000000e+00</td>\n",
              "      <td>0.000000e+00</td>\n",
              "      <td>0.000000</td>\n",
              "      <td>1.116134e-03</td>\n",
              "      <td>3.958026e-15</td>\n",
              "      <td>2.489843e-10</td>\n",
              "      <td>0.000000e+00</td>\n",
              "      <td>0.000000e+00</td>\n",
              "      <td>3.963791e-03</td>\n",
              "      <td>7.288521e-04</td>\n",
              "      <td>0.000000e+00</td>\n",
              "      <td>...</td>\n",
              "      <td>3.727316e-02</td>\n",
              "      <td>1.721294e-01</td>\n",
              "      <td>0.000000e+00</td>\n",
              "      <td>0.000000</td>\n",
              "      <td>3.722351e-15</td>\n",
              "      <td>0.000000e+00</td>\n",
              "      <td>4.964206e-02</td>\n",
              "      <td>8.511726e-03</td>\n",
              "      <td>1.420903e-03</td>\n",
              "      <td>0.000000e+00</td>\n",
              "      <td>0.000000e+00</td>\n",
              "      <td>0.000000e+00</td>\n",
              "      <td>3.639879e-03</td>\n",
              "      <td>0.000000e+00</td>\n",
              "      <td>0.000000e+00</td>\n",
              "      <td>0.000000e+00</td>\n",
              "      <td>1.371042e-07</td>\n",
              "      <td>4.657556e-07</td>\n",
              "      <td>6.874149e-09</td>\n",
              "      <td>1.377669e-05</td>\n",
              "      <td>0.000000e+00</td>\n",
              "      <td>1.020376e-02</td>\n",
              "      <td>0.000000</td>\n",
              "      <td>1.748000e-02</td>\n",
              "      <td>4.239683e-16</td>\n",
              "      <td>0.000000e+00</td>\n",
              "      <td>0.000000e+00</td>\n",
              "      <td>0.000000e+00</td>\n",
              "      <td>4.144809e-03</td>\n",
              "      <td>7.584413e-07</td>\n",
              "      <td>0.000000e+00</td>\n",
              "      <td>0.000000e+00</td>\n",
              "      <td>0.000000e+00</td>\n",
              "      <td>0.000000e+00</td>\n",
              "      <td>5.479287e-02</td>\n",
              "      <td>0.000000e+00</td>\n",
              "      <td>5.201676e-03</td>\n",
              "      <td>5.300325e-06</td>\n",
              "      <td>0.000000e+00</td>\n",
              "      <td>0.000000e+00</td>\n",
              "    </tr>\n",
              "    <tr>\n",
              "      <th>bcg</th>\n",
              "      <td>6.359453e-01</td>\n",
              "      <td>6.356980e-01</td>\n",
              "      <td>6.055831e-01</td>\n",
              "      <td>5.659269e-01</td>\n",
              "      <td>6.967478e-01</td>\n",
              "      <td>6.869994e-01</td>\n",
              "      <td>8.002426e-01</td>\n",
              "      <td>7.093214e-01</td>\n",
              "      <td>6.459776e-01</td>\n",
              "      <td>5.832483e-01</td>\n",
              "      <td>0.670719</td>\n",
              "      <td>6.677492e-01</td>\n",
              "      <td>6.968518e-01</td>\n",
              "      <td>6.797314e-01</td>\n",
              "      <td>5.481219e-01</td>\n",
              "      <td>0.589769</td>\n",
              "      <td>6.219668e-01</td>\n",
              "      <td>6.836012e-01</td>\n",
              "      <td>5.918193e-01</td>\n",
              "      <td>6.880983e-01</td>\n",
              "      <td>6.930125e-01</td>\n",
              "      <td>7.096787e-01</td>\n",
              "      <td>6.817725e-01</td>\n",
              "      <td>6.702903e-01</td>\n",
              "      <td>6.452535e-01</td>\n",
              "      <td>6.641353e-01</td>\n",
              "      <td>7.384207e-01</td>\n",
              "      <td>6.559346e-01</td>\n",
              "      <td>7.256231e-01</td>\n",
              "      <td>7.242531e-01</td>\n",
              "      <td>7.098271e-01</td>\n",
              "      <td>0.769425</td>\n",
              "      <td>7.689836e-01</td>\n",
              "      <td>5.535038e-01</td>\n",
              "      <td>7.595118e-01</td>\n",
              "      <td>7.514536e-01</td>\n",
              "      <td>7.194054e-01</td>\n",
              "      <td>6.032158e-01</td>\n",
              "      <td>6.243494e-01</td>\n",
              "      <td>7.504002e-01</td>\n",
              "      <td>...</td>\n",
              "      <td>6.925207e-01</td>\n",
              "      <td>5.547764e-01</td>\n",
              "      <td>6.423382e-01</td>\n",
              "      <td>0.422745</td>\n",
              "      <td>8.088644e-01</td>\n",
              "      <td>6.776308e-01</td>\n",
              "      <td>6.491426e-01</td>\n",
              "      <td>7.072747e-01</td>\n",
              "      <td>4.939910e-01</td>\n",
              "      <td>6.856413e-01</td>\n",
              "      <td>7.348970e-01</td>\n",
              "      <td>6.777397e-01</td>\n",
              "      <td>7.532909e-01</td>\n",
              "      <td>6.931339e-01</td>\n",
              "      <td>6.983428e-01</td>\n",
              "      <td>7.611343e-01</td>\n",
              "      <td>6.937262e-01</td>\n",
              "      <td>7.160184e-01</td>\n",
              "      <td>7.072467e-01</td>\n",
              "      <td>7.099122e-01</td>\n",
              "      <td>5.472761e-01</td>\n",
              "      <td>7.083229e-01</td>\n",
              "      <td>0.457262</td>\n",
              "      <td>7.195189e-01</td>\n",
              "      <td>6.462413e-01</td>\n",
              "      <td>6.098295e-01</td>\n",
              "      <td>7.298291e-01</td>\n",
              "      <td>7.624805e-01</td>\n",
              "      <td>7.253487e-01</td>\n",
              "      <td>6.190969e-01</td>\n",
              "      <td>6.408074e-01</td>\n",
              "      <td>7.436227e-01</td>\n",
              "      <td>7.580708e-01</td>\n",
              "      <td>6.099188e-01</td>\n",
              "      <td>5.224515e-01</td>\n",
              "      <td>6.881291e-01</td>\n",
              "      <td>6.435516e-01</td>\n",
              "      <td>6.901561e-01</td>\n",
              "      <td>7.073745e-01</td>\n",
              "      <td>6.413441e-01</td>\n",
              "    </tr>\n",
              "  </tbody>\n",
              "</table>\n",
              "<p>30 rows × 100 columns</p>\n",
              "</div>"
            ],
            "text/plain": [
              "       http://postnauka.ru/video/18408  ...  http://postnauka.ru/video/21276\n",
              "sbj0                      0.000000e+00  ...                     0.000000e+00\n",
              "sbj1                      2.097368e-02  ...                     0.000000e+00\n",
              "sbj2                      1.257771e-02  ...                     0.000000e+00\n",
              "sbj3                      0.000000e+00  ...                     0.000000e+00\n",
              "sbj4                      0.000000e+00  ...                     0.000000e+00\n",
              "sbj5                      5.629926e-05  ...                     0.000000e+00\n",
              "sbj6                      3.713327e-06  ...                     0.000000e+00\n",
              "sbj7                      0.000000e+00  ...                     0.000000e+00\n",
              "sbj8                      0.000000e+00  ...                     2.256509e-03\n",
              "sbj9                      1.061070e-01  ...                     0.000000e+00\n",
              "sbj10                     2.885959e-06  ...                     0.000000e+00\n",
              "sbj11                     0.000000e+00  ...                     0.000000e+00\n",
              "sbj12                     3.364048e-09  ...                     0.000000e+00\n",
              "sbj13                     6.519698e-03  ...                     0.000000e+00\n",
              "sbj14                     4.794585e-05  ...                     0.000000e+00\n",
              "sbj15                     8.004949e-03  ...                     0.000000e+00\n",
              "sbj16                     7.041309e-11  ...                     0.000000e+00\n",
              "sbj17                     0.000000e+00  ...                     1.575991e-13\n",
              "sbj18                     1.478944e-02  ...                     3.376901e-02\n",
              "sbj19                     5.054110e-03  ...                     0.000000e+00\n",
              "sbj20                     9.829239e-03  ...                     2.901887e-02\n",
              "sbj21                     0.000000e+00  ...                     0.000000e+00\n",
              "sbj22                     1.810028e-11  ...                     6.534281e-02\n",
              "sbj23                     0.000000e+00  ...                     0.000000e+00\n",
              "sbj24                     0.000000e+00  ...                     3.542259e-02\n",
              "sbj25                     0.000000e+00  ...                     1.928460e-01\n",
              "sbj26                     3.288596e-03  ...                     0.000000e+00\n",
              "sbj27                     1.911455e-02  ...                     0.000000e+00\n",
              "sbj28                     1.576849e-01  ...                     0.000000e+00\n",
              "bcg                       6.359453e-01  ...                     6.413441e-01\n",
              "\n",
              "[30 rows x 100 columns]"
            ]
          },
          "metadata": {
            "tags": []
          },
          "execution_count": 20
        }
      ]
    },
    {
      "cell_type": "code",
      "metadata": {
        "id": "mbx0KQFgLwQz",
        "colab_type": "code",
        "colab": {
          "base_uri": "https://localhost:8080/",
          "height": 596
        },
        "outputId": "1b6a456b-14c0-406b-fc0f-9a3c826df836"
      },
      "source": [
        "plt.figure(figsize=(20,10))\n",
        "plt.title('Theta for first 100 doc')\n",
        "seaborn.heatmap(theta.iloc[:,:100], xticklabels=False)\n",
        "plt.show()"
      ],
      "execution_count": null,
      "outputs": [
        {
          "output_type": "display_data",
          "data": {
            "image/png": "[encoded data removed]",
            "text/plain": [
              "<Figure size 1440x720 with 2 Axes>"
            ]
          },
          "metadata": {
            "tags": []
          }
        }
      ]
    },
    {
      "cell_type": "markdown",
      "metadata": {
        "id": "84oHXVxKBOU1",
        "colab_type": "text"
      },
      "source": [
        "Вы должны увидеть, что фоновая тема имеет большую вероятность в почти каждом документе, и это логично. Кроме того, есть еще одна тема, которая чаще других встречается в документах. Судя по всему, это тема содержит много слов по науку в целом, а каждый документ (видео) в нашей коллекции связан с наукой. Можно (необязательно) дать этой теме название \"Наука\".\n",
        "\n",
        "Помимо этих двух тем, фоновой и общенаучной, каждый документ характеризуется малым числом других тем."
      ]
    },
    {
      "cell_type": "markdown",
      "metadata": {
        "id": "badm3dwRBOU1",
        "colab_type": "text"
      },
      "source": [
        "Оценим $p(t)$ - долю каждой темы во всей коллекции. По формуле полной вероятности вычислять эти величины нужно как\n",
        "$p(t) = \\sum_d p(t|d) p(d)$. Согласно вероятностной модели, $p(d)$ пропорционально длине документа d. Поступим проще: будем полагать, что все документы равновероятны. Тогда оценить $p(t)$ можно, просуммировав $p(t|d)$ по всем документам, а затем разделив полученный вектор на его сумму. \n",
        "\n",
        "Создайте переменную-датафрейм с T строками, индексированными названиями тем, и 1 столбцом, содержащим оценки $p(t)$. Выведите датафрейм на печать."
      ]
    },
    {
      "cell_type": "code",
      "metadata": {
        "id": "bWbfMbmVBOU2",
        "colab_type": "code",
        "colab": {}
      },
      "source": [
        "p_theme = pd.DataFrame(theta.sum(axis=1).values / theta.sum(axis=1).sum(axis=0), index=topic_labels, columns=['p(t)'])\n",
        "p_theme_sorted = p_theme.sort_values('p(t)', ascending=False)"
      ],
      "execution_count": null,
      "outputs": []
    },
    {
      "cell_type": "markdown",
      "metadata": {
        "id": "5punxd5bBOU4",
        "colab_type": "text"
      },
      "source": [
        "Найдите 5 самых распространенных и 3 наименее освещенных темы в коллекции (наибольшие и наименьшие $p(t)$ соответственно), не считая фоновую и общенаучную. Укажите названия, которые вы дали этим темам."
      ]
    },
    {
      "cell_type": "code",
      "metadata": {
        "id": "ZAZ4KNoZ6A3h",
        "colab_type": "code",
        "colab": {
          "base_uri": "https://localhost:8080/",
          "height": 979
        },
        "outputId": "ef95b83d-e19a-4433-8af9-9097ad763634"
      },
      "source": [
        "p_theme_sorted"
      ],
      "execution_count": null,
      "outputs": [
        {
          "output_type": "execute_result",
          "data": {
            "text/html": [
              "<div>\n",
              "<style scoped>\n",
              "    .dataframe tbody tr th:only-of-type {\n",
              "        vertical-align: middle;\n",
              "    }\n",
              "\n",
              "    .dataframe tbody tr th {\n",
              "        vertical-align: top;\n",
              "    }\n",
              "\n",
              "    .dataframe thead th {\n",
              "        text-align: right;\n",
              "    }\n",
              "</style>\n",
              "<table border=\"1\" class=\"dataframe\">\n",
              "  <thead>\n",
              "    <tr style=\"text-align: right;\">\n",
              "      <th></th>\n",
              "      <th>p(t)</th>\n",
              "    </tr>\n",
              "  </thead>\n",
              "  <tbody>\n",
              "    <tr>\n",
              "      <th>Фоновая тема</th>\n",
              "      <td>0.658871</td>\n",
              "    </tr>\n",
              "    <tr>\n",
              "      <th>клетка</th>\n",
              "      <td>0.025206</td>\n",
              "    </tr>\n",
              "    <tr>\n",
              "      <th>частица</th>\n",
              "      <td>0.022603</td>\n",
              "    </tr>\n",
              "    <tr>\n",
              "      <th>звезда</th>\n",
              "      <td>0.019978</td>\n",
              "    </tr>\n",
              "    <tr>\n",
              "      <th>политический</th>\n",
              "      <td>0.016930</td>\n",
              "    </tr>\n",
              "    <tr>\n",
              "      <th>война</th>\n",
              "      <td>0.016311</td>\n",
              "    </tr>\n",
              "    <tr>\n",
              "      <th>исторический</th>\n",
              "      <td>0.015863</td>\n",
              "    </tr>\n",
              "    <tr>\n",
              "      <th>территория</th>\n",
              "      <td>0.015039</td>\n",
              "    </tr>\n",
              "    <tr>\n",
              "      <th>культура</th>\n",
              "      <td>0.014260</td>\n",
              "    </tr>\n",
              "    <tr>\n",
              "      <th>метод</th>\n",
              "      <td>0.014191</td>\n",
              "    </tr>\n",
              "    <tr>\n",
              "      <th>задача</th>\n",
              "      <td>0.013759</td>\n",
              "    </tr>\n",
              "    <tr>\n",
              "      <th>планета</th>\n",
              "      <td>0.012341</td>\n",
              "    </tr>\n",
              "    <tr>\n",
              "      <th>страна</th>\n",
              "      <td>0.012220</td>\n",
              "    </tr>\n",
              "    <tr>\n",
              "      <th>церковь</th>\n",
              "      <td>0.011971</td>\n",
              "    </tr>\n",
              "    <tr>\n",
              "      <th>социальный</th>\n",
              "      <td>0.011634</td>\n",
              "    </tr>\n",
              "    <tr>\n",
              "      <th>материал</th>\n",
              "      <td>0.010729</td>\n",
              "    </tr>\n",
              "    <tr>\n",
              "      <th>слово</th>\n",
              "      <td>0.010132</td>\n",
              "    </tr>\n",
              "    <tr>\n",
              "      <th>язык</th>\n",
              "      <td>0.009815</td>\n",
              "    </tr>\n",
              "    <tr>\n",
              "      <th>болезнь</th>\n",
              "      <td>0.009108</td>\n",
              "    </tr>\n",
              "    <tr>\n",
              "      <th>система</th>\n",
              "      <td>0.009094</td>\n",
              "    </tr>\n",
              "    <tr>\n",
              "      <th>город</th>\n",
              "      <td>0.009073</td>\n",
              "    </tr>\n",
              "    <tr>\n",
              "      <th>право</th>\n",
              "      <td>0.008992</td>\n",
              "    </tr>\n",
              "    <tr>\n",
              "      <th>растение</th>\n",
              "      <td>0.008044</td>\n",
              "    </tr>\n",
              "    <tr>\n",
              "      <th>матрица</th>\n",
              "      <td>0.007213</td>\n",
              "    </tr>\n",
              "    <tr>\n",
              "      <th>книга</th>\n",
              "      <td>0.007117</td>\n",
              "    </tr>\n",
              "    <tr>\n",
              "      <th>ребенок</th>\n",
              "      <td>0.007033</td>\n",
              "    </tr>\n",
              "    <tr>\n",
              "      <th>революция</th>\n",
              "      <td>0.006674</td>\n",
              "    </tr>\n",
              "    <tr>\n",
              "      <th>температура</th>\n",
              "      <td>0.006301</td>\n",
              "    </tr>\n",
              "    <tr>\n",
              "      <th>смерть</th>\n",
              "      <td>0.004947</td>\n",
              "    </tr>\n",
              "    <tr>\n",
              "      <th>раса</th>\n",
              "      <td>0.004552</td>\n",
              "    </tr>\n",
              "  </tbody>\n",
              "</table>\n",
              "</div>"
            ],
            "text/plain": [
              "                  p(t)\n",
              "Фоновая тема  0.658871\n",
              "клетка        0.025206\n",
              "частица       0.022603\n",
              "звезда        0.019978\n",
              "политический  0.016930\n",
              "война         0.016311\n",
              "исторический  0.015863\n",
              "территория    0.015039\n",
              "культура      0.014260\n",
              "метод         0.014191\n",
              "задача        0.013759\n",
              "планета       0.012341\n",
              "страна        0.012220\n",
              "церковь       0.011971\n",
              "социальный    0.011634\n",
              "материал      0.010729\n",
              "слово         0.010132\n",
              "язык          0.009815\n",
              "болезнь       0.009108\n",
              "система       0.009094\n",
              "город         0.009073\n",
              "право         0.008992\n",
              "растение      0.008044\n",
              "матрица       0.007213\n",
              "книга         0.007117\n",
              "ребенок       0.007033\n",
              "революция     0.006674\n",
              "температура   0.006301\n",
              "смерть        0.004947\n",
              "раса          0.004552"
            ]
          },
          "metadata": {
            "tags": []
          },
          "execution_count": 72
        }
      ]
    },
    {
      "cell_type": "markdown",
      "metadata": {
        "id": "nSYqfzfz6wxE",
        "colab_type": "text"
      },
      "source": [
        ""
      ]
    },
    {
      "cell_type": "code",
      "metadata": {
        "id": "PpTmazmHTFyP",
        "colab_type": "code",
        "colab": {
          "base_uri": "https://localhost:8080/",
          "height": 51
        },
        "outputId": "0723cffd-d9a9-4640-ae71-d6e4e8447b37"
      },
      "source": [
        "print('5 most common topics:', [p_theme_sorted.index[i] for i in range(1,6)])\n",
        "print('3 most least topics:', [p_theme_sorted.index[i] for i in range(-1,-4,-1)])"
      ],
      "execution_count": null,
      "outputs": [
        {
          "output_type": "stream",
          "text": [
            "5 most common topics: ['клетка', 'частица', 'звезда', 'политический', 'война']\n",
            "3 most least topics: ['раса', 'смерть', 'температура']\n"
          ],
          "name": "stdout"
        }
      ]
    },
    {
      "cell_type": "markdown",
      "metadata": {
        "id": "aQ67I_uLBOU4",
        "colab_type": "raw"
      },
      "source": [
        "Ваш ответ:\n",
        "5 тем с max p(t):\n",
        "3 темы с min p(t):"
      ]
    },
    {
      "cell_type": "markdown",
      "metadata": {
        "id": "w9Z-fRcuBOU4",
        "colab_type": "text"
      },
      "source": [
        "Визуализируйте матрицу $\\Phi$ модальности авторов в виде изображения. Рекомендация: установите yticklabels=False в heatmap."
      ]
    },
    {
      "cell_type": "code",
      "metadata": {
        "id": "K06eaXkgBOU5",
        "colab_type": "code",
        "colab": {
          "base_uri": "https://localhost:8080/",
          "height": 672
        },
        "outputId": "bad8654b-dbf0-46b7-b07b-9d1e476f1fdc"
      },
      "source": [
        "# Ваш код\n",
        "phi_a.columns = topic_labels\n",
        "plt.figure(figsize=(20,10))\n",
        "plt.title('Phi_a')\n",
        "seaborn.heatmap(phi_a, yticklabels=False)\n",
        "plt.show()"
      ],
      "execution_count": null,
      "outputs": [
        {
          "output_type": "display_data",
          "data": {
            "image/png": "[encoded data removed]",
            "text/plain": [
              "<Figure size 1440x720 with 2 Axes>"
            ]
          },
          "metadata": {
            "tags": []
          }
        }
      ]
    },
    {
      "cell_type": "markdown",
      "metadata": {
        "id": "V8gbShSJBOU7",
        "colab_type": "text"
      },
      "source": [
        "Каждой теме соответствует не очень большое число авторов - матрица достаточно разреженная. Кроме того, некоторые темы имеют доминирующего автора $a$, имеющего большую вероятность $p(a|t)$ - этот автор записал больше всего лекций по теме. "
      ]
    },
    {
      "cell_type": "markdown",
      "metadata": {
        "id": "VKcpQTX0BOU7",
        "colab_type": "text"
      },
      "source": [
        "Будем считать, что автор $a$ значим в теме, если $p(a|t) > 0.01$. Для каждого автора посчитайте, в скольких темах он значим. Найдите авторов-рекордсменов, которые значимы (а значит, читали лекции) в >= 3 темах."
      ]
    },
    {
      "cell_type": "code",
      "metadata": {
        "id": "0v-xplL2_6cW",
        "colab_type": "code",
        "colab": {
          "base_uri": "https://localhost:8080/",
          "height": 34
        },
        "outputId": "9baddc57-d853-4356-b067-597e6c572bc8"
      },
      "source": [
        "most_author = phi_a[phi_a > 0.01].count(axis=1).sort_values(ascending=False)\n",
        "print(list(most_author[most_author > 2].index))"
      ],
      "execution_count": null,
      "outputs": [
        {
          "output_type": "stream",
          "text": [
            "[('author', 'Алина_Бодрова'), ('author', 'Андрей_Цатурян'), ('author', 'Дмитрий_Лось'), ('author', 'Елена_Брызгалина')]\n"
          ],
          "name": "stdout"
        }
      ]
    },
    {
      "cell_type": "markdown",
      "metadata": {
        "id": "oGdGSHPYBOU7",
        "colab_type": "raw"
      },
      "source": [
        "Ваш ответ:\n",
        "авторы, значимые в не менее чем 3 темах:"
      ]
    },
    {
      "cell_type": "markdown",
      "metadata": {
        "id": "-v5Psg6pBOU8",
        "colab_type": "text"
      },
      "source": [
        "Большинство авторов значимы в 1 теме, что логично."
      ]
    },
    {
      "cell_type": "markdown",
      "metadata": {
        "id": "a38MohlMBOU9",
        "colab_type": "text"
      },
      "source": [
        "##### Построение тематической карты авторов"
      ]
    },
    {
      "cell_type": "markdown",
      "metadata": {
        "id": "B_vPwlD-BOU9",
        "colab_type": "text"
      },
      "source": [
        "По сути, в матрице $\\Phi$, соответствующей модальности авторов, записаны тематические кластеры авторов. Для любого автора мы можем составить его тематический круг - авторов, разбирающихся в той же теме, что и данный. Интересующиеся слушатели могут попробовать выполнить эту процедуру для ученых, читающих лекции на Постнауке, которых они знают (например, на Постнауке есть лекции с К. В. Воронцовым - лектором текущего модуля :)\n",
        "\n",
        "Составим карту близости авторов по тематике их исследований. Для этого применим метод понижения размерности MDS к тематическим профилям авторов.\n",
        "\n",
        "Чтобы получить тематический профиль автора, распределение $p(t|a)$, нужно воспользоваться формулой Байеса: \n",
        "$p(t|a) = \\frac {p(a|t) p(t)} {\\sum_t' p(a|t') p(t')}$. Все необходимые для этого величины у вас есть и записаны в переменных phi и pt. \n",
        "\n",
        "Передайте матрицу тематических профилей авторов, записанных по строкам, в метод MDS с n_components=2. Используйте косинусную метрику (она хорошо подходит для поиска расстояний между векторами, имеющими фиксированную сумму компонент)."
      ]
    },
    {
      "cell_type": "code",
      "metadata": {
        "id": "hoWEgVngBOU-",
        "colab_type": "code",
        "colab": {}
      },
      "source": [
        "from sklearn.manifold import MDS\n",
        "from sklearn.metrics import pairwise_distances"
      ],
      "execution_count": null,
      "outputs": []
    },
    {
      "cell_type": "code",
      "metadata": {
        "id": "2KsRt7jXPOPV",
        "colab_type": "code",
        "colab": {}
      },
      "source": [
        "p_a = np.array(phi_a.sum(axis=1))\n",
        "p_t = np.array(p_t).flatten()\n",
        "p_ta = np.zeros((len(p_a),len(p_t)))\n",
        "for i in range(len(p_a)):\n",
        "  for j in range(len(p_t)):\n",
        "    p_ta[i,j] = np.array(phi_a)[i,j] * p_t[j] / p_a[i]\n",
        "p_ta_m = np.argmax(p_ta, axis=1)"
      ],
      "execution_count": null,
      "outputs": []
    },
    {
      "cell_type": "code",
      "metadata": {
        "id": "AsxuJdeSBOVC",
        "colab_type": "code",
        "colab": {
          "base_uri": "https://localhost:8080/",
          "height": 51
        },
        "outputId": "86428b27-f670-4ffe-964b-d4cff182a7fa"
      },
      "source": [
        "# Ваш код\n",
        "%%time\n",
        "mds = MDS(n_components=2, dissimilarity='precomputed')\n",
        "dist = pairwise_distances(p_ta, metric='cosine')\n",
        "new_phi_a = mds.fit_transform(dist)"
      ],
      "execution_count": null,
      "outputs": [
        {
          "output_type": "stream",
          "text": [
            "CPU times: user 9.49 s, sys: 6.57 s, total: 16.1 s\n",
            "Wall time: 8.17 s\n"
          ],
          "name": "stdout"
        }
      ]
    },
    {
      "cell_type": "markdown",
      "metadata": {
        "id": "HUUsVANTBOVD",
        "colab_type": "text"
      },
      "source": [
        "Визуализируйте найденные двумерные представления с помощью функции scatter. "
      ]
    },
    {
      "cell_type": "code",
      "metadata": {
        "id": "Pa4ZnhfFBOVE",
        "colab_type": "code",
        "colab": {
          "base_uri": "https://localhost:8080/",
          "height": 608
        },
        "outputId": "8e0a7a66-5835-4f18-e302-e151f308297c"
      },
      "source": [
        "# Ваш код\n",
        "plt.figure(figsize=(20,10))\n",
        "seaborn.scatterplot(x=new_phi_a[:,0], y=new_phi_a[:,1])"
      ],
      "execution_count": null,
      "outputs": [
        {
          "output_type": "execute_result",
          "data": {
            "text/plain": [
              "<matplotlib.axes._subplots.AxesSubplot at 0x7fdb5596e5c0>"
            ]
          },
          "metadata": {
            "tags": []
          },
          "execution_count": 128
        },
        {
          "output_type": "display_data",
          "data": {
            "image/png": "[encoded data removed]",
            "text/plain": [
              "<Figure size 1440x720 with 1 Axes>"
            ]
          },
          "metadata": {
            "tags": []
          }
        }
      ]
    },
    {
      "cell_type": "markdown",
      "metadata": {
        "id": "REz6cx8uBOVF",
        "colab_type": "text"
      },
      "source": [
        "Должно получиться, что некоторые грппы авторов формируют сгустки, которые можно считать тематическими группами авторов.\n",
        "\n",
        "Раскрасим точки следующим образом: для каждого автора выберем наиболее вероятную для него тему ($\\max_t p(t|a)$), и каждой теме сопоставим цвет. Кроме того, добавим на карту имена и фамилии авторов, это можно сделать в цикле по всем точкам с помощью функции plt.annotate, указывая метку точки первым аргументом и ее координаты в аргументе xy. Рекомендуется сделать размер изображения большим, тогда маркеры точек тоже придется увеличить (s=100 в plt.scatter). Изобразите карту авторов и сохраните в pdf-файл с помощью функции plt.savefig. \n",
        "\n",
        "Метки авторов будут пересекаться. Будет очень хорошо, если вы найдете способ, как этого можно избежать."
      ]
    },
    {
      "cell_type": "code",
      "metadata": {
        "id": "XdO5TzRABOVG",
        "colab_type": "code",
        "colab": {
          "base_uri": "https://localhost:8080/",
          "height": 558
        },
        "outputId": "e1efcc58-2be5-4c29-f645-97a1b7ec9408"
      },
      "source": [
        "import matplotlib.cm as cm\n",
        "colors = cm.rainbow(np.linspace(0, 1, T)) # цвета для тем\n",
        "# Ваш код\n",
        "# nearest_topic = np.argmax(np.array(phi_a), axis=1)\n",
        "\n",
        "# plt.figure(figsize=(20,10))\n",
        "# seaborn.scatterplot(x=new_phi_a[:,0], y=new_phi_a[:,1], hue=nearest_topic,\n",
        "#                     palette = seaborn.color_palette(colors))\n",
        "\n",
        "plt.figure(figsize=(20,10))\n",
        "for i in range(len(p_a)):\n",
        "  x, y = new_phi_a[i]\n",
        "  c = colors[p_ta_m[i]]\n",
        "  plt.scatter(x,y,c=[c])\n",
        "\n",
        "  z = 0\n",
        "  x0, y0 = x + np.random.uniform(-z,z), y + np.random.uniform(-z,z)\n",
        "  plt.annotate(phi_a.index[i][1], (x0, y0))\n",
        "  plt.plot([x0, x], [y0, y], c='k', linewidth=1, alpha=0.5)\n",
        "plt.savefig('fig.pdf')"
      ],
      "execution_count": null,
      "outputs": [
        {
          "output_type": "display_data",
          "data": {
            "image/png": "[encoded data removed]",
            "text/plain": [
              "<Figure size 1440x720 with 1 Axes>"
            ]
          },
          "metadata": {
            "tags": []
          }
        }
      ]
    },
    {
      "cell_type": "markdown",
      "metadata": {
        "id": "eUNFr-qIBOVI",
        "colab_type": "text"
      },
      "source": [
        "##### Создание простого тематического навигатора по Постнауке"
      ]
    },
    {
      "cell_type": "markdown",
      "metadata": {
        "id": "5M872r_5BOVI",
        "colab_type": "text"
      },
      "source": [
        "Наш тематический навигатор будет для каждой темы показывать ее список слов, а также список релевантных теме документов. \n",
        "\n",
        "Нам понадобятся распределения $p(d|t)$. По формуле Байеса $p(d|t) = \\frac{p(t|d)p(d)}{\\sum_{d'}p(t|d')p(d')}$, но поскольку мы считаем документы равновероятными, достаточно разделить каждую строку $\\Theta$ на ее сумму, чтобы оценить распределение. \n",
        "\n",
        "Отсортируйте матрицу $p(d|t)$ по убыванию $p(d|t)$ в каждой теме (то есть построчно). Нам понадобятся индексы наиболее вероятных документов в каждой теме, поэтому используйте функцию argmax."
      ]
    },
    {
      "cell_type": "code",
      "metadata": {
        "id": "aTBx-PeOBOVI",
        "colab_type": "code",
        "colab": {}
      },
      "source": [
        "# Ваш код\n",
        "new_theta = np.array(theta.values) / np.array(theta.sum(axis=1)).reshape(len(theta),1)"
      ],
      "execution_count": null,
      "outputs": []
    },
    {
      "cell_type": "markdown",
      "metadata": {
        "id": "3LlM44vTBOVK",
        "colab_type": "text"
      },
      "source": [
        "Создавать навигатор мы будем прямо в jupiter notebook: это возможно благодаря тому факту, что при печати ссылки она автоматически превращается в гиперссылку."
      ]
    },
    {
      "cell_type": "code",
      "metadata": {
        "id": "ZGh7kGeZBOVL",
        "colab_type": "code",
        "colab": {
          "base_uri": "https://localhost:8080/",
          "height": 34
        },
        "outputId": "179e34a8-3fde-4299-ac73-56e6c96f1959"
      },
      "source": [
        "print(\"http://yandex.ru\")   # получится кликабельная ссылка"
      ],
      "execution_count": null,
      "outputs": [
        {
          "output_type": "stream",
          "text": [
            "http://yandex.ru\n"
          ],
          "name": "stdout"
        }
      ]
    },
    {
      "cell_type": "markdown",
      "metadata": {
        "id": "FfRdX1x2BOVN",
        "colab_type": "text"
      },
      "source": [
        "Кроме того, подключив модуль [ipython.core.display](https://ipython.org/ipython-doc/2/api/generated/IPython.core.display.html), можно использовать html-разметку в выводе. Например:"
      ]
    },
    {
      "cell_type": "code",
      "metadata": {
        "id": "SzoawuFhBOVN",
        "colab_type": "code",
        "colab": {
          "base_uri": "https://localhost:8080/",
          "height": 150
        },
        "outputId": "f0842e1b-d08c-4158-ba59-738fa3e653f0"
      },
      "source": [
        "from IPython.core.display import display, HTML\n",
        "display(HTML(u\"<h1>Заголовок</h1>\"))   # также <h2>, <h3>\n",
        "display(HTML(u\"<ul><li>Пункт 1</li><li>Пункт 2</li></ul>\"))\n",
        "display(HTML(u'<font color=\"green\">Зеленый!</font>'))\n",
        "display(HTML(u'<a href=\"http://yandex.ru\">Еще один вариант вывода ссылки</a>'))"
      ],
      "execution_count": null,
      "outputs": [
        {
          "output_type": "display_data",
          "data": {
            "text/html": [
              "<h1>Заголовок</h1>"
            ],
            "text/plain": [
              "<IPython.core.display.HTML object>"
            ]
          },
          "metadata": {
            "tags": []
          }
        },
        {
          "output_type": "display_data",
          "data": {
            "text/html": [
              "<ul><li>Пункт 1</li><li>Пункт 2</li></ul>"
            ],
            "text/plain": [
              "<IPython.core.display.HTML object>"
            ]
          },
          "metadata": {
            "tags": []
          }
        },
        {
          "output_type": "display_data",
          "data": {
            "text/html": [
              "<font color=\"green\">Зеленый!</font>"
            ],
            "text/plain": [
              "<IPython.core.display.HTML object>"
            ]
          },
          "metadata": {
            "tags": []
          }
        },
        {
          "output_type": "display_data",
          "data": {
            "text/html": [
              "<a href=\"http://yandex.ru\">Еще один вариант вывода ссылки</a>"
            ],
            "text/plain": [
              "<IPython.core.display.HTML object>"
            ]
          },
          "metadata": {
            "tags": []
          }
        }
      ]
    },
    {
      "cell_type": "markdown",
      "metadata": {
        "id": "m9IOj8elBOVP",
        "colab_type": "text"
      },
      "source": [
        "В цикле для каждой темы выведите ее заголовок, в следующей строке - топ-10 слов темы, затем в виде списка ссылки на 10 наиболее релевантных (по $p(d|t)$) теме документов. Используйте html-разметку. Творчество приветствуется :)"
      ]
    },
    {
      "cell_type": "code",
      "metadata": {
        "id": "RSZwCXwGBOVP",
        "colab_type": "code",
        "colab": {
          "base_uri": "https://localhost:8080/",
          "height": 1000
        },
        "outputId": "cf154295-e3c6-4d9f-f133-efa95c48ae7c"
      },
      "source": [
        "# Ваш код\n",
        "\n",
        "top_of_authors = []\n",
        "for topic, words in model_artm.score_tracker['top_words_for_author'].last_tokens.items():\n",
        "  top_of_authors.append(', '.join(words[:3]).replace('_', ' '))\n",
        "\n",
        "top_of_words = []\n",
        "for topic, words in model_artm.score_tracker['top_words_for_text'].last_tokens.items():\n",
        "  top_of_words.append(', '.join(words[:10]))\n",
        "\n",
        "\n",
        "for i in range(len(topic_labels)):\n",
        "  display(HTML('<h1>' + topic_labels[i] + '</h1>'))\n",
        "  display(HTML('<p>Основные авторы: ' + top_of_authors[i] + '</p>'))\n",
        "  display(HTML('<p>Основные слова: ' + top_of_words[i] + '</p>'))\n",
        "  mask = np.flip(np.argsort(new_theta[i]))[:10]\n",
        "  for j in mask:\n",
        "    print(theta.columns[j])"
      ],
      "execution_count": null,
      "outputs": [
        {
          "output_type": "display_data",
          "data": {
            "text/html": [
              "<h1>церковь</h1>"
            ],
            "text/plain": [
              "<IPython.core.display.HTML object>"
            ]
          },
          "metadata": {
            "tags": []
          }
        },
        {
          "output_type": "display_data",
          "data": {
            "text/html": [
              "<p>Основные авторы: Александр Марей, Фёдор Успенский, Татьяна Бобровникова</p>"
            ],
            "text/plain": [
              "<IPython.core.display.HTML object>"
            ]
          },
          "metadata": {
            "tags": []
          }
        },
        {
          "output_type": "display_data",
          "data": {
            "text/html": [
              "<p>Основные слова: церковь, власть, средневековый, император, русь, святой, римский, папа, князь, сага</p>"
            ],
            "text/plain": [
              "<IPython.core.display.HTML object>"
            ]
          },
          "metadata": {
            "tags": []
          }
        },
        {
          "output_type": "stream",
          "text": [
            "http://postnauka.ru/video/9299\n",
            "http://postnauka.ru/video/3348\n",
            "http://postnauka.ru/video/24030\n",
            "http://postnauka.ru/video/9968\n",
            "http://postnauka.ru/video/23472\n",
            "http://postnauka.ru/video/13156\n",
            "http://postnauka.ru/video/31677\n",
            "http://postnauka.ru/video/50350\n",
            "http://postnauka.ru/video/24034\n",
            "http://postnauka.ru/video/50668\n"
          ],
          "name": "stdout"
        },
        {
          "output_type": "display_data",
          "data": {
            "text/html": [
              "<h1>планета</h1>"
            ],
            "text/plain": [
              "<IPython.core.display.HTML object>"
            ]
          },
          "metadata": {
            "tags": []
          }
        },
        {
          "output_type": "display_data",
          "data": {
            "text/html": [
              "<p>Основные авторы: Сергей Попов, Кирилл Еськов, Дмитрий Вибе</p>"
            ],
            "text/plain": [
              "<IPython.core.display.HTML object>"
            ]
          },
          "metadata": {
            "tags": []
          }
        },
        {
          "output_type": "display_data",
          "data": {
            "text/html": [
              "<p>Основные слова: планета, земля, атмосфера, солнце, солнечный, белый, газ, образовываться, карлик, вокруг</p>"
            ],
            "text/plain": [
              "<IPython.core.display.HTML object>"
            ]
          },
          "metadata": {
            "tags": []
          }
        },
        {
          "output_type": "stream",
          "text": [
            "http://postnauka.ru/video/53693\n",
            "http://postnauka.ru/video/32889\n",
            "http://postnauka.ru/video/31695\n",
            "http://postnauka.ru/video/51364\n",
            "http://postnauka.ru/video/9835\n",
            "http://postnauka.ru/video/36249\n",
            "http://postnauka.ru/video/9690\n",
            "http://postnauka.ru/video/49261\n",
            "http://postnauka.ru/video/24245\n",
            "http://postnauka.ru/video/37994\n"
          ],
          "name": "stdout"
        },
        {
          "output_type": "display_data",
          "data": {
            "text/html": [
              "<h1>система</h1>"
            ],
            "text/plain": [
              "<IPython.core.display.HTML object>"
            ]
          },
          "metadata": {
            "tags": []
          }
        },
        {
          "output_type": "display_data",
          "data": {
            "text/html": [
              "<p>Основные авторы: Елена Брызгалина, Михаил Пантелеев, Александр Поддьяков</p>"
            ],
            "text/plain": [
              "<IPython.core.display.HTML object>"
            ]
          },
          "metadata": {
            "tags": []
          }
        },
        {
          "output_type": "display_data",
          "data": {
            "text/html": [
              "<p>Основные слова: система, трудность, поведение, частота, двигаться, точность, искусственный, движение, относительность, тест</p>"
            ],
            "text/plain": [
              "<IPython.core.display.HTML object>"
            ]
          },
          "metadata": {
            "tags": []
          }
        },
        {
          "output_type": "stream",
          "text": [
            "http://postnauka.ru/video/1856\n",
            "http://postnauka.ru/video/51174\n",
            "http://postnauka.ru/video/52553\n",
            "http://postnauka.ru/video/34426\n",
            "http://postnauka.ru/video/52548\n",
            "http://postnauka.ru/video/51382\n",
            "http://postnauka.ru/video/19509\n",
            "http://postnauka.ru/video/21662\n",
            "http://postnauka.ru/video/37982\n",
            "http://postnauka.ru/video/41348\n"
          ],
          "name": "stdout"
        },
        {
          "output_type": "display_data",
          "data": {
            "text/html": [
              "<h1>культура</h1>"
            ],
            "text/plain": [
              "<IPython.core.display.HTML object>"
            ]
          },
          "metadata": {
            "tags": []
          }
        },
        {
          "output_type": "display_data",
          "data": {
            "text/html": [
              "<p>Основные авторы: Сергей Арутюнов, Владимир Миронов, Алексей Руткевич</p>"
            ],
            "text/plain": [
              "<IPython.core.display.HTML object>"
            ]
          },
          "metadata": {
            "tags": []
          }
        },
        {
          "output_type": "display_data",
          "data": {
            "text/html": [
              "<p>Основные слова: культура, понятие, культурный, восприятие, сознание, феномен, личность, воспринимать, ощущение, чувство</p>"
            ],
            "text/plain": [
              "<IPython.core.display.HTML object>"
            ]
          },
          "metadata": {
            "tags": []
          }
        },
        {
          "output_type": "stream",
          "text": [
            "http://postnauka.ru/video/11034\n",
            "http://postnauka.ru/video/12524\n",
            "http://postnauka.ru/video/12740\n",
            "http://postnauka.ru/video/5891\n",
            "http://postnauka.ru/video/36707\n",
            "http://postnauka.ru/video/7747\n",
            "http://postnauka.ru/video/7169\n",
            "http://postnauka.ru/video/9874\n",
            "http://postnauka.ru/video/11626\n",
            "http://postnauka.ru/video/7731\n"
          ],
          "name": "stdout"
        },
        {
          "output_type": "display_data",
          "data": {
            "text/html": [
              "<h1>право</h1>"
            ],
            "text/plain": [
              "<IPython.core.display.HTML object>"
            ]
          },
          "metadata": {
            "tags": []
          }
        },
        {
          "output_type": "display_data",
          "data": {
            "text/html": [
              "<p>Основные авторы: Дмитрий Дождев, Олег Лекманов, Андрей Кофман</p>"
            ],
            "text/plain": [
              "<IPython.core.display.HTML object>"
            ]
          },
          "metadata": {
            "tags": []
          }
        },
        {
          "output_type": "display_data",
          "data": {
            "text/html": [
              "<p>Основные слова: право, литература, искусство, литературный, юрист, писатель, должник, собственность, обязательство, владение</p>"
            ],
            "text/plain": [
              "<IPython.core.display.HTML object>"
            ]
          },
          "metadata": {
            "tags": []
          }
        },
        {
          "output_type": "stream",
          "text": [
            "http://postnauka.ru/video/17913\n",
            "http://postnauka.ru/video/31688\n",
            "http://postnauka.ru/video/38009\n",
            "http://postnauka.ru/video/34414\n",
            "http://postnauka.ru/video/49455\n",
            "http://postnauka.ru/video/14297\n",
            "http://postnauka.ru/video/17825\n",
            "http://postnauka.ru/video/13042\n",
            "http://postnauka.ru/video/16822\n",
            "http://postnauka.ru/video/42220\n"
          ],
          "name": "stdout"
        },
        {
          "output_type": "display_data",
          "data": {
            "text/html": [
              "<h1>материал</h1>"
            ],
            "text/plain": [
              "<IPython.core.display.HTML object>"
            ]
          },
          "metadata": {
            "tags": []
          }
        },
        {
          "output_type": "display_data",
          "data": {
            "text/html": [
              "<p>Основные авторы: Артем Оганов, Дмитрий Паращук, Алексей Акимов</p>"
            ],
            "text/plain": [
              "<IPython.core.display.HTML object>"
            ]
          },
          "metadata": {
            "tags": []
          }
        },
        {
          "output_type": "display_data",
          "data": {
            "text/html": [
              "<p>Основные слова: материал, структура, молекула, свойство, углерод, применение, поверхность, полимер, кристалл, металл</p>"
            ],
            "text/plain": [
              "<IPython.core.display.HTML object>"
            ]
          },
          "metadata": {
            "tags": []
          }
        },
        {
          "output_type": "stream",
          "text": [
            "http://postnauka.ru/video/13544\n",
            "http://postnauka.ru/video/12375\n",
            "http://postnauka.ru/video/41686\n",
            "http://postnauka.ru/video/31182\n",
            "http://postnauka.ru/video/22592\n",
            "http://postnauka.ru/video/46379\n",
            "http://postnauka.ru/video/36492\n",
            "http://postnauka.ru/video/36657\n",
            "http://postnauka.ru/video/36490\n",
            "http://postnauka.ru/video/47818\n"
          ],
          "name": "stdout"
        },
        {
          "output_type": "display_data",
          "data": {
            "text/html": [
              "<h1>книга</h1>"
            ],
            "text/plain": [
              "<IPython.core.display.HTML object>"
            ]
          },
          "metadata": {
            "tags": []
          }
        },
        {
          "output_type": "display_data",
          "data": {
            "text/html": [
              "<p>Основные авторы: Александр Павлов, Павел Руднев, Ян Левченко</p>"
            ],
            "text/plain": [
              "<IPython.core.display.HTML object>"
            ]
          },
          "metadata": {
            "tags": []
          }
        },
        {
          "output_type": "display_data",
          "data": {
            "text/html": [
              "<p>Основные слова: книга, фильм, автор, кино, написать, документ, жанр, театр, тема, кинематограф</p>"
            ],
            "text/plain": [
              "<IPython.core.display.HTML object>"
            ]
          },
          "metadata": {
            "tags": []
          }
        },
        {
          "output_type": "stream",
          "text": [
            "http://postnauka.ru/video/10759\n",
            "http://postnauka.ru/video/39723\n",
            "http://postnauka.ru/video/13541\n",
            "http://postnauka.ru/video/38510\n",
            "http://postnauka.ru/video/42807\n",
            "http://postnauka.ru/video/52416\n",
            "http://postnauka.ru/video/47204\n",
            "http://postnauka.ru/video/57127\n",
            "http://postnauka.ru/video/47208\n",
            "http://postnauka.ru/video/47202\n"
          ],
          "name": "stdout"
        },
        {
          "output_type": "display_data",
          "data": {
            "text/html": [
              "<h1>смерть</h1>"
            ],
            "text/plain": [
              "<IPython.core.display.HTML object>"
            ]
          },
          "metadata": {
            "tags": []
          }
        },
        {
          "output_type": "display_data",
          "data": {
            "text/html": [
              "<p>Основные авторы: Михаил Бойцов, Анна Соколова, Александр Гофман</p>"
            ],
            "text/plain": [
              "<IPython.core.display.HTML object>"
            ]
          },
          "metadata": {
            "tags": []
          }
        },
        {
          "output_type": "display_data",
          "data": {
            "text/html": [
              "<p>Основные слова: смерть, ритуал, террор, правитель, государь, обряд, служба, конвент, диктатура, моральный</p>"
            ],
            "text/plain": [
              "<IPython.core.display.HTML object>"
            ]
          },
          "metadata": {
            "tags": []
          }
        },
        {
          "output_type": "stream",
          "text": [
            "http://postnauka.ru/video/1893\n",
            "http://postnauka.ru/video/48480\n",
            "http://postnauka.ru/video/32882\n",
            "http://postnauka.ru/video/37992\n",
            "http://postnauka.ru/video/50656\n",
            "http://postnauka.ru/video/48335\n",
            "http://postnauka.ru/video/12374\n",
            "http://postnauka.ru/video/1899\n",
            "http://postnauka.ru/video/51331\n",
            "http://postnauka.ru/video/21660\n"
          ],
          "name": "stdout"
        },
        {
          "output_type": "display_data",
          "data": {
            "text/html": [
              "<h1>метод</h1>"
            ],
            "text/plain": [
              "<IPython.core.display.HTML object>"
            ]
          },
          "metadata": {
            "tags": []
          }
        },
        {
          "output_type": "display_data",
          "data": {
            "text/html": [
              "<p>Основные авторы: Валерий Фокин, Валентин Ненайденко, Алла Ножевникова</p>"
            ],
            "text/plain": [
              "<IPython.core.display.HTML object>"
            ]
          },
          "metadata": {
            "tags": []
          }
        },
        {
          "output_type": "display_data",
          "data": {
            "text/html": [
              "<p>Основные слова: метод, химический, соединение, вещество, реакция, химия, давление, лекарство, синтез, органический</p>"
            ],
            "text/plain": [
              "<IPython.core.display.HTML object>"
            ]
          },
          "metadata": {
            "tags": []
          }
        },
        {
          "output_type": "stream",
          "text": [
            "http://postnauka.ru/video/18048\n",
            "http://postnauka.ru/video/11646\n",
            "http://postnauka.ru/video/13700\n",
            "http://postnauka.ru/video/19071\n",
            "http://postnauka.ru/video/51490\n",
            "http://postnauka.ru/video/24449\n",
            "http://postnauka.ru/video/10473\n",
            "http://postnauka.ru/video/13151\n",
            "http://postnauka.ru/video/8953\n",
            "http://postnauka.ru/video/7363\n"
          ],
          "name": "stdout"
        },
        {
          "output_type": "display_data",
          "data": {
            "text/html": [
              "<h1>частица</h1>"
            ],
            "text/plain": [
              "<IPython.core.display.HTML object>"
            ]
          },
          "metadata": {
            "tags": []
          }
        },
        {
          "output_type": "display_data",
          "data": {
            "text/html": [
              "<p>Основные авторы: Дмитрий Казаков, Эмиль Ахмедов, Михаил Данилов</p>"
            ],
            "text/plain": [
              "<IPython.core.display.HTML object>"
            ]
          },
          "metadata": {
            "tags": []
          }
        },
        {
          "output_type": "display_data",
          "data": {
            "text/html": [
              "<p>Основные слова: частица, энергия, квантовый, поле, физика, взаимодействие, атом, магнитный, теория, электрон</p>"
            ],
            "text/plain": [
              "<IPython.core.display.HTML object>"
            ]
          },
          "metadata": {
            "tags": []
          }
        },
        {
          "output_type": "stream",
          "text": [
            "http://postnauka.ru/video/13043\n",
            "http://postnauka.ru/video/18870\n",
            "http://postnauka.ru/video/18873\n",
            "http://postnauka.ru/video/11651\n",
            "http://postnauka.ru/video/22760\n",
            "http://postnauka.ru/video/24434\n",
            "http://postnauka.ru/video/2945\n",
            "http://postnauka.ru/video/14283\n",
            "http://postnauka.ru/video/7753\n",
            "http://postnauka.ru/video/7311\n"
          ],
          "name": "stdout"
        },
        {
          "output_type": "display_data",
          "data": {
            "text/html": [
              "<h1>война</h1>"
            ],
            "text/plain": [
              "<IPython.core.display.HTML object>"
            ]
          },
          "metadata": {
            "tags": []
          }
        },
        {
          "output_type": "display_data",
          "data": {
            "text/html": [
              "<p>Основные авторы: Илья Женин, Борис Морозов, Кирилл Соловьев</p>"
            ],
            "text/plain": [
              "<IPython.core.display.HTML object>"
            ]
          },
          "metadata": {
            "tags": []
          }
        },
        {
          "output_type": "display_data",
          "data": {
            "text/html": [
              "<p>Основные слова: война, россия, советский, русский, власть, российский, германия, мировой, реформа, историк</p>"
            ],
            "text/plain": [
              "<IPython.core.display.HTML object>"
            ]
          },
          "metadata": {
            "tags": []
          }
        },
        {
          "output_type": "stream",
          "text": [
            "http://postnauka.ru/video/35041\n",
            "http://postnauka.ru/video/46939\n",
            "http://postnauka.ru/video/19574\n",
            "http://postnauka.ru/video/31183\n",
            "http://postnauka.ru/video/29992\n",
            "http://postnauka.ru/video/51180\n",
            "http://postnauka.ru/video/26667\n",
            "http://postnauka.ru/video/25906\n",
            "http://postnauka.ru/video/42809\n",
            "http://postnauka.ru/video/41895\n"
          ],
          "name": "stdout"
        },
        {
          "output_type": "display_data",
          "data": {
            "text/html": [
              "<h1>ребенок</h1>"
            ],
            "text/plain": [
              "<IPython.core.display.HTML object>"
            ]
          },
          "metadata": {
            "tags": []
          }
        },
        {
          "output_type": "display_data",
          "data": {
            "text/html": [
              "<p>Основные авторы: Катерина Поливанова, Юрий Яшков, Мария Падун</p>"
            ],
            "text/plain": [
              "<IPython.core.display.HTML object>"
            ]
          },
          "metadata": {
            "tags": []
          }
        },
        {
          "output_type": "display_data",
          "data": {
            "text/html": [
              "<p>Основные слова: ребенок, семья, возраст, кровь, взрослый, мать, сон, родитель, старение, конфликт</p>"
            ],
            "text/plain": [
              "<IPython.core.display.HTML object>"
            ]
          },
          "metadata": {
            "tags": []
          }
        },
        {
          "output_type": "stream",
          "text": [
            "http://postnauka.ru/video/22892\n",
            "http://postnauka.ru/video/59638\n",
            "http://postnauka.ru/video/30678\n",
            "http://postnauka.ru/video/60527\n",
            "http://postnauka.ru/video/57657\n",
            "http://postnauka.ru/video/18613\n",
            "http://postnauka.ru/video/30606\n",
            "http://postnauka.ru/video/17395\n",
            "http://postnauka.ru/video/6377\n",
            "http://postnauka.ru/video/29103\n"
          ],
          "name": "stdout"
        },
        {
          "output_type": "display_data",
          "data": {
            "text/html": [
              "<h1>растение</h1>"
            ],
            "text/plain": [
              "<IPython.core.display.HTML object>"
            ]
          },
          "metadata": {
            "tags": []
          }
        },
        {
          "output_type": "display_data",
          "data": {
            "text/html": [
              "<p>Основные авторы: Михаил Бурцев, Филипп Хайтович, Егор Задереев</p>"
            ],
            "text/plain": [
              "<IPython.core.display.HTML object>"
            ]
          },
          "metadata": {
            "tags": []
          }
        },
        {
          "output_type": "display_data",
          "data": {
            "text/html": [
              "<p>Основные слова: растение, ткань, орган, иммунный, рак, озеро, сердце, опухоль, мышца, нейронный</p>"
            ],
            "text/plain": [
              "<IPython.core.display.HTML object>"
            ]
          },
          "metadata": {
            "tags": []
          }
        },
        {
          "output_type": "stream",
          "text": [
            "http://postnauka.ru/video/16821\n",
            "http://postnauka.ru/video/23172\n",
            "http://postnauka.ru/video/46562\n",
            "http://postnauka.ru/video/13746\n",
            "http://postnauka.ru/video/51169\n",
            "http://postnauka.ru/video/51501\n",
            "http://postnauka.ru/video/33793\n",
            "http://postnauka.ru/video/18192\n",
            "http://postnauka.ru/video/26213\n",
            "http://postnauka.ru/video/59617\n"
          ],
          "name": "stdout"
        },
        {
          "output_type": "display_data",
          "data": {
            "text/html": [
              "<h1>территория</h1>"
            ],
            "text/plain": [
              "<IPython.core.display.HTML object>"
            ]
          },
          "metadata": {
            "tags": []
          }
        },
        {
          "output_type": "display_data",
          "data": {
            "text/html": [
              "<p>Основные авторы: Алексей Муравьёв, Дмитрий Беляев, Марк Ульянов</p>"
            ],
            "text/plain": [
              "<IPython.core.display.HTML object>"
            ]
          },
          "metadata": {
            "tags": []
          }
        },
        {
          "output_type": "display_data",
          "data": {
            "text/html": [
              "<p>Основные слова: территория, народ, христианский, империя, восток, древний, письменность, государство, цивилизация, китай</p>"
            ],
            "text/plain": [
              "<IPython.core.display.HTML object>"
            ]
          },
          "metadata": {
            "tags": []
          }
        },
        {
          "output_type": "stream",
          "text": [
            "http://postnauka.ru/video/53171\n",
            "http://postnauka.ru/video/50071\n",
            "http://postnauka.ru/video/2527\n",
            "http://postnauka.ru/video/58742\n",
            "http://postnauka.ru/video/59201\n",
            "http://postnauka.ru/video/50066\n",
            "http://postnauka.ru/video/49203\n",
            "http://postnauka.ru/video/48959\n",
            "http://postnauka.ru/video/46313\n",
            "http://postnauka.ru/video/3387\n"
          ],
          "name": "stdout"
        },
        {
          "output_type": "display_data",
          "data": {
            "text/html": [
              "<h1>звезда</h1>"
            ],
            "text/plain": [
              "<IPython.core.display.HTML object>"
            ]
          },
          "metadata": {
            "tags": []
          }
        },
        {
          "output_type": "display_data",
          "data": {
            "text/html": [
              "<p>Основные авторы: Сергей Попов, Анатолий Засов, Алексей Расторгуев</p>"
            ],
            "text/plain": [
              "<IPython.core.display.HTML object>"
            ]
          },
          "metadata": {
            "tags": []
          }
        },
        {
          "output_type": "display_data",
          "data": {
            "text/html": [
              "<p>Основные слова: звезда, галактика, масса, черный, вселенная, свет, объект, скорость, волна, дыра</p>"
            ],
            "text/plain": [
              "<IPython.core.display.HTML object>"
            ]
          },
          "metadata": {
            "tags": []
          }
        },
        {
          "output_type": "stream",
          "text": [
            "http://postnauka.ru/video/6673\n",
            "http://postnauka.ru/video/17780\n",
            "http://postnauka.ru/video/31193\n",
            "http://postnauka.ru/video/29998\n",
            "http://postnauka.ru/video/30015\n",
            "http://postnauka.ru/video/2971\n",
            "http://postnauka.ru/video/23506\n",
            "http://postnauka.ru/video/48109\n",
            "http://postnauka.ru/video/23502\n",
            "http://postnauka.ru/video/57338\n"
          ],
          "name": "stdout"
        },
        {
          "output_type": "display_data",
          "data": {
            "text/html": [
              "<h1>задача</h1>"
            ],
            "text/plain": [
              "<IPython.core.display.HTML object>"
            ]
          },
          "metadata": {
            "tags": []
          }
        },
        {
          "output_type": "display_data",
          "data": {
            "text/html": [
              "<p>Основные авторы: Павел Балабан, Владимир Спиридонов, Игорь Уточкин</p>"
            ],
            "text/plain": [
              "<IPython.core.display.HTML object>"
            ]
          },
          "metadata": {
            "tags": []
          }
        },
        {
          "output_type": "display_data",
          "data": {
            "text/html": [
              "<p>Основные слова: задача, информация, память, данные, решение, компьютер, психология, мышление, анализ, внимание</p>"
            ],
            "text/plain": [
              "<IPython.core.display.HTML object>"
            ]
          },
          "metadata": {
            "tags": []
          }
        },
        {
          "output_type": "stream",
          "text": [
            "http://postnauka.ru/video/24182\n",
            "http://postnauka.ru/video/24451\n",
            "http://postnauka.ru/video/5181\n",
            "http://postnauka.ru/video/23763\n",
            "http://postnauka.ru/video/53415\n",
            "http://postnauka.ru/video/19577\n",
            "http://postnauka.ru/video/56052\n",
            "http://postnauka.ru/video/57336\n",
            "http://postnauka.ru/video/50349\n",
            "http://postnauka.ru/video/17421\n"
          ],
          "name": "stdout"
        },
        {
          "output_type": "display_data",
          "data": {
            "text/html": [
              "<h1>раса</h1>"
            ],
            "text/plain": [
              "<IPython.core.display.HTML object>"
            ]
          },
          "metadata": {
            "tags": []
          }
        },
        {
          "output_type": "display_data",
          "data": {
            "text/html": [
              "<p>Основные авторы: Станислав Дробышевский, Виталий Кушниров, Александр Шацкий</p>"
            ],
            "text/plain": [
              "<IPython.core.display.HTML object>"
            ]
          },
          "metadata": {
            "tags": []
          }
        },
        {
          "output_type": "display_data",
          "data": {
            "text/html": [
              "<p>Основные слова: раса, африка, остров, америка, южный, станислав, нос, волос, индия, монголоид</p>"
            ],
            "text/plain": [
              "<IPython.core.display.HTML object>"
            ]
          },
          "metadata": {
            "tags": []
          }
        },
        {
          "output_type": "stream",
          "text": [
            "http://postnauka.ru/video/31707\n",
            "http://postnauka.ru/video/32898\n",
            "http://postnauka.ru/video/42707\n",
            "http://postnauka.ru/video/49262\n",
            "http://postnauka.ru/video/42735\n",
            "http://postnauka.ru/video/37732\n",
            "http://postnauka.ru/video/35150\n",
            "http://postnauka.ru/video/40880\n",
            "http://postnauka.ru/video/17397\n",
            "http://postnauka.ru/video/36253\n"
          ],
          "name": "stdout"
        },
        {
          "output_type": "display_data",
          "data": {
            "text/html": [
              "<h1>политический</h1>"
            ],
            "text/plain": [
              "<IPython.core.display.HTML object>"
            ]
          },
          "metadata": {
            "tags": []
          }
        },
        {
          "output_type": "display_data",
          "data": {
            "text/html": [
              "<p>Основные авторы: Алексей Козырев, Иван Болдырев, Дина Гусейнова</p>"
            ],
            "text/plain": [
              "<IPython.core.display.HTML object>"
            ]
          },
          "metadata": {
            "tags": []
          }
        },
        {
          "output_type": "display_data",
          "data": {
            "text/html": [
              "<p>Основные слова: политический, философия, государство, общество, философский, философ, партия, правовой, политика, суд</p>"
            ],
            "text/plain": [
              "<IPython.core.display.HTML object>"
            ]
          },
          "metadata": {
            "tags": []
          }
        },
        {
          "output_type": "stream",
          "text": [
            "http://postnauka.ru/video/12738\n",
            "http://postnauka.ru/video/32906\n",
            "http://postnauka.ru/video/2526\n",
            "http://postnauka.ru/video/12371\n",
            "http://postnauka.ru/video/3418\n",
            "http://postnauka.ru/video/22975\n",
            "http://postnauka.ru/video/36713\n",
            "http://postnauka.ru/video/37965\n",
            "http://postnauka.ru/video/2972\n",
            "http://postnauka.ru/video/9728\n"
          ],
          "name": "stdout"
        },
        {
          "output_type": "display_data",
          "data": {
            "text/html": [
              "<h1>слово</h1>"
            ],
            "text/plain": [
              "<IPython.core.display.HTML object>"
            ]
          },
          "metadata": {
            "tags": []
          }
        },
        {
          "output_type": "display_data",
          "data": {
            "text/html": [
              "<p>Основные авторы: Александр Пиперски, Анатолий Баранов, Петр Аркадьев</p>"
            ],
            "text/plain": [
              "<IPython.core.display.HTML object>"
            ]
          },
          "metadata": {
            "tags": []
          }
        },
        {
          "output_type": "display_data",
          "data": {
            "text/html": [
              "<p>Основные слова: слово, текст, русский, словарь, предложение, категория, значение, корпус, глагол, конструкция</p>"
            ],
            "text/plain": [
              "<IPython.core.display.HTML object>"
            ]
          },
          "metadata": {
            "tags": []
          }
        },
        {
          "output_type": "stream",
          "text": [
            "http://postnauka.ru/video/36272\n",
            "http://postnauka.ru/video/1898\n",
            "http://postnauka.ru/video/6720\n",
            "http://postnauka.ru/video/48960\n",
            "http://postnauka.ru/video/47548\n",
            "http://postnauka.ru/video/56616\n",
            "http://postnauka.ru/video/51499\n",
            "http://postnauka.ru/video/57524\n",
            "http://postnauka.ru/video/30017\n",
            "http://postnauka.ru/video/2946\n"
          ],
          "name": "stdout"
        },
        {
          "output_type": "display_data",
          "data": {
            "text/html": [
              "<h1>революция</h1>"
            ],
            "text/plain": [
              "<IPython.core.display.HTML object>"
            ]
          },
          "metadata": {
            "tags": []
          }
        },
        {
          "output_type": "display_data",
          "data": {
            "text/html": [
              "<p>Основные авторы: Дмитрий Бовыкин, Андрей Зорин, Борис Колоницкий</p>"
            ],
            "text/plain": [
              "<IPython.core.display.HTML object>"
            ]
          },
          "metadata": {
            "tags": []
          }
        },
        {
          "output_type": "display_data",
          "data": {
            "text/html": [
              "<p>Основные слова: революция, французский, свобода, франция, роман, национальный, король, нация, аргумент, творчество</p>"
            ],
            "text/plain": [
              "<IPython.core.display.HTML object>"
            ]
          },
          "metadata": {
            "tags": []
          }
        },
        {
          "output_type": "stream",
          "text": [
            "http://postnauka.ru/video/5396\n",
            "http://postnauka.ru/video/48492\n",
            "http://postnauka.ru/video/43843\n",
            "http://postnauka.ru/video/47823\n",
            "http://postnauka.ru/video/22079\n",
            "http://postnauka.ru/video/45548\n",
            "http://postnauka.ru/video/53577\n",
            "http://postnauka.ru/video/28944\n",
            "http://postnauka.ru/video/54742\n",
            "http://postnauka.ru/video/41671\n"
          ],
          "name": "stdout"
        },
        {
          "output_type": "display_data",
          "data": {
            "text/html": [
              "<h1>город</h1>"
            ],
            "text/plain": [
              "<IPython.core.display.HTML object>"
            ]
          },
          "metadata": {
            "tags": []
          }
        },
        {
          "output_type": "display_data",
          "data": {
            "text/html": [
              "<p>Основные авторы: Александр Сафонов, Оксана Запорожец, Алексей Лебедев</p>"
            ],
            "text/plain": [
              "<IPython.core.display.HTML object>"
            ]
          },
          "metadata": {
            "tags": []
          }
        },
        {
          "output_type": "display_data",
          "data": {
            "text/html": [
              "<p>Основные слова: город, технология, сеть, робот, городской, интернет, компания, пользователь, музей, библиотека</p>"
            ],
            "text/plain": [
              "<IPython.core.display.HTML object>"
            ]
          },
          "metadata": {
            "tags": []
          }
        },
        {
          "output_type": "stream",
          "text": [
            "http://postnauka.ru/video/13742\n",
            "http://postnauka.ru/video/12515\n",
            "http://postnauka.ru/video/11634\n",
            "http://postnauka.ru/video/9998\n",
            "http://postnauka.ru/video/7068\n",
            "http://postnauka.ru/video/47301\n",
            "http://postnauka.ru/video/17604\n",
            "http://postnauka.ru/video/30026\n",
            "http://postnauka.ru/video/50792\n",
            "http://postnauka.ru/video/29812\n"
          ],
          "name": "stdout"
        },
        {
          "output_type": "display_data",
          "data": {
            "text/html": [
              "<h1>болезнь</h1>"
            ],
            "text/plain": [
              "<IPython.core.display.HTML object>"
            ]
          },
          "metadata": {
            "tags": []
          }
        },
        {
          "output_type": "display_data",
          "data": {
            "text/html": [
              "<p>Основные авторы: Петр Федичев, Ярослав Ашихмин, Алексей Алексеев</p>"
            ],
            "text/plain": [
              "<IPython.core.display.HTML object>"
            ]
          },
          "metadata": {
            "tags": []
          }
        },
        {
          "output_type": "display_data",
          "data": {
            "text/html": [
              "<p>Основные слова: болезнь, заболевание, пациент, женщина, лечение, медицина, врач, боль, препарат, медицинский</p>"
            ],
            "text/plain": [
              "<IPython.core.display.HTML object>"
            ]
          },
          "metadata": {
            "tags": []
          }
        },
        {
          "output_type": "stream",
          "text": [
            "http://postnauka.ru/video/2541\n",
            "http://postnauka.ru/video/54325\n",
            "http://postnauka.ru/video/27925\n",
            "http://postnauka.ru/video/51384\n",
            "http://postnauka.ru/video/55539\n",
            "http://postnauka.ru/video/49206\n",
            "http://postnauka.ru/video/12974\n",
            "http://postnauka.ru/video/45961\n",
            "http://postnauka.ru/video/13746\n",
            "http://postnauka.ru/video/43853\n"
          ],
          "name": "stdout"
        },
        {
          "output_type": "display_data",
          "data": {
            "text/html": [
              "<h1>социальный</h1>"
            ],
            "text/plain": [
              "<IPython.core.display.HTML object>"
            ]
          },
          "metadata": {
            "tags": []
          }
        },
        {
          "output_type": "display_data",
          "data": {
            "text/html": [
              "<p>Основные авторы: Виктор Вахштайн, Дмитрий Ветров, Светлана Бурлак</p>"
            ],
            "text/plain": [
              "<IPython.core.display.HTML object>"
            ]
          },
          "metadata": {
            "tags": []
          }
        },
        {
          "output_type": "display_data",
          "data": {
            "text/html": [
              "<p>Основные слова: социальный, знание, социология, объект, социологический, дисциплина, перевод, познание, обучение, описание</p>"
            ],
            "text/plain": [
              "<IPython.core.display.HTML object>"
            ]
          },
          "metadata": {
            "tags": []
          }
        },
        {
          "output_type": "stream",
          "text": [
            "http://postnauka.ru/video/10783\n",
            "http://postnauka.ru/video/434\n",
            "http://postnauka.ru/video/3628\n",
            "http://postnauka.ru/video/2530\n",
            "http://postnauka.ru/video/6380\n",
            "http://postnauka.ru/video/12083\n",
            "http://postnauka.ru/video/11640\n",
            "http://postnauka.ru/video/17491\n",
            "http://postnauka.ru/video/4280\n",
            "http://postnauka.ru/video/14295\n"
          ],
          "name": "stdout"
        },
        {
          "output_type": "display_data",
          "data": {
            "text/html": [
              "<h1>матрица</h1>"
            ],
            "text/plain": [
              "<IPython.core.display.HTML object>"
            ]
          },
          "metadata": {
            "tags": []
          }
        },
        {
          "output_type": "display_data",
          "data": {
            "text/html": [
              "<p>Основные авторы: Елизавета Бонч-Осмоловская, Дмитрий Рогозин, Иван Оселедец</p>"
            ],
            "text/plain": [
              "<IPython.core.display.HTML object>"
            ]
          },
          "metadata": {
            "tags": []
          }
        },
        {
          "output_type": "display_data",
          "data": {
            "text/html": [
              "<p>Основные слова: матрица, микроорганизм, схема, эмоция, алгоритм, вычислительный, эмоциональный, глубина, интеллект, микроб</p>"
            ],
            "text/plain": [
              "<IPython.core.display.HTML object>"
            ]
          },
          "metadata": {
            "tags": []
          }
        },
        {
          "output_type": "stream",
          "text": [
            "http://postnauka.ru/video/31671\n",
            "http://postnauka.ru/video/49437\n",
            "http://postnauka.ru/video/42416\n",
            "http://postnauka.ru/video/3635\n",
            "http://postnauka.ru/video/34964\n",
            "http://postnauka.ru/video/33788\n",
            "http://postnauka.ru/video/52738\n",
            "http://postnauka.ru/video/3420\n",
            "http://postnauka.ru/video/3352\n",
            "http://postnauka.ru/video/37976\n"
          ],
          "name": "stdout"
        },
        {
          "output_type": "display_data",
          "data": {
            "text/html": [
              "<h1>исторический</h1>"
            ],
            "text/plain": [
              "<IPython.core.display.HTML object>"
            ]
          },
          "metadata": {
            "tags": []
          }
        },
        {
          "output_type": "display_data",
          "data": {
            "text/html": [
              "<p>Основные авторы: Гасан Гусейнов, Олег Воскобойников, Ивар Максутов</p>"
            ],
            "text/plain": [
              "<IPython.core.display.HTML object>"
            ]
          },
          "metadata": {
            "tags": []
          }
        },
        {
          "output_type": "display_data",
          "data": {
            "text/html": [
              "<p>Основные слова: исторический, традиция, бог, миф, царь, греческий, представление, эпоха, религиозный, религия</p>"
            ],
            "text/plain": [
              "<IPython.core.display.HTML object>"
            ]
          },
          "metadata": {
            "tags": []
          }
        },
        {
          "output_type": "stream",
          "text": [
            "http://postnauka.ru/video/10779\n",
            "http://postnauka.ru/video/12527\n",
            "http://postnauka.ru/video/9429\n",
            "http://postnauka.ru/video/21631\n",
            "http://postnauka.ru/video/7065\n",
            "http://postnauka.ru/video/9997\n",
            "http://postnauka.ru/video/43664\n",
            "http://postnauka.ru/video/5999\n",
            "http://postnauka.ru/video/12517\n",
            "http://postnauka.ru/video/5876\n"
          ],
          "name": "stdout"
        },
        {
          "output_type": "display_data",
          "data": {
            "text/html": [
              "<h1>язык</h1>"
            ],
            "text/plain": [
              "<IPython.core.display.HTML object>"
            ]
          },
          "metadata": {
            "tags": []
          }
        },
        {
          "output_type": "display_data",
          "data": {
            "text/html": [
              "<p>Основные авторы: Владимир Плунгян, Игорь Исаев, Кирилл Бабаев</p>"
            ],
            "text/plain": [
              "<IPython.core.display.HTML object>"
            ]
          },
          "metadata": {
            "tags": []
          }
        },
        {
          "output_type": "display_data",
          "data": {
            "text/html": [
              "<p>Основные слова: язык, лингвист, языковой, английский, гласный, согласный, звук, лингвистический, говор, филологический</p>"
            ],
            "text/plain": [
              "<IPython.core.display.HTML object>"
            ]
          },
          "metadata": {
            "tags": []
          }
        },
        {
          "output_type": "stream",
          "text": [
            "http://postnauka.ru/video/8964\n",
            "http://postnauka.ru/video/13041\n",
            "http://postnauka.ru/video/10773\n",
            "http://postnauka.ru/video/48114\n",
            "http://postnauka.ru/video/15343\n",
            "http://postnauka.ru/video/16157\n",
            "http://postnauka.ru/video/51171\n",
            "http://postnauka.ru/video/3403\n",
            "http://postnauka.ru/video/14284\n",
            "http://postnauka.ru/video/57879\n"
          ],
          "name": "stdout"
        },
        {
          "output_type": "display_data",
          "data": {
            "text/html": [
              "<h1>страна</h1>"
            ],
            "text/plain": [
              "<IPython.core.display.HTML object>"
            ]
          },
          "metadata": {
            "tags": []
          }
        },
        {
          "output_type": "display_data",
          "data": {
            "text/html": [
              "<p>Основные авторы: Фуад Алескеров, Олег Хлевнюк, Алексей Белянин</p>"
            ],
            "text/plain": [
              "<IPython.core.display.HTML object>"
            ]
          },
          "metadata": {
            "tags": []
          }
        },
        {
          "output_type": "display_data",
          "data": {
            "text/html": [
              "<p>Основные слова: страна, экономический, экономика, политика, идентичность, ценность, кризис, принятие, общественный, сталин</p>"
            ],
            "text/plain": [
              "<IPython.core.display.HTML object>"
            ]
          },
          "metadata": {
            "tags": []
          }
        },
        {
          "output_type": "stream",
          "text": [
            "http://postnauka.ru/video/31684\n",
            "http://postnauka.ru/video/9389\n",
            "http://postnauka.ru/video/7781\n",
            "http://postnauka.ru/video/3605\n",
            "http://postnauka.ru/video/30601\n",
            "http://postnauka.ru/video/5882\n",
            "http://postnauka.ru/video/13152\n",
            "http://postnauka.ru/video/28282\n",
            "http://postnauka.ru/video/27823\n",
            "http://postnauka.ru/video/6497\n"
          ],
          "name": "stdout"
        },
        {
          "output_type": "display_data",
          "data": {
            "text/html": [
              "<h1>клетка</h1>"
            ],
            "text/plain": [
              "<IPython.core.display.HTML object>"
            ]
          },
          "metadata": {
            "tags": []
          }
        },
        {
          "output_type": "display_data",
          "data": {
            "text/html": [
              "<p>Основные авторы: Евгений Шеваль, Константин Северинов, Максим Франк-Каменецкий</p>"
            ],
            "text/plain": [
              "<IPython.core.display.HTML object>"
            ]
          },
          "metadata": {
            "tags": []
          }
        },
        {
          "output_type": "display_data",
          "data": {
            "text/html": [
              "<p>Основные слова: клетка, мозг, организм, ген, днк, белок, биологический, животное, генетический, нейрон</p>"
            ],
            "text/plain": [
              "<IPython.core.display.HTML object>"
            ]
          },
          "metadata": {
            "tags": []
          }
        },
        {
          "output_type": "stream",
          "text": [
            "http://postnauka.ru/video/5915\n",
            "http://postnauka.ru/video/10475\n",
            "http://postnauka.ru/video/19436\n",
            "http://postnauka.ru/video/10754\n",
            "http://postnauka.ru/video/17051\n",
            "http://postnauka.ru/video/11628\n",
            "http://postnauka.ru/video/35051\n",
            "http://postnauka.ru/video/5390\n",
            "http://postnauka.ru/video/6477\n",
            "http://postnauka.ru/video/44252\n"
          ],
          "name": "stdout"
        },
        {
          "output_type": "display_data",
          "data": {
            "text/html": [
              "<h1>температура</h1>"
            ],
            "text/plain": [
              "<IPython.core.display.HTML object>"
            ]
          },
          "metadata": {
            "tags": []
          }
        },
        {
          "output_type": "display_data",
          "data": {
            "text/html": [
              "<p>Основные авторы: Михаил Киселев, Наталья Ростиславлева, Илья Шкредов</p>"
            ],
            "text/plain": [
              "<IPython.core.display.HTML object>"
            ]
          },
          "metadata": {
            "tags": []
          }
        },
        {
          "output_type": "display_data",
          "data": {
            "text/html": [
              "<p>Основные слова: температура, университет, сверхпроводимость, профессор, сверхпроводник, сверхпроводящий, железо, заимствование, гумбольдт, магнит</p>"
            ],
            "text/plain": [
              "<IPython.core.display.HTML object>"
            ]
          },
          "metadata": {
            "tags": []
          }
        },
        {
          "output_type": "stream",
          "text": [
            "http://postnauka.ru/video/2973\n",
            "http://postnauka.ru/video/50340\n",
            "http://postnauka.ru/video/31198\n",
            "http://postnauka.ru/video/51380\n",
            "http://postnauka.ru/video/22314\n",
            "http://postnauka.ru/video/55756\n",
            "http://postnauka.ru/video/25326\n",
            "http://postnauka.ru/video/50699\n",
            "http://postnauka.ru/video/31200\n",
            "http://postnauka.ru/video/19461\n"
          ],
          "name": "stdout"
        },
        {
          "output_type": "display_data",
          "data": {
            "text/html": [
              "<h1>Фоновая тема</h1>"
            ],
            "text/plain": [
              "<IPython.core.display.HTML object>"
            ]
          },
          "metadata": {
            "tags": []
          }
        },
        {
          "output_type": "display_data",
          "data": {
            "text/html": [
              "<p>Основные авторы: Мария Фаликман, Михаил Соколов, Виталий Куренной</p>"
            ],
            "text/plain": [
              "<IPython.core.display.HTML object>"
            ]
          },
          "metadata": {
            "tags": []
          }
        },
        {
          "output_type": "display_data",
          "data": {
            "text/html": [
              "<p>Основные слова: быть, что, это, который, этот, как, они, мочь, такой, очень</p>"
            ],
            "text/plain": [
              "<IPython.core.display.HTML object>"
            ]
          },
          "metadata": {
            "tags": []
          }
        },
        {
          "output_type": "stream",
          "text": [
            "http://postnauka.ru/video/12376\n",
            "http://postnauka.ru/video/51365\n",
            "http://postnauka.ru/video/49851\n",
            "http://postnauka.ru/video/51184\n",
            "http://postnauka.ru/video/42436\n",
            "http://postnauka.ru/video/45956\n",
            "http://postnauka.ru/video/41678\n",
            "http://postnauka.ru/video/51178\n",
            "http://postnauka.ru/video/10750\n",
            "http://postnauka.ru/video/5602\n"
          ],
          "name": "stdout"
        }
      ]
    },
    {
      "cell_type": "markdown",
      "metadata": {
        "id": "uSj4z7XYBOVR",
        "colab_type": "text"
      },
      "source": [
        "##### Заключение"
      ]
    },
    {
      "cell_type": "markdown",
      "metadata": {
        "id": "XZFFUOerBOVR",
        "colab_type": "text"
      },
      "source": [
        "В этом Peer Review мы познакомились с базовыми возможностями библиотеки BigARTM и с методами визуализации тематических моделей. Визуализация тематических моделей - это широкая и активно развивающаяся область научных исследований. Мы рассмотрели только самые простые приемы. Желающие могут попробовать применить [Serendip](http://vep.cs.wisc.edu/serendip/#serendipHero), разработанный в  University of Wisconsin-Madison, к построенной модели. Эта библиотека позволяет максимально полно охарактеризовать темы и написана для языка python. \n",
        "\n",
        "Сделав задание, вы можете выбрать в навигаторе наиболее интересную для вас тему и посмотреть видеолекции :) На Постнауке очень много интересных материалов. "
      ]
    }
  ]
}