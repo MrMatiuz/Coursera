{
 "cells": [
  {
   "cell_type": "code",
   "execution_count": 20,
   "metadata": {},
   "outputs": [],
   "source": [
    "import csv\n",
    "import pandas as pd\n",
    "import numpy as np\n",
    "from sklearn.cluster import MeanShift, estimate_bandwidth"
   ]
  },
  {
   "cell_type": "code",
   "execution_count": 12,
   "metadata": {},
   "outputs": [],
   "source": [
    "with open('checkins.dat') as dat_file, open('checkins.csv', 'w') as csv_file:\n",
    "    csv_writer = csv.writer(csv_file)\n",
    "    \n",
    "    for line in dat_file:\n",
    "        row = [field.strip() for field in line.split('|')]\n",
    "        if len(row) == 6 and row[3] and row[4]:\n",
    "            csv_writer.writerow(row)"
   ]
  },
  {
   "cell_type": "code",
   "execution_count": 135,
   "metadata": {},
   "outputs": [],
   "source": [
    "data = pd.read_csv('checkins.csv')"
   ]
  },
  {
   "cell_type": "code",
   "execution_count": 143,
   "metadata": {},
   "outputs": [],
   "source": [
    "newdata = data.sample(100000).iloc[0:100000, 3:5]"
   ]
  },
  {
   "cell_type": "code",
   "execution_count": 144,
   "metadata": {},
   "outputs": [
    {
     "data": {
      "text/html": [
       "<div>\n",
       "<style scoped>\n",
       "    .dataframe tbody tr th:only-of-type {\n",
       "        vertical-align: middle;\n",
       "    }\n",
       "\n",
       "    .dataframe tbody tr th {\n",
       "        vertical-align: top;\n",
       "    }\n",
       "\n",
       "    .dataframe thead th {\n",
       "        text-align: right;\n",
       "    }\n",
       "</style>\n",
       "<table border=\"1\" class=\"dataframe\">\n",
       "  <thead>\n",
       "    <tr style=\"text-align: right;\">\n",
       "      <th></th>\n",
       "      <th>latitude</th>\n",
       "      <th>longitude</th>\n",
       "    </tr>\n",
       "  </thead>\n",
       "  <tbody>\n",
       "    <tr>\n",
       "      <td>23837</td>\n",
       "      <td>-6.211544</td>\n",
       "      <td>106.845172</td>\n",
       "    </tr>\n",
       "    <tr>\n",
       "      <td>281780</td>\n",
       "      <td>39.412607</td>\n",
       "      <td>-76.463574</td>\n",
       "    </tr>\n",
       "    <tr>\n",
       "      <td>124042</td>\n",
       "      <td>37.692236</td>\n",
       "      <td>-97.337545</td>\n",
       "    </tr>\n",
       "    <tr>\n",
       "      <td>313244</td>\n",
       "      <td>40.740389</td>\n",
       "      <td>-73.983385</td>\n",
       "    </tr>\n",
       "    <tr>\n",
       "      <td>253959</td>\n",
       "      <td>33.800745</td>\n",
       "      <td>-84.410520</td>\n",
       "    </tr>\n",
       "    <tr>\n",
       "      <td>...</td>\n",
       "      <td>...</td>\n",
       "      <td>...</td>\n",
       "    </tr>\n",
       "    <tr>\n",
       "      <td>392655</td>\n",
       "      <td>38.895112</td>\n",
       "      <td>-77.036366</td>\n",
       "    </tr>\n",
       "    <tr>\n",
       "      <td>46541</td>\n",
       "      <td>43.652500</td>\n",
       "      <td>-79.381667</td>\n",
       "    </tr>\n",
       "    <tr>\n",
       "      <td>103309</td>\n",
       "      <td>33.917236</td>\n",
       "      <td>-118.012009</td>\n",
       "    </tr>\n",
       "    <tr>\n",
       "      <td>259603</td>\n",
       "      <td>40.269170</td>\n",
       "      <td>-73.992220</td>\n",
       "    </tr>\n",
       "    <tr>\n",
       "      <td>33841</td>\n",
       "      <td>41.878114</td>\n",
       "      <td>-87.629798</td>\n",
       "    </tr>\n",
       "  </tbody>\n",
       "</table>\n",
       "<p>100000 rows × 2 columns</p>\n",
       "</div>"
      ],
      "text/plain": [
       "         latitude   longitude\n",
       "23837   -6.211544  106.845172\n",
       "281780  39.412607  -76.463574\n",
       "124042  37.692236  -97.337545\n",
       "313244  40.740389  -73.983385\n",
       "253959  33.800745  -84.410520\n",
       "...           ...         ...\n",
       "392655  38.895112  -77.036366\n",
       "46541   43.652500  -79.381667\n",
       "103309  33.917236 -118.012009\n",
       "259603  40.269170  -73.992220\n",
       "33841   41.878114  -87.629798\n",
       "\n",
       "[100000 rows x 2 columns]"
      ]
     },
     "execution_count": 144,
     "metadata": {},
     "output_type": "execute_result"
    }
   ],
   "source": [
    "newdata"
   ]
  },
  {
   "cell_type": "code",
   "execution_count": 145,
   "metadata": {},
   "outputs": [
    {
     "name": "stdout",
     "output_type": "stream",
     "text": [
      "CPU times: user 4min 41s, sys: 15.2 s, total: 4min 57s\n",
      "Wall time: 5min 1s\n"
     ]
    },
    {
     "data": {
      "text/plain": [
       "MeanShift(bandwidth=0.1, bin_seeding=False, cluster_all=True, min_bin_freq=1,\n",
       "          n_jobs=None, seeds=None)"
      ]
     },
     "execution_count": 145,
     "metadata": {},
     "output_type": "execute_result"
    }
   ],
   "source": [
    "%%time\n",
    "ms = MeanShift(bandwidth=0.1) #, bin_seeding=True\n",
    "ms.fit(newdata)"
   ]
  },
  {
   "cell_type": "code",
   "execution_count": 146,
   "metadata": {},
   "outputs": [
    {
     "data": {
      "text/plain": [
       "array([ 24, 485, 306, ...,  81, 135,   2])"
      ]
     },
     "execution_count": 146,
     "metadata": {},
     "output_type": "execute_result"
    }
   ],
   "source": [
    "ms.labels_"
   ]
  },
  {
   "cell_type": "code",
   "execution_count": 147,
   "metadata": {},
   "outputs": [],
   "source": [
    "offices = np.array([[33.751277, -118.188740],\n",
    "                    [25.867736, -80.324116],\n",
    "                    [51.503016, -0.075479],\n",
    "                    [52.378894, 4.885084],\n",
    "                    [39.366487, 117.036146],\n",
    "                    [-33.868457, 151.205134]])"
   ]
  },
  {
   "cell_type": "code",
   "execution_count": 148,
   "metadata": {},
   "outputs": [
    {
     "data": {
      "text/plain": [
       "array([ 46, 227,  53, 310, 382, 281])"
      ]
     },
     "execution_count": 148,
     "metadata": {},
     "output_type": "execute_result"
    }
   ],
   "source": [
    "ms.predict(offices)"
   ]
  },
  {
   "cell_type": "code",
   "execution_count": 157,
   "metadata": {},
   "outputs": [],
   "source": [
    "needed_points = []\n",
    "for i in range(len(ms.labels_)):\n",
    "    if ms.labels_[i] in ms.predict(offices):\n",
    "        needed_points.append(newdata.iloc[i].values)"
   ]
  },
  {
   "cell_type": "code",
   "execution_count": 165,
   "metadata": {},
   "outputs": [],
   "source": [
    "min_dist = 100000\n",
    "for office in offices:\n",
    "    for point in needed_points:    \n",
    "        difference = point - office\n",
    "        dist = np.sqrt(sum((difference)**2))\n",
    "        if min_dist > dist:\n",
    "            min_dist = dist\n",
    "            res = [point, office]            \n",
    "            "
   ]
  },
  {
   "cell_type": "code",
   "execution_count": 166,
   "metadata": {},
   "outputs": [
    {
     "data": {
      "text/plain": [
       "[array([-33.873651 , 151.2068896]), array([-33.868457, 151.205134])]"
      ]
     },
     "execution_count": 166,
     "metadata": {},
     "output_type": "execute_result"
    }
   ],
   "source": [
    "res"
   ]
  },
  {
   "cell_type": "code",
   "execution_count": null,
   "metadata": {},
   "outputs": [],
   "source": []
  }
 ],
 "metadata": {
  "kernelspec": {
   "display_name": "Python 3",
   "language": "python",
   "name": "python3"
  },
  "language_info": {
   "codemirror_mode": {
    "name": "ipython",
    "version": 3
   },
   "file_extension": ".py",
   "mimetype": "text/x-python",
   "name": "python",
   "nbconvert_exporter": "python",
   "pygments_lexer": "ipython3",
   "version": "3.7.4"
  }
 },
 "nbformat": 4,
 "nbformat_minor": 2
}
